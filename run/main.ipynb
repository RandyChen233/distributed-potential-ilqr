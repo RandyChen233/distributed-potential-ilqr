{
 "cells": [
  {
   "cell_type": "markdown",
   "id": "dc93dafc-34e9-4a69-a56f-29c3bb713e71",
   "metadata": {
    "tags": []
   },
   "source": [
    "# take2\n",
    "\n",
    "**GOAL**: Keep It Stupid Simple = KISS.\n",
    "\n",
    "**Dependencies:**\n",
    " - [pocketknives](https://github.com/zjwilliams20/pocketknives)\n",
    "\n",
    "**References:**\n",
    " 1. [ilqgames/python](https://github.com/HJReachability/ilqgames/blob/master/python)"
   ]
  },
  {
   "cell_type": "markdown",
   "id": "d2465697-c22a-4d3e-8f89-cbaa3b750386",
   "metadata": {
    "tags": []
   },
   "source": [
    "**TODO**:\n",
    "- quantify run times\n",
    "- figure out overflow\n",
    "- make sure quadcopter converges"
   ]
  },
  {
   "cell_type": "code",
   "execution_count": null,
   "id": "5af0f28d-2b3f-4be6-93b8-8952dfe73058",
   "metadata": {},
   "outputs": [],
   "source": [
    "from time import perf_counter as pc\n",
    "import warnings\n",
    "\n",
    "import numpy as np\n",
    "import matplotlib.pyplot as plt\n",
    "from matplotlib.animation import FuncAnimation\n",
    "\n",
    "from decentralized import split_agents, plot_solve\n",
    "import decentralized as dec\n",
    "import pocketknives\n",
    "\n",
    "π = np.pi"
   ]
  },
  {
   "cell_type": "code",
   "execution_count": null,
   "id": "5b92a597-8863-44c3-85d9-4df9243146db",
   "metadata": {},
   "outputs": [],
   "source": [
    "%load_ext autoreload\n",
    "%autoreload 1\n",
    "%aimport decentralized.control, decentralized.dynamics, decentralized.cost, \\\n",
    "    decentralized.problem, decentralized.util, decentralized.decentralized"
   ]
  },
  {
   "cell_type": "code",
   "execution_count": null,
   "id": "91cd6f19-d6ad-4d1b-b72f-829d26663d52",
   "metadata": {},
   "outputs": [],
   "source": [
    "%matplotlib ipympl\n",
    "plt.rcParams['axes.grid'] = True"
   ]
  },
  {
   "cell_type": "code",
   "execution_count": null,
   "id": "5caba289-740d-46cf-aba0-faa5b1a915cd",
   "metadata": {
    "tags": []
   },
   "outputs": [],
   "source": [
    "# fig = plt.figure(figsize=(3.7, 3.7))\n",
    "fig = plt.figure()"
   ]
  },
  {
   "cell_type": "markdown",
   "id": "b4e6bfed-7dbc-489d-ac20-66c1e4a1a25a",
   "metadata": {
    "tags": []
   },
   "source": [
    "## single-agent problem"
   ]
  },
  {
   "cell_type": "code",
   "execution_count": null,
   "id": "6dff7c45-1399-4160-9c68-14ec819a9dc8",
   "metadata": {},
   "outputs": [],
   "source": [
    "dt = 0.05\n",
    "N = 50\n",
    "n_d = 2\n",
    "\n",
    "x = np.array([-10, 10, 10, 0], dtype=float)\n",
    "x_goal = np.zeros((4, 1), dtype=float).T\n",
    "\n",
    "# dynamics = dec.DoubleIntDynamics4D(dt)\n",
    "dynamics = dec.UnicycleDynamics4D(dt)\n",
    "\n",
    "Q = np.diag([1., 1, 0, 0])\n",
    "Qf = 1000 * np.eye(Q.shape[0])\n",
    "R = np.eye(2)\n",
    "cost = dec.ReferenceCost(x_goal, Q, R, Qf)\n",
    "\n",
    "prob = dec.ilqrProblem(dynamics, cost)\n",
    "ilqr = dec.ilqrSolver(prob, N)\n",
    "X, U, J = ilqr.solve(x)\n",
    "\n",
    "plt.clf()\n",
    "plot_solve(X, J, x_goal)\n",
    "plt.draw()"
   ]
  },
  {
   "cell_type": "markdown",
   "id": "7da0f10b-4b23-4dd6-a2ca-c3c820010491",
   "metadata": {},
   "source": [
    "Show equations of motion, which have the form\n",
    "\n",
    "$$\\dot{x} = f(x, u, p)$$\n",
    "\n",
    "for states\n",
    "\n",
    "$$\n",
    "x = \\begin{bmatrix} o_x & o_y & o_z & \\psi & \\theta & \\phi & v_x & v_y & v_z & w_x & w_y & w_z \\end{bmatrix},\n",
    "$$\n",
    "\n",
    "inputs\n",
    "$$\n",
    "u = \\begin{bmatrix} \\tau_x & \\tau_y & \\tau_z & f_z \\end{bmatrix},\n",
    "$$\n",
    "\n",
    "and parameters\n",
    "$$\n",
    "p = \\begin{bmatrix} m & J_x & J_y & J_z & g \\end{bmatrix}.\n",
    "$$"
   ]
  },
  {
   "cell_type": "code",
   "execution_count": null,
   "id": "28eb1097-86da-484a-92ba-e1c47303885f",
   "metadata": {},
   "outputs": [],
   "source": [
    "# Single-agent problem for a quadcopter (w/ analytical diff.)\n",
    "dt = 0.1\n",
    "N = 40\n",
    "n_d = 3\n",
    "\n",
    "x = np.array([2, 2, 0.5 , 0.05, 0, 0, 0.0, 0.0, 0, 0, 0, 0], dtype=float)\n",
    "x_goal = np.zeros((12, 1), dtype=float).T\n",
    "\n",
    "dynamics = dec.QuadcopterDynamics12D(dt)\n",
    "\n",
    "# Q = np.diag([1., 1., 1., 0, 0, 0, 0, 0, 0, 0, 0, 0])\n",
    "Q = np.diag([1., 1, 1, 1, 1, 1, 1, 1, 1, 1, 1, 1])\n",
    "Qf = 100 * np.eye(Q.shape[0])\n",
    "R = np.eye(4)\n",
    "cost = dec.ReferenceCost(x_goal, Q, R, Qf)\n",
    "\n",
    "prob = dec.ilqrProblem(dynamics, cost)\n",
    "ilqr = dec.ilqrSolver(prob, N)\n",
    "\n",
    "# with warnings.catch_warnings():\n",
    "    # warnings.filterwarnings(\"error\")\n",
    "X, U, J = ilqr.solve(x)\n",
    "\n",
    "plt.clf()\n",
    "plot_solve(X, J, x_goal, n_d=n_d)\n",
    "plt.draw()"
   ]
  },
  {
   "cell_type": "markdown",
   "id": "fa52b336-88bc-4de5-985c-3f8a885f5e00",
   "metadata": {
    "tags": []
   },
   "source": [
    "## multi-agent problem"
   ]
  },
  {
   "cell_type": "markdown",
   "id": "642a633c-4682-40c7-95c3-9825a74791a4",
   "metadata": {
    "tags": []
   },
   "source": [
    "### initializing the scene\n",
    "Here, we define some initial positions within some distance of each other, and then rotate them about the origin by some random angle to hopefully create some interesting scenarios."
   ]
  },
  {
   "cell_type": "code",
   "execution_count": null,
   "id": "73c7053f-f679-4cb4-935c-751338b7ca08",
   "metadata": {},
   "outputs": [],
   "source": [
    "def paper_setup():\n",
    "    \"\"\"Hardcoded example with reasonable consistency eyeballed from \n",
    "       Potential-iLQR paper\n",
    "    \"\"\"\n",
    "    x0 = np.array([[0.5, 1.5, 0, 0.1,\n",
    "                    2.5, 1.5, 0, π,\n",
    "                    1.5, 1.3, 0, π/2]], \n",
    "                     dtype=float).T\n",
    "    x_goal = np.array([[2.5, 1.5, 0, 0, \n",
    "                        0.5, 1.5, 0, π, \n",
    "                        1.5, 2.2, 0, π/2]]).T\n",
    "    return x0, x_goal\n",
    "\n",
    "def dec_test_setup():\n",
    "    x0, x_goal = paper_setup()\n",
    "    x0_other = np.array([[5, 5, 0, 0,\n",
    "                          6, 6, 0, π/4]]).T\n",
    "    x_goal_other = np.array([[6, 4, 0, -π/2,\n",
    "                              4, 6, 0, π/4]]).T\n",
    "    \n",
    "    x0 = np.concatenate([x0, x0_other]) \n",
    "    x_goal = np.concatenate([x_goal, x_goal_other])    \n",
    "    \n",
    "    return x0, x_goal"
   ]
  },
  {
   "cell_type": "markdown",
   "id": "f1ef5759-be12-4088-a4e6-fdc845d0d7eb",
   "metadata": {},
   "source": [
    "To be consistent between simulations, we normalize for the scale of the setup by computing the *energy*, or the sum of distances from the origin of the points. This should be the same for all runs."
   ]
  },
  {
   "cell_type": "code",
   "execution_count": null,
   "id": "cfa0e2f5-21b2-4a9f-ba14-85815484a4ba",
   "metadata": {},
   "outputs": [],
   "source": [
    "plt.annotate?"
   ]
  },
  {
   "cell_type": "code",
   "execution_count": null,
   "id": "1d5df34d-5e4d-454b-82d4-33ae3b77f726",
   "metadata": {},
   "outputs": [],
   "source": [
    "n_agents = 3\n",
    "n_states = 6\n",
    "n_controls = 3\n",
    "ENERGY = 10.0\n",
    "n_d = 2\n",
    "\n",
    "# x0, x_goal = paper_setup()\n",
    "# x0, x_goal = car_setup()\n",
    "# x0, x_goal = bike_setup()\n",
    "# x0, x_goal = double_int_setup()\n",
    "# x0, x_goal = dec_test_setup()\n",
    "x0, x_goal = dec.random_setup(\n",
    "    n_agents, n_states, \n",
    "    is_rotation=False, \n",
    "    rel_dist=2.0, \n",
    "    var=1.0, \n",
    "    n_d=n_d, \n",
    "    random=False\n",
    ")\n",
    "\n",
    "x_dims = [n_states] * n_agents\n",
    "u_dims = [n_controls] * n_agents\n",
    "\n",
    "# x0 = dec.normalize_energy(x0, x_dims, ENERGY)\n",
    "# x_goal = dec.normalize_energy(x_goal, x_dims, ENERGY)\n",
    "# x0 = dec.perturb_state(x0, x_dims)\n",
    "\n",
    "plt.clf()\n",
    "plt.gca().set_aspect('equal')\n",
    "X = np.dstack([\n",
    "    x0.reshape(n_agents, n_states), \n",
    "    x_goal.reshape(n_agents, n_states)\n",
    "]).swapaxes(1,2)\n",
    "for i, Xi in enumerate(X):\n",
    "    plt.annotate('', Xi[1,:2], Xi[0,:2], \n",
    "                 arrowprops=dict(facecolor=plt.cm.tab20.colors[i]))\n",
    "pocketknives.set_bounds(X.reshape(-1, n_states), zoom=0.2)\n",
    "plt.draw()"
   ]
  },
  {
   "cell_type": "code",
   "execution_count": null,
   "id": "1f606b8b-543c-442a-8e82-7d1118b629ee",
   "metadata": {},
   "outputs": [],
   "source": [
    "dt = 0.1\n",
    "N = 40\n",
    "tol = 1e-3\n",
    "ids = [100 + i for i in range(n_agents)]\n",
    "\n",
    "# model = dec.DoubleIntDynamics4D\n",
    "# model = dec.UnicycleDynamics4D\n",
    "# model = dec.BikeDynamics5D\n",
    "model = dec.QuadcopterDynamics6D\n",
    "dynamics = dec.MultiDynamicalModel([model(dt, id_) for id_ in ids])\n",
    "\n",
    "Q = 1.0 * np.diag([1, 1, 0, 0])\n",
    "# Q = 1.0 * np.diag([1, 1, 1, 1, 1, 1])\n",
    "Qf = 1000 * np.eye(Q.shape[0])\n",
    "R = np.eye(n_controls)\n",
    "\n",
    "# radius = ENERGY / 20\n",
    "radius = 0.5\n",
    "\n",
    "goal_costs = [dec.ReferenceCost(x_goal_i, Q.copy(), R.copy(), Qf.copy(), id_) \n",
    "              for x_goal_i, id_ in zip(split_agents(x_goal.T, x_dims), ids)]\n",
    "prox_cost = dec.ProximityCost(x_dims, radius)\n",
    "game_cost = dec.GameCost(goal_costs, prox_cost)\n",
    "\n",
    "prob = dec.ilqrProblem(dynamics, game_cost)"
   ]
  },
  {
   "cell_type": "code",
   "execution_count": null,
   "id": "563b0318-aef0-4483-afb9-9dae0352b3df",
   "metadata": {
    "tags": []
   },
   "outputs": [],
   "source": [
    "# %%time\n",
    "ilqr = dec.ilqrSolver(prob, N)\n",
    "t0 = pc()\n",
    "X, U, J = ilqr.solve(x0, tol=tol, t_kill=None)"
   ]
  },
  {
   "cell_type": "code",
   "execution_count": null,
   "id": "f583a3f3-8ec4-482d-b904-c957475a345a",
   "metadata": {},
   "outputs": [],
   "source": [
    "plt.clf()\n",
    "plot_solve(X, J, x_goal.T, x_dims, n_d)"
   ]
  },
  {
   "cell_type": "code",
   "execution_count": null,
   "id": "b87a4e75-51b8-4810-b699-4242d87f6435",
   "metadata": {},
   "outputs": [],
   "source": [
    "plt.clf()\n",
    "plt.plot(dec.compute_pairwise_distance(X, x_dims, n_d).T)\n",
    "plt.hlines(radius, *plt.xlim(), 'r', ls='--')\n",
    "plt.draw()"
   ]
  },
  {
   "cell_type": "code",
   "execution_count": null,
   "id": "d9ae135c-adc9-40ee-87ad-a42fb0f1edfc",
   "metadata": {},
   "outputs": [],
   "source": [
    "costs = []\n",
    "for xi, ui in zip(X, U):\n",
    "    costs.append(game_cost(xi, ui).item())\n",
    "plt.clf()\n",
    "plt.plot(costs)\n",
    "plt.draw()"
   ]
  },
  {
   "cell_type": "markdown",
   "id": "68c1de09-898c-411a-896b-c4000ec679cf",
   "metadata": {},
   "source": [
    "## decentralized multi-agent"
   ]
  },
  {
   "cell_type": "code",
   "execution_count": null,
   "id": "2d74de30-c356-4ee1-8c90-2abacc98d974",
   "metadata": {},
   "outputs": [],
   "source": [
    "graph = dec.define_inter_graph_threshold(X, radius, x_dims, ids)\n",
    "graph"
   ]
  },
  {
   "cell_type": "code",
   "execution_count": null,
   "id": "572bedc9-a7aa-4aaf-8057-1bb4cda239c6",
   "metadata": {},
   "outputs": [],
   "source": [
    "plt.clf()\n",
    "dec.plot_interaction_graph(graph)"
   ]
  },
  {
   "cell_type": "code",
   "execution_count": null,
   "id": "3a50e984-954e-40c4-bff3-6371d6a153a3",
   "metadata": {},
   "outputs": [],
   "source": [
    "%%time\n",
    "X0 = np.tile(x0.T, (N,1))\n",
    "U0 = np.zeros((N, n_controls*n_agents))\n",
    "X_dec, U_dec, J_dec, solve_times = \\\n",
    "    dec.solve_decentralized(prob, X0, U0, radius, is_mp=False)"
   ]
  },
  {
   "cell_type": "code",
   "execution_count": null,
   "id": "f86c1bc4-080d-4fb2-b316-4da8f917b3a1",
   "metadata": {},
   "outputs": [],
   "source": [
    "plt.clf()\n",
    "plot_solve(X_dec, J_dec, x_goal, x_dims, n_d)"
   ]
  },
  {
   "cell_type": "code",
   "execution_count": null,
   "id": "678b88a8-8fb3-4ecd-8841-883238887092",
   "metadata": {},
   "outputs": [],
   "source": [
    "plt.clf()\n",
    "plt.plot(dec.compute_pairwise_distance(X_dec, x_dims, n_d).T)\n",
    "plt.hlines(radius, *plt.xlim(), 'r', ls='--')\n",
    "plt.draw()"
   ]
  },
  {
   "cell_type": "markdown",
   "id": "cd932c21-f1c7-47cf-ac60-2d23bac796d5",
   "metadata": {
    "tags": []
   },
   "source": [
    "## receding horizon"
   ]
  },
  {
   "cell_type": "code",
   "execution_count": null,
   "id": "c05814fd-d79d-4ca1-9f4e-545d7440afec",
   "metadata": {
    "tags": []
   },
   "outputs": [],
   "source": [
    "%%time\n",
    "step_size = 1\n",
    "U0 = np.zeros((N, dynamics.n_u))\n",
    "X, U, J = dec.solve_rhc(\n",
    "    prob, x0, N, radius,\n",
    "    centralized=False,\n",
    "    n_d=n_d,\n",
    "    step_size=step_size, \n",
    "    dist_converge=0.1,\n",
    "    verbose=True,\n",
    "    t_kill=step_size*dt,\n",
    "    t_diverge=N*dt\n",
    ")"
   ]
  },
  {
   "cell_type": "code",
   "execution_count": null,
   "id": "94c2789b-0ef5-4b08-b2b1-db582448e35e",
   "metadata": {},
   "outputs": [],
   "source": [
    "plt.clf()\n",
    "plot_solve(X, J, x_goal, x_dims, n_d)"
   ]
  },
  {
   "cell_type": "markdown",
   "id": "ce44002f-d19a-4f80-9e38-9a9bf4f3a2d0",
   "metadata": {},
   "source": [
    "## animation"
   ]
  },
  {
   "cell_type": "code",
   "execution_count": null,
   "id": "fd5d8eee-d9af-4c29-9b1e-abe38ddccc90",
   "metadata": {},
   "outputs": [],
   "source": [
    "_, axes = plt.subplots(1, 2, figsize=(5.0, 3.7))"
   ]
  },
  {
   "cell_type": "code",
   "execution_count": null,
   "id": "86412aa3-9981-4600-a2a2-2211da3ec579",
   "metadata": {},
   "outputs": [],
   "source": [
    "def setup(axes, X, x_goal, x_dims, radius):\n",
    "    \n",
    "    ax1, ax2 = axes\n",
    "    n_agents = len(x_dims)\n",
    "    handles1 = []\n",
    "    for i in range(n_agents):\n",
    "        handles1.append((\n",
    "            ax1.plot(0, c=plt.cm.tab20.colors[2*i], marker='o', markersize=4)[0],\n",
    "            ax1.add_artist(plt.Circle(np.nan, radius, color='k', fill=True, alpha=0.3, lw=2)),\n",
    "        ))\n",
    "        \n",
    "    for xg in split_agents(x_goal, x_dims):\n",
    "        ax1.scatter(xg[0,0], xg[0,1], c='r', marker='x', zorder=10)\n",
    "\n",
    "    X_cat = np.vstack(split_agents(X, x_dims))\n",
    "    pocketknives.set_bounds(X_cat, axes[0], zoom=0.15)\n",
    "    plt.draw()\n",
    "    \n",
    "    handles2 = []\n",
    "    n_pairs = pocketknives.nchoosek(n_agents, 2)\n",
    "    for i in range(n_pairs):\n",
    "        handles2.append(ax2.plot(0, c=plt.cm.tab20.colors[2*i])[0])\n",
    "    ax2.hlines(radius, 0, X.shape[0], 'r', ls='--')\n",
    "    ax2.set_ylim(0.0, distances.max())\n",
    "        \n",
    "    return handles1, handles2\n",
    "    \n",
    "def animate(t, handles1, handles2, X, x_dims, x_goal, distances):\n",
    "    \"\"\"Animate the solution into a gif\"\"\"\n",
    "    \n",
    "    for (i, xi), hi in zip(enumerate(split_agents(X, x_dims)), handles1):\n",
    "        hi[0].set_xdata(xi[:t,0])\n",
    "        hi[0].set_ydata(xi[:t,1])\n",
    "        hi[1].set_center(xi[t-1,:2])\n",
    "        \n",
    "    for i, hi in enumerate(handles2):\n",
    "        hi.set_xdata(range(t))\n",
    "        hi.set_ydata(distances[:t, i])\n",
    "    \n",
    "    plt.draw()\n",
    "    "
   ]
  },
  {
   "cell_type": "code",
   "execution_count": null,
   "id": "d23639a7-3ef6-438f-a215-12798324ac8d",
   "metadata": {},
   "outputs": [],
   "source": [
    "distances = dec.compute_pairwise_distance(X, x_dims).T\n",
    "handles1, handles2 = setup(axes, X, x_goal.flatten(), x_dims, radius)\n",
    "animate(10, handles1, handles2, X, x_dims, x_goal, distances)\n",
    "plt.draw()"
   ]
  },
  {
   "cell_type": "code",
   "execution_count": null,
   "id": "cb12a6da-32df-47e7-bb14-d0f52afdcd71",
   "metadata": {},
   "outputs": [],
   "source": [
    "handles = setup(axes, X, x_goal.flatten(), x_dims, radius)\n",
    "anim = FuncAnimation(\n",
    "    plt.gcf(), \n",
    "    animate, \n",
    "    frames=N+1, \n",
    "    fargs=(*handles, X, x_dims, x_goal, distances))\n",
    "anim.save('traj.gif', fps=5)"
   ]
  },
  {
   "cell_type": "markdown",
   "id": "ee818f0b-485f-4abf-8742-c01e022dc54f",
   "metadata": {},
   "source": [
    "## old"
   ]
  },
  {
   "cell_type": "code",
   "execution_count": null,
   "id": "8bc88d0d-8172-41cd-9871-325675778c6a",
   "metadata": {},
   "outputs": [],
   "source": [
    "# Old RHC for plotting...\n",
    "rhc = dec.RecedingHorizonController(x0, ilqr, step_size=5)\n",
    "U0 = np.zeros((ilqr.N, ilqr.n_u))\n",
    "for Xi, Ui, Ji in rhc.solve(U0, J_converge=101.0, tol=tol, verbose=False):\n",
    "    plt.cla()\n",
    "    plot_solve(Xi, Ji, x_goal.T, x_dims)\n",
    "    fig.canvas.draw()"
   ]
  },
  {
   "cell_type": "code",
   "execution_count": null,
   "id": "614cbcae-7d0b-43c9-8575-d3ae00a6cae6",
   "metadata": {},
   "outputs": [],
   "source": [
    "# Manual decentralized RHC for plotting...\n",
    "step_size = 5\n",
    "Xi = np.tile(x0.T, (N,1))\n",
    "Ui = np.zeros((N, dynamics.n_u))\n",
    "X_dec = np.zeros((0, dynamics.n_x))\n",
    "U_dec = np.zeros((0, dynamics.n_u))\n",
    "Ji = np.inf\n",
    "J_converge = 100.0\n",
    "\n",
    "while Ji >= J_converge:\n",
    "    Xi, Ui, Ji = dec.solve_decentralized(prob, Xi, Ui, radius, is_mp=False)\n",
    "    \n",
    "    X_dec = np.r_[X_dec, Xi[:step_size]]\n",
    "    U_dec = np.r_[U_dec, Ui[:step_size]]\n",
    "    \n",
    "    # Seed the next solve by staying at the last visited state.\n",
    "    Xi = np.r_[Xi[step_size:], np.tile(Xi[-1], (step_size, 1))]\n",
    "    Ui = np.r_[Ui[step_size:], np.zeros((step_size, dynamics.n_u))]\n",
    "    \n",
    "    plt.cla()\n",
    "    plot_solve(Xi[:step_size], Ji, x_goal.T, x_dims)\n",
    "    fig.canvas.draw()"
   ]
  },
  {
   "cell_type": "code",
   "execution_count": null,
   "id": "18e04e80-d538-48a0-8e59-d9377ec87bc6",
   "metadata": {},
   "outputs": [],
   "source": []
  },
  {
   "cell_type": "code",
   "execution_count": null,
   "id": "22f08729-6a64-4ede-9624-b5b4fd25a825",
   "metadata": {},
   "outputs": [],
   "source": []
  }
 ],
 "metadata": {
  "kernelspec": {
   "display_name": "Python 3 (ipykernel)",
   "language": "python",
   "name": "python3"
  },
  "language_info": {
   "codemirror_mode": {
    "name": "ipython",
    "version": 3
   },
   "file_extension": ".py",
   "mimetype": "text/x-python",
   "name": "python",
   "nbconvert_exporter": "python",
   "pygments_lexer": "ipython3",
   "version": "3.10.6"
  },
  "vscode": {
   "interpreter": {
    "hash": "058f31b78fbf7244eb8facf557271df584eab59ce6d5780d24511a849a97c170"
   }
  }
 },
 "nbformat": 4,
 "nbformat_minor": 5
}
