{
 "cells": [
  {
   "cell_type": "markdown",
   "id": "feef3a9a-fb40-4827-8ee8-8daae9c8a6ed",
   "metadata": {
    "tags": []
   },
   "source": [
    "# take2\n",
    "\n",
    "**GOAL**: Keep It Stupid Simple = KISS.\n",
    "\n",
    "**Dependencies:**\n",
    " - [pocketknives](https://github.com/zjwilliams20/pocketknives)\n",
    "\n",
    "**References:**\n",
    " 1. [ilqgames/python](https://github.com/HJReachability/ilqgames/blob/master/python)"
   ]
  },
  {
   "cell_type": "code",
   "execution_count": null,
   "id": "5af0f28d-2b3f-4be6-93b8-8952dfe73058",
   "metadata": {},
   "outputs": [],
   "source": [
    "from time import perf_counter as pc\n",
    "import warnings\n",
    "\n",
    "import numpy as np\n",
    "import matplotlib.pyplot as plt\n",
    "from matplotlib.animation import FuncAnimation\n",
    "\n",
    "from decentralized import split_agents, plot_solve\n",
    "import decentralized as dec\n",
    "import pocketknives\n",
    "\n",
    "π = np.pi\n",
    "g = 9.80665"
   ]
  },
  {
   "cell_type": "raw",
   "id": "68d2062d-2c47-4ba0-854c-ffa99e5188bd",
   "metadata": {},
   "source": [
    "%load_ext autoreload\n",
    "%autoreload 1\n",
    "%aimport decentralized.control, decentralized.dynamics, decentralized.cost, \\\n",
    "    decentralized.problem, decentralized.util, decentralized.decentralized"
   ]
  },
  {
   "cell_type": "code",
   "execution_count": null,
   "id": "91cd6f19-d6ad-4d1b-b72f-829d26663d52",
   "metadata": {},
   "outputs": [],
   "source": [
    "%matplotlib ipympl\n",
    "plt.rcParams['axes.grid'] = False"
   ]
  },
  {
   "cell_type": "code",
   "execution_count": null,
   "id": "b0208147-b817-4e03-a97e-8cc4a9948820",
   "metadata": {},
   "outputs": [],
   "source": [
    "plt.rc('font',size=12)\n",
    "plt.rc('font',family='palatino')\n",
    "plt.rc('axes',labelsize=14)"
   ]
  },
  {
   "cell_type": "raw",
   "id": "59fd4887-d4a7-4fa0-b2da-f35cfe77dc11",
   "metadata": {},
   "source": [
    "import seaborn as sns\n",
    "sns.set()"
   ]
  },
  {
   "cell_type": "code",
   "execution_count": null,
   "id": "5caba289-740d-46cf-aba0-faa5b1a915cd",
   "metadata": {
    "tags": []
   },
   "outputs": [],
   "source": [
    "# fig = plt.figure(figsize=(3.7, 3.7))\n",
    "fig = plt.figure()"
   ]
  },
  {
   "cell_type": "markdown",
   "id": "b4e6bfed-7dbc-489d-ac20-66c1e4a1a25a",
   "metadata": {
    "tags": []
   },
   "source": [
    "## single-agent problem"
   ]
  },
  {
   "cell_type": "markdown",
   "id": "7da0f10b-4b23-4dd6-a2ca-c3c820010491",
   "metadata": {},
   "source": [
    "Show equations of motion, which have the form\n",
    "\n",
    "$$\\dot{x} = f(x, u, p)$$\n",
    "\n",
    "for states\n",
    "\n",
    "$$\n",
    "x = \\begin{bmatrix} o_x & o_y & o_z & \\psi & \\theta & \\phi & v_x & v_y & v_z & w_x & w_y & w_z \\end{bmatrix},\n",
    "$$\n",
    "\n",
    "inputs\n",
    "$$\n",
    "u = \\begin{bmatrix} \\tau_x & \\tau_y & \\tau_z & f_z \\end{bmatrix},\n",
    "$$\n",
    "\n",
    "and parameters\n",
    "$$\n",
    "p = \\begin{bmatrix} m & J_x & J_y & J_z & g \\end{bmatrix}.\n",
    "$$"
   ]
  },
  {
   "cell_type": "code",
   "execution_count": null,
   "id": "28eb1097-86da-484a-92ba-e1c47303885f",
   "metadata": {},
   "outputs": [],
   "source": [
    "# Single-agent problem for a 12D quadcopter (w/ analytical diff.)\n",
    "dt = 0.1\n",
    "N = 40\n",
    "n_d = 3\n",
    "\n",
    "x = np.array([2, 2, 0.5 , 0.05, 0, 0, 0.0, 0.0, 0, 0, 0, 0], dtype=float)\n",
    "xf = np.zeros((12, 1), dtype=float).T\n",
    "\n",
    "dynamics = dec.QuadcopterDynamics12D(dt)\n",
    "\n",
    "# Q = np.diag([1., 1., 1., 0, 0, 0, 0, 0, 0, 0, 0, 0])\n",
    "Q = np.diag([1., 1, 1, 1, 1, 1, 1, 1, 1, 1, 1, 1])\n",
    "Qf = 100 * np.eye(Q.shape[0])\n",
    "R = np.eye(4)\n",
    "cost = dec.ReferenceCost(xf, Q, R, Qf)\n",
    "\n",
    "prob = dec.ilqrProblem(dynamics, cost)\n",
    "ilqr = dec.ilqrSolver(prob, N)\n",
    "\n",
    "# with warnings.catch_warnings():\n",
    "    # warnings.filterwarnings(\"error\")\n",
    "X, U, J = ilqr.solve(x)\n",
    "\n",
    "plt.clf()\n",
    "plot_solve(X, J, xf, n_d=n_d)\n",
    "plt.draw()"
   ]
  },
  {
   "cell_type": "code",
   "execution_count": null,
   "id": "8810b906",
   "metadata": {},
   "outputs": [],
   "source": [
    "# Single-agent problem for a 6D quadcopter (w/ analytical diff.)\n",
    "dt = 0.1\n",
    "N = 40\n",
    "n_d = 3\n",
    "\n",
    "x = np.array([2, 2, 0.5 , 0, 0, 0], dtype=float)\n",
    "xf = np.zeros((6, 1), dtype=float).T\n",
    "\n",
    "dynamics = dec.QuadcopterDynamics6D(dt)\n",
    "\n",
    "# Q = np.diag([1., 1., 1., 0, 0, 0, 0, 0, 0, 0, 0, 0])\n",
    "Q = np.diag([1., 1., 1., 1., 1., 1.])\n",
    "Qf = 100 * np.eye(Q.shape[0])\n",
    "R = np.diag([0, 1, 1])\n",
    "cost = dec.ReferenceCost(xf, Q, R, Qf)\n",
    "\n",
    "prob = dec.ilqrProblem(dynamics, cost)\n",
    "ilqr = dec.ilqrSolver(prob, N)\n",
    "\n",
    "# with warnings.catch_warnings():\n",
    "    # warnings.filterwarnings(\"error\")\n",
    "X, U, J = ilqr.solve(x)\n",
    "\n",
    "plt.clf()\n",
    "plot_solve(X, J, xf, n_d=n_d)\n",
    "plt.draw()"
   ]
  },
  {
   "cell_type": "markdown",
   "id": "3fd87437",
   "metadata": {},
   "source": [
    "## Human Agent Alone"
   ]
  },
  {
   "cell_type": "code",
   "execution_count": null,
   "id": "d3cee611",
   "metadata": {},
   "outputs": [],
   "source": [
    "dt = 0.1\n",
    "N = 40\n",
    "n_d = 3\n",
    "\n",
    "x = np.array([2, 2, 1.75 , 0, 0, 0], dtype=float)\n",
    "xf = np.zeros((6, 1), dtype=float).T\n",
    "xf[:,2] = 1.75\n",
    "dynamics = dec.HumanDynamics6D(dt)\n",
    "\n",
    "\n",
    "Q = np.diag([1., 1., 1., 1., 1., 1.])\n",
    "Qf = 100 * np.eye(Q.shape[0])\n",
    "R = np.eye(3)\n",
    "cost = dec.ReferenceCost(xf, Q, R, Qf)\n",
    "\n",
    "prob = dec.ilqrProblem(dynamics, cost)\n",
    "ilqr = dec.ilqrSolver(prob, N)\n",
    "\n",
    "X, U, J = ilqr.solve(x)"
   ]
  },
  {
   "cell_type": "code",
   "execution_count": null,
   "id": "6ec12818",
   "metadata": {},
   "outputs": [],
   "source": [
    "plt.clf()\n",
    "plot_solve(X, J, xf, n_d=n_d)\n",
    "plt.draw()"
   ]
  },
  {
   "cell_type": "markdown",
   "id": "fa52b336-88bc-4de5-985c-3f8a885f5e00",
   "metadata": {
    "tags": []
   },
   "source": [
    "## multi-agent problem"
   ]
  },
  {
   "cell_type": "markdown",
   "id": "642a633c-4682-40c7-95c3-9825a74791a4",
   "metadata": {
    "tags": []
   },
   "source": [
    "### initializing the scene\n",
    "Here, we define some initial positions within some distance of each other, and then rotate them about the origin by some random angle to hopefully create some interesting scenarios."
   ]
  },
  {
   "cell_type": "code",
   "execution_count": null,
   "id": "73c7053f-f679-4cb4-935c-751338b7ca08",
   "metadata": {},
   "outputs": [],
   "source": [
    "def paper_setup():\n",
    "    \"\"\"Hardcoded example with reasonable consistency eyeballed from \n",
    "       Potential-iLQR paper\n",
    "    \"\"\"\n",
    "    x0 = np.array([[0.5, 1.5, 0, 0.1,\n",
    "                    2.5, 1.5, 0, π,\n",
    "                    1.5, 1.3, 0, π/2]], \n",
    "                     dtype=float).T\n",
    "    xf = np.array([[2.5, 1.5, 0, 0, \n",
    "                        0.5, 1.5, 0, π, \n",
    "                        1.5, 2.2, 0, π/2]]).T\n",
    "    return x0, xf\n",
    "\n",
    "def dec_test_setup():\n",
    "    x0, xf = paper_setup()\n",
    "    x0_other = np.array([[5, 5, 0, 0,\n",
    "                          6, 6, 0, π/4]]).T\n",
    "    xf_other = np.array([[6, 4, 0, -π/2,\n",
    "                              4, 6, 0, π/4]]).T\n",
    "    \n",
    "    x0 = np.concatenate([x0, x0_other]) \n",
    "    xf = np.concatenate([xf, xf_other])    \n",
    "    \n",
    "    return x0, xf\n",
    "\n",
    "def paper_setup_3_quads():\n",
    "    x0 = np.array([[0.5, 1.5, 1, 0, 0, 0,\n",
    "                    2.5, 1.5, 1, 0, 0, 0,\n",
    "                    1.5, 1.3, 1, 0, 0, 0]], \n",
    "                     dtype=float).T\n",
    "    xf = np.array([[2.5, 1.5, 1, 0, 0, 0, \n",
    "                    0.5, 1.5, 1, 0, 0, 0, \n",
    "                    1.5, 2.2, 1, 0, 0, 0]]).T\n",
    "    x0[dec.pos_mask([6]*3, 3)] += 0.01*np.random.randn(9, 1)\n",
    "    xf[dec.pos_mask([6]*3, 3)] += 0.01*np.random.randn(9, 1)\n",
    "    return x0, xf"
   ]
  },
  {
   "cell_type": "code",
   "execution_count": null,
   "id": "3f747a0a-6dc5-4888-a884-46e8d4739979",
   "metadata": {},
   "outputs": [],
   "source": [
    "def paper_example_unicycles():\n",
    "    \"\"\"5 agents with crossing, N = 60, R = 2I\"\"\"\n",
    "    x0 = np.array([[-3.894,  1.453,  0.   ,  0.   ,  0.873,  4.82 ,  0.   ,  0.   ,\n",
    "        -3.372, -3.415,  0.   ,  0.   ,  3.502,  4.681,  0.   ,  0.   ,\n",
    "         4.592,  0.605,  0.   ,  0.   ]]).T\n",
    "    xf = np.array([[ 4.877,  2.181,  0.   ,  0.   ,  1.928, -0.136,  0.   ,  0.   ,\n",
    "        -1.879,  3.688,  0.   ,  0.   , -2.026, -0.522,  0.   ,  0.   ,\n",
    "         4.043, -3.767,  0.   ,  0.   ]]).T\n",
    "    return x0, xf"
   ]
  },
  {
   "cell_type": "code",
   "execution_count": null,
   "id": "6132947a-b3ea-48d8-8d73-8603937b2ef8",
   "metadata": {},
   "outputs": [],
   "source": [
    "def paper_example_quads():\n",
    "    \"\"\"10 quadcopters, N = 60\"\"\"\n",
    "    x0 = np.array([[ 5.915, -7.175,  1.903,  0.   ,  0.   ,  0.   ,  1.838,  2.391,\n",
    "         5.71 ,  0.   ,  0.   ,  0.   ,  3.706,  3.317, -8.283,  0.   ,\n",
    "         0.   ,  0.   ,  6.694,  7.111,  6.155,  0.   ,  0.   ,  0.   ,\n",
    "        -9.541,  0.501,  2.488,  0.   ,  0.   ,  0.   , -4.286, -7.567,\n",
    "        -7.29 ,  0.   ,  0.   ,  0.   ,  3.574, -4.309, -1.497,  0.   ,\n",
    "         0.   ,  0.   ,  0.417, -2.895,  0.594,  0.   ,  0.   ,  0.   ,\n",
    "        -6.272, -6.414, -1.265,  0.   ,  0.   ,  0.   ,  7.108, -9.521,\n",
    "        -5.234,  0.   ,  0.   ,  0.   ]]).T\n",
    "    xf = np.array([[ 0.586,  6.324,  8.746,  0.   ,  0.   ,  0.   , -5.768, -5.674,\n",
    "         9.156,  0.   ,  0.   ,  0.   ,  1.384,  6.137,  3.046,  0.   ,\n",
    "         0.   ,  0.   , -9.182,  1.458, -5.108,  0.   ,  0.   ,  0.   ,\n",
    "        -4.171, -3.339, -6.949,  0.   ,  0.   ,  0.   , -9.142, -1.331,\n",
    "         7.007,  0.   ,  0.   ,  0.   , -2.239, -7.678,  3.992,  0.   ,\n",
    "         0.   ,  0.   ,  0.704, -4.572,  9.133,  0.   ,  0.   ,  0.   ,\n",
    "         4.2  , -8.159,  4.172,  0.   ,  0.   ,  0.   ,  7.384, -1.938,\n",
    "        -5.644,  0.   ,  0.   ,  0.   ]]).T\n",
    "\n",
    "    return x0, xf"
   ]
  },
  {
   "cell_type": "markdown",
   "id": "00b6c263-eca6-4cf9-8d45-07234cabb770",
   "metadata": {},
   "source": [
    "## quadcopter w/ humans"
   ]
  },
  {
   "cell_type": "code",
   "execution_count": null,
   "id": "2eea7a3e-12f9-4753-95d4-2d8706c94d1d",
   "metadata": {},
   "outputs": [],
   "source": [
    "n_states = 6\n",
    "n_controls = 3\n",
    "n_agents = 3\n",
    "\n",
    "x_dims = [n_states] * n_agents\n",
    "u_dims = [n_controls] * n_agents\n",
    "n_dims = [2, 3, 3]\n",
    "\n",
    "dt = 0.1\n",
    "N = 20\n",
    "radius = 1.0\n",
    "\n",
    "x0 = np.array([\n",
    "    [-0.2, 2, 0, -π/2, 0, 0], \n",
    "    [-2, 1.6, 1.75, -0.01, -0.01, 0.0],\n",
    "    [0.5, 1.0, 1.73, 0.01, -0.01, 0.0]\n",
    "]).flatten()\n",
    "xf = np.array([\n",
    "    [0.4, -2, 0, -π/2, 0, 0], \n",
    "    [1, -1.9, 1.75, 0, 0, 0],\n",
    "    [1, 1.9, 1.73, 0, 0, 0]\n",
    "]).flatten() \n",
    "\n",
    "Q = np.diag([1, 1, 1, 1, 1, 1])\n",
    "R = np.diag([1, 1, 1])\n",
    "Qf = 1e3 * np.eye(n_states)\n",
    "\n",
    "models = [dec.HumanDynamics6D, dec.QuadcopterDynamics6D, dec.QuadcopterDynamics6D]\n",
    "ids = [100 + i for i in range(n_agents)]\n",
    "dynamics = dec.MultiDynamicalModel([model(dt, id_) for id_, model in zip(ids, models)])\n",
    "\n",
    "goal_costs = [\n",
    "    dec.ReferenceCost(xf_i, Q.copy(), R.copy(), Qf.copy(), id_)\n",
    "    for xf_i, id_, x_dim, u_dim in zip(\n",
    "        dec.split_agents_gen(xf, x_dims), ids, x_dims, u_dims\n",
    "    )\n",
    "]\n",
    "prox_cost = dec.ProximityCost(x_dims, radius, n_dims)\n",
    "game_cost = dec.GameCost(goal_costs, prox_cost)\n",
    "\n",
    "problem = dec.ilqrProblem(dynamics, game_cost)\n",
    "solver = dec.ilqrSolver(problem, N)"
   ]
  },
  {
   "cell_type": "code",
   "execution_count": null,
   "id": "496b8e1d-20e0-4129-9ff4-65b6952e2998",
   "metadata": {},
   "outputs": [],
   "source": [
    "U0 = np.zeros((N, n_agents*n_controls))\n",
    "X, U, J, _ = dec.solve_centralized(solver, x0, U0, ids, True)"
   ]
  },
  {
   "cell_type": "code",
   "execution_count": null,
   "id": "7e7cb037-9a99-4ff9-ab3d-023fdc3008fc",
   "metadata": {},
   "outputs": [],
   "source": [
    "plt.clf()\n",
    "plot_solve(X, J, xf, x_dims, n_d=3)\n",
    "plt.title('One-shot decentralized trajectory with Human and Quad')\n",
    "plt.draw()"
   ]
  },
  {
   "cell_type": "code",
   "execution_count": null,
   "id": "bc33845f-e146-471d-8b68-97ea9b71a2c7",
   "metadata": {},
   "outputs": [],
   "source": [
    "U0 = np.zeros((N, n_agents*n_controls))\n",
    "X0 = np.tile(x0, (N+1, 1))\n",
    "X_dec, U_dec, J_dec, _ = dec.solve_decentralized(problem, X0, U0, radius, verbose=True)"
   ]
  },
  {
   "cell_type": "code",
   "execution_count": null,
   "id": "fdeb2b43",
   "metadata": {},
   "outputs": [],
   "source": [
    "plt.clf()\n",
    "plot_solve(X_dec, J_dec, xf, x_dims, n_d=3)\n",
    "plt.title('One-shot decentralized trajectory with Human and Quad')\n",
    "plt.draw()"
   ]
  },
  {
   "cell_type": "code",
   "execution_count": null,
   "id": "86cfc4ef-c9a4-49a4-bd11-81e8995c9cac",
   "metadata": {},
   "outputs": [],
   "source": [
    "plt.clf()\n",
    "plt.plot(dec.compute_pairwise_distance(X, x_dims, n_dims[1]))\n",
    "plt.hlines(radius, *plt.xlim(), 'r', ls='--')\n",
    "plt.title('Distance between human and quad over entire horizon')\n",
    "plt.ylabel('Pairwise distance (m)',fontsize=13)\n",
    "plt.draw()"
   ]
  },
  {
   "cell_type": "code",
   "execution_count": null,
   "id": "03d0362d",
   "metadata": {},
   "outputs": [],
   "source": [
    "%%time\n",
    "n_d = 3\n",
    "step_size = 1\n",
    "N = 30\n",
    "\n",
    "# Start in hover condition.\n",
    "# U0 = np.zeros((N, n_agents*n_controls))\n",
    "U0 = np.c_[\n",
    "    np.zeros((N, 3)),\n",
    "    np.tile([g, 0, 0], (N, 2))\n",
    "]\n",
    "\n",
    "radius = 0.5\n",
    "X_rhc, U_rhc, J_rhc = dec.solve_rhc(\n",
    "    problem, x0, N, radius,\n",
    "    centralized=False,\n",
    "    n_d=n_d,\n",
    "    step_size=step_size, \n",
    "    dist_converge=0.1,\n",
    "    verbose=True,\n",
    "    t_kill=step_size*dt,\n",
    "    t_diverge=None\n",
    ")"
   ]
  },
  {
   "cell_type": "code",
   "execution_count": null,
   "id": "d6b4caf5-bd15-4ba9-9a62-8252ac1dff4a",
   "metadata": {},
   "outputs": [],
   "source": [
    "plt.clf()\n",
    "plot_solve(X_rhc, J_rhc, xf, x_dims, n_d=3)\n",
    "plt.title('RHC with human and quad')\n",
    "plt.draw()"
   ]
  },
  {
   "cell_type": "code",
   "execution_count": null,
   "id": "86136880-7e57-49a3-8171-3f54547fde16",
   "metadata": {},
   "outputs": [],
   "source": [
    "plt.clf()\n",
    "plt.plot(dec.compute_pairwise_distance(X, x_dims, n_dims[1]))\n",
    "plt.hlines(radius, *plt.xlim(), 'r', ls='--')\n",
    "plt.title('Distance between human and quad over entire horizon')\n",
    "plt.ylabel('Pairwise distance (m)',fontsize=13)\n",
    "plt.draw()"
   ]
  },
  {
   "cell_type": "markdown",
   "id": "f1ef5759-be12-4088-a4e6-fdc845d0d7eb",
   "metadata": {},
   "source": [
    "To be consistent between simulations, we normalize for the scale of the setup by computing the *energy*, or the sum of distances from the origin of the points. This should be the same for all runs."
   ]
  },
  {
   "cell_type": "markdown",
   "id": "5c39c2b1-0545-4f2b-845d-b9e5403b5661",
   "metadata": {},
   "source": [
    "### uniform agents"
   ]
  },
  {
   "cell_type": "code",
   "execution_count": null,
   "id": "4671c093-63cf-46b9-9679-69d37434da0f",
   "metadata": {},
   "outputs": [],
   "source": [
    "def paper_setup_3_quads():\n",
    "    x0 = np.array([[0.5, 1.5, 1, 0.5, 0.0, 0,\n",
    "                    2.5, 1.5, 1, -0.5, 0.0, 0,\n",
    "                    1.5, 1.3, 1, 0, 0.2, 0]], \n",
    "                     dtype=float).T\n",
    "    xf = np.array([[2.5, 1.5, 1, 0, 0, 0, \n",
    "                    0.5, 1.5, 1, 0, 0, 0, \n",
    "                    1.5, 2.2, 1, 0, 0, 0]]).T\n",
    "    x0[dec.pos_mask([6]*3, 3)] += 0.1*np.random.randn(9, 1)\n",
    "    xf[dec.pos_mask([6]*3, 3)] += 0.1*np.random.randn(9, 1)\n",
    "    return x0, xf"
   ]
  },
  {
   "cell_type": "code",
   "execution_count": null,
   "id": "1d5df34d-5e4d-454b-82d4-33ae3b77f726",
   "metadata": {},
   "outputs": [],
   "source": [
    "n_states = 6\n",
    "n_controls = 3\n",
    "n_agents = 3\n",
    "x_dims = [n_states] * n_agents\n",
    "u_dims = [n_controls] * n_agents\n",
    "n_dims = [3] * n_agents\n",
    "\n",
    "# ENERGY = 20.0\n",
    "n_d = n_dims[0]\n",
    "\n",
    "# x0, xf = paper_setup()\n",
    "# x0, xf = car_setup()\n",
    "# x0, xf = bike_setup()\n",
    "# x0, xf = double_int_setup()\n",
    "# x0, xf = dec_test_setup()\n",
    "# x0, xf = dec.random_setup(\n",
    "#     n_agents, n_states, \n",
    "#     is_rotation=False, \n",
    "#     rel_dist=2.0, \n",
    "#     var=n_agents/2, \n",
    "#     n_d=2, \n",
    "#     random=True\n",
    "# )\n",
    "\n",
    "x0, xf = paper_setup_3_quads()\n",
    "# x0, xf = paper_example_unicycles()\n",
    "\n",
    "x_dims = [n_states] * n_agents\n",
    "u_dims = [n_controls] * n_agents\n",
    "\n",
    "# x0 = dec.normalize_energy(x0, x_dims, ENERGY)\n",
    "# xf = dec.normalize_energy(xf, x_dims, ENERGY)\n",
    "# x0 = dec.perturb_state(x0, x_dims)\n",
    "\n",
    "plt.clf()\n",
    "plt.gca().set_aspect('equal')\n",
    "X = np.dstack([\n",
    "    x0.reshape(n_agents, n_states), \n",
    "    xf.reshape(n_agents, n_states)\n",
    "]).swapaxes(1,2)\n",
    "for i, Xi in enumerate(X):\n",
    "    plt.annotate('', Xi[1,:2], Xi[0,:2], \n",
    "                 arrowprops=dict(facecolor=plt.cm.tab20.colors[i]))\n",
    "pocketknives.set_bounds(X.reshape(-1, n_states), zoom=0.2)\n",
    "plt.draw()"
   ]
  },
  {
   "cell_type": "code",
   "execution_count": null,
   "id": "1f606b8b-543c-442a-8e82-7d1118b629ee",
   "metadata": {},
   "outputs": [],
   "source": [
    "dt = 0.05\n",
    "N = 30\n",
    "\n",
    "tol = 1e-6\n",
    "ids = [100 + i for i in range(n_agents)]\n",
    "\n",
    "# model = dec.DoubleIntDynamics4D\n",
    "# model = dec.UnicycleDynamics4D\n",
    "# model = dec.BikeDynamics5D\n",
    "model = dec.QuadcopterDynamics6D\n",
    "dynamics = dec.MultiDynamicalModel([model(dt, id_) for id_ in ids])\n",
    "\n",
    "# Q = np.eye(4)\n",
    "# R = np.eye(2)\n",
    "Q = np.diag([1, 1, 1, 5, 5, 5])\n",
    "R = np.diag([0, 1, 1])\n",
    "Qf = 1e3 * np.eye(n_states)\n",
    "radius = 0.5\n",
    "\n",
    "goal_costs = [\n",
    "    dec.ReferenceCost(xf_i, Q.copy(), R.copy(), Qf.copy(), id_)\n",
    "    for xf_i, id_, x_dim, u_dim in zip(\n",
    "        dec.split_agents_gen(xf, x_dims), ids, x_dims, u_dims\n",
    "    )\n",
    "]\n",
    "prox_cost = dec.ProximityCost(x_dims, radius, n_dims)\n",
    "goal_costs = [dec.ReferenceCost(xf_i, Q.copy(), R.copy(), Qf.copy(), id_) \n",
    "              for xf_i, id_ in zip(split_agents(xf.T, x_dims), ids)]\n",
    "prox_cost = dec.ProximityCost(x_dims, radius, n_dims)\n",
    "game_cost = dec.GameCost(goal_costs, prox_cost)\n",
    "\n",
    "problem = dec.ilqrProblem(dynamics, game_cost)\n",
    "solver = dec.ilqrSolver(problem, N)\n",
    "\n",
    "# U0 = None"
   ]
  },
  {
   "cell_type": "code",
   "execution_count": null,
   "id": "563b0318-aef0-4483-afb9-9dae0352b3df",
   "metadata": {
    "tags": []
   },
   "outputs": [],
   "source": [
    "%%time\n",
    "U0 = np.tile([1.5*g, 0, 0.0], (N, n_agents))\n",
    "U0[:, ~dec.pos_mask([3]*3, 1)] = 1e-3*np.random.randn(N, n_agents*(n_controls-1))\n",
    "X, U, J = solver.solve(x0, U0, tol=tol, t_kill=None)"
   ]
  },
  {
   "cell_type": "code",
   "execution_count": null,
   "id": "93648d57-6fb2-4cda-870c-c5d1a69ed7d9",
   "metadata": {},
   "outputs": [],
   "source": [
    "# fname = \"10-quads\"\n",
    "# fname = \"5-unicycles\"\n",
    "fname = \"_\""
   ]
  },
  {
   "cell_type": "code",
   "execution_count": null,
   "id": "f583a3f3-8ec4-482d-b904-c957475a345a",
   "metadata": {},
   "outputs": [],
   "source": [
    "plt.clf()\n",
    "plot_solve(X, J, xf.T, x_dims, True, n_d)\n",
    "\n",
    "ax = plt.gca()\n",
    "# ax.set_title(\"5 Unicycle Agents\")\n",
    "# ax.set_xlabel(\"$x$\")\n",
    "# ax.set_ylabel(\"$y$\")\n",
    "# ax.set_zlabel(\"$z$\")\n",
    "ax.legend(plt.gca().get_children()[1:3], [\"Start Position\", \"Goal Position\"])\n",
    "# pocketknives.ticks_off()\n",
    "ax.set_title('')\n",
    "# ax.legend(plt.gca().get_children()[1:3], [\"Start Position\", \"Goal Position\"], loc=(-0.2, 0.75))\n",
    "# ax.yaxis.set_major_locator(plt.MultipleLocator(3))\n",
    "# plt.savefig(f\"/home/iconlab/Downloads/{fname}.png\")\n",
    "# plt.gcf().set_facecolor(\"#EAEAF2\")\n",
    "plt.gca().set_zlim(0, 1.5)\n",
    "plt.draw()\n"
   ]
  },
  {
   "cell_type": "code",
   "execution_count": null,
   "id": "b87a4e75-51b8-4810-b699-4242d87f6435",
   "metadata": {},
   "outputs": [],
   "source": [
    "plt.clf()\n",
    "plt.plot(dec.compute_pairwise_distance(X, x_dims, n_d))\n",
    "plt.hlines(radius, 0, N, 'r', ls='--', label=\"$d_{prox}$\")\n",
    "plt.title(\"Inter-Agent Distances\")\n",
    "plt.xlabel(\"Time Steps\")\n",
    "plt.ylabel(\"Distance\")\n",
    "plt.legend()\n",
    "plt.grid(False)\n",
    "plt.draw()\n",
    "# plt.savefig(f\"/home/iconlab/Downloads/{fname}-distances.png\")"
   ]
  },
  {
   "cell_type": "code",
   "execution_count": null,
   "id": "d9ae135c-adc9-40ee-87ad-a42fb0f1edfc",
   "metadata": {},
   "outputs": [],
   "source": [
    "costs = []\n",
    "for xi, ui in zip(X, U):\n",
    "    costs.append(game_cost(xi, ui).item())\n",
    "plt.clf()\n",
    "plt.plot(costs)\n",
    "plt.draw()"
   ]
  },
  {
   "cell_type": "markdown",
   "id": "68c1de09-898c-411a-896b-c4000ec679cf",
   "metadata": {},
   "source": [
    "## decentralized multi-agent"
   ]
  },
  {
   "cell_type": "code",
   "execution_count": null,
   "id": "2d74de30-c356-4ee1-8c90-2abacc98d974",
   "metadata": {},
   "outputs": [],
   "source": [
    "graph = dec.define_inter_graph_threshold(X, 4*radius, x_dims, ids)\n",
    "graph"
   ]
  },
  {
   "cell_type": "code",
   "execution_count": null,
   "id": "572bedc9-a7aa-4aaf-8057-1bb4cda239c6",
   "metadata": {},
   "outputs": [],
   "source": [
    "nx.draw_networkx?"
   ]
  },
  {
   "cell_type": "code",
   "execution_count": null,
   "id": "1cbc443c-be7f-4e7f-98b9-fc3d598d4098",
   "metadata": {},
   "outputs": [],
   "source": [
    "plt.clf()\n",
    "dec.plot_interaction_graph(graph)\n",
    "plt.title(\"One-Shot Interaction Graph\")"
   ]
  },
  {
   "cell_type": "code",
   "execution_count": null,
   "id": "5cc9f0d2-ccb1-4735-85d1-a3907e420b84",
   "metadata": {},
   "outputs": [],
   "source": [
    "plt.grid(False)\n",
    "plt.savefig(\"/home/iconlab/Downloads/graph.png\")"
   ]
  },
  {
   "cell_type": "code",
   "execution_count": null,
   "id": "3a50e984-954e-40c4-bff3-6371d6a153a3",
   "metadata": {},
   "outputs": [],
   "source": [
    "# %%time\n",
    "X0 = np.tile(x0.T, (N,1))\n",
    "U0 = np.zeros((N, n_controls*n_agents))\n",
    "X_dec1, U_dec1, J_dec, _ = dec.solve_decentralized(problem, X0, U0, radius)"
   ]
  },
  {
   "cell_type": "code",
   "execution_count": null,
   "id": "f86c1bc4-080d-4fb2-b316-4da8f917b3a1",
   "metadata": {},
   "outputs": [],
   "source": [
    "plt.clf()\n",
    "plot_solve(X_dec1, J_dec, xf, x_dims, n_d)\n",
    "plt.gca().set_zlim(-1, 1)\n",
    "plt.draw()"
   ]
  },
  {
   "cell_type": "code",
   "execution_count": null,
   "id": "678b88a8-8fb3-4ecd-8841-883238887092",
   "metadata": {},
   "outputs": [],
   "source": [
    "plt.clf()\n",
    "plt.plot(dec.compute_pairwise_distance(X_dec, x_dims, n_d))\n",
    "plt.hlines(radius, *plt.xlim(), 'r', ls='--')\n",
    "plt.draw()"
   ]
  },
  {
   "cell_type": "markdown",
   "id": "cd932c21-f1c7-47cf-ac60-2d23bac796d5",
   "metadata": {
    "tags": []
   },
   "source": [
    "## With receding horizon:"
   ]
  },
  {
   "cell_type": "code",
   "execution_count": null,
   "id": "8dc6265d",
   "metadata": {},
   "outputs": [],
   "source": [
    "%%time\n",
    "step_size = 3\n",
    "U0 = np.zeros((N, dynamics.n_u))\n",
    "N = 5\n",
    "radius = 0.25\n",
    "X, U, J = dec.solve_rhc(\n",
    "    prob, x0, N, radius,\n",
    "    centralized=True,\n",
    "    n_d=n_d,\n",
    "    step_size=step_size, \n",
    "    dist_converge=0.1,\n",
    "    verbose=True,\n",
    "    t_kill=step_size*dt,\n",
    "    t_diverge=N*dt\n",
    ")"
   ]
  },
  {
   "cell_type": "code",
   "execution_count": null,
   "id": "95deea9e",
   "metadata": {},
   "outputs": [],
   "source": [
    "np.isclose(x0,X[0]) #shouldn't x0 be exactly the same as X[0]??"
   ]
  },
  {
   "cell_type": "code",
   "execution_count": null,
   "id": "94c2789b-0ef5-4b08-b2b1-db582448e35e",
   "metadata": {},
   "outputs": [],
   "source": [
    "plt.figure(dpi=100)\n",
    "plot_solve(X, J, xf, x_dims, n_d=3)\n",
    "plt.savefig('/mnt/c/Users/Randy666/Documents/projects/ICON_lab/decentralized/media/Centralized_15_drones.png')"
   ]
  },
  {
   "cell_type": "code",
   "execution_count": null,
   "id": "6d86ff8a",
   "metadata": {},
   "outputs": [],
   "source": [
    "%%time\n",
    "#Decentralized without multiprocessing:\n",
    "step_size = 3\n",
    "U0 = np.zeros((N, dynamics.n_u))\n",
    "N = 50\n",
    "radius = 0.25\n",
    "X, U, J = dec.solve_rhc(\n",
    "    prob, x0, N, radius,\n",
    "    centralized=False,\n",
    "    n_d=n_d,\n",
    "    step_size=step_size, \n",
    "    dist_converge=0.1,\n",
    "    verbose=True,\n",
    "    t_kill=step_size*dt,\n",
    "    t_diverge=N*dt\n",
    ")"
   ]
  },
  {
   "cell_type": "code",
   "execution_count": null,
   "id": "629fa1cb",
   "metadata": {},
   "outputs": [],
   "source": [
    "plt.figure()\n",
    "plot_solve(X, J, xf, x_dims, n_d=3)\n",
    "plt.savefig('/mnt/c/Users/Randy666/Documents/projects/ICON_lab/decentralized/media/decentralized_15_drones.png')"
   ]
  },
  {
   "cell_type": "markdown",
   "id": "ce44002f-d19a-4f80-9e38-9a9bf4f3a2d0",
   "metadata": {},
   "source": [
    "## animation"
   ]
  },
  {
   "cell_type": "code",
   "execution_count": null,
   "id": "fd5d8eee-d9af-4c29-9b1e-abe38ddccc90",
   "metadata": {},
   "outputs": [],
   "source": [
    "_, axes = plt.subplots(1, 2, figsize=(5.0, 3.7))"
   ]
  },
  {
   "cell_type": "code",
   "execution_count": null,
   "id": "86412aa3-9981-4600-a2a2-2211da3ec579",
   "metadata": {},
   "outputs": [],
   "source": [
    "def setup(axes, X, xf, x_dims, radius):\n",
    "    \n",
    "    ax1, ax2 = axes\n",
    "    n_agents = len(x_dims)\n",
    "    handles1 = []\n",
    "    for i in range(n_agents):\n",
    "        handles1.append((\n",
    "            ax1.plot(0, c=plt.cm.tab20.colors[2*i], marker='o', markersize=4)[0],\n",
    "            ax1.add_artist(plt.Circle(np.nan, radius, color='k', fill=True, alpha=0.3, lw=2)),\n",
    "        ))\n",
    "        \n",
    "    for xg in split_agents(xf, x_dims):\n",
    "        ax1.scatter(xg[0,0], xg[0,1], c='r', marker='x', zorder=10)\n",
    "\n",
    "    X_cat = np.vstack(split_agents(X, x_dims))\n",
    "    pocketknives.set_bounds(X_cat, axes[0], zoom=0.15)\n",
    "    plt.draw()\n",
    "    \n",
    "    handles2 = []\n",
    "    n_pairs = pocketknives.nchoosek(n_agents, 2)\n",
    "    for i in range(n_pairs):\n",
    "        handles2.append(ax2.plot(0, c=plt.cm.tab20.colors[2*i])[0])\n",
    "    ax2.hlines(radius, 0, X.shape[0], 'r', ls='--')\n",
    "    ax2.set_ylim(0.0, distances.max())\n",
    "        \n",
    "    return handles1, handles2\n",
    "    \n",
    "def animate(t, handles1, handles2, X, x_dims, xf, distances):\n",
    "    \"\"\"Animate the solution into a gif\"\"\"\n",
    "    \n",
    "    for (i, xi), hi in zip(enumerate(split_agents(X, x_dims)), handles1):\n",
    "        hi[0].set_xdata(xi[:t,0])\n",
    "        hi[0].set_ydata(xi[:t,1])\n",
    "        hi[1].set_center(xi[t-1,:2])\n",
    "        \n",
    "    for i, hi in enumerate(handles2):\n",
    "        hi.set_xdata(range(t))\n",
    "        hi.set_ydata(distances[:t, i])\n",
    "    \n",
    "    plt.draw()\n",
    "    "
   ]
  },
  {
   "cell_type": "code",
   "execution_count": null,
   "id": "d23639a7-3ef6-438f-a215-12798324ac8d",
   "metadata": {},
   "outputs": [],
   "source": [
    "distances = dec.compute_pairwise_distance(X, x_dims).T\n",
    "handles1, handles2 = setup(axes, X, xf.flatten(), x_dims, radius)\n",
    "animate(10, handles1, handles2, X, x_dims, xf, distances)\n",
    "plt.draw()"
   ]
  },
  {
   "cell_type": "code",
   "execution_count": null,
   "id": "cb12a6da-32df-47e7-bb14-d0f52afdcd71",
   "metadata": {},
   "outputs": [],
   "source": [
    "handles = setup(axes, X, xf.flatten(), x_dims, radius)\n",
    "anim = FuncAnimation(\n",
    "    plt.gcf(), \n",
    "    animate, \n",
    "    frames=N+1, \n",
    "    fargs=(*handles, X, x_dims, xf, distances))\n",
    "anim.save('traj.gif', fps=5)"
   ]
  },
  {
   "cell_type": "markdown",
   "id": "ee818f0b-485f-4abf-8742-c01e022dc54f",
   "metadata": {},
   "source": [
    "## old"
   ]
  },
  {
   "cell_type": "code",
   "execution_count": null,
   "id": "8bc88d0d-8172-41cd-9871-325675778c6a",
   "metadata": {},
   "outputs": [],
   "source": [
    "# Old RHC for plotting...\n",
    "rhc = dec.RecedingHorizonController(x0, ilqr, step_size=5)\n",
    "U0 = np.zeros((ilqr.N, ilqr.n_u))\n",
    "for Xi, Ui, Ji in rhc.solve(U0, J_converge=101.0, tol=tol, verbose=False):\n",
    "    plt.cla()\n",
    "    plot_solve(Xi, Ji, xf.T, x_dims)\n",
    "    fig.canvas.draw()"
   ]
  },
  {
   "cell_type": "code",
   "execution_count": null,
   "id": "614cbcae-7d0b-43c9-8575-d3ae00a6cae6",
   "metadata": {},
   "outputs": [],
   "source": [
    "# Manual decentralized RHC for plotting...\n",
    "step_size = 5\n",
    "Xi = np.tile(x0.T, (N,1))\n",
    "Ui = np.zeros((N, dynamics.n_u))\n",
    "X_dec = np.zeros((0, dynamics.n_x))\n",
    "U_dec = np.zeros((0, dynamics.n_u))\n",
    "Ji = np.inf\n",
    "J_converge = 100.0\n",
    "\n",
    "while Ji >= J_converge:\n",
    "    Xi, Ui, Ji = dec.solve_decentralized(prob, Xi, Ui, radius)\n",
    "    \n",
    "    X_dec = np.r_[X_dec, Xi[:step_size]]\n",
    "    U_dec = np.r_[U_dec, Ui[:step_size]]\n",
    "    \n",
    "    # Seed the next solve by staying at the last visited state.\n",
    "    Xi = np.r_[Xi[step_size:], np.tile(Xi[-1], (step_size, 1))]\n",
    "    Ui = np.r_[Ui[step_size:], np.zeros((step_size, dynamics.n_u))]\n",
    "    \n",
    "    plt.cla()\n",
    "    plot_solve(Xi[:step_size], Ji, xf.T, x_dims)\n",
    "    fig.canvas.draw()"
   ]
  },
  {
   "cell_type": "code",
   "execution_count": null,
   "id": "18e04e80-d538-48a0-8e59-d9377ec87bc6",
   "metadata": {},
   "outputs": [],
   "source": []
  },
  {
   "cell_type": "code",
   "execution_count": null,
   "id": "22f08729-6a64-4ede-9624-b5b4fd25a825",
   "metadata": {},
   "outputs": [],
   "source": []
  }
 ],
 "metadata": {
  "kernelspec": {
   "display_name": "Python 3 (ipykernel)",
   "language": "python",
   "name": "python3"
  },
  "language_info": {
   "codemirror_mode": {
    "name": "ipython",
    "version": 3
   },
   "file_extension": ".py",
   "mimetype": "text/x-python",
   "name": "python",
   "nbconvert_exporter": "python",
   "pygments_lexer": "ipython3",
   "version": "3.8.10"
  },
  "vscode": {
   "interpreter": {
    "hash": "47f19a4884d69c1662ba195a765da507abd8104c88696148164f3dd77b63a1cd"
   }
  }
 },
 "nbformat": 4,
 "nbformat_minor": 5
}
