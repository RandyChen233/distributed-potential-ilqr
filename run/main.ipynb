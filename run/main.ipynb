{
 "cells": [
  {
   "cell_type": "markdown",
   "id": "dc93dafc-34e9-4a69-a56f-29c3bb713e71",
   "metadata": {
    "tags": []
   },
   "source": [
    "# take2\n",
    "\n",
    "**GOAL**: Keep It Stupid Simple = KISS.\n",
    "\n",
    "**Dependencies:**\n",
    " - [pocketknives](https://github.com/zjwilliams20/pocketknives)\n",
    "\n",
    "**References:**\n",
    " 1. [ilqgames/python](https://github.com/HJReachability/ilqgames/blob/master/python)"
   ]
  },
  {
   "cell_type": "markdown",
   "id": "d2465697-c22a-4d3e-8f89-cbaa3b750386",
   "metadata": {
    "tags": []
   },
   "source": [
    "**TODO**:\n",
    "- quantify run times\n",
    "- figure out overflow\n",
    "- make sure quadcopter converges"
   ]
  },
  {
   "cell_type": "code",
   "execution_count": 1,
   "id": "5af0f28d-2b3f-4be6-93b8-8952dfe73058",
   "metadata": {},
   "outputs": [],
   "source": [
    "from time import perf_counter as pc\n",
    "import warnings\n",
    "\n",
    "import numpy as np\n",
    "import matplotlib.pyplot as plt\n",
    "from matplotlib.animation import FuncAnimation\n",
    "\n",
    "from decentralized import split_agents\n",
    "import decentralized as dec\n",
    "import pocketknives\n",
    "\n",
    "π = np.pi"
   ]
  },
  {
   "cell_type": "code",
   "execution_count": 2,
   "id": "5b92a597-8863-44c3-85d9-4df9243146db",
   "metadata": {},
   "outputs": [],
   "source": [
    "%load_ext autoreload\n",
    "%autoreload 1\n",
    "%aimport decentralized.control, decentralized.dynamics, decentralized.cost, decentralized.problem, decentralized.util"
   ]
  },
  {
   "cell_type": "code",
   "execution_count": 3,
   "id": "91cd6f19-d6ad-4d1b-b72f-829d26663d52",
   "metadata": {},
   "outputs": [],
   "source": [
    "%matplotlib ipympl\n",
    "plt.rcParams['axes.grid'] = True"
   ]
  },
  {
   "cell_type": "code",
   "execution_count": 4,
   "id": "5caba289-740d-46cf-aba0-faa5b1a915cd",
   "metadata": {
    "tags": []
   },
   "outputs": [
    {
     "data": {
      "application/vnd.jupyter.widget-view+json": {
       "model_id": "9e45f1b8ec054189a66a9d31b323cb0a",
       "version_major": 2,
       "version_minor": 0
      },
      "image/png": "[encoded data removed]",
      "text/html": [
       "\n",
       "            <div style=\"display: inline-block;\">\n",
       "                <div class=\"jupyter-widgets widget-label\" style=\"text-align: center;\">\n",
       "                    Figure\n",
       "                </div>\n",
       "                <img src='data:image/png;base64,iVBORw0KGgoAAAANSUhEUgAAAXIAAAFyCAYAAADoJFEJAAAAOXRFWHRTb2Z0d2FyZQBNYXRwbG90bGliIHZlcnNpb24zLjUuMiwgaHR0cHM6Ly9tYXRwbG90bGliLm9yZy8qNh9FAAAACXBIWXMAAA9hAAAPYQGoP6dpAAAFLklEQVR4nO3UQQ0AIBDAMMC/50MED7KkVbDX9szMAiDr/A4A4I2RA8QZOUCckQPEGTlAnJEDxBk5QJyRA8QZOUCckQPEGTlAnJEDxBk5QJyRA8QZOUCckQPEGTlAnJEDxBk5QJyRA8QZOUCckQPEGTlAnJEDxBk5QJyRA8QZOUCckQPEGTlAnJEDxBk5QJyRA8QZOUCckQPEGTlAnJEDxBk5QJyRA8QZOUCckQPEGTlAnJEDxBk5QJyRA8QZOUCckQPEGTlAnJEDxBk5QJyRA8QZOUCckQPEGTlAnJEDxBk5QJyRA8QZOUCckQPEGTlAnJEDxBk5QJyRA8QZOUCckQPEGTlAnJEDxBk5QJyRA8QZOUCckQPEGTlAnJEDxBk5QJyRA8QZOUCckQPEGTlAnJEDxBk5QJyRA8QZOUCckQPEGTlAnJEDxBk5QJyRA8QZOUCckQPEGTlAnJEDxBk5QJyRA8QZOUCckQPEGTlAnJEDxBk5QJyRA8QZOUCckQPEGTlAnJEDxBk5QJyRA8QZOUCckQPEGTlAnJEDxBk5QJyRA8QZOUCckQPEGTlAnJEDxBk5QJyRA8QZOUCckQPEGTlAnJEDxBk5QJyRA8QZOUCckQPEGTlAnJEDxBk5QJyRA8QZOUCckQPEGTlAnJEDxBk5QJyRA8QZOUCckQPEGTlAnJEDxBk5QJyRA8QZOUCckQPEGTlAnJEDxBk5QJyRA8QZOUCckQPEGTlAnJEDxBk5QJyRA8QZOUCckQPEGTlAnJEDxBk5QJyRA8QZOUCckQPEGTlAnJEDxBk5QJyRA8QZOUCckQPEGTlAnJEDxBk5QJyRA8QZOUCckQPEGTlAnJEDxBk5QJyRA8QZOUCckQPEGTlAnJEDxBk5QJyRA8QZOUCckQPEGTlAnJEDxBk5QJyRA8QZOUCckQPEGTlAnJEDxBk5QJyRA8QZOUCckQPEGTlAnJEDxBk5QJyRA8QZOUCckQPEGTlAnJEDxBk5QJyRA8QZOUCckQPEGTlAnJEDxBk5QJyRA8QZOUCckQPEGTlAnJEDxBk5QJyRA8QZOUCckQPEGTlAnJEDxBk5QJyRA8QZOUCckQPEGTlAnJEDxBk5QJyRA8QZOUCckQPEGTlAnJEDxBk5QJyRA8QZOUCckQPEGTlAnJEDxBk5QJyRA8QZOUCckQPEGTlAnJEDxBk5QJyRA8QZOUCckQPEGTlAnJEDxBk5QJyRA8QZOUCckQPEGTlAnJEDxBk5QJyRA8QZOUCckQPEGTlAnJEDxBk5QJyRA8QZOUCckQPEGTlAnJEDxBk5QJyRA8QZOUCckQPEGTlAnJEDxBk5QJyRA8QZOUCckQPEGTlAnJEDxBk5QJyRA8QZOUCckQPEGTlAnJEDxBk5QJyRA8QZOUCckQPEGTlAnJEDxBk5QJyRA8QZOUCckQPEGTlAnJEDxBk5QJyRA8QZOUCckQPEGTlAnJEDxBk5QJyRA8QZOUCckQPEGTlAnJEDxBk5QJyRA8QZOUCckQPEGTlAnJEDxBk5QJyRA8QZOUCckQPEGTlAnJEDxBk5QJyRA8QZOUCckQPEGTlAnJEDxBk5QJyRA8QZOUCckQPEGTlAnJEDxBk5QJyRA8QZOUCckQPEGTlAnJEDxBk5QJyRA8QZOUCckQPEGTlAnJEDxBk5QJyRA8QZOUCckQPEGTlAnJEDxBk5QJyRA8QZOUCckQPEGTlAnJEDxBk5QJyRA8QZOUCckQPEGTlAnJEDxBk5QJyRA8QZOUDcBUYHBuDijI5tAAAAAElFTkSuQmCC' width=370.0/>\n",
       "            </div>\n",
       "        "
      ],
      "text/plain": [
       "Canvas(toolbar=Toolbar(toolitems=[('Home', 'Reset original view', 'home', 'home'), ('Back', 'Back to previous …"
      ]
     },
     "metadata": {},
     "output_type": "display_data"
    }
   ],
   "source": [
    "fig = plt.figure(figsize=(3.7, 3.7))\n",
    "# fig = plt.figure()"
   ]
  },
  {
   "cell_type": "code",
   "execution_count": 6,
   "id": "2552858f-2662-40ce-90a2-25b30315b7fe",
   "metadata": {},
   "outputs": [],
   "source": [
    "def plot_solve(X, J, x_goal, x_dims=None, n_d=2):\n",
    "    \"\"\"Plot the resultant trajectory on plt.gcf()\"\"\"\n",
    "    \n",
    "    if n_d not in (2, 3):\n",
    "        raise ValueError()\n",
    "    \n",
    "    if not x_dims:\n",
    "        x_dims = [X.shape[1]]\n",
    "        \n",
    "    if n_d == 2:\n",
    "        ax = plt.gca() \n",
    "    else:\n",
    "        ax = fig.add_subplot(projection=\"3d\")\n",
    "\n",
    "    N = X.shape[0]\n",
    "    t = np.arange(N) * dt\n",
    "    \n",
    "    X_split = split_agents(X, x_dims)\n",
    "    x_goal_split = split_agents(x_goal.reshape(1,-1), x_dims)\n",
    "    \n",
    "    for Xi, xg in zip(X_split, x_goal_split):\n",
    "        if n_d == 2:\n",
    "            ax.scatter(Xi[:,0], Xi[:,1], c=t)\n",
    "            ax.scatter(Xi[0,0], Xi[0,1], 80, 'g', 'x', label=\"$x_0$\")\n",
    "            ax.scatter(xg[0,0], xg[0,1], 80, 'r', 'x', label=\"$x_f$\")\n",
    "        else:\n",
    "            ax.scatter(Xi[:,0], Xi[:,1], Xi[:,2], c=t)\n",
    "            ax.scatter(Xi[0,0], Xi[0,1], Xi[0,2], s=80, c='g', marker='x', label=\"$x_0$\")\n",
    "            ax.scatter(xg[0,0], xg[0,1], xg[0,2], s=80, c='r', marker='x', label=\"$x_f$\")\n",
    "    \n",
    "    plt.margins(0.1)\n",
    "    plt.title(f\"Final Cost: {J:.3g}\")\n",
    "    plt.draw()"
   ]
  },
  {
   "cell_type": "markdown",
   "id": "b4e6bfed-7dbc-489d-ac20-66c1e4a1a25a",
   "metadata": {
    "tags": []
   },
   "source": [
    "## single-agent problem"
   ]
  },
  {
   "cell_type": "code",
   "execution_count": 7,
   "id": "6dff7c45-1399-4160-9c68-14ec819a9dc8",
   "metadata": {},
   "outputs": [
    {
     "name": "stdout",
     "output_type": "stream",
     "text": [
      "0/50\tJ: 432856\n",
      "1/50\tJ: 4390.33\tμ: 0.5\tΔ: 0.5\n",
      "2/50\tJ: 4096.25\tμ: 0.125\tΔ: 0.25\n",
      "3/50\tJ: 3473.41\tμ: 0.015625\tΔ: 0.125\n",
      "4/50\tJ: 3428.29\tμ: 0.000976562\tΔ: 0.0625\n",
      "5/50\tJ: 3371.06\tμ: 3.05176e-05\tΔ: 0.03125\n",
      "6/50\tJ: 3263.24\tμ: 0\tΔ: 0.015625\n",
      "7/50\tJ: 3236.36\tμ: 0\tΔ: 0.0078125\n",
      "8/50\tJ: 3211.05\tμ: 0\tΔ: 0.00390625\n",
      "9/50\tJ: 3206.25\tμ: 0\tΔ: 0.00195312\n",
      "10/50\tJ: 3198.65\tμ: 0\tΔ: 0.000976562\n"
     ]
    }
   ],
   "source": [
    "dt = 0.05\n",
    "N = 50\n",
    "n_d = 2\n",
    "\n",
    "x = np.array([-10, 10, 10, 0], dtype=float)\n",
    "x_goal = np.zeros((4, 1), dtype=float).T\n",
    "\n",
    "# dynamics = dec.DoubleIntDynamics4D(dt)\n",
    "dynamics = dec.UnicycleDynamics4D(dt)\n",
    "\n",
    "Q = np.diag([1., 1, 0, 0])\n",
    "Qf = 1000 * np.eye(Q.shape[0])\n",
    "R = np.eye(2)\n",
    "cost = dec.ReferenceCost(x_goal, Q, R, Qf)\n",
    "\n",
    "prob = dec.ilqrProblem(dynamics, cost)\n",
    "ilqr = dec.ilqrSolver(prob, N)\n",
    "X, U, J = ilqr.solve(x)\n",
    "\n",
    "plt.clf()\n",
    "plot_solve(X, J, x_goal)\n",
    "plt.draw()"
   ]
  },
  {
   "cell_type": "markdown",
   "id": "7da0f10b-4b23-4dd6-a2ca-c3c820010491",
   "metadata": {},
   "source": [
    "Show equations of motion, which have the form\n",
    "\n",
    "$$\\dot{x} = f(x, u, p)$$\n",
    "\n",
    "for states\n",
    "\n",
    "$$\n",
    "x = \\begin{bmatrix} o_x & o_y & o_z & \\psi & \\theta & \\phi & v_x & v_y & v_z & w_x & w_y & w_z \\end{bmatrix},\n",
    "$$\n",
    "\n",
    "inputs\n",
    "$$\n",
    "u = \\begin{bmatrix} \\tau_x & \\tau_y & \\tau_z & f_z \\end{bmatrix},\n",
    "$$\n",
    "\n",
    "and parameters\n",
    "$$\n",
    "p = \\begin{bmatrix} m & J_x & J_y & J_z & g \\end{bmatrix}.\n",
    "$$"
   ]
  },
  {
   "cell_type": "code",
   "execution_count": 8,
   "id": "28eb1097-86da-484a-92ba-e1c47303885f",
   "metadata": {},
   "outputs": [
    {
     "name": "stdout",
     "output_type": "stream",
     "text": [
      "0/50\tJ: 170465\n",
      "1/50\tJ: 6124.45\tμ: 0.5\tΔ: 0.5\n",
      "2/50\tJ: 355.785\tμ: 0.125\tΔ: 0.25\n",
      "3/50\tJ: 319.384\tμ: 0.015625\tΔ: 0.125\n",
      "4/50\tJ: 263.571\tμ: 0.000976562\tΔ: 0.0625\n",
      "5/50\tJ: 255.398\tμ: 3.05176e-05\tΔ: 0.03125\n",
      "6/50\tJ: 250.468\tμ: 0\tΔ: 0.015625\n",
      "7/50\tJ: 249.248\tμ: 0\tΔ: 0.0078125\n",
      "8/50\tJ: 248.429\tμ: 0\tΔ: 0.00390625\n"
     ]
    }
   ],
   "source": [
    "# Single-agent problem for a quadcopter (w/ analytical diff.)\n",
    "dt = 0.05\n",
    "N = 50\n",
    "n_d = 3\n",
    "\n",
    "x = np.array([2, 2, 0.5 , 0.05, 0, 0, 0.0, 0.0, 0, 0, 0, 0], dtype=float)\n",
    "x_goal = np.zeros((12, 1), dtype=float).T\n",
    "\n",
    "dynamics = dec.QuadcopterDynamics12D(dt)\n",
    "\n",
    "# Q = np.diag([1., 1., 1., 0, 0, 0, 0, 0, 0, 0, 0, 0])\n",
    "Q = np.diag([1., 1, 1, 1, 1, 1, 1, 1, 1, 1, 1, 1])\n",
    "Qf = 100 * np.eye(Q.shape[0])\n",
    "R = np.eye(4)\n",
    "cost = dec.ReferenceCost(x_goal, Q, R, Qf)\n",
    "\n",
    "prob = dec.ilqrProblem(dynamics, cost)\n",
    "ilqr = dec.ilqrSolver(prob, N)\n",
    "\n",
    "# with warnings.catch_warnings():\n",
    "    # warnings.filterwarnings(\"error\")\n",
    "X, U, J = ilqr.solve(x)\n",
    "\n",
    "plt.clf()\n",
    "plot_solve(X, J, x_goal, n_d=n_d)\n",
    "plt.draw()"
   ]
  },
  {
   "cell_type": "markdown",
   "id": "fa52b336-88bc-4de5-985c-3f8a885f5e00",
   "metadata": {
    "tags": []
   },
   "source": [
    "## multi-agent problem"
   ]
  },
  {
   "cell_type": "markdown",
   "id": "642a633c-4682-40c7-95c3-9825a74791a4",
   "metadata": {
    "tags": []
   },
   "source": [
    "### initializing the scene\n",
    "Here, we define some initial positions within some distance of each other, and then rotate them about the origin by some random angle to hopefully create some interesting scenarios."
   ]
  },
  {
   "cell_type": "code",
   "execution_count": 8,
   "id": "73c7053f-f679-4cb4-935c-751338b7ca08",
   "metadata": {},
   "outputs": [],
   "source": [
    "def paper_setup():\n",
    "    \"\"\"Hardcoded example with reasonable consistency eyeballed from \n",
    "       Potential-iLQR paper\n",
    "    \"\"\"\n",
    "    x0 = np.array([[0.5, 1.5, 0, 0.1,\n",
    "                    2.5, 1.5, 0, π,\n",
    "                    1.5, 1.3, 0, π/2]], \n",
    "                     dtype=float).T\n",
    "    x_goal = np.array([[2.5, 1.5, 0, 0, \n",
    "                        0.5, 1.5, 0, π, \n",
    "                        1.5, 2.2, 0, π/2]]).T\n",
    "    return x0, x_goal\n",
    "\n",
    "def car_setup():\n",
    "    \"\"\"Same as paper_setup but using car dynamics\"\"\"\n",
    "    x0, x_goal = paper_setup()\n",
    "    car_mask = [i % 4 < 3 for i in range(x0.shape[0])]\n",
    "    return x0[car_mask], x_goal[car_mask]\n",
    "\n",
    "def bike_setup():\n",
    "    \"\"\"Same as paper_setup but using bike dynamics\"\"\"\n",
    "    N_AGENTS = 3\n",
    "    N_STATES = 5\n",
    "    n_total_states = N_AGENTS * N_STATES\n",
    "    bike_mask = [i % 5 < 4 for i in range(n_total_states)]\n",
    "    \n",
    "    x0, x_goal = paper_setup()\n",
    "    x0_bike = np.zeros((n_total_states, 1))\n",
    "    x_goal_bike = np.zeros_like(x0_bike)\n",
    "    x0_bike[bike_mask] = x0\n",
    "    x_goal_bike[bike_mask] = x_goal\n",
    "    \n",
    "    return x0_bike, x_goal_bike\n",
    "\n",
    "def double_int_setup():\n",
    "    x0, x_goal = paper_setup()\n",
    "    theta_mask = [i % 4 == 3 for i in range(x0.shape[0])]\n",
    "    x0[theta_mask] = 0.0\n",
    "    x_goal[theta_mask] = 0.0\n",
    "\n",
    "    return x0, x_goal\n",
    "\n",
    "def dec_test_setup():\n",
    "    x0, x_goal = paper_setup()\n",
    "    x0_other = np.array([[5, 5, 0, 0,\n",
    "                          6, 6, 0, π/4]]).T\n",
    "    x_goal_other = np.array([[6, 4, 0, -π/2,\n",
    "                              4, 6, 0, π/4]]).T\n",
    "    \n",
    "    x0 = np.concatenate([x0, x0_other]) \n",
    "    x_goal = np.concatenate([x_goal, x_goal_other])    \n",
    "    \n",
    "    return x0, x_goal"
   ]
  },
  {
   "cell_type": "markdown",
   "id": "f1ef5759-be12-4088-a4e6-fdc845d0d7eb",
   "metadata": {},
   "source": [
    "To be consistent between simulations, we normalize for the scale of the setup by computing the *energy*, or the sum of distances from the origin of the points. This should be the same for all runs."
   ]
  },
  {
   "cell_type": "code",
   "execution_count": 13,
   "id": "6349628f-6cdf-4f10-bd25-ce02a1d93fc8",
   "metadata": {},
   "outputs": [
    {
     "data": {
      "text/plain": [
       "12"
      ]
     },
     "execution_count": 13,
     "metadata": {},
     "output_type": "execute_result"
    }
   ],
   "source": [
    "dec.QuadcopterDynamics12D(-1).n_x"
   ]
  },
  {
   "cell_type": "code",
   "execution_count": 9,
   "id": "1d5df34d-5e4d-454b-82d4-33ae3b77f726",
   "metadata": {},
   "outputs": [
    {
     "ename": "NameError",
     "evalue": "name 'normalize_energy' is not defined",
     "output_type": "error",
     "traceback": [
      "\u001b[0;31m---------------------------------------------------------------------------\u001b[0m",
      "\u001b[0;31mNameError\u001b[0m                                 Traceback (most recent call last)",
      "Input \u001b[0;32mIn [9]\u001b[0m, in \u001b[0;36m<cell line: 24>\u001b[0;34m()\u001b[0m\n\u001b[1;32m     21\u001b[0m x_dims \u001b[38;5;241m=\u001b[39m [n_states] \u001b[38;5;241m*\u001b[39m n_agents\n\u001b[1;32m     22\u001b[0m u_dims \u001b[38;5;241m=\u001b[39m [\u001b[38;5;241m2\u001b[39m] \u001b[38;5;241m*\u001b[39m n_agents\n\u001b[0;32m---> 24\u001b[0m x0 \u001b[38;5;241m=\u001b[39m \u001b[43mnormalize_energy\u001b[49m(x0, x_dims, ENERGY)\n\u001b[1;32m     25\u001b[0m \u001b[38;5;66;03m# x_goal = normalize_energy(x_goal, x_dims, ENERGY)\u001b[39;00m\n\u001b[1;32m     26\u001b[0m \u001b[38;5;66;03m# x0 = perturb_state(x0, x_dims)\u001b[39;00m\n\u001b[1;32m     28\u001b[0m plt\u001b[38;5;241m.\u001b[39mclf()\n",
      "\u001b[0;31mNameError\u001b[0m: name 'normalize_energy' is not defined"
     ]
    }
   ],
   "source": [
    "n_agents = 4\n",
    "n_states = 4\n",
    "n_controls = 2\n",
    "ENERGY = 10.0\n",
    "n_d = 2\n",
    "\n",
    "# x0, x_goal = paper_setup()\n",
    "# x0, x_goal = car_setup()\n",
    "# x0, x_goal = bike_setup()\n",
    "# x0, x_goal = double_int_setup()\n",
    "# x0, x_goal = dec_test_setup()\n",
    "x0, x_goal = dec.random_setup(\n",
    "    n_agents, n_states, \n",
    "    is_rotation=True, \n",
    "    rel_dist=3.0, \n",
    "    var=1.0, \n",
    "    n_d=n_d, \n",
    "    random=False\n",
    ")\n",
    "\n",
    "x_dims = [n_states] * n_agents\n",
    "u_dims = [2] * n_agents\n",
    "\n",
    "x0 = normalize_energy(x0, x_dims, ENERGY)\n",
    "# x_goal = normalize_energy(x_goal, x_dims, ENERGY)\n",
    "# x0 = perturb_state(x0, x_dims)\n",
    "\n",
    "plt.clf()\n",
    "plt.gca().set_aspect('equal')\n",
    "X = np.dstack([\n",
    "    x0.reshape(n_agents, n_states), \n",
    "    x_goal.reshape(n_agents, n_states)\n",
    "]).swapaxes(1,2)\n",
    "for i, Xi in enumerate(X):\n",
    "    plt.annotate('', Xi[1,:2], Xi[0,:2], \n",
    "                 arrowprops=dict(facecolor=plt.cm.tab20.colors[i]))\n",
    "pocketknives.set_bounds(X.reshape(-1, n_states), zoom=0.2)\n",
    "plt.draw()"
   ]
  },
  {
   "cell_type": "code",
   "execution_count": 19,
   "id": "1f606b8b-543c-442a-8e82-7d1118b629ee",
   "metadata": {},
   "outputs": [
    {
     "ename": "NameError",
     "evalue": "name 'n_agents' is not defined",
     "output_type": "error",
     "traceback": [
      "\u001b[0;31m---------------------------------------------------------------------------\u001b[0m",
      "\u001b[0;31mNameError\u001b[0m                                 Traceback (most recent call last)",
      "Input \u001b[0;32mIn [19]\u001b[0m, in \u001b[0;36m<cell line: 4>\u001b[0;34m()\u001b[0m\n\u001b[1;32m      2\u001b[0m N \u001b[38;5;241m=\u001b[39m \u001b[38;5;241m40\u001b[39m\n\u001b[1;32m      3\u001b[0m tol \u001b[38;5;241m=\u001b[39m \u001b[38;5;241m1e-3\u001b[39m\n\u001b[0;32m----> 4\u001b[0m ids \u001b[38;5;241m=\u001b[39m [\u001b[38;5;241m100\u001b[39m \u001b[38;5;241m+\u001b[39m i \u001b[38;5;28;01mfor\u001b[39;00m i \u001b[38;5;129;01min\u001b[39;00m \u001b[38;5;28mrange\u001b[39m(\u001b[43mn_agents\u001b[49m)]\n\u001b[1;32m      6\u001b[0m \u001b[38;5;66;03m# model = dec.DoubleIntDynamics4D\u001b[39;00m\n\u001b[1;32m      7\u001b[0m model \u001b[38;5;241m=\u001b[39m dec\u001b[38;5;241m.\u001b[39mUnicycleDynamics4D\n",
      "\u001b[0;31mNameError\u001b[0m: name 'n_agents' is not defined"
     ]
    }
   ],
   "source": [
    "dt = 0.1\n",
    "N = 40\n",
    "tol = 1e-3\n",
    "ids = [100 + i for i in range(n_agents)]\n",
    "\n",
    "# model = dec.DoubleIntDynamics4D\n",
    "model = dec.UnicycleDynamics4D\n",
    "# model = dec.BikeDynamics5D\n",
    "dynamics = dec.MultiDynamicalModel([model(dt, id_) for id_ in ids])\n",
    "\n",
    "Q = 1.0 * np.diag([1, 1, 0, 0])\n",
    "Qf = 1000 * np.eye(Q.shape[0])\n",
    "R = np.eye(2)\n",
    "\n",
    "# radius = ENERGY / 20\n",
    "radius = 0.5\n",
    "\n",
    "goal_costs = [dec.ReferenceCost(x_goal_i, Q.copy(), R.copy(), Qf.copy(), id_) \n",
    "              for x_goal_i, id_ in zip(split_agents(x_goal.T, x_dims), ids)]\n",
    "prox_cost = dec.ProximityCost(x_dims, radius)\n",
    "game_cost = dec.GameCost(goal_costs, prox_cost)\n",
    "\n",
    "prob = dec.ilqrProblem(dynamics, game_cost)"
   ]
  },
  {
   "cell_type": "code",
   "execution_count": 41,
   "id": "563b0318-aef0-4483-afb9-9dae0352b3df",
   "metadata": {
    "tags": []
   },
   "outputs": [
    {
     "name": "stdout",
     "output_type": "stream",
     "text": [
      "0/50\tJ: 213011\n",
      "1/50\tJ: 17396.1\tμ: 0.5\tΔ: 0.5\n",
      "2/50\tJ: 3099.51\tμ: 0.125\tΔ: 0.25\n",
      "3/50\tJ: 3083.25\tμ: 0.015625\tΔ: 0.125\n",
      "4/50\tJ: 3072.81\tμ: 0.000976562\tΔ: 0.0625\n",
      "5/50\tJ: 3068.3\tμ: 3.05176e-05\tΔ: 0.03125\n",
      "6/50\tJ: 3040.3\tμ: 0\tΔ: 0.015625\n",
      "7/50\tJ: 3031.65\tμ: 0\tΔ: 0.0078125\n",
      " "
     ]
    },
    {
     "data": {
      "text/plain": [
       "         855327 function calls (805235 primitive calls) in 6.281 seconds\n",
       "\n",
       "   Ordered by: internal time\n",
       "\n",
       "   ncalls  tottime  percall  cumtime  percall filename:lineno(function)\n",
       "      640    1.374    0.002    1.440    0.002 linalg.py:320(solve)\n",
       "     8130    0.320    0.000    1.104    0.000 shape_base.py:739(array_split)\n",
       "87315/37223    0.310    0.000    3.636    0.000 {built-in method numpy.core._multiarray_umath.implement_array_function}\n",
       "    48780    0.231    0.000    0.656    0.000 fromnumeric.py:51(_wrapfunc)\n",
       "    40650    0.183    0.000    0.745    0.000 <__array_function__ internals>:177(swapaxes)\n",
       "    14626    0.179    0.000    0.240    0.000 shape_base.py:81(atleast_2d)\n",
       "     1624    0.157    0.000    0.869    0.001 _special_matrices.py:470(block_diag)\n",
       "      328    0.143    0.000    0.218    0.001 cost.py:118(quadraticize)\n",
       "        8    0.143    0.018    3.819    0.477 control.py:116(_backward_pass)\n",
       "     3248    0.140    0.000    0.285    0.000 numerictypes.py:573(_can_coerce_all)\n",
       "     8130    0.140    0.000    0.288    0.000 fromnumeric.py:38(_wrapit)\n",
       "    29569    0.130    0.000    0.130    0.000 {method 'flatten' of 'numpy.ndarray' objects}\n",
       "    40650    0.121    0.000    0.420    0.000 fromnumeric.py:550(swapaxes)\n",
       "    15761    0.116    0.000    0.116    0.000 {built-in method numpy.array}\n",
       "     2788    0.113    0.000    0.118    0.000 cost.py:74(__call__)\n",
       "    22736    0.095    0.000    0.095    0.000 numerictypes.py:582(<listcomp>)\n",
       "    61954    0.093    0.000    0.093    0.000 {built-in method builtins.len}\n",
       "     8130    0.082    0.000    2.059    0.000 util.py:58(split_agents)\n",
       "     1280    0.081    0.000    0.270    0.000 dynamics.py:111(linearize)\n",
       "    41347    0.081    0.000    0.081    0.000 {method 'swapaxes' of 'numpy.ndarray' objects}\n",
       "     8130    0.078    0.000    0.078    0.000 {method 'cumsum' of 'numpy.ndarray' objects}\n",
       "    58190    0.077    0.000    0.077    0.000 {built-in method builtins.getattr}\n",
       "     2720    0.074    0.000    0.432    0.000 dynamics.py:134(<listcomp>)\n",
       "    13588    0.072    0.000    0.072    0.000 {built-in method numpy.zeros}\n",
       "    14626    0.065    0.000    0.377    0.000 <__array_function__ internals>:177(atleast_2d)\n",
       "    56330    0.064    0.000    0.064    0.000 {method 'append' of 'list' objects}\n",
       "     2720    0.062    0.000    0.076    0.000 <lambdifygenerated-43>:1(_lambdifygenerated)\n",
       "      328    0.059    0.000    1.254    0.004 cost.py:192(quadraticize)\n",
       "      680    0.057    0.000    1.768    0.003 dynamics.py:16(rk4_integration)\n",
       "    10107    0.056    0.000    0.056    0.000 {built-in method numpy.asarray}\n",
       "      697    0.053    0.000    0.627    0.001 cost.py:182(__call__)\n",
       "     1312    0.052    0.000    0.063    0.000 cost.py:80(quadraticize)\n",
       "     8130    0.050    0.000    1.318    0.000 <__array_function__ internals>:177(split)\n",
       "     2720    0.050    0.000    0.057    0.000 <lambdifygenerated-52>:1(_lambdifygenerated)\n",
       "     3018    0.047    0.000    0.047    0.000 {method 'reduce' of 'numpy.ufunc' objects}\n",
       "    10880    0.046    0.000    0.284    0.000 dynamics.py:108(f)\n",
       "       16    0.043    0.003    2.326    0.145 control.py:95(_forward_pass)\n",
       "    40650    0.042    0.000    0.042    0.000 fromnumeric.py:546(_swapaxes_dispatcher)\n",
       "     2720    0.041    0.000    0.059    0.000 <lambdifygenerated-46>:1(_lambdifygenerated)\n",
       "     8130    0.038    0.000    0.472    0.000 <__array_function__ internals>:177(cumsum)\n",
       "     8130    0.037    0.000    0.393    0.000 fromnumeric.py:2497(cumsum)\n",
       "     2720    0.037    0.000    0.045    0.000 <lambdifygenerated-49>:1(_lambdifygenerated)\n",
       "     1968    0.034    0.000    0.051    0.000 cost.py:246(quadraticize_distance)\n",
       "     2720    0.034    0.000    1.697    0.001 dynamics.py:131(f)\n",
       "     8130    0.034    0.000    1.216    0.000 shape_base.py:799(split)\n",
       "      697    0.032    0.000    0.084    0.000 util.py:42(compute_pairwise_distance)\n",
       "     8130    0.031    0.000    1.172    0.000 <__array_function__ internals>:177(array_split)\n",
       "     3376    0.028    0.000    0.064    0.000 <__array_function__ internals>:177(concatenate)\n",
       "     1288    0.028    0.000    0.046    0.000 twodim_base.py:162(eye)\n",
       "      320    0.026    0.000    0.321    0.001 dynamics.py:141(<listcomp>)\n",
       "      697    0.025    0.000    0.123    0.000 cost.py:111(__call__)\n",
       "    17250    0.023    0.000    0.023    0.000 {built-in method numpy.asanyarray}\n",
       "     3040    0.023    0.000    1.441    0.000 dynamics.py:151(partition)\n",
       "      320    0.022    0.000    0.026    0.000 <lambdifygenerated-44>:1(_lambdifygenerated)\n",
       "      640    0.022    0.000    0.043    0.000 linalg.py:136(_commonType)\n",
       "     1624    0.021    0.000    0.106    0.000 <__array_function__ internals>:177(sum)\n",
       "      656    0.020    0.000    0.029    0.000 shape_base.py:23(atleast_1d)\n",
       "     1624    0.019    0.000    0.315    0.000 numerictypes.py:597(find_common_type)\n",
       "      320    0.018    0.000    0.028    0.000 <lambdifygenerated-53>:1(_lambdifygenerated)\n",
       "      320    0.018    0.000    0.969    0.003 dynamics.py:140(linearize)\n",
       "     1624    0.017    0.000    0.208    0.000 _special_matrices.py:533(<listcomp>)\n",
       "     1624    0.017    0.000    0.075    0.000 fromnumeric.py:2162(sum)\n",
       "     1624    0.017    0.000    0.055    0.000 fromnumeric.py:69(_wrapreduction)\n",
       "      697    0.017    0.000    0.031    0.000 linalg.py:2357(norm)\n",
       "    14626    0.016    0.000    0.016    0.000 shape_base.py:77(_atleast_2d_dispatcher)\n",
       "      320    0.016    0.000    0.030    0.000 <lambdifygenerated-47>:1(_lambdifygenerated)\n",
       "      320    0.016    0.000    0.018    0.000 <lambdifygenerated-51>:1(_lambdifygenerated)\n",
       "     1624    0.015    0.000    0.015    0.000 _special_matrices.py:541(<listcomp>)\n",
       "     1000    0.014    0.000    0.014    0.000 control.py:64(dynamics)\n",
       "     2576    0.014    0.000    0.014    0.000 {built-in method _operator.index}\n",
       "      680    0.013    0.000    0.013    0.000 {method 'copy' of 'numpy.ndarray' objects}\n",
       "      320    0.011    0.000    0.015    0.000 <lambdifygenerated-48>:1(_lambdifygenerated)\n",
       "      656    0.011    0.000    0.088    0.000 <__array_function__ internals>:177(hstack)\n",
       "     3936    0.010    0.000    0.010    0.000 util.py:25(ndim)\n",
       "     3897    0.010    0.000    0.010    0.000 {built-in method builtins.issubclass}\n",
       "     3936    0.009    0.000    0.009    0.000 <string>:2(__init__)\n",
       "     1624    0.009    0.000    0.009    0.000 numerictypes.py:649(<listcomp>)\n",
       "     1920    0.009    0.000    0.011    0.000 linalg.py:117(isComplexType)\n",
       "     8130    0.009    0.000    0.009    0.000 shape_base.py:795(_split_dispatcher)\n",
       "     8130    0.008    0.000    0.008    0.000 fromnumeric.py:2493(_cumsum_dispatcher)\n",
       "      320    0.008    0.000    0.011    0.000 <lambdifygenerated-50>:1(_lambdifygenerated)\n",
       "     8130    0.008    0.000    0.008    0.000 shape_base.py:735(_array_split_dispatcher)\n",
       "     3418    0.007    0.000    0.007    0.000 {method 'reshape' of 'numpy.ndarray' objects}\n",
       "     1280    0.007    0.000    0.011    0.000 linalg.py:112(_makearray)\n",
       "      656    0.007    0.000    0.069    0.000 shape_base.py:285(hstack)\n",
       "     2993    0.006    0.000    0.006    0.000 {built-in method builtins.isinstance}\n",
       "      320    0.006    0.000    0.008    0.000 <lambdifygenerated-54>:1(_lambdifygenerated)\n",
       "     1624    0.006    0.000    0.006    0.000 _special_matrices.py:535(<listcomp>)\n",
       "     1624    0.005    0.000    0.005    0.000 _special_matrices.py:540(<listcomp>)\n",
       "     1624    0.005    0.000    0.005    0.000 fromnumeric.py:70(<dictcomp>)\n",
       "      640    0.004    0.000    1.450    0.002 <__array_function__ internals>:177(solve)\n",
       "     3376    0.004    0.000    0.004    0.000 multiarray.py:148(concatenate)\n",
       "      320    0.004    0.000    0.007    0.000 <lambdifygenerated-45>:1(_lambdifygenerated)\n",
       "      697    0.004    0.000    0.039    0.000 <__array_function__ internals>:177(norm)\n",
       "     1280    0.004    0.000    0.005    0.000 linalg.py:130(_realType)\n",
       "      680    0.004    0.000    1.772    0.003 dynamics.py:68(__call__)\n",
       "      656    0.003    0.000    0.035    0.000 <__array_function__ internals>:177(atleast_1d)\n",
       "      697    0.003    0.000    0.010    0.000 {method 'sum' of 'numpy.ndarray' objects}\n",
       "      640    0.003    0.000    0.003    0.000 {method 'astype' of 'numpy.ndarray' objects}\n",
       "      640    0.003    0.000    0.003    0.000 linalg.py:200(_assert_stacked_square)\n",
       "     1025    0.002    0.000    0.002    0.000 control.py:60(cost)\n",
       "      640    0.002    0.000    0.002    0.000 linalg.py:194(_assert_stacked_2d)\n",
       "     1624    0.002    0.000    0.002    0.000 fromnumeric.py:2157(_sum_dispatcher)\n",
       "      656    0.002    0.000    0.003    0.000 shape_base.py:207(_arrays_for_stack_dispatcher)\n",
       "      656    0.002    0.000    0.005    0.000 shape_base.py:218(_vhstack_dispatcher)\n",
       "     1624    0.002    0.000    0.002    0.000 {method 'items' of 'dict' objects}\n",
       "      697    0.002    0.000    0.007    0.000 _methods.py:46(_sum)\n",
       "     1624    0.002    0.000    0.002    0.000 numerictypes.py:650(<listcomp>)\n",
       "      640    0.002    0.000    0.002    0.000 linalg.py:107(get_linalg_error_extobj)\n",
       "     1280    0.002    0.000    0.002    0.000 {method 'get' of 'dict' objects}\n",
       "      688    0.002    0.000    0.002    0.000 {built-in method builtins.min}\n",
       "        1    0.002    0.002    0.133    0.133 control.py:80(_rollout)\n",
       "      697    0.001    0.000    0.001    0.000 {method 'item' of 'numpy.ndarray' objects}\n",
       "      640    0.001    0.000    0.001    0.000 {method '__array_prepare__' of 'numpy.ndarray' objects}\n",
       "      697    0.001    0.000    0.001    0.000 {method 'conj' of 'numpy.ndarray' objects}\n",
       "      656    0.001    0.000    0.001    0.000 {built-in method builtins.hasattr}\n",
       "      640    0.001    0.000    0.001    0.000 linalg.py:316(_solve_dispatcher)\n",
       "      697    0.001    0.000    0.001    0.000 linalg.py:2353(_norm_dispatcher)\n",
       "      320    0.001    0.000    0.001    0.000 dynamics.py:146(<listcomp>)\n",
       "      656    0.001    0.000    0.001    0.000 shape_base.py:19(_atleast_1d_dispatcher)\n",
       "      328    0.001    0.000    0.001    0.000 {built-in method builtins.sum}\n",
       "        8    0.001    0.000    0.001    0.000 socket.py:543(send)\n",
       "      320    0.001    0.000    0.001    0.000 dynamics.py:147(<listcomp>)\n",
       "        1    0.001    0.001    6.281    6.281 control.py:150(solve)\n",
       "       16    0.000    0.000    0.001    0.000 iostream.py:518(write)\n",
       "        1    0.000    0.000    6.281    6.281 <string>:1(<module>)\n",
       "        1    0.000    0.000    6.281    6.281 {built-in method builtins.exec}\n",
       "        8    0.000    0.000    0.001    0.000 iostream.py:202(schedule)\n",
       "       59    0.000    0.000    0.000    0.000 control.py:72(n_u)\n",
       "       16    0.000    0.000    0.001    0.000 iostream.py:448(_schedule_flush)\n",
       "        8    0.000    0.000    0.001    0.000 {built-in method builtins.print}\n",
       "       16    0.000    0.000    0.000    0.000 iostream.py:429(_is_master_process)\n",
       "        8    0.000    0.000    0.000    0.000 control.py:231(_decrease_regularization)\n",
       "       33    0.000    0.000    0.000    0.000 control.py:68(n_x)\n",
       "        8    0.000    0.000    0.000    0.000 threading.py:1162(is_alive)\n",
       "       16    0.000    0.000    0.000    0.000 {built-in method posix.getpid}\n",
       "        1    0.000    0.000    0.000    0.000 {built-in method numpy.arange}\n",
       "       16    0.000    0.000    0.000    0.000 {method 'write' of '_io.StringIO' objects}\n",
       "        8    0.000    0.000    0.000    0.000 threading.py:1095(_wait_for_tstate_lock)\n",
       "        8    0.000    0.000    0.000    0.000 iostream.py:90(_event_pipe)\n",
       "        8    0.000    0.000    0.000    0.000 {method 'acquire' of '_thread.lock' objects}\n",
       "       16    0.000    0.000    0.000    0.000 {method '__exit__' of '_thread.RLock' objects}\n",
       "        8    0.000    0.000    0.000    0.000 {method 'append' of 'collections.deque' objects}\n",
       "        8    0.000    0.000    0.000    0.000 threading.py:546(is_set)\n",
       "        8    0.000    0.000    0.000    0.000 {built-in method builtins.abs}\n",
       "        1    0.000    0.000    0.000    0.000 control.py:53(__init__)\n",
       "        2    0.000    0.000    0.000    0.000 control.py:226(_reset_regularization)\n",
       "        2    0.000    0.000    0.000    0.000 {built-in method time.perf_counter}\n",
       "        1    0.000    0.000    0.000    0.000 {method 'disable' of '_lsprof.Profiler' objects}"
      ]
     },
     "metadata": {},
     "output_type": "display_data"
    }
   ],
   "source": [
    "%%prun\n",
    "# %%time\n",
    "ilqr = dec.ilqrSolver(prob, N)\n",
    "t0 = pc()\n",
    "X, U, J = ilqr.solve(x0, tol=tol, t_kill=None)"
   ]
  },
  {
   "cell_type": "code",
   "execution_count": 36,
   "id": "f583a3f3-8ec4-482d-b904-c957475a345a",
   "metadata": {},
   "outputs": [],
   "source": [
    "plt.clf()\n",
    "plot_solve(X, J, x_goal.T, x_dims, n_d)"
   ]
  },
  {
   "cell_type": "code",
   "execution_count": 13,
   "id": "b87a4e75-51b8-4810-b699-4242d87f6435",
   "metadata": {},
   "outputs": [],
   "source": [
    "plt.clf()\n",
    "plt.plot(dec.compute_pairwise_distance(X, x_dims, n_d).T)\n",
    "plt.hlines(radius, *plt.xlim(), 'r', ls='--')\n",
    "plt.draw()"
   ]
  },
  {
   "cell_type": "code",
   "execution_count": 14,
   "id": "d9ae135c-adc9-40ee-87ad-a42fb0f1edfc",
   "metadata": {},
   "outputs": [],
   "source": [
    "costs = []\n",
    "for xi, ui in zip(X, U):\n",
    "    costs.append(game_cost(xi, ui).item())\n",
    "plt.clf()\n",
    "plt.plot(costs)\n",
    "plt.draw()"
   ]
  },
  {
   "cell_type": "markdown",
   "id": "68c1de09-898c-411a-896b-c4000ec679cf",
   "metadata": {},
   "source": [
    "## decentralized multi-agent"
   ]
  },
  {
   "cell_type": "code",
   "execution_count": 15,
   "id": "2d74de30-c356-4ee1-8c90-2abacc98d974",
   "metadata": {},
   "outputs": [
    {
     "data": {
      "text/plain": [
       "{100: [100, 101], 101: [100, 101]}"
      ]
     },
     "execution_count": 15,
     "metadata": {},
     "output_type": "execute_result"
    }
   ],
   "source": [
    "graph = dec.define_inter_graph_threshold(X, radius, x_dims, ids)\n",
    "graph"
   ]
  },
  {
   "cell_type": "code",
   "execution_count": 32,
   "id": "572bedc9-a7aa-4aaf-8057-1bb4cda239c6",
   "metadata": {},
   "outputs": [
    {
     "data": {
      "application/vnd.jupyter.widget-view+json": {
       "model_id": "3f4441bb3fb34cada209c853fbe75a82",
       "version_major": 2,
       "version_minor": 0
      },
      "image/png": "[encoded data removed]",
      "text/html": [
       "\n",
       "            <div style=\"display: inline-block;\">\n",
       "                <div class=\"jupyter-widgets widget-label\" style=\"text-align: center;\">\n",
       "                    Figure 1\n",
       "                </div>\n",
       "                <img src='data:image/png;base64,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' width=370.0/>\n",
       "            </div>\n",
       "        "
      ],
      "text/plain": [
       "Canvas(toolbar=Toolbar(toolitems=[('Home', 'Reset original view', 'home', 'home'), ('Back', 'Back to previous …"
      ]
     },
     "metadata": {},
     "output_type": "display_data"
    }
   ],
   "source": [
    "plt.clf()\n",
    "dec.plot_interaction_graph(graph)"
   ]
  },
  {
   "cell_type": "code",
   "execution_count": 16,
   "id": "3a50e984-954e-40c4-bff3-6371d6a153a3",
   "metadata": {},
   "outputs": [
    {
     "name": "stdout",
     "output_type": "stream",
     "text": [
      "Interaction Graph: {100: [100], 101: [101]}\n",
      "0/50\tJ: 42357\n",
      "1/50\tJ: 6448.23\tμ: 0.5\tΔ: 0.5\n",
      "2/50\tJ: 612.787\tμ: 0.125\tΔ: 0.25\n",
      "3/50\tJ: 606.489\tμ: 0.015625\tΔ: 0.125\n",
      "4/50\tJ: 601.486\tμ: 0.000976562\tΔ: 0.0625\n",
      "5/50\tJ: 599.625\tμ: 3.05176e-05\tΔ: 0.03125\n",
      "6/50\tJ: 598.097\tμ: 0\tΔ: 0.015625\n",
      "7/50\tJ: 596.911\tμ: 0\tΔ: 0.0078125\n",
      "8/50\tJ: 595.865\tμ: 0\tΔ: 0.00390625\n",
      "9/50\tJ: 595.044\tμ: 0\tΔ: 0.00195312\n",
      "10/50\tJ: 594.311\tμ: 0\tΔ: 0.000976562\n",
      "Problem 100: [100]\n",
      "Took 2.3821368999997503 seconds\n",
      "============================================================\n",
      "0/50\tJ: 55951.1\n",
      "1/50\tJ: 3820.95\tμ: 0.5\tΔ: 0.5\n",
      "2/50\tJ: 788.442\tμ: 0.125\tΔ: 0.25\n",
      "Problem 101: [101]\n",
      "Took 0.7344357000038144 seconds\n",
      "============================================================\n",
      "CPU times: user 7.65 s, sys: 4.28 s, total: 11.9 s\n",
      "Wall time: 3.2 s\n"
     ]
    }
   ],
   "source": [
    "%%time\n",
    "X0 = np.tile(x0.T, (N,1))\n",
    "U0 = np.zeros((N, n_controls*n_agents))\n",
    "X_dec, U_dec, J_dec = dec.solve_decentralized(prob, X0, U0, radius, is_mp=False)"
   ]
  },
  {
   "cell_type": "code",
   "execution_count": 17,
   "id": "f86c1bc4-080d-4fb2-b316-4da8f917b3a1",
   "metadata": {},
   "outputs": [],
   "source": [
    "plt.clf()\n",
    "plot_solve(X_dec, J_dec, x_goal, x_dims, n_d)"
   ]
  },
  {
   "cell_type": "code",
   "execution_count": 35,
   "id": "678b88a8-8fb3-4ecd-8841-883238887092",
   "metadata": {},
   "outputs": [],
   "source": [
    "plt.clf()\n",
    "plt.plot(dec.compute_pairwise_distance(X_dec, x_dims, n_d).T)\n",
    "plt.hlines(radius, *plt.xlim(), 'r', ls='--')\n",
    "plt.draw()"
   ]
  },
  {
   "cell_type": "markdown",
   "id": "cd932c21-f1c7-47cf-ac60-2d23bac796d5",
   "metadata": {
    "tags": []
   },
   "source": [
    "## receding horizon"
   ]
  },
  {
   "cell_type": "code",
   "execution_count": 24,
   "id": "c05814fd-d79d-4ca1-9f4e-545d7440afec",
   "metadata": {
    "tags": []
   },
   "outputs": [],
   "source": [
    "step_size = 10\n",
    "U0 = np.zeros((N, dynamics.n_u))\n",
    "X, U, J = dec.solve_rhc(\n",
    "    prob, x0, N, radius,\n",
    "    centralized=True,\n",
    "    n_d=n_d,\n",
    "    step_size=step_size, \n",
    "    dist_converge=1.0,\n",
    "    verbose=False,\n",
    "    t_kill=step_size*dt\n",
    ")"
   ]
  },
  {
   "cell_type": "code",
   "execution_count": 25,
   "id": "94c2789b-0ef5-4b08-b2b1-db582448e35e",
   "metadata": {},
   "outputs": [],
   "source": [
    "plt.clf()\n",
    "plot_solve(X, J, x_goal, x_dims, n_d)"
   ]
  },
  {
   "cell_type": "markdown",
   "id": "ce44002f-d19a-4f80-9e38-9a9bf4f3a2d0",
   "metadata": {},
   "source": [
    "## animation"
   ]
  },
  {
   "cell_type": "code",
   "execution_count": 52,
   "id": "fd5d8eee-d9af-4c29-9b1e-abe38ddccc90",
   "metadata": {},
   "outputs": [],
   "source": [
    "_, axes = plt.subplots(1, 2, figsize=(5.0, 3.7))"
   ]
  },
  {
   "cell_type": "code",
   "execution_count": 37,
   "id": "86412aa3-9981-4600-a2a2-2211da3ec579",
   "metadata": {},
   "outputs": [],
   "source": [
    "def setup(axes, X, x_goal, x_dims, radius):\n",
    "    \n",
    "    ax1, ax2 = axes\n",
    "    n_agents = len(x_dims)\n",
    "    handles1 = []\n",
    "    for i in range(n_agents):\n",
    "        handles1.append((\n",
    "            ax1.plot(0, c=plt.cm.tab20.colors[2*i], marker='o', markersize=4)[0],\n",
    "            ax1.add_artist(plt.Circle(np.nan, radius, color='k', fill=True, alpha=0.3, lw=2)),\n",
    "        ))\n",
    "        \n",
    "    for xg in split_agents(x_goal, x_dims):\n",
    "        ax1.scatter(xg[0,0], xg[0,1], c='r', marker='x', zorder=10)\n",
    "\n",
    "    X_cat = np.vstack(split_agents(X, x_dims))\n",
    "    pocketknives.set_bounds(X_cat, axes[0], zoom=0.15)\n",
    "    plt.draw()\n",
    "    \n",
    "    handles2 = []\n",
    "    n_pairs = pocketknives.nchoosek(n_agents, 2)\n",
    "    for i in range(n_pairs):\n",
    "        handles2.append(ax2.plot(0, c=plt.cm.tab20.colors[2*i])[0])\n",
    "    ax2.hlines(radius, 0, X.shape[0], 'r', ls='--')\n",
    "    ax2.set_ylim(0.0, distances.max())\n",
    "        \n",
    "    return handles1, handles2\n",
    "    \n",
    "def animate(t, handles1, handles2, X, x_dims, x_goal, distances):\n",
    "    \"\"\"Animate the solution into a gif\"\"\"\n",
    "    \n",
    "    for (i, xi), hi in zip(enumerate(split_agents(X, x_dims)), handles1):\n",
    "        hi[0].set_xdata(xi[:t,0])\n",
    "        hi[0].set_ydata(xi[:t,1])\n",
    "        hi[1].set_center(xi[t-1,:2])\n",
    "        \n",
    "    for i, hi in enumerate(handles2):\n",
    "        hi.set_xdata(range(t))\n",
    "        hi.set_ydata(distances[:t, i])\n",
    "    \n",
    "    plt.draw()\n",
    "    "
   ]
  },
  {
   "cell_type": "code",
   "execution_count": 51,
   "id": "d23639a7-3ef6-438f-a215-12798324ac8d",
   "metadata": {},
   "outputs": [],
   "source": [
    "distances = dec.compute_pairwise_distance(X, x_dims).T\n",
    "handles1, handles2 = setup(axes, X, x_goal.flatten(), x_dims, radius)\n",
    "animate(10, handles1, handles2, X, x_dims, x_goal, distances)\n",
    "plt.draw()"
   ]
  },
  {
   "cell_type": "code",
   "execution_count": 53,
   "id": "cb12a6da-32df-47e7-bb14-d0f52afdcd71",
   "metadata": {},
   "outputs": [],
   "source": [
    "handles = setup(axes, X, x_goal.flatten(), x_dims, radius)\n",
    "anim = FuncAnimation(\n",
    "    plt.gcf(), \n",
    "    animate, \n",
    "    frames=N+1, \n",
    "    fargs=(*handles, X, x_dims, x_goal, distances))\n",
    "anim.save('traj.gif', fps=5)"
   ]
  },
  {
   "cell_type": "markdown",
   "id": "ee818f0b-485f-4abf-8742-c01e022dc54f",
   "metadata": {},
   "source": [
    "## old"
   ]
  },
  {
   "cell_type": "code",
   "execution_count": null,
   "id": "8bc88d0d-8172-41cd-9871-325675778c6a",
   "metadata": {},
   "outputs": [],
   "source": [
    "# Old RHC for plotting...\n",
    "rhc = dec.RecedingHorizonController(x0, ilqr, step_size=5)\n",
    "U0 = np.zeros((ilqr.N, ilqr.n_u))\n",
    "for Xi, Ui, Ji in rhc.solve(U0, J_converge=101.0, tol=tol, verbose=False):\n",
    "    plt.cla()\n",
    "    plot_solve(Xi, Ji, x_goal.T, x_dims)\n",
    "    fig.canvas.draw()"
   ]
  },
  {
   "cell_type": "code",
   "execution_count": null,
   "id": "614cbcae-7d0b-43c9-8575-d3ae00a6cae6",
   "metadata": {},
   "outputs": [
    {
     "name": "stdout",
     "output_type": "stream",
     "text": [
      "Interaction Graph: {100: [100], 101: [101]}\n",
      "0/50\tJ: 34197.1\n",
      "1/50\tJ: 4938.39\tμ: 0.5\tΔ: 0.5\n",
      "2/50\tJ: 491.356\tμ: 0.125\tΔ: 0.25\n",
      "3/50\tJ: 485.593\tμ: 0.015625\tΔ: 0.125\n",
      "4/50\tJ: 481.134\tμ: 0.000976562\tΔ: 0.0625\n"
     ]
    },
    {
     "ename": "KeyboardInterrupt",
     "evalue": "",
     "output_type": "error",
     "traceback": [
      "\u001b[0;31m---------------------------------------------------------------------------\u001b[0m",
      "\u001b[0;31mKeyboardInterrupt\u001b[0m                         Traceback (most recent call last)",
      "Input \u001b[0;32mIn [26]\u001b[0m, in \u001b[0;36m<cell line: 10>\u001b[0;34m()\u001b[0m\n\u001b[1;32m      8\u001b[0m J_converge \u001b[38;5;241m=\u001b[39m \u001b[38;5;241m100.0\u001b[39m\n\u001b[1;32m     10\u001b[0m \u001b[38;5;28;01mwhile\u001b[39;00m Ji \u001b[38;5;241m>\u001b[39m\u001b[38;5;241m=\u001b[39m J_converge:\n\u001b[0;32m---> 11\u001b[0m     Xi, Ui, Ji \u001b[38;5;241m=\u001b[39m \u001b[43mdec\u001b[49m\u001b[38;5;241;43m.\u001b[39;49m\u001b[43msolve_decentralized\u001b[49m\u001b[43m(\u001b[49m\u001b[43mprob\u001b[49m\u001b[43m,\u001b[49m\u001b[43m \u001b[49m\u001b[43mXi\u001b[49m\u001b[43m,\u001b[49m\u001b[43m \u001b[49m\u001b[43mUi\u001b[49m\u001b[43m,\u001b[49m\u001b[43m \u001b[49m\u001b[43mradius\u001b[49m\u001b[43m,\u001b[49m\u001b[43m \u001b[49m\u001b[43mis_mp\u001b[49m\u001b[38;5;241;43m=\u001b[39;49m\u001b[38;5;28;43;01mFalse\u001b[39;49;00m\u001b[43m)\u001b[49m\n\u001b[1;32m     13\u001b[0m     X_dec \u001b[38;5;241m=\u001b[39m np\u001b[38;5;241m.\u001b[39mr_[X_dec, Xi[:step_size]]\n\u001b[1;32m     14\u001b[0m     U_dec \u001b[38;5;241m=\u001b[39m np\u001b[38;5;241m.\u001b[39mr_[U_dec, Ui[:step_size]]\n",
      "File \u001b[0;32m~/grad/Research/decentralized/decentralized/problem.py:47\u001b[0m, in \u001b[0;36msolve_decentralized\u001b[0;34m(problem, X, U, radius, is_mp, verbose, **kwargs)\u001b[0m\n\u001b[1;32m     43\u001b[0m \u001b[38;5;28;01mfor\u001b[39;00m i, (subproblem, x0i, Ui, id_) \u001b[38;5;129;01min\u001b[39;00m \u001b[38;5;28menumerate\u001b[39m(\n\u001b[1;32m     44\u001b[0m     \u001b[38;5;28mzip\u001b[39m(problem\u001b[38;5;241m.\u001b[39msplit(graph), x0_split, U_split, ids)\n\u001b[1;32m     45\u001b[0m ):\n\u001b[1;32m     46\u001b[0m     t0 \u001b[38;5;241m=\u001b[39m pc()\n\u001b[0;32m---> 47\u001b[0m     Xi_agent, Ui_agent, id_ \u001b[38;5;241m=\u001b[39m \u001b[43msolve_subproblem\u001b[49m\u001b[43m(\u001b[49m\n\u001b[1;32m     48\u001b[0m \u001b[43m        \u001b[49m\u001b[43m(\u001b[49m\u001b[43msubproblem\u001b[49m\u001b[43m,\u001b[49m\u001b[43m \u001b[49m\u001b[43mx0i\u001b[49m\u001b[43m,\u001b[49m\u001b[43m \u001b[49m\u001b[43mUi\u001b[49m\u001b[43m,\u001b[49m\u001b[43m \u001b[49m\u001b[43mid_\u001b[49m\u001b[43m)\u001b[49m\u001b[43m,\u001b[49m\u001b[43m \u001b[49m\u001b[43mverbose\u001b[49m\u001b[38;5;241;43m=\u001b[39;49m\u001b[43mverbose\u001b[49m\u001b[43m,\u001b[49m\u001b[43m \u001b[49m\u001b[38;5;241;43m*\u001b[39;49m\u001b[38;5;241;43m*\u001b[39;49m\u001b[43mkwargs\u001b[49m\n\u001b[1;32m     49\u001b[0m \u001b[43m    \u001b[49m\u001b[43m)\u001b[49m\n\u001b[1;32m     51\u001b[0m     \u001b[38;5;28;01mif\u001b[39;00m verbose:\n\u001b[1;32m     52\u001b[0m         \u001b[38;5;28mprint\u001b[39m(\n\u001b[1;32m     53\u001b[0m             \u001b[38;5;124mf\u001b[39m\u001b[38;5;124m\"\u001b[39m\u001b[38;5;124mProblem \u001b[39m\u001b[38;5;132;01m{\u001b[39;00mid_\u001b[38;5;132;01m}\u001b[39;00m\u001b[38;5;124m: \u001b[39m\u001b[38;5;132;01m{\u001b[39;00mgraph[id_]\u001b[38;5;132;01m}\u001b[39;00m\u001b[38;5;130;01m\\n\u001b[39;00m\u001b[38;5;124mTook \u001b[39m\u001b[38;5;132;01m{\u001b[39;00mpc() \u001b[38;5;241m-\u001b[39m t0\u001b[38;5;132;01m}\u001b[39;00m\u001b[38;5;124m seconds\u001b[39m\u001b[38;5;130;01m\\n\u001b[39;00m\u001b[38;5;124m\"\u001b[39m\n\u001b[1;32m     54\u001b[0m             \u001b[38;5;241m+\u001b[39m \u001b[38;5;124m\"\u001b[39m\u001b[38;5;124m=\u001b[39m\u001b[38;5;124m\"\u001b[39m \u001b[38;5;241m*\u001b[39m \u001b[38;5;241m60\u001b[39m\n\u001b[1;32m     55\u001b[0m         )\n",
      "File \u001b[0;32m~/grad/Research/decentralized/decentralized/problem.py:166\u001b[0m, in \u001b[0;36msolve_subproblem\u001b[0;34m(args, **kwargs)\u001b[0m\n\u001b[1;32m    163\u001b[0m N \u001b[38;5;241m=\u001b[39m U\u001b[38;5;241m.\u001b[39mshape[\u001b[38;5;241m0\u001b[39m]\n\u001b[1;32m    165\u001b[0m subsolver \u001b[38;5;241m=\u001b[39m ilqrSolver(subproblem, N)\n\u001b[0;32m--> 166\u001b[0m Xi, Ui, _ \u001b[38;5;241m=\u001b[39m \u001b[43msubsolver\u001b[49m\u001b[38;5;241;43m.\u001b[39;49m\u001b[43msolve\u001b[49m\u001b[43m(\u001b[49m\u001b[43mx0\u001b[49m\u001b[43m,\u001b[49m\u001b[43m \u001b[49m\u001b[43mU\u001b[49m\u001b[43m,\u001b[49m\u001b[43m \u001b[49m\u001b[38;5;241;43m*\u001b[39;49m\u001b[38;5;241;43m*\u001b[39;49m\u001b[43mkwargs\u001b[49m\u001b[43m)\u001b[49m\n\u001b[1;32m    167\u001b[0m \u001b[38;5;28;01mreturn\u001b[39;00m \u001b[38;5;241m*\u001b[39msubproblem\u001b[38;5;241m.\u001b[39mextract(Xi, Ui, id_), id_\n",
      "File \u001b[0;32m~/grad/Research/decentralized/decentralized/control.py:174\u001b[0m, in \u001b[0;36milqrSolver.solve\u001b[0;34m(self, x0, U, n_lqr_iter, tol, t_kill, verbose)\u001b[0m\n\u001b[1;32m    171\u001b[0m accept \u001b[38;5;241m=\u001b[39m \u001b[38;5;28;01mFalse\u001b[39;00m\n\u001b[1;32m    173\u001b[0m \u001b[38;5;66;03m# Backward recurse to compute gain matrices.\u001b[39;00m\n\u001b[0;32m--> 174\u001b[0m K, d \u001b[38;5;241m=\u001b[39m \u001b[38;5;28;43mself\u001b[39;49m\u001b[38;5;241;43m.\u001b[39;49m\u001b[43m_backward_pass\u001b[49m\u001b[43m(\u001b[49m\u001b[43mX\u001b[49m\u001b[43m,\u001b[49m\u001b[43m \u001b[49m\u001b[43mU\u001b[49m\u001b[43m)\u001b[49m\n\u001b[1;32m    176\u001b[0m \u001b[38;5;66;03m# Conduct a line search to find a satisfactory trajectory where we\u001b[39;00m\n\u001b[1;32m    177\u001b[0m \u001b[38;5;66;03m# continually decrease α. We're effectively getting closer to the\u001b[39;00m\n\u001b[1;32m    178\u001b[0m \u001b[38;5;66;03m# linear approximation in the LQR case.\u001b[39;00m\n\u001b[1;32m    179\u001b[0m \u001b[38;5;28;01mfor\u001b[39;00m α \u001b[38;5;129;01min\u001b[39;00m alphas:\n",
      "File \u001b[0;32m~/grad/Research/decentralized/decentralized/control.py:141\u001b[0m, in \u001b[0;36milqrSolver._backward_pass\u001b[0;34m(self, X, U)\u001b[0m\n\u001b[1;32m    138\u001b[0m Q_uu \u001b[38;5;241m=\u001b[39m L_uu \u001b[38;5;241m+\u001b[39m B\u001b[38;5;241m.\u001b[39mT \u001b[38;5;241m@\u001b[39m (P \u001b[38;5;241m+\u001b[39m reg) \u001b[38;5;241m@\u001b[39m B\n\u001b[1;32m    139\u001b[0m Q_ux \u001b[38;5;241m=\u001b[39m L_ux \u001b[38;5;241m+\u001b[39m B\u001b[38;5;241m.\u001b[39mT \u001b[38;5;241m@\u001b[39m (P \u001b[38;5;241m+\u001b[39m reg) \u001b[38;5;241m@\u001b[39m A\n\u001b[0;32m--> 141\u001b[0m K[t] \u001b[38;5;241m=\u001b[39m \u001b[38;5;241m-\u001b[39m\u001b[43mnp\u001b[49m\u001b[38;5;241;43m.\u001b[39;49m\u001b[43mlinalg\u001b[49m\u001b[38;5;241;43m.\u001b[39;49m\u001b[43msolve\u001b[49m\u001b[43m(\u001b[49m\u001b[43mQ_uu\u001b[49m\u001b[43m,\u001b[49m\u001b[43m \u001b[49m\u001b[43mQ_ux\u001b[49m\u001b[43m)\u001b[49m\n\u001b[1;32m    142\u001b[0m d[t] \u001b[38;5;241m=\u001b[39m \u001b[38;5;241m-\u001b[39mnp\u001b[38;5;241m.\u001b[39mlinalg\u001b[38;5;241m.\u001b[39msolve(Q_uu, Q_u)\n\u001b[1;32m    144\u001b[0m p \u001b[38;5;241m=\u001b[39m Q_x \u001b[38;5;241m+\u001b[39m K[t]\u001b[38;5;241m.\u001b[39mT \u001b[38;5;241m@\u001b[39m Q_uu \u001b[38;5;241m@\u001b[39m d[t] \u001b[38;5;241m+\u001b[39m K[t]\u001b[38;5;241m.\u001b[39mT \u001b[38;5;241m@\u001b[39m Q_u \u001b[38;5;241m+\u001b[39m Q_ux\u001b[38;5;241m.\u001b[39mT \u001b[38;5;241m@\u001b[39m d[t]\n",
      "File \u001b[0;32m<__array_function__ internals>:180\u001b[0m, in \u001b[0;36msolve\u001b[0;34m(*args, **kwargs)\u001b[0m\n",
      "File \u001b[0;32m~/.cache/pypoetry/virtualenvs/decentralized-5rWdpa6D-py3.10/lib/python3.10/site-packages/numpy/linalg/linalg.py:400\u001b[0m, in \u001b[0;36msolve\u001b[0;34m(a, b)\u001b[0m\n\u001b[1;32m    398\u001b[0m signature \u001b[38;5;241m=\u001b[39m \u001b[38;5;124m'\u001b[39m\u001b[38;5;124mDD->D\u001b[39m\u001b[38;5;124m'\u001b[39m \u001b[38;5;28;01mif\u001b[39;00m isComplexType(t) \u001b[38;5;28;01melse\u001b[39;00m \u001b[38;5;124m'\u001b[39m\u001b[38;5;124mdd->d\u001b[39m\u001b[38;5;124m'\u001b[39m\n\u001b[1;32m    399\u001b[0m extobj \u001b[38;5;241m=\u001b[39m get_linalg_error_extobj(_raise_linalgerror_singular)\n\u001b[0;32m--> 400\u001b[0m r \u001b[38;5;241m=\u001b[39m \u001b[43mgufunc\u001b[49m\u001b[43m(\u001b[49m\u001b[43ma\u001b[49m\u001b[43m,\u001b[49m\u001b[43m \u001b[49m\u001b[43mb\u001b[49m\u001b[43m,\u001b[49m\u001b[43m \u001b[49m\u001b[43msignature\u001b[49m\u001b[38;5;241;43m=\u001b[39;49m\u001b[43msignature\u001b[49m\u001b[43m,\u001b[49m\u001b[43m \u001b[49m\u001b[43mextobj\u001b[49m\u001b[38;5;241;43m=\u001b[39;49m\u001b[43mextobj\u001b[49m\u001b[43m)\u001b[49m\n\u001b[1;32m    402\u001b[0m \u001b[38;5;28;01mreturn\u001b[39;00m wrap(r\u001b[38;5;241m.\u001b[39mastype(result_t, copy\u001b[38;5;241m=\u001b[39m\u001b[38;5;28;01mFalse\u001b[39;00m))\n",
      "\u001b[0;31mKeyboardInterrupt\u001b[0m: "
     ]
    }
   ],
   "source": [
    "# Manual decentralized RHC for plotting...\n",
    "step_size = 5\n",
    "Xi = np.tile(x0.T, (N,1))\n",
    "Ui = np.zeros((N, dynamics.n_u))\n",
    "X_dec = np.zeros((0, dynamics.n_x))\n",
    "U_dec = np.zeros((0, dynamics.n_u))\n",
    "Ji = np.inf\n",
    "J_converge = 100.0\n",
    "\n",
    "while Ji >= J_converge:\n",
    "    Xi, Ui, Ji = dec.solve_decentralized(prob, Xi, Ui, radius, is_mp=False)\n",
    "    \n",
    "    X_dec = np.r_[X_dec, Xi[:step_size]]\n",
    "    U_dec = np.r_[U_dec, Ui[:step_size]]\n",
    "    \n",
    "    # Seed the next solve by staying at the last visited state.\n",
    "    Xi = np.r_[Xi[step_size:], np.tile(Xi[-1], (step_size, 1))]\n",
    "    Ui = np.r_[Ui[step_size:], np.zeros((step_size, dynamics.n_u))]\n",
    "    \n",
    "    plt.cla()\n",
    "    plot_solve(Xi[:step_size], Ji, x_goal.T, x_dims)\n",
    "    fig.canvas.draw()"
   ]
  },
  {
   "cell_type": "code",
   "execution_count": null,
   "id": "18e04e80-d538-48a0-8e59-d9377ec87bc6",
   "metadata": {},
   "outputs": [],
   "source": []
  },
  {
   "cell_type": "code",
   "execution_count": null,
   "id": "22f08729-6a64-4ede-9624-b5b4fd25a825",
   "metadata": {},
   "outputs": [],
   "source": []
  }
 ],
 "metadata": {
  "kernelspec": {
   "display_name": "Python 3 (ipykernel)",
   "language": "python",
   "name": "python3"
  },
  "language_info": {
   "codemirror_mode": {
    "name": "ipython",
    "version": 3
   },
   "file_extension": ".py",
   "mimetype": "text/x-python",
   "name": "python",
   "nbconvert_exporter": "python",
   "pygments_lexer": "ipython3",
   "version": "3.10.4"
  },
  "vscode": {
   "interpreter": {
    "hash": "058f31b78fbf7244eb8facf557271df584eab59ce6d5780d24511a849a97c170"
   }
  }
 },
 "nbformat": 4,
 "nbformat_minor": 5
}
