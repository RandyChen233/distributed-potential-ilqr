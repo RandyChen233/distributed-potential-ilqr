{
 "cells": [
  {
   "cell_type": "markdown",
   "id": "808e238e-f65e-4fbf-a18a-54915c4d74ee",
   "metadata": {
    "tags": []
   },
   "source": [
    "# post-processing\n",
    "\n",
    "Scratch code to post-process `analysis.py` log files."
   ]
  },
  {
   "cell_type": "markdown",
   "id": "ed7988fc-f2ff-4ff8-8c0b-d095f684ed4b",
   "metadata": {
    "tags": []
   },
   "source": [
    "**TODO:**\n",
    "- automate visualization of various metrics\n",
    "- full MC simulation with 30+ trials and 3-8 agents\n",
    "- Negar feedback\n",
    "- WRITE PAPER\n",
    "- move to hardware"
   ]
  },
  {
   "cell_type": "code",
   "execution_count": 518,
   "id": "03ba6230-f5c2-4eb8-8e5b-489a047921d7",
   "metadata": {},
   "outputs": [],
   "source": [
    "from itertools import cycle\n",
    "\n",
    "import matplotlib.pyplot as plt\n",
    "from matplotlib.collections import LineCollection\n",
    "import numpy as np\n",
    "import pandas as pd\n",
    "import seaborn as sns\n",
    "\n",
    "import decentralized as dec"
   ]
  },
  {
   "cell_type": "code",
   "execution_count": 168,
   "id": "74be59ba-67d1-454c-9193-cb26f4603285",
   "metadata": {},
   "outputs": [
    {
     "name": "stdout",
     "output_type": "stream",
     "text": [
      "The autoreload extension is already loaded. To reload it, use:\n",
      "  %reload_ext autoreload\n"
     ]
    }
   ],
   "source": [
    "%load_ext autoreload\n",
    "%autoreload 1\n",
    "%aimport decentralized.util"
   ]
  },
  {
   "cell_type": "code",
   "execution_count": 431,
   "id": "0e9e82d4-b67d-48f2-8d5c-8469958be800",
   "metadata": {},
   "outputs": [],
   "source": [
    "%matplotlib ipympl\n",
    "plt.rcParams['axes.grid'] = True\n",
    "plt.rcParams['figure.constrained_layout.use'] = True"
   ]
  },
  {
   "cell_type": "code",
   "execution_count": 434,
   "id": "e76d5006-3a8f-4b59-a442-952e5d0e4c7c",
   "metadata": {},
   "outputs": [
    {
     "data": {
      "application/vnd.jupyter.widget-view+json": {
       "model_id": "dbf46164ec2544df809c49c025b63cda",
       "version_major": 2,
       "version_minor": 0
      },
      "image/png": "[encoded data removed]",
      "text/html": [
       "\n",
       "            <div style=\"display: inline-block;\">\n",
       "                <div class=\"jupyter-widgets widget-label\" style=\"text-align: center;\">\n",
       "                    Figure\n",
       "                </div>\n",
       "                <img src='data:image/png;base64,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' width=640.0/>\n",
       "            </div>\n",
       "        "
      ],
      "text/plain": [
       "Canvas(toolbar=Toolbar(toolitems=[('Home', 'Reset original view', 'home', 'home'), ('Back', 'Back to previous …"
      ]
     },
     "metadata": {},
     "output_type": "display_data"
    }
   ],
   "source": [
    "fig = plt.figure()"
   ]
  },
  {
   "cell_type": "code",
   "execution_count": 435,
   "id": "ac1977bc-4b36-45ed-a858-561c2854d201",
   "metadata": {},
   "outputs": [],
   "source": [
    "filename = dec.repopath / \"logs\" / \"dec-mc-1_08-04-22_22.55.01.csv\"\n",
    "df = pd.read_csv(filename)\n",
    "\n",
    "# Turn string lists into more usable objects.\n",
    "df.loc[:, 'ids'] = df.loc[:, 'ids'].apply(eval)\n",
    "df.loc[:, 'times'] = df.loc[:, 'times'].apply(lambda e: np.array(eval(e)))\n",
    "df.loc[:, 'subgraphs'] = df.loc[:, 'subgraphs'].apply(eval)\n",
    "df.loc[:, 'dist_left'] = df.loc[:, 'dist_left'].apply(eval)\n",
    "# df.loc[:, 'sizes'] = df.loc[:, 'subgraphs'].apply(lambda s: [len(si) for si in s])\n",
    "\n",
    "# Add a few additional statistitics.\n",
    "df.loc[:, 'avgtimes'] = df.loc[:, 'times'].apply(np.mean)\n",
    "df.loc[:, 'avgdist'] = df.loc[:, 'dist_left'].apply(np.mean)\n",
    "# df.loc[:, 'avgsizes'] = df.loc[:, 'sizes'].apply(np.mean)"
   ]
  },
  {
   "cell_type": "code",
   "execution_count": 673,
   "id": "e532dbce-16d2-427b-89fa-2f69b6115f6c",
   "metadata": {},
   "outputs": [],
   "source": [
    "def group_metric(frame, metric):\n",
    "    \"\"\"Get a metric and organize by n_agents then centralized\"\"\"\n",
    "    \n",
    "    grouped = []\n",
    "    n_agents_iter = frame.loc[:, 'n_agents'].unique()\n",
    "    for n_agents in n_agents_iter:\n",
    "        frame_i = frame.loc[frame.n_agents == n_agents]\n",
    "        metric_cen = frame_i.loc[frame_i.centralized == True, metric]\n",
    "        metric_dec = frame.loc[frame.centralized == False, metric]\n",
    "        grouped.extend([\n",
    "            np.vstack(metric_cen).flatten(), np.vstack(metric_dec).flatten()\n",
    "        ])\n",
    "        \n",
    "    return grouped\n",
    "\n",
    "def group_convergence(frame):\n",
    "    \"\"\"Grouping to compute convergence rates\"\"\"\n",
    "    \n",
    "    grouped = []\n",
    "    n_agents_iter = frame.loc[:, 'n_agents'].unique()\n",
    "    for n_agents in n_agents_iter:\n",
    "        frame_i = frame.loc[frame.n_agents == n_agents]\n",
    "        \n",
    "        frame_cen = frame_i.loc[frame_i.centralized == True]\n",
    "        frame_dec = frame.loc[frame.centralized == False]\n",
    "        grouped.extend([\n",
    "            frame_cen.value_counts([\"converged\"], normalize=True).loc[1].item(),\n",
    "            frame_dec.value_counts([\"converged\"], normalize=True).loc[1].item(),\n",
    "        ])\n",
    "        \n",
    "    return grouped"
   ]
  },
  {
   "cell_type": "code",
   "execution_count": 674,
   "id": "434d74b0-2bee-48c8-aa7b-c07dac260683",
   "metadata": {},
   "outputs": [],
   "source": [
    "def plot_metric_by_model(df, grouped_metric, kind=\"box\", ylabel=None):\n",
    "    \"\"\"Visualize the metric across dynamical models\"\"\"\n",
    "    \n",
    "    if kind not in {\"box\", \"violin\"}:\n",
    "        raise ValueError()\n",
    "    \n",
    "    models = df.dynamics.unique().tolist()\n",
    "    n_agents_iter = df.n_agents.unique().tolist()\n",
    "    \n",
    "    plt.clf()\n",
    "    colors = cycle((\"C3\", \"C0\"))\n",
    "\n",
    "    for i, (model, metric) in enumerate(zip(models, grouped_metric)):\n",
    "        ax = fig.add_subplot(3, 1, i+1)\n",
    "        df_model = df[df.dynamics == model]\n",
    "\n",
    "        n_agents_iter = df_model.n_agents.unique().tolist()\n",
    "        positions = np.repeat(n_agents_iter, 2) + np.tile([-1, 1], len(n_agents_iter)) / 5\n",
    "        ticker = plt.LinearLocator(len(n_agents_iter))\n",
    "        tick_locs = ticker.tick_values(n_agents_iter[0], n_agents_iter[-1])\n",
    "        \n",
    "        if kind == \"box\":\n",
    "            bp = ax.boxplot(metric, positions=positions, sym=\"kx\", patch_artist=True, showfliers=False, widths=0.35)\n",
    "            for patch, color in zip(bp['boxes'], colors):\n",
    "                patch.set_facecolor(color)\n",
    "            ax.legend(ax.patches[:2], [\"Centralized\", \"Decentralized\"], loc=\"upper right\")\n",
    "        else:\n",
    "            vp = ax.violinplot(metric, positions=positions, showmeans=True, showextrema=True)\n",
    "            for pc, color in zip(vp['bodies'], colors):\n",
    "                pc.set_facecolor(color)\n",
    "                pc.set_edgecolor(color)\n",
    "\n",
    "            for line in vp.values():\n",
    "                if not isinstance(line, LineCollection):\n",
    "                    continue\n",
    "                line.set_colors(\"black\")\n",
    "                line.set_alpha(0.7)\n",
    "            ax.legend([\"Centralized\", \"Decentralized\"])\n",
    "\n",
    "        ax.set_xticks(tick_locs, labels=n_agents_iter)\n",
    "        ax.set_title(model)\n",
    "        ax.set_xlabel(\"# Agents\")\n",
    "        if ylabel:\n",
    "            ax.set_ylabel(ylabel)\n",
    "\n",
    "    plt.draw()\n",
    "    "
   ]
  },
  {
   "cell_type": "code",
   "execution_count": 675,
   "id": "14d7a2e5-b716-407e-915e-875fceb639f7",
   "metadata": {},
   "outputs": [],
   "source": [
    "def plot_convergence_by_model(df, conv_rates):\n",
    "    \"\"\"Visualize the metric across dynamical models\"\"\"\n",
    "    \n",
    "    models = df.dynamics.unique().tolist()\n",
    "    n_agents_iter = df.n_agents.unique().tolist()\n",
    "    \n",
    "    plt.clf()\n",
    "    colors = (\"C3\", \"C0\")\n",
    "\n",
    "    for i, (model, metric) in enumerate(zip(models, conv_rates)):\n",
    "        ax = fig.add_subplot(3, 1, i+1)\n",
    "        df_model = df[df.dynamics == model]\n",
    "\n",
    "        n_agents_iter = df_model.n_agents.unique().tolist()\n",
    "        positions = np.repeat(n_agents_iter, 2) + np.tile([-1, 1], len(n_agents_iter)) / 5\n",
    "        ticker = plt.LinearLocator(len(n_agents_iter))\n",
    "        tick_locs = ticker.tick_values(n_agents_iter[0], n_agents_iter[-1])\n",
    "        \n",
    "        ax.bar(positions, metric, color=colors*len(n_agents_iter), width=0.4)\n",
    "        ax.legend(ax.patches[:2], [\"Centralized\", \"Decentralized\"])\n",
    "        ax.set_xticks(tick_locs, labels=n_agents_iter)\n",
    "        ax.set_title(model)\n",
    "        ax.set_xlabel(\"# Agents\")\n",
    "        ax.set_ylabel(\"Convergence Rate\")\n",
    "\n",
    "    plt.draw()"
   ]
  },
  {
   "cell_type": "code",
   "execution_count": 629,
   "id": "130331d5-e4df-4740-ad4a-b085d2b187cf",
   "metadata": {},
   "outputs": [],
   "source": [
    "models = df.dynamics.unique().tolist()\n",
    "n_agents_iter = df.n_agents.unique().tolist()\n",
    "\n",
    "all_times = [group_metric(df[df.dynamics == model], \"avgtimes\")\n",
    "             for model in models]\n",
    "all_dists = [group_metric(df[df.dynamics == model], \"avgdist\")\n",
    "             for model in models]\n",
    "all_costs = [group_metric(df[(df.dynamics == model) & (df.loc[:, 'last'] == True)], \"J\")\n",
    "             for model in models]\n",
    "conv_rates = [group_convergence(df[(df.dynamics == model) & (df.loc[:, 'last'] == True)])\n",
    "              for model in models]"
   ]
  },
  {
   "cell_type": "code",
   "execution_count": 706,
   "id": "e2428472-14be-4125-b05c-4ed2b5a17180",
   "metadata": {},
   "outputs": [],
   "source": [
    "plot_metric_by_model(df, all_times, kind=\"violin\", ylabel=\"Average Solve Time [s]\")\n",
    "plt.suptitle(\"Average Solve Time\", fontsize=16)\n",
    "plt.draw()\n",
    "plt.savefig(\"avg-solve-time-violin.png\")"
   ]
  },
  {
   "cell_type": "code",
   "execution_count": 696,
   "id": "c6cfe7c2-b2ce-462c-8ca8-33c68f733598",
   "metadata": {},
   "outputs": [],
   "source": [
    "plot_metric_by_model(df, all_dists, ylabel=\"Average Distance Left [m]\")\n",
    "plt.suptitle(\"Average Distance Left\", fontsize=16)\n",
    "plt.draw()\n",
    "plt.savefig(\"avg-dist-left.png\")"
   ]
  },
  {
   "cell_type": "code",
   "execution_count": 697,
   "id": "49223e76-f259-4262-bce0-d36b7b2ee0e3",
   "metadata": {},
   "outputs": [],
   "source": [
    "plot_metric_by_model(df, all_costs, ylabel=\"Final Cost\")\n",
    "plt.suptitle(\"Final Cost\", fontsize=16)\n",
    "plt.draw()\n",
    "plt.savefig(\"final-cost.png\")"
   ]
  },
  {
   "cell_type": "code",
   "execution_count": 698,
   "id": "74876a8a-b738-4157-a337-1a876e0b0a7e",
   "metadata": {},
   "outputs": [],
   "source": [
    "plot_convergence_by_model(df, conv_rates)\n",
    "plt.suptitle(\"Convergence Rates\", fontsize=16)\n",
    "plt.draw()\n",
    "plt.savefig(\"convergence-rates.png\")"
   ]
  },
  {
   "cell_type": "code",
   "execution_count": null,
   "id": "d96b0538-87b7-4e26-8684-bd64388aad8d",
   "metadata": {},
   "outputs": [],
   "source": []
  },
  {
   "cell_type": "code",
   "execution_count": null,
   "id": "1fbba44f-63cf-4193-b57d-9b50a0cc1e5b",
   "metadata": {},
   "outputs": [],
   "source": []
  },
  {
   "cell_type": "code",
   "execution_count": null,
   "id": "938ff184-1995-46eb-a808-3433ffc2897b",
   "metadata": {},
   "outputs": [],
   "source": []
  },
  {
   "cell_type": "markdown",
   "id": "5292db53-1254-4887-8277-c03b4cdba580",
   "metadata": {},
   "source": [
    "## scratch"
   ]
  },
  {
   "cell_type": "code",
   "execution_count": 699,
   "id": "3599dbad-467f-457e-91d4-ee2ec1ff75e9",
   "metadata": {},
   "outputs": [
    {
     "name": "stderr",
     "output_type": "stream",
     "text": [
      "C:\\Users\\zjw4\\AppData\\Local\\pypoetry\\Cache\\virtualenvs\\decentralized-80pKkDJr-py3.10\\lib\\site-packages\\seaborn\\axisgrid.py:88: UserWarning: This figure was using constrained_layout, but that is incompatible with subplots_adjust and/or tight_layout; disabling constrained_layout.\n",
      "  self._figure.tight_layout(*args, **kwargs)\n"
     ]
    },
    {
     "data": {
      "application/vnd.jupyter.widget-view+json": {
       "model_id": "ac3892f7c3554d45b05f0cdd31351fa2",
       "version_major": 2,
       "version_minor": 0
      },
      "image/png": "[encoded data removed]",
      "text/html": [
       "\n",
       "            <div style=\"display: inline-block;\">\n",
       "                <div class=\"jupyter-widgets widget-label\" style=\"text-align: center;\">\n",
       "                    Figure\n",
       "                </div>\n",
       "                <img src='data:image/png;base64,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' width=500.0/>\n",
       "            </div>\n",
       "        "
      ],
      "text/plain": [
       "Canvas(toolbar=Toolbar(toolitems=[('Home', 'Reset original view', 'home', 'home'), ('Back', 'Back to previous …"
      ]
     },
     "metadata": {},
     "output_type": "display_data"
    }
   ],
   "source": [
    "# This would be nice, but unfortunately catplot is a figure-level plot.\n",
    "double_int = df[df.dynamics == \"QuadcopterDynamics6D\"]\n",
    "\n",
    "sns.catplot(data=double_int, x=\"n_agents\", y=\"avgtimes\", hue=\"centralized\", kind=\"box\", legend=False, showfliers=False)\n",
    "plt.xlabel(\"# Agents\")\n",
    "plt.ylabel(\"Averange Solve Time [s]\")\n",
    "plt.title(\"2D Double Integrator\")\n",
    "ax = plt.gca()\n",
    "plt.legend([ax.patches[0], ax.patches[2]], [\"Decentralized\", \"Centralized\"])\n",
    "plt.tight_layout()"
   ]
  },
  {
   "cell_type": "code",
   "execution_count": null,
   "id": "2aa8fe72-886a-4af8-8218-a903b6cc3464",
   "metadata": {},
   "outputs": [],
   "source": []
  },
  {
   "cell_type": "code",
   "execution_count": null,
   "id": "dba4a4f6-98ec-40d2-882f-966fb27ea007",
   "metadata": {},
   "outputs": [],
   "source": []
  },
  {
   "cell_type": "markdown",
   "id": "11fdfd3e-1460-4c2c-a555-3a057b510f8c",
   "metadata": {},
   "source": [
    "### potential function minimization\n",
    "\n",
    "Visualization of minimizing a potential function using stationary obstacles. Any optimal trajectory will try to traverse from its start to its goal with as low of cost as possible. "
   ]
  },
  {
   "cell_type": "code",
   "execution_count": 700,
   "id": "da1ae95e-9f4a-4faa-b771-60d06e40edb9",
   "metadata": {},
   "outputs": [],
   "source": [
    "import mpl_toolkits.mplot3d.art3d as art3d"
   ]
  },
  {
   "cell_type": "code",
   "execution_count": 701,
   "id": "272a5766-7c55-4b96-a37e-1c5d70e0ba55",
   "metadata": {},
   "outputs": [
    {
     "data": {
      "text/plain": [
       "<Figure size 640x480 with 0 Axes>"
      ]
     },
     "execution_count": 701,
     "metadata": {},
     "output_type": "execute_result"
    },
    {
     "data": {
      "application/vnd.jupyter.widget-view+json": {
       "model_id": "a02513fc4093413bae010f18119de794",
       "version_major": 2,
       "version_minor": 0
      },
      "image/png": "[encoded data removed]",
      "text/html": [
       "\n",
       "            <div style=\"display: inline-block;\">\n",
       "                <div class=\"jupyter-widgets widget-label\" style=\"text-align: center;\">\n",
       "                    Figure\n",
       "                </div>\n",
       "                <img src='data:image/png;base64,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' width=640.0/>\n",
       "            </div>\n",
       "        "
      ],
      "text/plain": [
       "Canvas(toolbar=Toolbar(toolitems=[('Home', 'Reset original view', 'home', 'home'), ('Back', 'Back to previous …"
      ]
     },
     "metadata": {},
     "output_type": "display_data"
    }
   ],
   "source": [
    "plt.figure()"
   ]
  },
  {
   "cell_type": "code",
   "execution_count": 702,
   "id": "6463e452-f770-4f74-bb91-b00ee129d409",
   "metadata": {},
   "outputs": [],
   "source": [
    "start = np.array([[3, 3]])\n",
    "end = np.array([[0, 0]])\n",
    "obstacles = np.array([\n",
    "    [2, 2], [1, 3], [0.2, 1.1]\n",
    "])\n",
    "\n",
    "radii = np.array([0.5, 0.3, 0.6])"
   ]
  },
  {
   "cell_type": "code",
   "execution_count": 703,
   "id": "0b5fc6ee-28e6-4ebc-8485-5a82b2ab81a5",
   "metadata": {},
   "outputs": [],
   "source": [
    "def cost(pos):\n",
    "    \"\"\"Reference plus weighted obstacle avoidance cost\"\"\"\n",
    "    ref_cost = np.linalg.norm(pos - end, axis=1)\n",
    "    obstacle_dists = np.linalg.norm(pos - obstacles, axis=1)\n",
    "    obstacle_cost = np.sum(np.fmin(np.zeros(1),  obstacle_dists - radii) ** 2)\n",
    "    return ref_cost + 10*obstacle_cost"
   ]
  },
  {
   "cell_type": "code",
   "execution_count": 704,
   "id": "dd4108b5-c2fa-4439-9f14-0c0fc473a66b",
   "metadata": {},
   "outputs": [],
   "source": [
    "axis = (-1, 4, -1, 4)\n",
    "sample_grid = np.mgrid[axis[0]:axis[1]:0.1, axis[2]:axis[3]:0.1].T.reshape(-1,2)\n",
    "costs = np.zeros((0,))\n",
    "for point in sample_grid:\n",
    "    costs = np.concatenate([costs, cost(point)])\n",
    "side_len = round(np.sqrt(sample_grid.shape[0]))\n",
    "square_costs = costs.reshape(side_len, side_len)"
   ]
  },
  {
   "cell_type": "code",
   "execution_count": 705,
   "id": "0d7911a8-cf7d-4986-bd5e-c3c28e7ef281",
   "metadata": {
    "tags": []
   },
   "outputs": [
    {
     "name": "stderr",
     "output_type": "stream",
     "text": [
      "C:\\Users\\zjw4\\AppData\\Local\\Temp\\ipykernel_20100\\2717485456.py:23: MatplotlibDeprecationWarning: Auto-removal of grids by pcolor() and pcolormesh() is deprecated since 3.5 and will be removed two minor releases later; please call grid(False) first.\n",
      "  fig.colorbar(surf, shrink=0.5, label=\"Potential Function\")\n",
      "C:\\Users\\zjw4\\AppData\\Local\\Temp\\ipykernel_20100\\2717485456.py:24: UserWarning: This figure includes Axes that are not compatible with tight_layout, so results might be incorrect.\n",
      "  plt.tight_layout()\n",
      "C:\\Users\\zjw4\\AppData\\Local\\Temp\\ipykernel_20100\\2717485456.py:24: UserWarning: This figure was using constrained_layout, but that is incompatible with subplots_adjust and/or tight_layout; disabling constrained_layout.\n",
      "  plt.tight_layout()\n"
     ]
    }
   ],
   "source": [
    "plt.clf()\n",
    "fig = plt.gcf()\n",
    "ax = fig.add_subplot(projection=\"3d\")\n",
    "\n",
    "X = np.r_[axis[0]:axis[1]:0.1]\n",
    "Y = np.r_[axis[2]:axis[3]:0.1]\n",
    "X, Y = np.meshgrid(X, Y)\n",
    "surf = ax.plot_surface(X, Y, square_costs + 2, cmap=plt.cm.plasma)\n",
    "\n",
    "for obstacle, radius in zip(obstacles, radii):\n",
    "    p = plt.Circle(obstacle, radius)\n",
    "    ax.add_patch(p)\n",
    "    art3d.pathpatch_2d_to_3d(p, z=0, zdir=\"z\")\n",
    "    \n",
    "pstart = ax.scatter(start[0,0], start[0,1], 0, s=80, c='g', marker='x')\n",
    "pend = ax.scatter(end[0,0], end[0,1], 0, s=80, c='r', marker='x')\n",
    "\n",
    "# ax.set_title(\"Potential Function Minimization\")\n",
    "ax.set_xlim(-1, 4)\n",
    "ax.set_ylim(-1, 4)\n",
    "# ax.set_zlim(0, 30)\n",
    "# fig.legend([p, pstart, pend], [\"Obstacles\", \"Start\", \"End\"], loc=\"lower right\")\n",
    "fig.colorbar(surf, shrink=0.5, label=\"Potential Function\")\n",
    "plt.tight_layout()\n",
    "\n",
    "plt.draw()"
   ]
  },
  {
   "cell_type": "code",
   "execution_count": null,
   "id": "bd13c490-0329-4724-9e14-d94de18d16bd",
   "metadata": {},
   "outputs": [],
   "source": []
  },
  {
   "cell_type": "code",
   "execution_count": null,
   "id": "e5ae5ea0-9450-4525-bfaa-cc4fdbb9a33c",
   "metadata": {},
   "outputs": [],
   "source": []
  },
  {
   "cell_type": "code",
   "execution_count": null,
   "id": "36b93bd6-ba5b-4d09-9d9b-8a909127e24c",
   "metadata": {},
   "outputs": [],
   "source": []
  }
 ],
 "metadata": {
  "kernelspec": {
   "display_name": "Python 3 (ipykernel)",
   "language": "python",
   "name": "python3"
  },
  "language_info": {
   "codemirror_mode": {
    "name": "ipython",
    "version": 3
   },
   "file_extension": ".py",
   "mimetype": "text/x-python",
   "name": "python",
   "nbconvert_exporter": "python",
   "pygments_lexer": "ipython3",
   "version": "3.10.6"
  }
 },
 "nbformat": 4,
 "nbformat_minor": 5
}
