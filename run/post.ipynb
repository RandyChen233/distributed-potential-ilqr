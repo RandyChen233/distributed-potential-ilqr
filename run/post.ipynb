{
 "cells": [
  {
   "cell_type": "markdown",
   "id": "808e238e-f65e-4fbf-a18a-54915c4d74ee",
   "metadata": {
    "tags": []
   },
   "source": [
    "# post-processing\n",
    "\n",
    "Scratch code to post-process `analysis.py` log files."
   ]
  },
  {
   "cell_type": "markdown",
   "id": "ed7988fc-f2ff-4ff8-8c0b-d095f684ed4b",
   "metadata": {
    "tags": []
   },
   "source": [
    "**TODO:**\n",
    "- automate post-processing to compare centralized vs decentralized\n",
    "- consider logging stuff as dicts with eval instead of lists\n",
    "- move to hardware"
   ]
  },
  {
   "cell_type": "code",
   "execution_count": null,
   "id": "03ba6230-f5c2-4eb8-8e5b-489a047921d7",
   "metadata": {},
   "outputs": [],
   "source": [
    "import matplotlib.pyplot as plt\n",
    "import numpy as np\n",
    "import pandas as pd\n",
    "\n",
    "import decentralized as dec"
   ]
  },
  {
   "cell_type": "code",
   "execution_count": null,
   "id": "74be59ba-67d1-454c-9193-cb26f4603285",
   "metadata": {},
   "outputs": [],
   "source": [
    "%load_ext autoreload\n",
    "%autoreload 1\n",
    "%aimport decentralized.util"
   ]
  },
  {
   "cell_type": "code",
   "execution_count": null,
   "id": "0e9e82d4-b67d-48f2-8d5c-8469958be800",
   "metadata": {},
   "outputs": [],
   "source": [
    "%matplotlib ipympl\n",
    "plt.rcParams['axes.grid'] = True"
   ]
  },
  {
   "cell_type": "code",
   "execution_count": null,
   "id": "e76d5006-3a8f-4b59-a442-952e5d0e4c7c",
   "metadata": {},
   "outputs": [],
   "source": [
    "fig = plt.figure()"
   ]
  },
  {
   "cell_type": "code",
   "execution_count": null,
   "id": "ac1977bc-4b36-45ed-a858-561c2854d201",
   "metadata": {},
   "outputs": [],
   "source": [
    "filename = dec.repopath / \"logs\" / \"dec-mc-2_08-03-22_21.46.15.csv\"\n",
    "df = pd.read_csv(filename)\n",
    "\n",
    "# Turn string lists into more usable objects.\n",
    "df.loc[:, 'ids'] = df.loc[:, 'ids'].apply(eval)\n",
    "df.loc[:, 'times'] = df.loc[:, 'times'].apply(lambda e: np.array(eval(e)))\n",
    "df.loc[:, 'subgraphs'] = df.loc[:, 'subgraphs'].apply(eval)\n",
    "df.loc[:, 'sizes'] = df.loc[:, 'subgraphs'].apply(lambda s: [len(si) for si in s])"
   ]
  },
  {
   "cell_type": "code",
   "execution_count": null,
   "id": "130331d5-e4df-4740-ad4a-b085d2b187cf",
   "metadata": {},
   "outputs": [],
   "source": [
    "models = df.dynamics.unique().tolist()\n",
    "n_agents_iter = df.n_agents.unique().tolist()\n",
    "\n",
    "all_times = []\n",
    "for model in models:\n",
    "    model_times = []\n",
    "    for n_agents in n_agents_iter[:-1]:\n",
    "        frame = df.loc[(df.dynamics == model) & (df.n_agents == n_agents)]\n",
    "        times_cen = frame.loc[frame.centralized == True].times\n",
    "        times_dec = frame.loc[frame.centralized == False].times\n",
    "        model_times.extend([np.vstack(times_cen).flatten(), np.vstack(times_dec).flatten()])\n",
    "    all_times.append(model_times)"
   ]
  },
  {
   "cell_type": "code",
   "execution_count": null,
   "id": "11b42563-8fef-4aa2-90cc-5a3610074439",
   "metadata": {},
   "outputs": [],
   "source": [
    "plt.clf()\n",
    "tick_locs = np.r_[1.5:n_agents_iter[-1]+2:2]\n",
    "for i, (model, times) in enumerate(zip(models, all_times)):\n",
    "    ax = fig.add_subplot(3, 1, i+1)\n",
    "    bp = ax.boxplot(times, sym=\"kx\", patch_artist=True)\n",
    "    \n",
    "    for patch, color in zip(bp['boxes'], plt.cm.Accent.colors):\n",
    "        patch.set_facecolor(color)\n",
    "\n",
    "    \n",
    "    \n",
    "plt.draw()"
   ]
  },
  {
   "cell_type": "code",
   "execution_count": null,
   "id": "d0e8114f-5c24-473f-bf7c-72125fa172b4",
   "metadata": {},
   "outputs": [],
   "source": [
    "test_df = df.loc[(df.dynamics == \"DoubleIntDynamics4D\") & (df.n_agents == 3)]\n",
    "test_cen = test_df.loc[test_df.centralized == True]\n",
    "test_dec = test_df.loc[test_df.centralized == False]\n",
    "times = [np.vstack(test_cen.times).flatten(), np.vstack(test_dec.times).flatten()]"
   ]
  },
  {
   "cell_type": "code",
   "execution_count": null,
   "id": "8c354b12-1a5f-48df-bd17-144c5eef6284",
   "metadata": {},
   "outputs": [],
   "source": [
    "plt.clf()\n",
    "ax = plt.gca()\n",
    "# ax.scatter(np.zeros_like(times_cen), times_cen)\n",
    "# ax.scatter(np.ones_like(times_dec), times_dec)\n",
    "# ax.violinplot(times, positions=[0, 1], showmeans=True, showextrema=True)\n",
    "bp = ax.boxplot(times, sym=\"kx\", labels=[\"centralized\", \"decentralized\"], patch_artist=True)\n",
    "plt.draw()\n",
    "\n",
    "for patch, color in zip(bp['boxes'], ['pink', 'lightblue']):\n",
    "    patch.set_facecolor(color)"
   ]
  },
  {
   "cell_type": "code",
   "execution_count": null,
   "id": "4c7f8abf-5ca9-415d-a784-7bd48ed3b4de",
   "metadata": {},
   "outputs": [],
   "source": []
  },
  {
   "cell_type": "code",
   "execution_count": null,
   "id": "2aa8fe72-886a-4af8-8218-a903b6cc3464",
   "metadata": {},
   "outputs": [],
   "source": []
  },
  {
   "cell_type": "code",
   "execution_count": null,
   "id": "f9b77790-fa2b-4ba4-a923-cdf112523fa9",
   "metadata": {},
   "outputs": [],
   "source": []
  }
 ],
 "metadata": {
  "kernelspec": {
   "display_name": "Python 3 (ipykernel)",
   "language": "python",
   "name": "python3"
  },
  "language_info": {
   "codemirror_mode": {
    "name": "ipython",
    "version": 3
   },
   "file_extension": ".py",
   "mimetype": "text/x-python",
   "name": "python",
   "nbconvert_exporter": "python",
   "pygments_lexer": "ipython3",
   "version": "3.10.6"
  }
 },
 "nbformat": 4,
 "nbformat_minor": 5
}
