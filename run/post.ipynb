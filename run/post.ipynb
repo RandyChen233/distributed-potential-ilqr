{
 "cells": [
  {
   "cell_type": "markdown",
   "id": "808e238e-f65e-4fbf-a18a-54915c4d74ee",
   "metadata": {
    "tags": []
   },
   "source": [
    "# post-processing\n",
    "\n",
    "Scratch code to post-process `analysis.py` log files."
   ]
  },
  {
   "cell_type": "markdown",
   "id": "ed7988fc-f2ff-4ff8-8c0b-d095f684ed4b",
   "metadata": {
    "tags": []
   },
   "source": [
    "**TODO:**\n",
    "- automate post-processing to compare centralized vs decentralized\n",
    "- consider logging stuff as dicts with eval instead of lists\n",
    "- move to hardware"
   ]
  },
  {
   "cell_type": "code",
   "execution_count": null,
   "id": "03ba6230-f5c2-4eb8-8e5b-489a047921d7",
   "metadata": {},
   "outputs": [],
   "source": [
    "import matplotlib.pyplot as plt\n",
    "import pandas as pd\n",
    "\n",
    "import decentralized as dec"
   ]
  },
  {
   "cell_type": "code",
   "execution_count": null,
   "id": "74be59ba-67d1-454c-9193-cb26f4603285",
   "metadata": {},
   "outputs": [],
   "source": [
    "%load_ext autoreload\n",
    "%autoreload 1\n",
    "%aimport decentralized.util"
   ]
  },
  {
   "cell_type": "code",
   "execution_count": null,
   "id": "0e9e82d4-b67d-48f2-8d5c-8469958be800",
   "metadata": {},
   "outputs": [],
   "source": [
    "%matplotlib ipympl\n",
    "plt.rcParams['axes.grid'] = True"
   ]
  },
  {
   "cell_type": "code",
   "execution_count": null,
   "id": "e76d5006-3a8f-4b59-a442-952e5d0e4c7c",
   "metadata": {},
   "outputs": [],
   "source": [
    "fig = plt.figure()"
   ]
  },
  {
   "cell_type": "code",
   "execution_count": null,
   "id": "ac1977bc-4b36-45ed-a858-561c2854d201",
   "metadata": {},
   "outputs": [],
   "source": [
    "filename = dec.repopath / \"logs\" / \"dec-mc-2_08-03-22_18.36.15.csv\"\n",
    "df = pd.read_csv(filename)"
   ]
  },
  {
   "cell_type": "code",
   "execution_count": null,
   "id": "d4fea5e6-fb3f-4ae0-834b-4eb4d980ce9f",
   "metadata": {},
   "outputs": [],
   "source": [
    "# Turn string lists into actual lists.\n",
    "df.loc[:, 'ids'] = df.loc[:, 'ids'].apply(eval)\n",
    "df.loc[:, 'times'] = df.loc[:, 'times'].apply(eval)"
   ]
  },
  {
   "cell_type": "code",
   "execution_count": null,
   "id": "7f3c166a-ecbd-4d52-bc3f-fd25ef8f2a22",
   "metadata": {},
   "outputs": [],
   "source": []
  },
  {
   "cell_type": "code",
   "execution_count": null,
   "id": "d0e8114f-5c24-473f-bf7c-72125fa172b4",
   "metadata": {},
   "outputs": [],
   "source": []
  },
  {
   "cell_type": "code",
   "execution_count": null,
   "id": "a609baaa-07d6-4b73-889a-5685930ed84e",
   "metadata": {},
   "outputs": [],
   "source": []
  }
 ],
 "metadata": {
  "kernelspec": {
   "display_name": "Python 3 (ipykernel)",
   "language": "python",
   "name": "python3"
  },
  "language_info": {
   "codemirror_mode": {
    "name": "ipython",
    "version": 3
   },
   "file_extension": ".py",
   "mimetype": "text/x-python",
   "name": "python",
   "nbconvert_exporter": "python",
   "pygments_lexer": "ipython3",
   "version": "3.10.6"
  }
 },
 "nbformat": 4,
 "nbformat_minor": 5
}
