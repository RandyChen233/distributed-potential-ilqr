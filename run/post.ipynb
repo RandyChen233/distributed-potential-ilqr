{
 "cells": [
  {
   "cell_type": "markdown",
   "id": "808e238e-f65e-4fbf-a18a-54915c4d74ee",
   "metadata": {
    "tags": []
   },
   "source": [
    "# post-processing\n",
    "\n",
    "Scratch code to post-process `analysis.py` log files."
   ]
  },
  {
   "cell_type": "markdown",
   "id": "ed7988fc-f2ff-4ff8-8c0b-d095f684ed4b",
   "metadata": {
    "tags": []
   },
   "source": [
    "**TODO:**\n",
    "#- full MC simulation with 30+ trials and 3-8 agents\n",
    "- full MC simulation with 50+ trials and 10-15 agents for each of three dynamics model\n",
    "- Negar feedback\n",
    "- WRITE PAPER\n",
    "- move to hardware"
   ]
  },
  {
   "cell_type": "code",
   "execution_count": 1,
   "id": "03ba6230-f5c2-4eb8-8e5b-489a047921d7",
   "metadata": {},
   "outputs": [],
   "source": [
    "from itertools import cycle\n",
    "\n",
    "import matplotlib.pyplot as plt\n",
    "from matplotlib.collections import LineCollection\n",
    "import numpy as np\n",
    "import pandas as pd\n",
    "import seaborn as sns\n",
    "\n",
    "import decentralized as dec"
   ]
  },
  {
   "cell_type": "code",
   "execution_count": 2,
   "id": "74be59ba-67d1-454c-9193-cb26f4603285",
   "metadata": {},
   "outputs": [],
   "source": [
    "%load_ext autoreload\n",
    "%autoreload 1\n",
    "%aimport decentralized.util"
   ]
  },
  {
   "cell_type": "code",
   "execution_count": 3,
   "id": "0e9e82d4-b67d-48f2-8d5c-8469958be800",
   "metadata": {},
   "outputs": [],
   "source": [
    "%matplotlib ipympl\n",
    "plt.rcParams['axes.grid'] = True\n",
    "plt.rcParams['figure.constrained_layout.use'] = True"
   ]
  },
  {
   "cell_type": "code",
   "execution_count": 4,
   "id": "e76d5006-3a8f-4b59-a442-952e5d0e4c7c",
   "metadata": {},
   "outputs": [
    {
     "data": {
      "application/vnd.jupyter.widget-view+json": {
       "model_id": "cc5e7a97bb5943a0bfee63a49205deb7",
       "version_major": 2,
       "version_minor": 0
      },
      "image/png": "[encoded data removed]",
      "text/html": [
       "\n",
       "            <div style=\"display: inline-block;\">\n",
       "                <div class=\"jupyter-widgets widget-label\" style=\"text-align: center;\">\n",
       "                    Figure\n",
       "                </div>\n",
       "                <img src='data:image/png;base64,iVBORw0KGgoAAAANSUhEUgAAAoAAAAHgCAYAAAA10dzkAAAAOXRFWHRTb2Z0d2FyZQBNYXRwbG90bGliIHZlcnNpb24zLjUuMSwgaHR0cHM6Ly9tYXRwbG90bGliLm9yZy/YYfK9AAAACXBIWXMAAA9hAAAPYQGoP6dpAAAIyUlEQVR4nO3WMQEAIAzAMMC/5+ECjiYKenbPzCwAADLO7wAAAN4ygAAAMQYQACDGAAIAxBhAAIAYAwgAEGMAAQBiDCAAQIwBBACIMYAAADEGEAAgxgACAMQYQACAGAMIABBjAAEAYgwgAECMAQQAiDGAAAAxBhAAIMYAAgDEGEAAgBgDCAAQYwABAGIMIABAjAEEAIgxgAAAMQYQACDGAAIAxBhAAIAYAwgAEGMAAQBiDCAAQIwBBACIMYAAADEGEAAgxgACAMQYQACAGAMIABBjAAEAYgwgAECMAQQAiDGAAAAxBhAAIMYAAgDEGEAAgBgDCAAQYwABAGIMIABAjAEEAIgxgAAAMQYQACDGAAIAxBhAAIAYAwgAEGMAAQBiDCAAQIwBBACIMYAAADEGEAAgxgACAMQYQACAGAMIABBjAAEAYgwgAECMAQQAiDGAAAAxBhAAIMYAAgDEGEAAgBgDCAAQYwABAGIMIABAjAEEAIgxgAAAMQYQACDGAAIAxBhAAIAYAwgAEGMAAQBiDCAAQIwBBACIMYAAADEGEAAgxgACAMQYQACAGAMIABBjAAEAYgwgAECMAQQAiDGAAAAxBhAAIMYAAgDEGEAAgBgDCAAQYwABAGIMIABAjAEEAIgxgAAAMQYQACDGAAIAxBhAAIAYAwgAEGMAAQBiDCAAQIwBBACIMYAAADEGEAAgxgACAMQYQACAGAMIABBjAAEAYgwgAECMAQQAiDGAAAAxBhAAIMYAAgDEGEAAgBgDCAAQYwABAGIMIABAjAEEAIgxgAAAMQYQACDGAAIAxBhAAIAYAwgAEGMAAQBiDCAAQIwBBACIMYAAADEGEAAgxgACAMQYQACAGAMIABBjAAEAYgwgAECMAQQAiDGAAAAxBhAAIMYAAgDEGEAAgBgDCAAQYwABAGIMIABAjAEEAIgxgAAAMQYQACDGAAIAxBhAAIAYAwgAEGMAAQBiDCAAQIwBBACIMYAAADEGEAAgxgACAMQYQACAGAMIABBjAAEAYgwgAECMAQQAiDGAAAAxBhAAIMYAAgDEGEAAgBgDCAAQYwABAGIMIABAjAEEAIgxgAAAMQYQACDGAAIAxBhAAIAYAwgAEGMAAQBiDCAAQIwBBACIMYAAADEGEAAgxgACAMQYQACAGAMIABBjAAEAYgwgAECMAQQAiDGAAAAxBhAAIMYAAgDEGEAAgBgDCAAQYwABAGIMIABAjAEEAIgxgAAAMQYQACDGAAIAxBhAAIAYAwgAEGMAAQBiDCAAQIwBBACIMYAAADEGEAAgxgACAMQYQACAGAMIABBjAAEAYgwgAECMAQQAiDGAAAAxBhAAIMYAAgDEGEAAgBgDCAAQYwABAGIMIABAjAEEAIgxgAAAMQYQACDGAAIAxBhAAIAYAwgAEGMAAQBiDCAAQIwBBACIMYAAADEGEAAgxgACAMQYQACAGAMIABBjAAEAYgwgAECMAQQAiDGAAAAxBhAAIMYAAgDEGEAAgBgDCAAQYwABAGIMIABAjAEEAIgxgAAAMQYQACDGAAIAxBhAAIAYAwgAEGMAAQBiDCAAQIwBBACIMYAAADEGEAAgxgACAMQYQACAGAMIABBjAAEAYgwgAECMAQQAiDGAAAAxBhAAIMYAAgDEGEAAgBgDCAAQYwABAGIMIABAjAEEAIgxgAAAMQYQACDGAAIAxBhAAIAYAwgAEGMAAQBiDCAAQIwBBACIMYAAADEGEAAgxgACAMQYQACAGAMIABBjAAEAYgwgAECMAQQAiDGAAAAxBhAAIMYAAgDEGEAAgBgDCAAQYwABAGIMIABAjAEEAIgxgAAAMQYQACDGAAIAxBhAAIAYAwgAEGMAAQBiDCAAQIwBBACIMYAAADEGEAAgxgACAMQYQACAGAMIABBjAAEAYgwgAECMAQQAiDGAAAAxBhAAIMYAAgDEGEAAgBgDCAAQYwABAGIMIABAjAEEAIgxgAAAMQYQACDGAAIAxBhAAIAYAwgAEGMAAQBiDCAAQIwBBACIMYAAADEGEAAgxgACAMQYQACAGAMIABBjAAEAYgwgAECMAQQAiDGAAAAxBhAAIMYAAgDEGEAAgBgDCAAQYwABAGIMIABAjAEEAIgxgAAAMQYQACDGAAIAxBhAAIAYAwgAEGMAAQBiDCAAQIwBBACIMYAAADEGEAAgxgACAMQYQACAGAMIABBjAAEAYgwgAECMAQQAiDGAAAAxBhAAIMYAAgDEGEAAgBgDCAAQYwABAGIMIABAjAEEAIgxgAAAMQYQACDGAAIAxBhAAIAYAwgAEGMAAQBiDCAAQIwBBACIMYAAADEGEAAgxgACAMQYQACAGAMIABBjAAEAYgwgAECMAQQAiDGAAAAxBhAAIMYAAgDEGEAAgBgDCAAQYwABAGIMIABAjAEEAIgxgAAAMQYQACDGAAIAxBhAAIAYAwgAEGMAAQBiDCAAQIwBBACIMYAAADEGEAAgxgACAMQYQACAGAMIABBjAAEAYgwgAECMAQQAiDGAAAAxBhAAIMYAAgDEGEAAgBgDCAAQYwABAGIMIABAjAEEAIgxgAAAMQYQACDGAAIAxBhAAIAYAwgAEGMAAQBiDCAAQIwBBACIMYAAADEGEAAgxgACAMQYQACAGAMIABBjAAEAYgwgAECMAQQAiDGAAAAxBhAAIMYAAgDEGEAAgBgDCAAQYwABAGIMIABAjAEEAIgxgAAAMQYQACDGAAIAxBhAAIAYAwgAEGMAAQBiDCAAQIwBBACIMYAAADEGEAAgxgACAMQYQACAGAMIABBjAAEAYgwgAECMAQQAiDGAAAAxBhAAIMYAAgDEGEAAgBgDCAAQYwABAGIMIABAjAEEAIgxgAAAMQYQACDGAAIAxBhAAIAYAwgAEGMAAQBiDCAAQIwBBACIMYAAADEGEAAgxgACAMQYQACAGAMIABBjAAEAYgwgAECMAQQAiDGAAAAxBhAAIMYAAgDEGEAAgBgDCAAQYwABAGIuJnkHvKensmIAAAAASUVORK5CYII=' width=640.0/>\n",
       "            </div>\n",
       "        "
      ],
      "text/plain": [
       "Canvas(toolbar=Toolbar(toolitems=[('Home', 'Reset original view', 'home', 'home'), ('Back', 'Back to previous …"
      ]
     },
     "metadata": {},
     "output_type": "display_data"
    }
   ],
   "source": [
    "fig = plt.figure()"
   ]
  },
  {
   "cell_type": "code",
   "execution_count": 6,
   "id": "ac1977bc-4b36-45ed-a858-561c2854d201",
   "metadata": {},
   "outputs": [
    {
     "ename": "FileNotFoundError",
     "evalue": "[Errno 2] No such file or directory: '/mnt/c/Users/Randy666/Documents/projects/ICON_lab/decentralized/logs/dec-mc-3_08-22-22_08:17.csv'",
     "output_type": "error",
     "traceback": [
      "\u001b[0;31m---------------------------------------------------------------------------\u001b[0m",
      "\u001b[0;31mFileNotFoundError\u001b[0m                         Traceback (most recent call last)",
      "\u001b[1;32m/mnt/c/Users/Randy666/Documents/projects/ICON_lab/decentralized/run/post.ipynb Cell 7\u001b[0m in \u001b[0;36m<cell line: 3>\u001b[0;34m()\u001b[0m\n\u001b[1;32m      <a href='vscode-notebook-cell://wsl%2Bubuntu-20.04/mnt/c/Users/Randy666/Documents/projects/ICON_lab/decentralized/run/post.ipynb#W6sdnNjb2RlLXJlbW90ZQ%3D%3D?line=0'>1</a>\u001b[0m \u001b[39m# filename = dec.repopath / \"logs\" / \"dec-mc-1_08-04-22_22.55.01.csv\"\u001b[39;00m\n\u001b[1;32m      <a href='vscode-notebook-cell://wsl%2Bubuntu-20.04/mnt/c/Users/Randy666/Documents/projects/ICON_lab/decentralized/run/post.ipynb#W6sdnNjb2RlLXJlbW90ZQ%3D%3D?line=1'>2</a>\u001b[0m filename \u001b[39m=\u001b[39m dec\u001b[39m.\u001b[39mrepopath \u001b[39m/\u001b[39m \u001b[39m\"\u001b[39m\u001b[39mlogs\u001b[39m\u001b[39m\"\u001b[39m \u001b[39m/\u001b[39m \u001b[39m\"\u001b[39m\u001b[39mdec-mc-3_08-22-22_08:17.csv\u001b[39m\u001b[39m\"\u001b[39m\n\u001b[0;32m----> <a href='vscode-notebook-cell://wsl%2Bubuntu-20.04/mnt/c/Users/Randy666/Documents/projects/ICON_lab/decentralized/run/post.ipynb#W6sdnNjb2RlLXJlbW90ZQ%3D%3D?line=2'>3</a>\u001b[0m df \u001b[39m=\u001b[39m pd\u001b[39m.\u001b[39;49mread_csv(filename)\n\u001b[1;32m      <a href='vscode-notebook-cell://wsl%2Bubuntu-20.04/mnt/c/Users/Randy666/Documents/projects/ICON_lab/decentralized/run/post.ipynb#W6sdnNjb2RlLXJlbW90ZQ%3D%3D?line=4'>5</a>\u001b[0m \u001b[39m# Turn string lists into more usable objects.\u001b[39;00m\n\u001b[1;32m      <a href='vscode-notebook-cell://wsl%2Bubuntu-20.04/mnt/c/Users/Randy666/Documents/projects/ICON_lab/decentralized/run/post.ipynb#W6sdnNjb2RlLXJlbW90ZQ%3D%3D?line=5'>6</a>\u001b[0m df\u001b[39m.\u001b[39mloc[:, \u001b[39m'\u001b[39m\u001b[39mids\u001b[39m\u001b[39m'\u001b[39m] \u001b[39m=\u001b[39m df\u001b[39m.\u001b[39mloc[:, \u001b[39m'\u001b[39m\u001b[39mids\u001b[39m\u001b[39m'\u001b[39m]\u001b[39m.\u001b[39mapply(\u001b[39meval\u001b[39m)\n",
      "File \u001b[0;32m~/anaconda3/envs/Randy/lib/python3.10/site-packages/pandas/util/_decorators.py:311\u001b[0m, in \u001b[0;36mdeprecate_nonkeyword_arguments.<locals>.decorate.<locals>.wrapper\u001b[0;34m(*args, **kwargs)\u001b[0m\n\u001b[1;32m    305\u001b[0m \u001b[39mif\u001b[39;00m \u001b[39mlen\u001b[39m(args) \u001b[39m>\u001b[39m num_allow_args:\n\u001b[1;32m    306\u001b[0m     warnings\u001b[39m.\u001b[39mwarn(\n\u001b[1;32m    307\u001b[0m         msg\u001b[39m.\u001b[39mformat(arguments\u001b[39m=\u001b[39marguments),\n\u001b[1;32m    308\u001b[0m         \u001b[39mFutureWarning\u001b[39;00m,\n\u001b[1;32m    309\u001b[0m         stacklevel\u001b[39m=\u001b[39mstacklevel,\n\u001b[1;32m    310\u001b[0m     )\n\u001b[0;32m--> 311\u001b[0m \u001b[39mreturn\u001b[39;00m func(\u001b[39m*\u001b[39;49margs, \u001b[39m*\u001b[39;49m\u001b[39m*\u001b[39;49mkwargs)\n",
      "File \u001b[0;32m~/anaconda3/envs/Randy/lib/python3.10/site-packages/pandas/io/parsers/readers.py:680\u001b[0m, in \u001b[0;36mread_csv\u001b[0;34m(filepath_or_buffer, sep, delimiter, header, names, index_col, usecols, squeeze, prefix, mangle_dupe_cols, dtype, engine, converters, true_values, false_values, skipinitialspace, skiprows, skipfooter, nrows, na_values, keep_default_na, na_filter, verbose, skip_blank_lines, parse_dates, infer_datetime_format, keep_date_col, date_parser, dayfirst, cache_dates, iterator, chunksize, compression, thousands, decimal, lineterminator, quotechar, quoting, doublequote, escapechar, comment, encoding, encoding_errors, dialect, error_bad_lines, warn_bad_lines, on_bad_lines, delim_whitespace, low_memory, memory_map, float_precision, storage_options)\u001b[0m\n\u001b[1;32m    665\u001b[0m kwds_defaults \u001b[39m=\u001b[39m _refine_defaults_read(\n\u001b[1;32m    666\u001b[0m     dialect,\n\u001b[1;32m    667\u001b[0m     delimiter,\n\u001b[0;32m   (...)\u001b[0m\n\u001b[1;32m    676\u001b[0m     defaults\u001b[39m=\u001b[39m{\u001b[39m\"\u001b[39m\u001b[39mdelimiter\u001b[39m\u001b[39m\"\u001b[39m: \u001b[39m\"\u001b[39m\u001b[39m,\u001b[39m\u001b[39m\"\u001b[39m},\n\u001b[1;32m    677\u001b[0m )\n\u001b[1;32m    678\u001b[0m kwds\u001b[39m.\u001b[39mupdate(kwds_defaults)\n\u001b[0;32m--> 680\u001b[0m \u001b[39mreturn\u001b[39;00m _read(filepath_or_buffer, kwds)\n",
      "File \u001b[0;32m~/anaconda3/envs/Randy/lib/python3.10/site-packages/pandas/io/parsers/readers.py:575\u001b[0m, in \u001b[0;36m_read\u001b[0;34m(filepath_or_buffer, kwds)\u001b[0m\n\u001b[1;32m    572\u001b[0m _validate_names(kwds\u001b[39m.\u001b[39mget(\u001b[39m\"\u001b[39m\u001b[39mnames\u001b[39m\u001b[39m\"\u001b[39m, \u001b[39mNone\u001b[39;00m))\n\u001b[1;32m    574\u001b[0m \u001b[39m# Create the parser.\u001b[39;00m\n\u001b[0;32m--> 575\u001b[0m parser \u001b[39m=\u001b[39m TextFileReader(filepath_or_buffer, \u001b[39m*\u001b[39;49m\u001b[39m*\u001b[39;49mkwds)\n\u001b[1;32m    577\u001b[0m \u001b[39mif\u001b[39;00m chunksize \u001b[39mor\u001b[39;00m iterator:\n\u001b[1;32m    578\u001b[0m     \u001b[39mreturn\u001b[39;00m parser\n",
      "File \u001b[0;32m~/anaconda3/envs/Randy/lib/python3.10/site-packages/pandas/io/parsers/readers.py:934\u001b[0m, in \u001b[0;36mTextFileReader.__init__\u001b[0;34m(self, f, engine, **kwds)\u001b[0m\n\u001b[1;32m    931\u001b[0m     \u001b[39mself\u001b[39m\u001b[39m.\u001b[39moptions[\u001b[39m\"\u001b[39m\u001b[39mhas_index_names\u001b[39m\u001b[39m\"\u001b[39m] \u001b[39m=\u001b[39m kwds[\u001b[39m\"\u001b[39m\u001b[39mhas_index_names\u001b[39m\u001b[39m\"\u001b[39m]\n\u001b[1;32m    933\u001b[0m \u001b[39mself\u001b[39m\u001b[39m.\u001b[39mhandles: IOHandles \u001b[39m|\u001b[39m \u001b[39mNone\u001b[39;00m \u001b[39m=\u001b[39m \u001b[39mNone\u001b[39;00m\n\u001b[0;32m--> 934\u001b[0m \u001b[39mself\u001b[39m\u001b[39m.\u001b[39m_engine \u001b[39m=\u001b[39m \u001b[39mself\u001b[39;49m\u001b[39m.\u001b[39;49m_make_engine(f, \u001b[39mself\u001b[39;49m\u001b[39m.\u001b[39;49mengine)\n",
      "File \u001b[0;32m~/anaconda3/envs/Randy/lib/python3.10/site-packages/pandas/io/parsers/readers.py:1218\u001b[0m, in \u001b[0;36mTextFileReader._make_engine\u001b[0;34m(self, f, engine)\u001b[0m\n\u001b[1;32m   1214\u001b[0m     mode \u001b[39m=\u001b[39m \u001b[39m\"\u001b[39m\u001b[39mrb\u001b[39m\u001b[39m\"\u001b[39m\n\u001b[1;32m   1215\u001b[0m \u001b[39m# error: No overload variant of \"get_handle\" matches argument types\u001b[39;00m\n\u001b[1;32m   1216\u001b[0m \u001b[39m# \"Union[str, PathLike[str], ReadCsvBuffer[bytes], ReadCsvBuffer[str]]\"\u001b[39;00m\n\u001b[1;32m   1217\u001b[0m \u001b[39m# , \"str\", \"bool\", \"Any\", \"Any\", \"Any\", \"Any\", \"Any\"\u001b[39;00m\n\u001b[0;32m-> 1218\u001b[0m \u001b[39mself\u001b[39m\u001b[39m.\u001b[39mhandles \u001b[39m=\u001b[39m get_handle(  \u001b[39m# type: ignore[call-overload]\u001b[39;49;00m\n\u001b[1;32m   1219\u001b[0m     f,\n\u001b[1;32m   1220\u001b[0m     mode,\n\u001b[1;32m   1221\u001b[0m     encoding\u001b[39m=\u001b[39;49m\u001b[39mself\u001b[39;49m\u001b[39m.\u001b[39;49moptions\u001b[39m.\u001b[39;49mget(\u001b[39m\"\u001b[39;49m\u001b[39mencoding\u001b[39;49m\u001b[39m\"\u001b[39;49m, \u001b[39mNone\u001b[39;49;00m),\n\u001b[1;32m   1222\u001b[0m     compression\u001b[39m=\u001b[39;49m\u001b[39mself\u001b[39;49m\u001b[39m.\u001b[39;49moptions\u001b[39m.\u001b[39;49mget(\u001b[39m\"\u001b[39;49m\u001b[39mcompression\u001b[39;49m\u001b[39m\"\u001b[39;49m, \u001b[39mNone\u001b[39;49;00m),\n\u001b[1;32m   1223\u001b[0m     memory_map\u001b[39m=\u001b[39;49m\u001b[39mself\u001b[39;49m\u001b[39m.\u001b[39;49moptions\u001b[39m.\u001b[39;49mget(\u001b[39m\"\u001b[39;49m\u001b[39mmemory_map\u001b[39;49m\u001b[39m\"\u001b[39;49m, \u001b[39mFalse\u001b[39;49;00m),\n\u001b[1;32m   1224\u001b[0m     is_text\u001b[39m=\u001b[39;49mis_text,\n\u001b[1;32m   1225\u001b[0m     errors\u001b[39m=\u001b[39;49m\u001b[39mself\u001b[39;49m\u001b[39m.\u001b[39;49moptions\u001b[39m.\u001b[39;49mget(\u001b[39m\"\u001b[39;49m\u001b[39mencoding_errors\u001b[39;49m\u001b[39m\"\u001b[39;49m, \u001b[39m\"\u001b[39;49m\u001b[39mstrict\u001b[39;49m\u001b[39m\"\u001b[39;49m),\n\u001b[1;32m   1226\u001b[0m     storage_options\u001b[39m=\u001b[39;49m\u001b[39mself\u001b[39;49m\u001b[39m.\u001b[39;49moptions\u001b[39m.\u001b[39;49mget(\u001b[39m\"\u001b[39;49m\u001b[39mstorage_options\u001b[39;49m\u001b[39m\"\u001b[39;49m, \u001b[39mNone\u001b[39;49;00m),\n\u001b[1;32m   1227\u001b[0m )\n\u001b[1;32m   1228\u001b[0m \u001b[39massert\u001b[39;00m \u001b[39mself\u001b[39m\u001b[39m.\u001b[39mhandles \u001b[39mis\u001b[39;00m \u001b[39mnot\u001b[39;00m \u001b[39mNone\u001b[39;00m\n\u001b[1;32m   1229\u001b[0m f \u001b[39m=\u001b[39m \u001b[39mself\u001b[39m\u001b[39m.\u001b[39mhandles\u001b[39m.\u001b[39mhandle\n",
      "File \u001b[0;32m~/anaconda3/envs/Randy/lib/python3.10/site-packages/pandas/io/common.py:786\u001b[0m, in \u001b[0;36mget_handle\u001b[0;34m(path_or_buf, mode, encoding, compression, memory_map, is_text, errors, storage_options)\u001b[0m\n\u001b[1;32m    781\u001b[0m \u001b[39melif\u001b[39;00m \u001b[39misinstance\u001b[39m(handle, \u001b[39mstr\u001b[39m):\n\u001b[1;32m    782\u001b[0m     \u001b[39m# Check whether the filename is to be opened in binary mode.\u001b[39;00m\n\u001b[1;32m    783\u001b[0m     \u001b[39m# Binary mode does not support 'encoding' and 'newline'.\u001b[39;00m\n\u001b[1;32m    784\u001b[0m     \u001b[39mif\u001b[39;00m ioargs\u001b[39m.\u001b[39mencoding \u001b[39mand\u001b[39;00m \u001b[39m\"\u001b[39m\u001b[39mb\u001b[39m\u001b[39m\"\u001b[39m \u001b[39mnot\u001b[39;00m \u001b[39min\u001b[39;00m ioargs\u001b[39m.\u001b[39mmode:\n\u001b[1;32m    785\u001b[0m         \u001b[39m# Encoding\u001b[39;00m\n\u001b[0;32m--> 786\u001b[0m         handle \u001b[39m=\u001b[39m \u001b[39mopen\u001b[39;49m(\n\u001b[1;32m    787\u001b[0m             handle,\n\u001b[1;32m    788\u001b[0m             ioargs\u001b[39m.\u001b[39;49mmode,\n\u001b[1;32m    789\u001b[0m             encoding\u001b[39m=\u001b[39;49mioargs\u001b[39m.\u001b[39;49mencoding,\n\u001b[1;32m    790\u001b[0m             errors\u001b[39m=\u001b[39;49merrors,\n\u001b[1;32m    791\u001b[0m             newline\u001b[39m=\u001b[39;49m\u001b[39m\"\u001b[39;49m\u001b[39m\"\u001b[39;49m,\n\u001b[1;32m    792\u001b[0m         )\n\u001b[1;32m    793\u001b[0m     \u001b[39melse\u001b[39;00m:\n\u001b[1;32m    794\u001b[0m         \u001b[39m# Binary mode\u001b[39;00m\n\u001b[1;32m    795\u001b[0m         handle \u001b[39m=\u001b[39m \u001b[39mopen\u001b[39m(handle, ioargs\u001b[39m.\u001b[39mmode)\n",
      "\u001b[0;31mFileNotFoundError\u001b[0m: [Errno 2] No such file or directory: '/mnt/c/Users/Randy666/Documents/projects/ICON_lab/decentralized/logs/dec-mc-3_08-22-22_08:17.csv'"
     ]
    }
   ],
   "source": [
    "# filename = dec.repopath / \"logs\" / \"dec-mc-1_08-04-22_22.55.01.csv\"\n",
    "filename = dec.repopath / \"logs\" / \"dec-mc-3_08-22-22_08:17.csv\"\n",
    "df = pd.read_csv(filename)\n",
    "\n",
    "# Turn string lists into more usable objects.\n",
    "df.loc[:, 'ids'] = df.loc[:, 'ids'].apply(eval)\n",
    "df.loc[:, 'times'] = df.loc[:, 'times'].apply(lambda e: np.array(eval(e)))\n",
    "df.loc[:, 'subgraphs'] = df.loc[:, 'subgraphs'].apply(eval)\n",
    "df.loc[:, 'dist_left'] = df.loc[:, 'dist_left'].apply(eval)\n",
    "# df.loc[:, 'sizes'] = df.loc[:, 'subgraphs'].apply(lambda s: [len(si) for si in s])\n",
    "\n",
    "# Add a few additional statistitics.\n",
    "df.loc[:, 'avgtimes'] = df.loc[:, 'times'].apply(np.mean)\n",
    "df.loc[:, 'avgdist'] = df.loc[:, 'dist_left'].apply(np.mean)\n",
    "# df.loc[:, 'avgsizes'] = df.loc[:, 'sizes'].apply(np.mean)"
   ]
  },
  {
   "cell_type": "code",
   "execution_count": null,
   "id": "9993ffe5-0bf8-4a26-a51d-420646bc59a0",
   "metadata": {},
   "outputs": [],
   "source": [
    "def group_metric(frame, metric):\n",
    "    \"\"\"Get a metric and organize by n_agents then centralized\"\"\"\n",
    "    \n",
    "    grouped = []\n",
    "    n_agents_iter = frame.loc[:, 'n_agents'].unique()\n",
    "    for n_agents in n_agents_iter:\n",
    "        frame_i = frame.loc[frame.n_agents == n_agents]\n",
    "        metric_cen = frame_i.loc[frame_i.centralized == True, metric]\n",
    "        metric_dec = frame_i.loc[frame_i.centralized == False, metric]\n",
    "        grouped.extend([\n",
    "            np.vstack(metric_cen).flatten(), np.vstack(metric_dec).flatten()\n",
    "        ])\n",
    "        \n",
    "    return grouped\n",
    "\n",
    "def group_convergence(frame):\n",
    "    \"\"\"Grouping to compute convergence rates\"\"\"\n",
    "    \n",
    "    grouped = []\n",
    "    n_agents_iter = frame.loc[:, 'n_agents'].unique()\n",
    "    for n_agents in n_agents_iter:\n",
    "        frame_i = frame.loc[frame.n_agents == n_agents]\n",
    "        \n",
    "        frame_cen = frame_i.loc[frame_i.centralized == True]\n",
    "        frame_dec = frame_i.loc[frame_i.centralized == False]\n",
    "        \n",
    "        grouped.extend([\n",
    "            frame_cen.converged.sum() / frame_cen.converged.size,\n",
    "            frame_dec.converged.sum() / frame_dec.converged.size\n",
    "        ])\n",
    "        \n",
    "    return grouped"
   ]
  },
  {
   "cell_type": "code",
   "execution_count": null,
   "id": "434d74b0-2bee-48c8-aa7b-c07dac260683",
   "metadata": {},
   "outputs": [],
   "source": [
    "def plot_metric_by_model(df, grouped_metric, kind=\"box\", ylabel=None):\n",
    "    \"\"\"Visualize the metric across dynamical models\"\"\"\n",
    "    \n",
    "    if kind not in {\"box\", \"violin\"}:\n",
    "        raise ValueError()\n",
    "    \n",
    "    models = df.dynamics.unique().tolist()\n",
    "    n_agents_iter = df.n_agents.unique().tolist()\n",
    "    \n",
    "    plt.clf()\n",
    "    colors = cycle((\"C3\", \"C0\"))\n",
    "\n",
    "    for i, (model, metric) in enumerate(zip(models, grouped_metric)):\n",
    "        ax = fig.add_subplot(3, 1, i+1)\n",
    "        df_model = df[df.dynamics == model]\n",
    "\n",
    "        n_agents_iter = df_model.n_agents.unique().tolist()\n",
    "        positions = np.repeat(n_agents_iter, 2) + np.tile([-1, 1], len(n_agents_iter)) / 5\n",
    "        ticker = plt.LinearLocator(len(n_agents_iter))\n",
    "        tick_locs = ticker.tick_values(n_agents_iter[0], n_agents_iter[-1])\n",
    "        \n",
    "        if kind == \"box\":\n",
    "            bp = ax.boxplot(metric, positions=positions, sym=\"kx\", patch_artist=True, showfliers=False, widths=0.35)\n",
    "            for patch, color in zip(bp['boxes'], colors):\n",
    "                patch.set_facecolor(color)\n",
    "            ax.legend(ax.patches[:2], [\"Centralized\", \"Decentralized\"], loc=\"upper right\")\n",
    "        else:\n",
    "            vp = ax.violinplot(metric, positions=positions, showmeans=True, showextrema=True)\n",
    "            for pc, color in zip(vp['bodies'], colors):\n",
    "                pc.set_facecolor(color)\n",
    "                pc.set_edgecolor(color)\n",
    "\n",
    "            for line in vp.values():\n",
    "                if not isinstance(line, LineCollection):\n",
    "                    continue\n",
    "                line.set_colors(\"black\")\n",
    "                line.set_alpha(0.7)\n",
    "            ax.legend([\"Centralized\", \"Decentralized\"])\n",
    "\n",
    "        ax.set_xticks(tick_locs, labels=n_agents_iter)\n",
    "        ax.set_title(model)\n",
    "        ax.set_xlabel(\"# Agents\")\n",
    "        if ylabel:\n",
    "            ax.set_ylabel(ylabel)\n",
    "\n",
    "    plt.draw()\n",
    "    "
   ]
  },
  {
   "cell_type": "code",
   "execution_count": null,
   "id": "14d7a2e5-b716-407e-915e-875fceb639f7",
   "metadata": {},
   "outputs": [],
   "source": [
    "def plot_convergence_by_model(df, conv_rates):\n",
    "    \"\"\"Visualize the metric across dynamical models\"\"\"\n",
    "    \n",
    "    models = df.dynamics.unique().tolist()\n",
    "    n_agents_iter = df.n_agents.unique().tolist()\n",
    "    \n",
    "    plt.clf()\n",
    "    colors = (\"C3\", \"C0\")\n",
    "\n",
    "    for i, (model, metric) in enumerate(zip(models, conv_rates)):\n",
    "        ax = fig.add_subplot(3, 1, i+1)\n",
    "        df_model = df[df.dynamics == model]\n",
    "\n",
    "        n_agents_iter = df_model.n_agents.unique().tolist()\n",
    "        positions = np.repeat(n_agents_iter, 2) + np.tile([-1, 1], len(n_agents_iter)) / 5\n",
    "        ticker = plt.LinearLocator(len(n_agents_iter))\n",
    "        tick_locs = ticker.tick_values(n_agents_iter[0], n_agents_iter[-1])\n",
    "        \n",
    "        ax.bar(positions, metric, color=colors*len(n_agents_iter), width=0.4)\n",
    "        ax.legend(ax.patches[:2], [\"Centralized\", \"Decentralized\"])\n",
    "        ax.set_xticks(tick_locs, labels=n_agents_iter)\n",
    "        ax.set_title(model)\n",
    "        ax.set_xlabel(\"# Agents\")\n",
    "        ax.set_ylabel(\"Convergence Rate\")\n",
    "\n",
    "    plt.draw()"
   ]
  },
  {
   "cell_type": "code",
   "execution_count": null,
   "id": "130331d5-e4df-4740-ad4a-b085d2b187cf",
   "metadata": {},
   "outputs": [],
   "source": [
    "models = df.dynamics.unique().tolist()\n",
    "n_agents_iter = df.n_agents.unique().tolist()\n",
    "\n",
    "all_times = [group_metric(df[df.dynamics == model], \"avgtimes\")\n",
    "             for model in models]\n",
    "all_dists = [group_metric(df[(df.dynamics == model) & (df.loc[:, 'last'] == True)], \"avgdist\")\n",
    "             for model in models]\n",
    "all_costs = [group_metric(df[(df.dynamics == model) & (df.loc[:, 'last'] == True)], \"J\")\n",
    "             for model in models]\n",
    "all_ts = [group_metric(df[(df.dynamics == model) & (df.loc[:, \"last\"] == True) & (df.converged == True)], \"t\") \n",
    "          for model in models]\n",
    "\n",
    "conv_rates = [group_convergence(df[(df.dynamics == model) & (df.loc[:, 'last'] == True)])\n",
    "              for model in models]"
   ]
  },
  {
   "cell_type": "markdown",
   "id": "0357e59c-0742-4c9b-b4be-425b0e72eead",
   "metadata": {},
   "source": [
    "**NOTE:** distance left, final cost, and convergence rates aren't meaningful for analysis 1 with unlimited solve time. Similarly, solve time isn't super meaningful for analysis 2."
   ]
  },
  {
   "cell_type": "code",
   "execution_count": null,
   "id": "e2428472-14be-4125-b05c-4ed2b5a17180",
   "metadata": {},
   "outputs": [],
   "source": [
    "plot_metric_by_model(df, all_times, ylabel=\"Average Solve Time [s]\")\n",
    "plt.suptitle(\"Average Solve Time\", fontsize=16)\n",
    "plt.draw()\n",
    "plt.savefig(\"avg-solve-time.png\")"
   ]
  },
  {
   "cell_type": "code",
   "execution_count": null,
   "id": "c6cfe7c2-b2ce-462c-8ca8-33c68f733598",
   "metadata": {},
   "outputs": [],
   "source": [
    "plot_metric_by_model(df, all_dists, ylabel=\"Average Distance Left [m]\")\n",
    "plt.suptitle(\"Average Distance Left\", fontsize=16)\n",
    "plt.draw()\n",
    "plt.savefig(\"avg-dist-left.png\")"
   ]
  },
  {
   "cell_type": "code",
   "execution_count": null,
   "id": "49223e76-f259-4262-bce0-d36b7b2ee0e3",
   "metadata": {},
   "outputs": [],
   "source": [
    "plot_metric_by_model(df, all_costs, ylabel=\"Final Cost\")\n",
    "plt.suptitle(\"Final Cost\", fontsize=16)\n",
    "plt.draw()\n",
    "plt.savefig(\"final-cost.png\")"
   ]
  },
  {
   "cell_type": "code",
   "execution_count": null,
   "id": "44086298-4f9c-41c9-ac63-50bfedd023e8",
   "metadata": {},
   "outputs": [],
   "source": [
    "plot_metric_by_model(df, all_ts, ylabel=\"Convergence Time [s]\")\n",
    "plt.suptitle(\"Simulation Convergence Time\", fontsize=16)\n",
    "plt.draw()\n",
    "plt.savefig(\"convergence-times.png\")"
   ]
  },
  {
   "cell_type": "code",
   "execution_count": null,
   "id": "74876a8a-b738-4157-a337-1a876e0b0a7e",
   "metadata": {},
   "outputs": [],
   "source": [
    "plot_convergence_by_model(df, conv_rates)\n",
    "plt.suptitle(\"Convergence Rates\", fontsize=16)\n",
    "plt.draw()\n",
    "plt.savefig(\"convergence-rates.png\")"
   ]
  },
  {
   "cell_type": "code",
   "execution_count": null,
   "id": "d96b0538-87b7-4e26-8684-bd64388aad8d",
   "metadata": {},
   "outputs": [],
   "source": []
  },
  {
   "cell_type": "code",
   "execution_count": null,
   "id": "1fbba44f-63cf-4193-b57d-9b50a0cc1e5b",
   "metadata": {},
   "outputs": [],
   "source": []
  },
  {
   "cell_type": "code",
   "execution_count": null,
   "id": "938ff184-1995-46eb-a808-3433ffc2897b",
   "metadata": {},
   "outputs": [],
   "source": []
  },
  {
   "cell_type": "markdown",
   "id": "5292db53-1254-4887-8277-c03b4cdba580",
   "metadata": {},
   "source": [
    "## scratch"
   ]
  },
  {
   "cell_type": "code",
   "execution_count": null,
   "id": "3599dbad-467f-457e-91d4-ee2ec1ff75e9",
   "metadata": {},
   "outputs": [],
   "source": [
    "# This would be nice, but unfortunately catplot is a figure-level plot.\n",
    "double_int = df[df.dynamics == \"QuadcopterDynamics6D\"]\n",
    "\n",
    "sns.catplot(data=double_int, x=\"n_agents\", y=\"avgtimes\", hue=\"centralized\", kind=\"box\", legend=False, showfliers=False)\n",
    "plt.xlabel(\"# Agents\")\n",
    "plt.ylabel(\"Averange Solve Time [s]\")\n",
    "plt.title(\"2D Double Integrator\")\n",
    "ax = plt.gca()\n",
    "plt.legend([ax.patches[0], ax.patches[2]], [\"Decentralized\", \"Centralized\"])\n",
    "plt.tight_layout()"
   ]
  },
  {
   "cell_type": "code",
   "execution_count": null,
   "id": "2aa8fe72-886a-4af8-8218-a903b6cc3464",
   "metadata": {},
   "outputs": [],
   "source": []
  },
  {
   "cell_type": "code",
   "execution_count": null,
   "id": "dba4a4f6-98ec-40d2-882f-966fb27ea007",
   "metadata": {},
   "outputs": [],
   "source": []
  },
  {
   "cell_type": "markdown",
   "id": "11fdfd3e-1460-4c2c-a555-3a057b510f8c",
   "metadata": {
    "tags": []
   },
   "source": [
    "### potential function minimization\n",
    "\n",
    "Visualization of minimizing a potential function using stationary obstacles. Any optimal trajectory will try to traverse from its start to its goal with as low of cost as possible. "
   ]
  },
  {
   "cell_type": "code",
   "execution_count": null,
   "id": "da1ae95e-9f4a-4faa-b771-60d06e40edb9",
   "metadata": {},
   "outputs": [],
   "source": [
    "import mpl_toolkits.mplot3d.art3d as art3d"
   ]
  },
  {
   "cell_type": "code",
   "execution_count": null,
   "id": "272a5766-7c55-4b96-a37e-1c5d70e0ba55",
   "metadata": {},
   "outputs": [],
   "source": [
    "plt.figure()"
   ]
  },
  {
   "cell_type": "code",
   "execution_count": null,
   "id": "6463e452-f770-4f74-bb91-b00ee129d409",
   "metadata": {},
   "outputs": [],
   "source": [
    "start = np.array([[3, 3]])\n",
    "end = np.array([[0, 0]])\n",
    "obstacles = np.array([\n",
    "    [2, 2], [1, 3], [0.2, 1.1]\n",
    "])\n",
    "\n",
    "radii = np.array([0.5, 0.3, 0.6])"
   ]
  },
  {
   "cell_type": "code",
   "execution_count": null,
   "id": "0b5fc6ee-28e6-4ebc-8485-5a82b2ab81a5",
   "metadata": {},
   "outputs": [],
   "source": [
    "def cost(pos):\n",
    "    \"\"\"Reference plus weighted obstacle avoidance cost\"\"\"\n",
    "    ref_cost = np.linalg.norm(pos - end, axis=1)\n",
    "    obstacle_dists = np.linalg.norm(pos - obstacles, axis=1)\n",
    "    obstacle_cost = np.sum(np.fmin(np.zeros(1),  obstacle_dists - radii) ** 2)\n",
    "    return ref_cost + 10*obstacle_cost"
   ]
  },
  {
   "cell_type": "code",
   "execution_count": null,
   "id": "dd4108b5-c2fa-4439-9f14-0c0fc473a66b",
   "metadata": {},
   "outputs": [],
   "source": [
    "axis = (-1, 4, -1, 4)\n",
    "sample_grid = np.mgrid[axis[0]:axis[1]:0.1, axis[2]:axis[3]:0.1].T.reshape(-1,2)\n",
    "costs = np.zeros((0,))\n",
    "for point in sample_grid:\n",
    "    costs = np.concatenate([costs, cost(point)])\n",
    "side_len = round(np.sqrt(sample_grid.shape[0]))\n",
    "square_costs = costs.reshape(side_len, side_len)"
   ]
  },
  {
   "cell_type": "code",
   "execution_count": null,
   "id": "0d7911a8-cf7d-4986-bd5e-c3c28e7ef281",
   "metadata": {
    "tags": []
   },
   "outputs": [],
   "source": [
    "plt.clf()\n",
    "fig = plt.gcf()\n",
    "ax = fig.add_subplot(projection=\"3d\")\n",
    "\n",
    "X = np.r_[axis[0]:axis[1]:0.1]\n",
    "Y = np.r_[axis[2]:axis[3]:0.1]\n",
    "X, Y = np.meshgrid(X, Y)\n",
    "surf = ax.plot_surface(X, Y, square_costs + 2, cmap=plt.cm.plasma)\n",
    "\n",
    "for obstacle, radius in zip(obstacles, radii):\n",
    "    p = plt.Circle(obstacle, radius)\n",
    "    ax.add_patch(p)\n",
    "    art3d.pathpatch_2d_to_3d(p, z=0, zdir=\"z\")\n",
    "    \n",
    "pstart = ax.scatter(start[0,0], start[0,1], 0, s=80, c='g', marker='x')\n",
    "pend = ax.scatter(end[0,0], end[0,1], 0, s=80, c='r', marker='x')\n",
    "\n",
    "# ax.set_title(\"Potential Function Minimization\")\n",
    "ax.set_xlim(-1, 4)\n",
    "ax.set_ylim(-1, 4)\n",
    "# ax.set_zlim(0, 30)\n",
    "# fig.legend([p, pstart, pend], [\"Obstacles\", \"Start\", \"End\"], loc=\"lower right\")\n",
    "fig.colorbar(surf, shrink=0.5, label=\"Potential Function\")\n",
    "plt.tight_layout()\n",
    "\n",
    "plt.draw()"
   ]
  },
  {
   "cell_type": "code",
   "execution_count": null,
   "id": "bd13c490-0329-4724-9e14-d94de18d16bd",
   "metadata": {},
   "outputs": [],
   "source": []
  },
  {
   "cell_type": "code",
   "execution_count": null,
   "id": "e5ae5ea0-9450-4525-bfaa-cc4fdbb9a33c",
   "metadata": {},
   "outputs": [],
   "source": []
  },
  {
   "cell_type": "code",
   "execution_count": null,
   "id": "36b93bd6-ba5b-4d09-9d9b-8a909127e24c",
   "metadata": {},
   "outputs": [],
   "source": []
  }
 ],
 "metadata": {
  "kernelspec": {
   "display_name": "Python 3.10.4 ('Randy')",
   "language": "python",
   "name": "python3"
  },
  "language_info": {
   "codemirror_mode": {
    "name": "ipython",
    "version": 3
   },
   "file_extension": ".py",
   "mimetype": "text/x-python",
   "name": "python",
   "nbconvert_exporter": "python",
   "pygments_lexer": "ipython3",
   "version": "3.10.4"
  },
  "vscode": {
   "interpreter": {
    "hash": "399811294a7819b7e239898a57da83318870bf6cc244d0feadb37fb854947374"
   }
  }
 },
 "nbformat": 4,
 "nbformat_minor": 5
}
