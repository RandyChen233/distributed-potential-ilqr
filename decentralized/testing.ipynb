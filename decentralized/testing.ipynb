{
 "cells": [
  {
   "cell_type": "code",
   "execution_count": 2,
   "metadata": {},
   "outputs": [],
   "source": [
    "import numpy as np\n",
    "\n",
    "\n"
   ]
  },
  {
   "cell_type": "code",
   "execution_count": 3,
   "metadata": {},
   "outputs": [],
   "source": [
    "def rk4_integration(f, x0, u, h, dh=None):\n",
    "    \"\"\"Classic Runge-Kutta Method with sub-integration\"\"\"\n",
    "\n",
    "    if not dh:\n",
    "        dh = h\n",
    "\n",
    "    t = 0.0\n",
    "    x = x0.copy()\n",
    "\n",
    "    while t < h - 1e-8:\n",
    "        step = min(dh, h - t)\n",
    "\n",
    "        k0 = f(x, u)\n",
    "        k1 = f(x + 0.5 * k0 * step, u)\n",
    "        k2 = f(x + 0.5 * k1 * step, u)\n",
    "        k3 = f(x + k2 * step, u)\n",
    "\n",
    "        x += step * (k0 + 2.0 * k1 + 2.0 * k2 + k3) / 6.0\n",
    "        t += step\n",
    "\n",
    "    return x\n"
   ]
  },
  {
   "cell_type": "code",
   "execution_count": 4,
   "metadata": {},
   "outputs": [],
   "source": [
    "def f(x,u):\n",
    "    heading = x[2]\n",
    "    v = x[3]\n",
    "    steer = x[4]\n",
    "    x_d = np.array([\n",
    "        v*np.cos(heading),\n",
    "        v*np.sin(heading),\n",
    "        v*np.tan(steer),\n",
    "        u[0],\n",
    "        u[1]        \n",
    "    ])\n",
    "    return x_d"
   ]
  },
  {
   "cell_type": "code",
   "execution_count": 6,
   "metadata": {},
   "outputs": [],
   "source": [
    "x0 = np.random.rand(5)\n",
    "u0 = np.random.rand(2)\n",
    "dt = 0.1\n",
    "h = 0.1"
   ]
  },
  {
   "cell_type": "code",
   "execution_count": 10,
   "metadata": {},
   "outputs": [],
   "source": [
    "import matplotlib.pyplot as plt\n"
   ]
  },
  {
   "cell_type": "code",
   "execution_count": 16,
   "metadata": {},
   "outputs": [],
   "source": [
    "N = 50\n",
    "n_states = 5\n",
    "n_inputs = 3\n",
    "\n",
    "\n",
    "def rollout(x0, u_trj):\n",
    "\n",
    "    x_trj = np.zeros((u_trj.shape[0]+1, x0.shape[0]))\n",
    "  \n",
    "    # TODO: Define the rollout here and return the state trajectory x_trj: [N, number of states]\n",
    "    #scalar time step\n",
    "    x_trj[0,:] = x0\n",
    "    for i in range(0,x_trj.shape[0]-1): \n",
    "      x_trj[i+1,:] =rk4_integration(x_trj[i,:],u_trj[i,:])\n",
    "    return x_trj"
   ]
  },
  {
   "cell_type": "code",
   "execution_count": 18,
   "metadata": {},
   "outputs": [],
   "source": [
    "u_trj = np.zeros((N-1, n_inputs))\n",
    "x_trj = rollout(x0, u_trj)"
   ]
  },
  {
   "cell_type": "code",
   "execution_count": null,
   "metadata": {},
   "outputs": [],
   "source": []
  }
 ],
 "metadata": {
  "kernelspec": {
   "display_name": "Python 3.10.4 ('Randy')",
   "language": "python",
   "name": "python3"
  },
  "language_info": {
   "codemirror_mode": {
    "name": "ipython",
    "version": 3
   },
   "file_extension": ".py",
   "mimetype": "text/x-python",
   "name": "python",
   "nbconvert_exporter": "python",
   "pygments_lexer": "ipython3",
   "version": "3.10.4"
  },
  "orig_nbformat": 4,
  "vscode": {
   "interpreter": {
    "hash": "399811294a7819b7e239898a57da83318870bf6cc244d0feadb37fb854947374"
   }
  }
 },
 "nbformat": 4,
 "nbformat_minor": 2
}
