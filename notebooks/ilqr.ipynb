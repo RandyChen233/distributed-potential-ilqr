{
 "cells": [
  {
   "cell_type": "markdown",
   "id": "a0ea870e-b244-43f9-aa26-a5813c686582",
   "metadata": {
    "tags": []
   },
   "source": [
    "# iLQR\n",
    "Location for Linear-Quadratic Regulator (LQR) and iLQR for interactive trajectory planning.\n",
    "\n",
    "References:\n",
    "- [1] - [Dewolf - studywolf_control](https://github.com/studywolf/control/blob/master/studywolf_control/controllers/ilqr.py)\n",
    "- [2] - [Fridovich-Keil - ilqgames](https://github.com/HJReachability/ilqgames/blob/master/python/dynamical_system.py)\n",
    "- [3] - [Jackson, Howell - iLQR Tutorial](http://roboticexplorationlab.org/papers/iLQR_Tutorial.pdf)\n",
    "- [4] - [Jackson - AL iLQR Tutorial](https://bjack205.github.io/papers/AL_iLQR_Tutorial.pdf)\n",
    "- [5] - [Sears-Collins - Linear Quadratic Regulator Python Example](https://automaticaddison.com/linear-quadratic-regulator-lqr-with-python-code-example/)"
   ]
  },
  {
   "cell_type": "code",
   "execution_count": 2,
   "id": "dab1f12c-1aaa-458d-9fc5-eb6bb356d364",
   "metadata": {},
   "outputs": [],
   "source": [
    "import sys\n",
    "sys.path.append('/mnt/c/Users/ZachJW/Documents/Grad/Research/icon/icon/')\n",
    "\n",
    "import numpy as np\n",
    "import matplotlib.pyplot as plt\n",
    "from scipy.linalg import solve_discrete_are\n",
    "\n",
    "from control import iLQR, LQR\n",
    "from models import DoubleInt1dDynamics, DoubleInt2dDynamics\n",
    "from models import CarDynamics, UnicycleDynamics, BicycleDynamics\n",
    "from models import CarDynamicsDiff, UnicycleDynamicsDiff, BicycleDynamicsDiff\n",
    "from cost import QuadraticCost\n",
    "\n",
    "%matplotlib ipympl\n",
    "np.set_printoptions(precision=3, suppress=True)"
   ]
  },
  {
   "cell_type": "code",
   "execution_count": 3,
   "id": "44a6e8d3-0e88-4b1d-b90e-465b02940528",
   "metadata": {},
   "outputs": [
    {
     "data": {
      "application/vnd.jupyter.widget-view+json": {
       "model_id": "ecf9c1063f5a468fa9fdf2f38a24a368",
       "version_major": 2,
       "version_minor": 0
      },
      "text/plain": [
       "Canvas(toolbar=Toolbar(toolitems=[('Home', 'Reset original view', 'home', 'home'), ('Back', 'Back to previous …"
      ]
     },
     "metadata": {},
     "output_type": "display_data"
    },
    {
     "data": {
      "text/plain": [
       "<Figure size 640x480 with 0 Axes>"
      ]
     },
     "execution_count": 3,
     "metadata": {},
     "output_type": "execute_result"
    }
   ],
   "source": [
    "plt.figure()"
   ]
  },
  {
   "cell_type": "markdown",
   "id": "3b19367f-3b4f-4471-9690-f40fd063f326",
   "metadata": {
    "tags": []
   },
   "source": [
    "### iLQR"
   ]
  },
  {
   "cell_type": "code",
   "execution_count": 4,
   "id": "ea7edf96-2c14-4e9b-979a-ef79c9ac2ada",
   "metadata": {
    "tags": []
   },
   "outputs": [
    {
     "name": "stdout",
     "output_type": "stream",
     "text": [
      "[run] 0/60\tJ: 13467.4\n",
      "[run] 1/60\tJ: 13106.8\tμ: 0.5\tΔ: 0.5\n",
      "[run] 2/60\tJ: 1816.36\tμ: 0.125\tΔ: 0.25\n",
      "[run] 3/60\tJ: 464.783\tμ: 0.015625\tΔ: 0.125\n",
      "[run] 4/60\tJ: 436.707\tμ: 0.000976562\tΔ: 0.0625\n",
      "[run] 5/60\tJ: 431.592\tμ: 3.05176e-05\tΔ: 0.03125\n",
      "[run] 6/60\tJ: 430.983\tμ: 0\tΔ: 0.015625\n",
      "[run] 7/60\tJ: 430.899\tμ: 0\tΔ: 0.0078125\n",
      "[run] 8/60\tJ: 430.888\tμ: 0\tΔ: 0.00390625\n",
      "[run] 9/60\tJ: 430.886\tμ: 0\tΔ: 0.00195312\n"
     ]
    }
   ],
   "source": [
    "dt = 0.05\n",
    "N = 100\n",
    "n_lqr_iter = 60\n",
    "tol = 1e-6\n",
    "\n",
    "# dynamics = DoubleInt1dDynamics(dt)\n",
    "# x0 = np.array([2, 0])\n",
    "# xf = np.array([0, 1])\n",
    "# Q = np.diag([1, 1])\n",
    "# R = np.eye(1) * 0.01\n",
    "\n",
    "# dynamics = DoubleInt2dDynamics(dt)\n",
    "# x0 = np.array([1, 1, 10, 0])\n",
    "# xf = np.array([0, 0, 0, 0])\n",
    "# Q = np.diag([1, 1, .1, .1])\n",
    "# R = np.eye(2) * 0.01\n",
    "\n",
    "# dynamics = CarDynamics(dt)\n",
    "# dynamics = CarDynamicsDiff(dt)\n",
    "# x0 = np.array([-1, 2, np.pi/4])\n",
    "# xf = np.array([0, 0, 0])\n",
    "# Q = np.diag([1, 1, 0])\n",
    "# R = np.eye(2)\n",
    "\n",
    "# dynamics = UnicycleDynamics(dt)\n",
    "# dynamics = UnicycleDynamicsDiff(dt)\n",
    "# x0 = np.array([1, -2, 10, -np.pi/2])\n",
    "# xf = np.array([0, 0, 0, 0])\n",
    "# Q = np.diag([1, 1, 0, 0])\n",
    "# R = np.eye(2)\n",
    "\n",
    "# dynamics = BicycleDynamics(dt)\n",
    "dynamics = BicycleDynamicsDiff(dt)\n",
    "x0 = np.array([-3, 1, np.pi/2, 0, 0])\n",
    "xf = np.array([0, 0, 0, 0, 0])\n",
    "Q = np.diag([1, 1, 0, 0, 0])\n",
    "R = np.eye(2)\n",
    "\n",
    "Qf = np.eye(Q.shape[0]) * 1e3\n",
    "quad_cost = QuadraticCost(xf, Q, R, Qf)\n",
    "ilqr = iLQR(dynamics, quad_cost, N=N)\n",
    "X, U, cost = ilqr.run(x0, n_lqr_iter, tol)\n",
    "dynamics.plot(X, quad_cost.xf, False)"
   ]
  },
  {
   "cell_type": "markdown",
   "id": "24220829-99c5-4472-a8ef-893edfea68dc",
   "metadata": {
    "tags": []
   },
   "source": [
    "### LQR"
   ]
  },
  {
   "cell_type": "code",
   "execution_count": null,
   "id": "df732b6a-1cc0-4b70-a426-e01463246804",
   "metadata": {},
   "outputs": [],
   "source": [
    "N = 60\n",
    "dt = 0.1\n",
    "\n",
    "# dynamics = DoubleInt1dDynamics(dt)\n",
    "# x0 = np.array([10, 0])\n",
    "# xf = np.array([0, 0])\n",
    "# Q = np.diag([1, 1])\n",
    "# R = np.eye(1)\n",
    "\n",
    "dynamics = DoubleInt2dDynamics(dt)\n",
    "x0 = np.array([1, 1, 0, 0])\n",
    "xf = np.array([0, 0, 0, 0])\n",
    "Q = np.eye(4)\n",
    "R = np.eye(2)\n",
    "\n",
    "# dynamics = CarDynamicsDiff(dt)\n",
    "# x0 = np.array([5.0, 5.0, np.pi/2])\n",
    "# xf = np.array([0, 0, 0])\n",
    "# Q = np.diag([1, 1, 0])\n",
    "# R = np.eye(2) * 0.01\n",
    "\n",
    "# dynamics = UnicycleDynamicsDiff(dt)\n",
    "# x0 = np.array([-1, -1, 0, np.pi/2])\n",
    "# xf = np.array([0, 0, 0, 0])\n",
    "# Q = np.diag([1, 1, 0, 0])\n",
    "# R = np.eye(2)\n",
    "\n",
    "Qf = np.eye(Q.shape[0]) * 1e3\n",
    "quad_cost = QuadraticCost(xf, Q, R, Qf)\n",
    "lqr = LQR(dynamics, quad_cost, N=N)\n",
    "X, U, J = lqr.run(x0)\n",
    "dynamics.plot(X, xf)"
   ]
  },
  {
   "cell_type": "code",
   "execution_count": null,
   "id": "d52a2e7d-9ba0-43df-9dfe-ada71fa23c25",
   "metadata": {},
   "outputs": [],
   "source": []
  }
 ],
 "metadata": {
  "kernelspec": {
   "display_name": "Python 3 (ipykernel)",
   "language": "python",
   "name": "python3"
  },
  "language_info": {
   "codemirror_mode": {
    "name": "ipython",
    "version": 3
   },
   "file_extension": ".py",
   "mimetype": "text/x-python",
   "name": "python",
   "nbconvert_exporter": "python",
   "pygments_lexer": "ipython3",
   "version": "3.9.6"
  }
 },
 "nbformat": 4,
 "nbformat_minor": 5
}
