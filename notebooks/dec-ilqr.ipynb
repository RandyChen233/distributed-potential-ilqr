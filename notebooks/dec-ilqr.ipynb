{
 "cells": [
  {
   "cell_type": "markdown",
   "id": "a0ea870e-b244-43f9-aa26-a5813c686582",
   "metadata": {
    "tags": []
   },
   "source": [
    "# dec-iLQR\n",
    "Location for Linear-Quadratic Regulator (LQR) and iLQR for interactive trajectory planning with applications to Decentralized Control.\n",
    "\n",
    "References:\n",
    "- [1] - [Dewolf - studywolf_control](https://github.com/studywolf/control/blob/master/studywolf_control/controllers/ilqr.py)\n",
    "- [2] - [Fridovich-Keil - ilqgames](https://github.com/HJReachability/ilqgames/blob/master/python/dynamical_system.py)\n",
    "- [3] - [Jackson, Howell - iLQR Tutorial](http://roboticexplorationlab.org/papers/iLQR_Tutorial.pdf)\n",
    "- [4] - [Jackson - AL iLQR Tutorial](https://bjack205.github.io/papers/AL_iLQR_Tutorial.pdf)\n",
    "- [5] - [Sears-Collins - Linear Quadratic Regulator Python Example](https://automaticaddison.com/linear-quadratic-regulator-lqr-with-python-code-example/)"
   ]
  },
  {
   "cell_type": "code",
   "execution_count": 1,
   "id": "dab1f12c-1aaa-458d-9fc5-eb6bb356d364",
   "metadata": {},
   "outputs": [],
   "source": [
    "import sys\n",
    "sys.path.append('/mnt/c/Users/ZachJW/Documents/Grad/Research/dec-ilqr/dec-ilqr/')\n",
    "\n",
    "import numpy as np\n",
    "import matplotlib.pyplot as plt\n",
    "\n",
    "from control import iLQR, LQR\n",
    "from models import DoubleInt1dDynamics, DoubleInt2dDynamics\n",
    "from models import CarDynamics, UnicycleDynamics, BicycleDynamics\n",
    "from cost import ObstacleCost, ReferenceCost, AgentCost\n",
    "from util import Point"
   ]
  },
  {
   "cell_type": "code",
   "execution_count": 2,
   "id": "969d54e8-1b59-4e69-9562-cd60ed8c077e",
   "metadata": {},
   "outputs": [],
   "source": [
    "%matplotlib ipympl\n",
    "np.set_printoptions(precision=3, suppress=True)"
   ]
  },
  {
   "cell_type": "code",
   "execution_count": 3,
   "id": "44a6e8d3-0e88-4b1d-b90e-465b02940528",
   "metadata": {},
   "outputs": [
    {
     "data": {
      "application/vnd.jupyter.widget-view+json": {
       "model_id": "eb5ba6571b27419cb59e1ed46f85e5b2",
       "version_major": 2,
       "version_minor": 0
      },
      "text/plain": [
       "Canvas(toolbar=Toolbar(toolitems=[('Home', 'Reset original view', 'home', 'home'), ('Back', 'Back to previous …"
      ]
     },
     "metadata": {},
     "output_type": "display_data"
    },
    {
     "data": {
      "application/vnd.jupyter.widget-view+json": {
       "model_id": "4497246912f04a12b3431ea27184a923",
       "version_major": 2,
       "version_minor": 0
      },
      "text/plain": [
       "Canvas(toolbar=Toolbar(toolitems=[('Home', 'Reset original view', 'home', 'home'), ('Back', 'Back to previous …"
      ]
     },
     "metadata": {},
     "output_type": "display_data"
    }
   ],
   "source": [
    "f1 = plt.figure()\n",
    "f2 = plt.figure()\n",
    "plt.show()"
   ]
  },
  {
   "cell_type": "markdown",
   "id": "3b19367f-3b4f-4471-9690-f40fd063f326",
   "metadata": {
    "tags": []
   },
   "source": [
    "### iLQR"
   ]
  },
  {
   "cell_type": "code",
   "execution_count": 5,
   "id": "daeb4a3d-2ca1-4ef6-8d87-ed95ed1bb548",
   "metadata": {},
   "outputs": [],
   "source": [
    "dt = 0.1\n",
    "N = 60\n",
    "n_lqr_iter = 50\n",
    "tol = 1e-3\n",
    "\n",
    "# dynamics = DoubleInt1dDynamics(dt)\n",
    "# x0 = np.array([2, 0])\n",
    "# xf = np.array([0, 1])\n",
    "# Q = np.diag([1, 1])\n",
    "# R = np.eye(1) * 0.01\n",
    "\n",
    "# dynamics = DoubleInt2dDynamics(dt)\n",
    "# x0 = np.array([10, 10, 0, 0])\n",
    "# xf = np.array([0, 0, 0, 0])\n",
    "# Q = np.diag([1, 1, 0, 0])\n",
    "# R = np.eye(2)\n",
    "\n",
    "# dynamics = CarDynamics(dt)\n",
    "# x0 = np.array([11, 11, np.pi/2])\n",
    "# xf = np.array([0, 0, 0])\n",
    "# Q = np.diag([1, 1, 0])\n",
    "# R = np.eye(2) * 0.5\n",
    "\n",
    "dynamics = UnicycleDynamics(dt)\n",
    "x0 = np.array([0, 0, 0, 0])\n",
    "xf = np.array([10, 10, 0, np.pi/4])\n",
    "Q = np.diag([1, 1, 0, 0])\n",
    "R = np.eye(2)\n",
    "\n",
    "# dynamics = BicycleDynamics(dt)\n",
    "# x0 = np.array([10, 10, np.pi/2, 0, 0])\n",
    "# xf = np.array([0, 0, 0, 0, 0])\n",
    "# Q = np.diag([1, 1, 0, 0, 0])\n",
    "# R = np.eye(2)\n",
    "\n",
    "Qf = np.eye(Q.shape[0]) * 1e3\n",
    "reference = ReferenceCost(xf, Q, R, Qf)\n",
    "obstacles = [ObstacleCost((0, 1), Point(3, 3), 2),\n",
    "             ObstacleCost((0, 1), Point(9, 7), 2),\n",
    "             ObstacleCost((0, 1), Point(3, 10), 3)]\n",
    "\n",
    "REF_WEIGHT = 1.0\n",
    "OBS_WEIGHT = 1e6\n",
    "weights = [OBS_WEIGHT] * len(obstacles) + [REF_WEIGHT]\n",
    "agent_cost = AgentCost(obstacles + [reference], weights)"
   ]
  },
  {
   "cell_type": "code",
   "execution_count": 6,
   "id": "5bc4f17d-2867-4226-b1bb-3615ba654ac7",
   "metadata": {},
   "outputs": [
    {
     "name": "stdout",
     "output_type": "stream",
     "text": [
      "[run] 0/50\tJ: 212617\n",
      "[run] 1/50\tJ: 66991.5\tμ: 0.5\tΔ: 0.5\n",
      "[run] 2/50\tJ: 55656.4\tμ: 0.125\tΔ: 0.25\n",
      "[run] 3/50\tJ: 54669.8\tμ: 0.015625\tΔ: 0.125\n",
      "[run] 4/50\tJ: 54437.3\tμ: 0.000976562\tΔ: 0.0625\n",
      "[run] 5/50\tJ: 54292.3\tμ: 3.05176e-05\tΔ: 0.03125\n",
      "[run] 6/50\tJ: 35469\tμ: 0\tΔ: 0.015625\n",
      "[run] 7/50\tJ: 14171.2\tμ: 0\tΔ: 0.0078125\n",
      "[run] 8/50\tJ: 7350.44\tμ: 0\tΔ: 0.00390625\n",
      "[run] 9/50\tJ: 7104.33\tμ: 0\tΔ: 0.00195312\n",
      "[run] 10/50\tJ: 7023.41\tμ: 0\tΔ: 0.000976562\n",
      "[run] 11/50\tJ: 3756.43\tμ: 0\tΔ: 0.000488281\n"
     ]
    }
   ],
   "source": [
    "ilqr = iLQR(dynamics, agent_cost, N=N)\n",
    "X, U, Jf = ilqr.run(x0, n_lqr_iter, tol)"
   ]
  },
  {
   "cell_type": "code",
   "execution_count": 25,
   "id": "5bf6f12e-3744-4e6f-8619-25b5e7ac9577",
   "metadata": {},
   "outputs": [],
   "source": [
    "# plt.figure(f1)\n",
    "ilqr.plot(X, Jf, False, surface_plot=True, axis=(-1, 11, -1, 11), log_colors=True)"
   ]
  },
  {
   "cell_type": "markdown",
   "id": "f616c796-afe2-46a4-84c5-89258eb922f9",
   "metadata": {},
   "source": [
    "#### Visualizing the Cost Surface"
   ]
  },
  {
   "cell_type": "code",
   "execution_count": 22,
   "id": "670fc601-2c7e-49b4-ada7-82a88630df3a",
   "metadata": {},
   "outputs": [],
   "source": [
    "obstacles = [ObstacleCost((0, 1), Point(3, 3), 2),\n",
    "             ObstacleCost((0, 1), Point(9, 7), 2),\n",
    "             ObstacleCost((0, 1), Point(3, 10), 3)]\n",
    "\n",
    "xf = np.array([10, 10, 0, np.pi/4])\n",
    "Q = np.diag([1, 1, 0, 0])\n",
    "Qf = np.eye(Q.shape[0])\n",
    "R = np.zeros((2,2))\n",
    "ref = ReferenceCost(xf, Q, R, Qf)\n",
    "\n",
    "OBS_WEIGHT = 100\n",
    "REF_WEIGHT = 1.0\n",
    "\n",
    "weights = [OBS_WEIGHT] * len(obstacles) + [REF_WEIGHT]\n",
    "costs = obstacles + [ref]\n",
    "\n",
    "agent_cost = AgentCost(costs, weights)\n",
    "plt.figure(f2), plt.clf()\n",
    "agent_cost.plot(True, x0=np.zeros(4), axis=(0, 11, 0, 11), log_colors=False)"
   ]
  },
  {
   "cell_type": "markdown",
   "id": "b7865e9c-fb5a-4327-9872-8db6ab94cf9a",
   "metadata": {},
   "source": [
    "#### Validating Obstacle Quadraticization"
   ]
  },
  {
   "cell_type": "code",
   "execution_count": 6,
   "id": "a0a91082-5991-4fcf-896f-1353001f49bb",
   "metadata": {},
   "outputs": [
    {
     "data": {
      "text/plain": [
       "[array([[2., 0., 0., 0.],\n",
       "        [0., 2., 0., 0.],\n",
       "        [0., 0., 0., 0.],\n",
       "        [0., 0., 0., 0.]]),\n",
       " array([[ 1849.141,   754.293,     0.   ,     0.   ],\n",
       "        [  754.293, -1771.464,     0.   ,     0.   ],\n",
       "        [    0.   ,     0.   ,     0.   ,     0.   ],\n",
       "        [    0.   ,     0.   ,     0.   ,     0.   ]])]"
      ]
     },
     "execution_count": 6,
     "metadata": {},
     "output_type": "execute_result"
    }
   ],
   "source": [
    "self = agent_cost\n",
    "x = np.array([5.5, 5.1, 0, 0])\n",
    "u = np.array([0, 0])\n",
    "L = []\n",
    "L_x = []\n",
    "L_u = []\n",
    "L_xx = []\n",
    "L_uu = []\n",
    "L_ux = []\n",
    "\n",
    "for cost, weight in zip(self.costs, self.weights):\n",
    "    L.append(cost(x, u) * weight)\n",
    "    L_xi, L_ui, L_xxi, L_uui, L_uxi = cost.quadraticize(x, u)\n",
    "    L_x.append(weight * L_xi)\n",
    "    L_u.append(weight * L_ui)\n",
    "    L_xx.append(weight * L_xxi)\n",
    "    L_uu.append(weight * L_uui)\n",
    "    L_ux.append(weight * L_uxi)\n",
    "L_xx"
   ]
  },
  {
   "cell_type": "markdown",
   "id": "24220829-99c5-4472-a8ef-893edfea68dc",
   "metadata": {
    "tags": []
   },
   "source": [
    "### LQR"
   ]
  },
  {
   "cell_type": "code",
   "execution_count": null,
   "id": "df732b6a-1cc0-4b70-a426-e01463246804",
   "metadata": {},
   "outputs": [],
   "source": [
    "N = 60\n",
    "dt = 0.1\n",
    "\n",
    "dynamics = DoubleInt1dDynamics(dt)\n",
    "x0 = np.array([10, 0])\n",
    "xf = np.array([0, 0])\n",
    "Q = np.diag([1, 1])\n",
    "R = np.eye(1)\n",
    "\n",
    "# dynamics = DoubleInt2dDynamics(dt)\n",
    "# x0 = np.array([1, 1, 0, 0])\n",
    "# xf = np.array([0, 0, 0, 0])\n",
    "# Q = np.eye(4)\n",
    "# R = np.eye(2)\n",
    "\n",
    "# dynamics = CarDynamics(dt)\n",
    "# x0 = np.array([5.0, 5.0, np.pi/2])\n",
    "# xf = np.array([0, 0, 0])\n",
    "# Q = np.diag([1, 1, 0])\n",
    "# R = np.eye(2) * 0.01\n",
    "\n",
    "# dynamics = UnicycleDynamics(dt)\n",
    "# x0 = np.array([-1, -1, 0, np.pi/3])\n",
    "# xf = np.array([0, 0, 0, 0])\n",
    "# Q = np.diag([1, 1, 0, 0])\n",
    "# R = np.eye(2)\n",
    "\n",
    "Qf = np.eye(Q.shape[0]) * 1e3\n",
    "quad_cost = ReferenceCost(xf, Q, R, Qf)\n",
    "lqr = LQR(dynamics, quad_cost, N=N)\n",
    "X, U, J = lqr.run(x0)\n",
    "lqr.plot(X, J)"
   ]
  },
  {
   "cell_type": "code",
   "execution_count": null,
   "id": "00eb1c6d-5e18-4f70-9205-2222a16e0343",
   "metadata": {},
   "outputs": [],
   "source": []
  }
 ],
 "metadata": {
  "kernelspec": {
   "display_name": "Python 3 (ipykernel)",
   "language": "python",
   "name": "python3"
  },
  "language_info": {
   "codemirror_mode": {
    "name": "ipython",
    "version": 3
   },
   "file_extension": ".py",
   "mimetype": "text/x-python",
   "name": "python",
   "nbconvert_exporter": "python",
   "pygments_lexer": "ipython3",
   "version": "3.9.6"
  }
 },
 "nbformat": 4,
 "nbformat_minor": 5
}
