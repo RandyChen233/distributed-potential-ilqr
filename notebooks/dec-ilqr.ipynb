{
 "cells": [
  {
   "cell_type": "markdown",
   "id": "a0ea870e-b244-43f9-aa26-a5813c686582",
   "metadata": {
    "tags": []
   },
   "source": [
    "# dec-iLQR\n",
    "Location for Linear-Quadratic Regulator (LQR) and iLQR for interactive trajectory planning with applications to Decentralized Control.\n",
    "\n",
    "References:\n",
    "- [1] - [Dewolf - studywolf_control](https://github.com/studywolf/control/blob/master/studywolf_control/controllers/ilqr.py)\n",
    "- [2] - [Fridovich-Keil - ilqgames](https://github.com/HJReachability/ilqgames/blob/master/python/dynamical_system.py)\n",
    "- [3] - [Jackson, Howell - iLQR Tutorial](http://roboticexplorationlab.org/papers/iLQR_Tutorial.pdf)\n",
    "- [4] - [Jackson - AL iLQR Tutorial](https://bjack205.github.io/papers/AL_iLQR_Tutorial.pdf)\n",
    "- [5] - [Sears-Collins - Linear Quadratic Regulator Python Example](https://automaticaddison.com/linear-quadratic-regulator-lqr-with-python-code-example/)"
   ]
  },
  {
   "cell_type": "code",
   "execution_count": 1,
   "id": "dab1f12c-1aaa-458d-9fc5-eb6bb356d364",
   "metadata": {},
   "outputs": [],
   "source": [
    "import sys\n",
    "sys.path.append('/mnt/c/Users/ZachJW/Documents/Grad/Research/dec-ilqr/dec-ilqr/')\n",
    "\n",
    "import numpy as np\n",
    "import matplotlib.pyplot as plt\n",
    "\n",
    "from control import iLQR, LQR\n",
    "from models import DoubleInt1dDynamics, DoubleInt2dDynamics\n",
    "from models import CarDynamics, UnicycleDynamics, BicycleDynamics\n",
    "from dynamics import MultiDynamicalModel\n",
    "from cost import ObstacleCost, ReferenceCost, CouplingCost, AgentCost\n",
    "from util import Point"
   ]
  },
  {
   "cell_type": "code",
   "execution_count": 2,
   "id": "969d54e8-1b59-4e69-9562-cd60ed8c077e",
   "metadata": {},
   "outputs": [],
   "source": [
    "%matplotlib ipympl\n",
    "np.set_printoptions(precision=3, suppress=True)"
   ]
  },
  {
   "cell_type": "code",
   "execution_count": 3,
   "id": "44a6e8d3-0e88-4b1d-b90e-465b02940528",
   "metadata": {},
   "outputs": [
    {
     "data": {
      "application/vnd.jupyter.widget-view+json": {
       "model_id": "5dff80aaa5ec4bd983605ddf86d8ec41",
       "version_major": 2,
       "version_minor": 0
      },
      "text/plain": [
       "Canvas(toolbar=Toolbar(toolitems=[('Home', 'Reset original view', 'home', 'home'), ('Back', 'Back to previous …"
      ]
     },
     "metadata": {},
     "output_type": "display_data"
    }
   ],
   "source": [
    "plt.figure()\n",
    "plt.show()"
   ]
  },
  {
   "cell_type": "markdown",
   "id": "b40cca1d-ac85-4b30-b670-81a10ecdcf96",
   "metadata": {},
   "source": [
    "### Combining Dynamical Models"
   ]
  },
  {
   "cell_type": "code",
   "execution_count": 14,
   "id": "3e98f624-ba87-4da2-acf2-85491ce9df05",
   "metadata": {},
   "outputs": [
    {
     "name": "stdout",
     "output_type": "stream",
     "text": [
      "The Zen of Python, by Tim Peters\n",
      "\n",
      "Beautiful is better than ugly.\n",
      "Explicit is better than implicit.\n",
      "Simple is better than complex.\n",
      "Complex is better than complicated.\n",
      "Flat is better than nested.\n",
      "Sparse is better than dense.\n",
      "Readability counts.\n",
      "Special cases aren't special enough to break the rules.\n",
      "Although practicality beats purity.\n",
      "Errors should never pass silently.\n",
      "Unless explicitly silenced.\n",
      "In the face of ambiguity, refuse the temptation to guess.\n",
      "There should be one-- and preferably only one --obvious way to do it.\n",
      "Although that way may not be obvious at first unless you're Dutch.\n",
      "Now is better than never.\n",
      "Although never is often better than *right* now.\n",
      "If the implementation is hard to explain, it's a bad idea.\n",
      "If the implementation is easy to explain, it may be a good idea.\n",
      "Namespaces are one honking great idea -- let's do more of those!\n"
     ]
    }
   ],
   "source": [
    "import this"
   ]
  },
  {
   "cell_type": "code",
   "execution_count": 4,
   "id": "3dc8932e-569e-44c7-96f8-eb51f8f7ef1c",
   "metadata": {},
   "outputs": [
    {
     "data": {
      "text/plain": [
       "[4, 3, 5]"
      ]
     },
     "execution_count": 4,
     "metadata": {},
     "output_type": "execute_result"
    }
   ],
   "source": [
    "dt = 1.0\n",
    "uni = UnicycleDynamics(dt)\n",
    "car = CarDynamics(dt)\n",
    "bike = BicycleDynamics(dt)\n",
    "md = MultiDynamicalModel([uni, car, bike])\n",
    "md.x_dims"
   ]
  },
  {
   "cell_type": "code",
   "execution_count": 5,
   "id": "5cd369e5-07ed-4c1f-b731-20d5829c4097",
   "metadata": {},
   "outputs": [],
   "source": [
    "x = np.random.randint(10, size=md.n_x)\n",
    "u = np.random.randint(10, size=md.n_u)\n",
    "x_next = md(x, u)\n",
    "A, B = md.linearize(x, u)"
   ]
  },
  {
   "cell_type": "code",
   "execution_count": 6,
   "id": "4a722867-8350-4979-9d7b-e3c2db5c4669",
   "metadata": {},
   "outputs": [],
   "source": [
    "x = np.array([0, 0, 6, 5, \n",
    "              0, 1, 5, \n",
    "            -0.5, 2, 2, 0, 4])"
   ]
  },
  {
   "cell_type": "code",
   "execution_count": 13,
   "id": "1c432f99-aab9-4e7e-b273-505dba331591",
   "metadata": {},
   "outputs": [
    {
     "ename": "ValueError",
     "evalue": "not enough values to unpack (expected 2, got 0)",
     "output_type": "error",
     "traceback": [
      "\u001b[0;31m---------------------------------------------------------------------------\u001b[0m",
      "\u001b[0;31mValueError\u001b[0m                                Traceback (most recent call last)",
      "\u001b[0;32m/tmp/ipykernel_721/86119.py\u001b[0m in \u001b[0;36m<module>\u001b[0;34m\u001b[0m\n\u001b[0;32m----> 1\u001b[0;31m \u001b[0ma\u001b[0m\u001b[0;34m,\u001b[0m \u001b[0mb\u001b[0m \u001b[0;34m=\u001b[0m \u001b[0;34m[\u001b[0m\u001b[0;34m]\u001b[0m\u001b[0;34m\u001b[0m\u001b[0;34m\u001b[0m\u001b[0m\n\u001b[0m\u001b[1;32m      2\u001b[0m \u001b[0ma\u001b[0m\u001b[0;34m.\u001b[0m\u001b[0mappend\u001b[0m\u001b[0;34m(\u001b[0m\u001b[0;36m1\u001b[0m\u001b[0;34m)\u001b[0m\u001b[0;34m\u001b[0m\u001b[0;34m\u001b[0m\u001b[0m\n\u001b[1;32m      3\u001b[0m \u001b[0ma\u001b[0m\u001b[0;34m,\u001b[0m \u001b[0mb\u001b[0m\u001b[0;34m\u001b[0m\u001b[0;34m\u001b[0m\u001b[0m\n",
      "\u001b[0;31mValueError\u001b[0m: not enough values to unpack (expected 2, got 0)"
     ]
    }
   ],
   "source": [
    "a, b = []\n",
    "a.append(1)\n",
    "a, b"
   ]
  },
  {
   "cell_type": "code",
   "execution_count": 7,
   "id": "61002caa-248e-446b-8c17-5bcefeaac808",
   "metadata": {},
   "outputs": [
    {
     "name": "stdout",
     "output_type": "stream",
     "text": [
      "[[-2. -0.]\n",
      " [-0.  2.]]\n",
      "[[0. 0.]\n",
      " [0. 0.]]\n",
      "[[-0.862 -1.431]\n",
      " [-1.431  1.284]]\n"
     ]
    }
   ],
   "source": [
    "pos_inds = [(0, 1), (4, 5), (7, 8)]\n",
    "max_distance = 2.0\n",
    "coup_cost = CouplingCost(pos_inds, max_distance)\n",
    "L = coup_cost(x)\n",
    "L_x, L_u, L_xx, L_uu, L_ux = coup_cost.quadraticize(x, u)"
   ]
  },
  {
   "cell_type": "code",
   "execution_count": 7,
   "id": "2093a621-3d5c-41ba-a34d-06fe1b48319b",
   "metadata": {},
   "outputs": [],
   "source": [
    "from cost import quadraticize_distance"
   ]
  },
  {
   "cell_type": "code",
   "execution_count": 29,
   "id": "a4b26339-0d37-46c7-8d20-57bcbb8f9602",
   "metadata": {},
   "outputs": [
    {
     "data": {
      "text/plain": [
       "((0, 0), (0, 1))"
      ]
     },
     "execution_count": 29,
     "metadata": {},
     "output_type": "execute_result"
    }
   ],
   "source": [
    "pa = Point(x[pos_inds[0][0]], x[pos_inds[0][1]])\n",
    "pb = Point(x[pos_inds[1][0]], x[pos_inds[1][1]])\n",
    "pa, pb"
   ]
  },
  {
   "cell_type": "code",
   "execution_count": 33,
   "id": "76a47a1a-0005-40e8-8650-f9f9dc1a5f76",
   "metadata": {},
   "outputs": [
    {
     "data": {
      "text/plain": [
       "(array([-0.,  2.]),\n",
       " array([[-2., -0.],\n",
       "        [-0.,  2.]]))"
      ]
     },
     "execution_count": 33,
     "metadata": {},
     "output_type": "execute_result"
    }
   ],
   "source": [
    "L_xi, L_xxi = quadraticize_distance(pa, pb, max_distance)\n",
    "L_xi, L_xxi"
   ]
  },
  {
   "cell_type": "markdown",
   "id": "3b19367f-3b4f-4471-9690-f40fd063f326",
   "metadata": {
    "tags": []
   },
   "source": [
    "### iLQR"
   ]
  },
  {
   "cell_type": "code",
   "execution_count": 4,
   "id": "daeb4a3d-2ca1-4ef6-8d87-ed95ed1bb548",
   "metadata": {},
   "outputs": [],
   "source": [
    "dt = 0.1\n",
    "N = 60\n",
    "n_lqr_iter = 50\n",
    "tol = 1e-3\n",
    "\n",
    "# dynamics = DoubleInt1dDynamics(dt)\n",
    "# x0 = np.array([2, 0])\n",
    "# xf = np.array([0, 1])\n",
    "# Q = np.diag([1, 1])\n",
    "# R = np.eye(1) * 0.01\n",
    "\n",
    "# dynamics = DoubleInt2dDynamics(dt)\n",
    "# x0 = np.array([10, 10, 0, 0])\n",
    "# xf = np.array([0, 0, 0, 0])\n",
    "# Q = np.diag([1, 1, 0, 0])\n",
    "# R = np.eye(2)\n",
    "\n",
    "# dynamics = CarDynamics(dt)\n",
    "# x0 = np.array([11, 11, np.pi/2])\n",
    "# xf = np.array([0, 0, 0])\n",
    "# Q = np.diag([1, 1, 0])\n",
    "# R = np.eye(2)\n",
    "\n",
    "dynamics = UnicycleDynamics(dt)\n",
    "x0 = np.array([0, 0, 0, 0])\n",
    "xf = np.array([10, 10, 0, np.pi/4])\n",
    "Q = np.diag([1, 1, 0, 0])\n",
    "R = np.eye(2)\n",
    "\n",
    "# dynamics = BicycleDynamics(dt)\n",
    "# x0 = np.array([10, 10, np.pi/2, 0, 0])\n",
    "# xf = np.array([0, 0, 0, 0, 0])\n",
    "# Q = np.diag([1, 1, 0, 0, 0])\n",
    "# R = np.eye(2)\n",
    "\n",
    "Qf = np.eye(Q.shape[0]) * 1e3\n",
    "reference = ReferenceCost(xf, Q, R, Qf)\n",
    "obstacles = [ObstacleCost((0, 1), Point(3, 3), 2),\n",
    "             ObstacleCost((0, 1), Point(9, 7), 2),\n",
    "             ObstacleCost((0, 1), Point(3, 10), 3)]\n",
    "\n",
    "REF_WEIGHT = 1.0\n",
    "OBS_WEIGHT = 1e6\n",
    "weights = [OBS_WEIGHT] * len(obstacles) + [REF_WEIGHT]\n",
    "agent_cost = AgentCost(obstacles + [reference], weights)"
   ]
  },
  {
   "cell_type": "code",
   "execution_count": 5,
   "id": "5bc4f17d-2867-4226-b1bb-3615ba654ac7",
   "metadata": {},
   "outputs": [
    {
     "name": "stdout",
     "output_type": "stream",
     "text": [
      "[run] 0/50\tJ: 212617\n",
      "[run] 1/50\tJ: 66991.5\tμ: 0.5\tΔ: 0.5\n",
      "[run] 2/50\tJ: 55656.4\tμ: 0.125\tΔ: 0.25\n",
      "[run] 3/50\tJ: 54669.8\tμ: 0.015625\tΔ: 0.125\n",
      "[run] 4/50\tJ: 54437.3\tμ: 0.000976562\tΔ: 0.0625\n",
      "[run] 5/50\tJ: 54292.3\tμ: 3.05176e-05\tΔ: 0.03125\n",
      "[run] 6/50\tJ: 35469\tμ: 0\tΔ: 0.015625\n",
      "[run] 7/50\tJ: 14171.2\tμ: 0\tΔ: 0.0078125\n",
      "[run] 8/50\tJ: 7350.45\tμ: 0\tΔ: 0.00390625\n",
      "[run] 9/50\tJ: 7104.34\tμ: 0\tΔ: 0.00195312\n",
      "[run] 10/50\tJ: 7023.43\tμ: 0\tΔ: 0.000976562\n",
      "[run] 11/50\tJ: 3756.43\tμ: 0\tΔ: 0.000488281\n"
     ]
    }
   ],
   "source": [
    "ilqr = iLQR(dynamics, agent_cost, N=N)\n",
    "X, U, Jf = ilqr.run(x0, n_lqr_iter, tol)\n",
    "ilqr.plot(X, Jf, False, surface_plot=False, log_colors=True)"
   ]
  },
  {
   "cell_type": "markdown",
   "id": "24220829-99c5-4472-a8ef-893edfea68dc",
   "metadata": {
    "tags": []
   },
   "source": [
    "### LQR"
   ]
  },
  {
   "cell_type": "code",
   "execution_count": 4,
   "id": "df732b6a-1cc0-4b70-a426-e01463246804",
   "metadata": {},
   "outputs": [
    {
     "ename": "AttributeError",
     "evalue": "'AgentCost' object has no attribute 'Q'",
     "output_type": "error",
     "traceback": [
      "\u001b[0;31m---------------------------------------------------------------------------\u001b[0m",
      "\u001b[0;31mAttributeError\u001b[0m                            Traceback (most recent call last)",
      "\u001b[0;32m/tmp/ipykernel_2905/3832661598.py\u001b[0m in \u001b[0;36m<module>\u001b[0;34m\u001b[0m\n\u001b[1;32m     29\u001b[0m \u001b[0mquad_cost\u001b[0m \u001b[0;34m=\u001b[0m \u001b[0mReferenceCost\u001b[0m\u001b[0;34m(\u001b[0m\u001b[0mxf\u001b[0m\u001b[0;34m,\u001b[0m \u001b[0mQ\u001b[0m\u001b[0;34m,\u001b[0m \u001b[0mR\u001b[0m\u001b[0;34m,\u001b[0m \u001b[0mQf\u001b[0m\u001b[0;34m)\u001b[0m\u001b[0;34m\u001b[0m\u001b[0;34m\u001b[0m\u001b[0m\n\u001b[1;32m     30\u001b[0m \u001b[0mlqr\u001b[0m \u001b[0;34m=\u001b[0m \u001b[0mLQR\u001b[0m\u001b[0;34m(\u001b[0m\u001b[0mdynamics\u001b[0m\u001b[0;34m,\u001b[0m \u001b[0mquad_cost\u001b[0m\u001b[0;34m,\u001b[0m \u001b[0mN\u001b[0m\u001b[0;34m=\u001b[0m\u001b[0mN\u001b[0m\u001b[0;34m)\u001b[0m\u001b[0;34m\u001b[0m\u001b[0;34m\u001b[0m\u001b[0m\n\u001b[0;32m---> 31\u001b[0;31m \u001b[0mX\u001b[0m\u001b[0;34m,\u001b[0m \u001b[0mU\u001b[0m\u001b[0;34m,\u001b[0m \u001b[0mJ\u001b[0m \u001b[0;34m=\u001b[0m \u001b[0mlqr\u001b[0m\u001b[0;34m.\u001b[0m\u001b[0mrun\u001b[0m\u001b[0;34m(\u001b[0m\u001b[0mx0\u001b[0m\u001b[0;34m)\u001b[0m\u001b[0;34m\u001b[0m\u001b[0;34m\u001b[0m\u001b[0m\n\u001b[0m\u001b[1;32m     32\u001b[0m \u001b[0mlqr\u001b[0m\u001b[0;34m.\u001b[0m\u001b[0mplot\u001b[0m\u001b[0;34m(\u001b[0m\u001b[0mX\u001b[0m\u001b[0;34m,\u001b[0m \u001b[0mJ\u001b[0m\u001b[0;34m)\u001b[0m\u001b[0;34m\u001b[0m\u001b[0;34m\u001b[0m\u001b[0m\n",
      "\u001b[0;32m/mnt/c/Users/ZachJW/Documents/Grad/Research/dec-ilqr/dec-ilqr/control.py\u001b[0m in \u001b[0;36mrun\u001b[0;34m(self, x0, n_iter)\u001b[0m\n\u001b[1;32m    137\u001b[0m         \u001b[0mX\u001b[0m\u001b[0;34m,\u001b[0m \u001b[0mJ0\u001b[0m \u001b[0;34m=\u001b[0m \u001b[0mself\u001b[0m\u001b[0;34m.\u001b[0m\u001b[0mrollout\u001b[0m\u001b[0;34m(\u001b[0m\u001b[0mx0\u001b[0m\u001b[0;34m,\u001b[0m \u001b[0mU\u001b[0m\u001b[0;34m)\u001b[0m\u001b[0;34m\u001b[0m\u001b[0;34m\u001b[0m\u001b[0m\n\u001b[1;32m    138\u001b[0m \u001b[0;34m\u001b[0m\u001b[0m\n\u001b[0;32m--> 139\u001b[0;31m         \u001b[0mK\u001b[0m \u001b[0;34m=\u001b[0m \u001b[0mself\u001b[0m\u001b[0;34m.\u001b[0m\u001b[0mbackward_pass\u001b[0m\u001b[0;34m(\u001b[0m\u001b[0mX\u001b[0m\u001b[0;34m,\u001b[0m \u001b[0mU\u001b[0m\u001b[0;34m)\u001b[0m\u001b[0;34m\u001b[0m\u001b[0;34m\u001b[0m\u001b[0m\n\u001b[0m\u001b[1;32m    140\u001b[0m         \u001b[0mX\u001b[0m\u001b[0;34m,\u001b[0m \u001b[0mU\u001b[0m\u001b[0;34m,\u001b[0m \u001b[0mJf\u001b[0m \u001b[0;34m=\u001b[0m \u001b[0mself\u001b[0m\u001b[0;34m.\u001b[0m\u001b[0mforward_pass\u001b[0m\u001b[0;34m(\u001b[0m\u001b[0mX\u001b[0m\u001b[0;34m,\u001b[0m \u001b[0mU\u001b[0m\u001b[0;34m,\u001b[0m \u001b[0mK\u001b[0m\u001b[0;34m)\u001b[0m\u001b[0;34m\u001b[0m\u001b[0;34m\u001b[0m\u001b[0m\n\u001b[1;32m    141\u001b[0m         \u001b[0mprint\u001b[0m\u001b[0;34m(\u001b[0m\u001b[0;34mf'J0: {J0:.3g}\\tJf: {Jf:.3g}'\u001b[0m\u001b[0;34m)\u001b[0m\u001b[0;34m\u001b[0m\u001b[0;34m\u001b[0m\u001b[0m\n",
      "\u001b[0;32m/mnt/c/Users/ZachJW/Documents/Grad/Research/dec-ilqr/dec-ilqr/control.py\u001b[0m in \u001b[0;36mbackward_pass\u001b[0;34m(self, X, U)\u001b[0m\n\u001b[1;32m    104\u001b[0m         \u001b[0mK\u001b[0m \u001b[0;34m=\u001b[0m \u001b[0mnp\u001b[0m\u001b[0;34m.\u001b[0m\u001b[0mzeros\u001b[0m\u001b[0;34m(\u001b[0m\u001b[0;34m(\u001b[0m\u001b[0mself\u001b[0m\u001b[0;34m.\u001b[0m\u001b[0mN\u001b[0m\u001b[0;34m,\u001b[0m \u001b[0mself\u001b[0m\u001b[0;34m.\u001b[0m\u001b[0mn_u\u001b[0m\u001b[0;34m,\u001b[0m \u001b[0mself\u001b[0m\u001b[0;34m.\u001b[0m\u001b[0mn_x\u001b[0m\u001b[0;34m)\u001b[0m\u001b[0;34m)\u001b[0m\u001b[0;34m\u001b[0m\u001b[0;34m\u001b[0m\u001b[0m\n\u001b[1;32m    105\u001b[0m         \u001b[0mP\u001b[0m \u001b[0;34m=\u001b[0m \u001b[0mnp\u001b[0m\u001b[0;34m.\u001b[0m\u001b[0mzeros\u001b[0m\u001b[0;34m(\u001b[0m\u001b[0;34m(\u001b[0m\u001b[0mself\u001b[0m\u001b[0;34m.\u001b[0m\u001b[0mN\u001b[0m\u001b[0;34m,\u001b[0m \u001b[0mself\u001b[0m\u001b[0;34m.\u001b[0m\u001b[0mn_x\u001b[0m\u001b[0;34m,\u001b[0m \u001b[0mself\u001b[0m\u001b[0;34m.\u001b[0m\u001b[0mn_x\u001b[0m\u001b[0;34m)\u001b[0m\u001b[0;34m)\u001b[0m\u001b[0;34m\u001b[0m\u001b[0;34m\u001b[0m\u001b[0m\n\u001b[0;32m--> 106\u001b[0;31m         \u001b[0mP\u001b[0m \u001b[0;34m=\u001b[0m \u001b[0mself\u001b[0m\u001b[0;34m.\u001b[0m\u001b[0mQ\u001b[0m\u001b[0;34m.\u001b[0m\u001b[0mcopy\u001b[0m\u001b[0;34m(\u001b[0m\u001b[0;34m)\u001b[0m\u001b[0;34m\u001b[0m\u001b[0;34m\u001b[0m\u001b[0m\n\u001b[0m\u001b[1;32m    107\u001b[0m \u001b[0;34m\u001b[0m\u001b[0m\n\u001b[1;32m    108\u001b[0m         \u001b[0;32mfor\u001b[0m \u001b[0mt\u001b[0m \u001b[0;32min\u001b[0m \u001b[0mrange\u001b[0m\u001b[0;34m(\u001b[0m\u001b[0mself\u001b[0m\u001b[0;34m.\u001b[0m\u001b[0mN\u001b[0m\u001b[0;34m-\u001b[0m\u001b[0;36m1\u001b[0m\u001b[0;34m,\u001b[0m \u001b[0;34m-\u001b[0m\u001b[0;36m1\u001b[0m\u001b[0;34m,\u001b[0m \u001b[0;34m-\u001b[0m\u001b[0;36m1\u001b[0m\u001b[0;34m)\u001b[0m\u001b[0;34m:\u001b[0m\u001b[0;34m\u001b[0m\u001b[0;34m\u001b[0m\u001b[0m\n",
      "\u001b[0;32m/mnt/c/Users/ZachJW/Documents/Grad/Research/dec-ilqr/dec-ilqr/control.py\u001b[0m in \u001b[0;36mQ\u001b[0;34m(self)\u001b[0m\n\u001b[1;32m     93\u001b[0m     \u001b[0;34m@\u001b[0m\u001b[0mproperty\u001b[0m\u001b[0;34m\u001b[0m\u001b[0;34m\u001b[0m\u001b[0m\n\u001b[1;32m     94\u001b[0m     \u001b[0;32mdef\u001b[0m \u001b[0mQ\u001b[0m\u001b[0;34m(\u001b[0m\u001b[0mself\u001b[0m\u001b[0;34m)\u001b[0m\u001b[0;34m:\u001b[0m\u001b[0;34m\u001b[0m\u001b[0;34m\u001b[0m\u001b[0m\n\u001b[0;32m---> 95\u001b[0;31m         \u001b[0;32mreturn\u001b[0m \u001b[0mself\u001b[0m\u001b[0;34m.\u001b[0m\u001b[0mcost\u001b[0m\u001b[0;34m.\u001b[0m\u001b[0mQ\u001b[0m\u001b[0;34m\u001b[0m\u001b[0;34m\u001b[0m\u001b[0m\n\u001b[0m\u001b[1;32m     96\u001b[0m \u001b[0;34m\u001b[0m\u001b[0m\n\u001b[1;32m     97\u001b[0m     \u001b[0;34m@\u001b[0m\u001b[0mproperty\u001b[0m\u001b[0;34m\u001b[0m\u001b[0;34m\u001b[0m\u001b[0m\n",
      "\u001b[0;31mAttributeError\u001b[0m: 'AgentCost' object has no attribute 'Q'"
     ]
    }
   ],
   "source": [
    "N = 60\n",
    "dt = 0.1\n",
    "\n",
    "dynamics = DoubleInt1dDynamics(dt)\n",
    "x0 = np.array([10, 0])\n",
    "xf = np.array([0, 0])\n",
    "Q = np.diag([1, 1])\n",
    "R = np.eye(1)\n",
    "\n",
    "# dynamics = DoubleInt2dDynamics(dt)\n",
    "# x0 = np.array([1, 1, 0, 0])\n",
    "# xf = np.array([0, 0, 0, 0])\n",
    "# Q = np.eye(4)\n",
    "# R = np.eye(2)\n",
    "\n",
    "# dynamics = CarDynamics(dt)\n",
    "# x0 = np.array([5.0, 5.0, np.pi/2])\n",
    "# xf = np.array([0, 0, 0])\n",
    "# Q = np.diag([1, 1, 0])\n",
    "# R = np.eye(2) * 0.01\n",
    "\n",
    "# dynamics = UnicycleDynamics(dt)\n",
    "# x0 = np.array([-1, -1, 0, np.pi/3])\n",
    "# xf = np.array([0, 0, 0, 0])\n",
    "# Q = np.diag([1, 1, 0, 0])\n",
    "# R = np.eye(2)\n",
    "\n",
    "Qf = np.eye(Q.shape[0]) * 1e3\n",
    "quad_cost = ReferenceCost(xf, Q, R, Qf)\n",
    "lqr = LQR(dynamics, quad_cost, N=N)\n",
    "X, U, J = lqr.run(x0)\n",
    "lqr.plot(X, J)"
   ]
  }
 ],
 "metadata": {
  "kernelspec": {
   "display_name": "Python 3 (ipykernel)",
   "language": "python",
   "name": "python3"
  },
  "language_info": {
   "codemirror_mode": {
    "name": "ipython",
    "version": 3
   },
   "file_extension": ".py",
   "mimetype": "text/x-python",
   "name": "python",
   "nbconvert_exporter": "python",
   "pygments_lexer": "ipython3",
   "version": "3.9.6"
  }
 },
 "nbformat": 4,
 "nbformat_minor": 5
}
