{
 "cells": [
  {
   "cell_type": "markdown",
   "id": "f4c0c84e-5811-4ffc-930d-0d8b4e85b4b1",
   "metadata": {
    "tags": []
   },
   "source": [
    "# Derivations\n",
    "Specifically of discretizing and linearizing continuous time dynamics as well as quadraticizing costs."
   ]
  },
  {
   "cell_type": "markdown",
   "id": "84423b58-761d-4212-ae1b-17a53a3b541a",
   "metadata": {},
   "source": [
    "References:\n",
    "1. [Jackson, Howell - iLQR Tutorial](http://roboticexplorationlab.org/papers/iLQR_Tutorial.pdf)\n",
    "1. [Kavuncu et. al. - Potential iLQR](https://arxiv.org/pdf/2107.04926.pdf)\n",
    "1. [Pyomo - 2.6 Model Predictive Control of a Double Integrator](https://jckantor.github.io/ND-Pyomo-Cookbook/02.06-Model-Predictive-Control-of-a-Double-Integrator.html)\n",
    "1. [Discretizing an SSM](https://en.wikipedia.org/wiki/Discretization#Discretization_of_linear_state_space_models)\n",
    "1. [Drake - ilqr_driving](https://colab.research.google.com/github/RussTedrake/underactuated/blob/master/exercises/trajopt/ilqr_driving/ilqr_driving.ipynb#scrollTo=WCdJhqQqHLii)\n",
    "1. [Al - Augmenting an Angular State](https://github.com/anassinator/ilqr/blob/master/ilqr/examples/cartpole.py)"
   ]
  },
  {
   "cell_type": "code",
   "execution_count": 1,
   "id": "0747eee0-ce0b-4ad2-afed-5936abaeb5f1",
   "metadata": {},
   "outputs": [],
   "source": [
    "import matplotlib.pyplot as plt\n",
    "import numpy as np\n",
    "import sympy as sym\n",
    "from IPython.display import display, Math"
   ]
  },
  {
   "cell_type": "code",
   "execution_count": 2,
   "id": "d83f9f5a-c7c0-4615-b4bd-6f7d42a96507",
   "metadata": {},
   "outputs": [],
   "source": [
    "%matplotlib ipympl\n",
    "np.set_printoptions(precision=3, suppress=True)"
   ]
  },
  {
   "cell_type": "markdown",
   "id": "9cd272bf-c3b8-4910-bbeb-244862fe1cc7",
   "metadata": {
    "tags": []
   },
   "source": [
    "## Dynamical System [1]\n",
    "A dynamical system can be modeled by the following non-linear, continuous dynamics:\n",
    "\n",
    "$$\\dot x = f_c(x, u)$$\n",
    "\n",
    "Discretizing using the [following method](https://en.wikipedia.org/wiki/Discretization#Discretization_of_linear_state_space_models):\n",
    "\n",
    "$$x_{k+1} = f(x_k, u_k)$$\n",
    "\n",
    "Using a 1st order Taylor Series expansion, we linearize around an operating point:\n",
    "\n",
    "$$\\begin{aligned}\n",
    "x_{k+1} + \\delta x_{k+1} &\\approx f(x_k, u_k) + \n",
    "\\left.\\frac{\\partial f}{\\partial x}\\right|_{x_k, u_k}(x - x_k) + \n",
    "\\left.\\frac{\\partial f}{\\partial u}\\right|_{x_k, u_k}(u - u_k)\n",
    "\\\\\n",
    "\\delta x_{k+1} &= A \\delta x_k + B \\delta u_k\n",
    "\\end{aligned}\n",
    "$$"
   ]
  },
  {
   "cell_type": "code",
   "execution_count": 3,
   "id": "dcab3f80-3948-4f0b-805e-450103eeaef0",
   "metadata": {},
   "outputs": [],
   "source": [
    "def discretize(A, B, Δt):\n",
    "    \"\"\"Compute the discretization of continuous dynamics assuming zero-order hold.\"\"\"\n",
    "    \n",
    "    k, t = sym.symbols('k t')\n",
    "    Ad = sym.exp(A * Δt).simplify()\n",
    "    # Ad_approx = sym.summation(1/sym.factorial(k) * (A*Δt) ** k, (k, 0, sym.oo))\n",
    "    Ad_approx = sym.eye(A.shape[0], A.shape[0]) + A * Δt\n",
    "    # Bd = A**-1 * (Ad - sym.eye(4,4)) * B # for non-singular A\n",
    "    Bd = sym.integrate(Ad, (t, 0, Δt)) * B\n",
    "    \n",
    "    return Ad, Bd"
   ]
  },
  {
   "cell_type": "code",
   "execution_count": 4,
   "id": "e525e51e-7750-406c-863d-c03f67a9bd10",
   "metadata": {},
   "outputs": [],
   "source": [
    "def linearize(x_dot, x, u):\n",
    "    \"\"\"Compute the linearization of the dynamics with respect to x and u.\"\"\"\n",
    "    \n",
    "    A = x_dot.jacobian(x)\n",
    "    B = x_dot.jacobian(u)\n",
    "    return A, B"
   ]
  },
  {
   "cell_type": "markdown",
   "id": "1c4dab43-9bae-4272-966c-e72e0e2159c0",
   "metadata": {
    "tags": []
   },
   "source": [
    "## Unicycle Dynamics [2]\n",
    "A unicycle can be modelled using the following continuous dynamics:\n",
    "\n",
    "$$\\begin{aligned}\n",
    "x &= \\begin{bmatrix} p_x & p_y & v & \\theta \\end{bmatrix} \\\\\n",
    "u &= \\begin{bmatrix} a & \\omega\\end{bmatrix}\n",
    "\\end{aligned}$$\n",
    "\n",
    "\n",
    "$$\\begin{aligned}\n",
    "\\dot p_{x} &= v\\cos\\theta \\\\\n",
    "\\dot p_{y} &= v\\sin\\theta \\\\\n",
    "\\dot \\theta &= \\omega \\\\\n",
    "\\dot v &= a\n",
    "\\end{aligned}$$"
   ]
  },
  {
   "cell_type": "code",
   "execution_count": 5,
   "id": "5a2e881c-21d5-4fb5-aae2-6d66ed8cad97",
   "metadata": {
    "tags": [
     "hide_input"
    ]
   },
   "outputs": [
    {
     "data": {
      "text/latex": [
       "$\\displaystyle x = \\left[\\begin{matrix}p_{x}\\\\p_{y}\\\\v\\\\\\theta\\end{matrix}\\right]\\\\u = \\left[\\begin{matrix}a\\\\\\omega\\end{matrix}\\right]$"
      ],
      "text/plain": [
       "<IPython.core.display.Math object>"
      ]
     },
     "metadata": {},
     "output_type": "display_data"
    }
   ],
   "source": [
    "Δt = sym.Symbol('\\Delta t')\n",
    "p_x, p_y, v, theta, omega, a = sym.symbols('p_x p_y v theta omega a')\n",
    "\n",
    "x = sym.Matrix([p_x, p_y, v, theta])\n",
    "u = sym.Matrix([a, omega])\n",
    "display(Math('x = ' + sym.latex(x) + r'\\\\u = ' + sym.latex(u)))"
   ]
  },
  {
   "cell_type": "code",
   "execution_count": 6,
   "id": "4fc81680-a990-405f-aae7-ff393dcf8d9a",
   "metadata": {
    "tags": [
     "hide_input"
    ]
   },
   "outputs": [
    {
     "name": "stdout",
     "output_type": "stream",
     "text": [
      "Continuous Time:\n"
     ]
    },
    {
     "data": {
      "text/latex": [
       "$\\displaystyle A = \\left[\\begin{matrix}0 & 0 & \\cos{\\left(\\theta \\right)} & - v \\sin{\\left(\\theta \\right)}\\\\0 & 0 & \\sin{\\left(\\theta \\right)} & v \\cos{\\left(\\theta \\right)}\\\\0 & 0 & 0 & 0\\\\0 & 0 & 0 & 0\\end{matrix}\\right]\\\\B = \\left[\\begin{matrix}0 & 0\\\\0 & 0\\\\1 & 0\\\\0 & 1\\end{matrix}\\right]$"
      ],
      "text/plain": [
       "<IPython.core.display.Math object>"
      ]
     },
     "metadata": {},
     "output_type": "display_data"
    },
    {
     "name": "stdout",
     "output_type": "stream",
     "text": [
      "Discrete Time:\n"
     ]
    },
    {
     "data": {
      "text/latex": [
       "$\\displaystyle A_d = \\left[\\begin{matrix}1 & 0 & \\Delta t \\cos{\\left(\\theta \\right)} & - \\Delta t v \\sin{\\left(\\theta \\right)}\\\\0 & 1 & \\Delta t \\sin{\\left(\\theta \\right)} & \\Delta t v \\cos{\\left(\\theta \\right)}\\\\0 & 0 & 1 & 0\\\\0 & 0 & 0 & 1\\end{matrix}\\right]\\\\B_d = \\Delta t \\left[\\begin{matrix}\\Delta t \\cos{\\left(\\theta \\right)} & - \\Delta t v \\sin{\\left(\\theta \\right)}\\\\\\Delta t \\sin{\\left(\\theta \\right)} & \\Delta t v \\cos{\\left(\\theta \\right)}\\\\1 & 0\\\\0 & 1\\end{matrix}\\right]$"
      ],
      "text/plain": [
       "<IPython.core.display.Math object>"
      ]
     },
     "metadata": {},
     "output_type": "display_data"
    },
    {
     "name": "stdout",
     "output_type": "stream",
     "text": [
      "Others:\n"
     ]
    },
    {
     "data": {
      "text/latex": [
       "$\\displaystyle B = \\Delta t\\left[\\begin{matrix}0 & 0\\\\0 & 0\\\\1 & 0\\\\0 & 1\\end{matrix}\\right]$"
      ],
      "text/plain": [
       "<IPython.core.display.Math object>"
      ]
     },
     "metadata": {},
     "output_type": "display_data"
    }
   ],
   "source": [
    "x_dot = sym.Matrix([\n",
    "    x[2]*sym.cos(x[3]),\n",
    "    x[2]*sym.sin(x[3]),\n",
    "    u[0],\n",
    "    u[1],\n",
    "])\n",
    "\n",
    "A, B = linearize(x_dot, x, u)\n",
    "print('Continuous Time:')\n",
    "display(Math('A = ' + sym.latex(A) + r'\\\\B = ' + sym.latex(B)))\n",
    "\n",
    "Ad, Bd = discretize(A, B, Δt)\n",
    "print('Discrete Time:')\n",
    "display(Math('A_d = ' + sym.latex(Ad) + r'\\\\B_d = \\Delta t ' + sym.latex(Bd/Δt)))\n",
    "\n",
    "print('Others:')\n",
    "Bo = sym.Matrix([[0, 0], [0, 0], [Δt, 0], [0, Δt]])\n",
    "display(Math('B = \\Delta t' + sym.latex(Bo/Δt)))"
   ]
  },
  {
   "cell_type": "markdown",
   "id": "ace68f2c-ada3-4021-ac8b-5d34f28342fd",
   "metadata": {},
   "source": [
    "## Car Dynamics\n",
    "- \"car\" dynamics represent a simplified version of the unicycle dynamics where the linear velocity is in the control, rather than the state.\n",
    "$$\\begin{aligned}\n",
    "x &= \\begin{bmatrix} p_x & p_y & \\theta \\end{bmatrix} \\\\\n",
    "u &= \\begin{bmatrix} v & \\omega\\end{bmatrix}\n",
    "\\end{aligned}$$\n",
    "\n",
    "\n",
    "$$\\begin{aligned}\n",
    "\\dot p_{x} &= v\\cos\\theta \\\\\n",
    "\\dot p_{y} &= v\\sin\\theta \\\\\n",
    "\\dot \\theta &= \\omega \\\\\n",
    "\\end{aligned}$$"
   ]
  },
  {
   "cell_type": "code",
   "execution_count": 7,
   "id": "09c9718e-875d-4a90-a6b0-3cf635b85d3f",
   "metadata": {},
   "outputs": [
    {
     "data": {
      "text/latex": [
       "$\\displaystyle x = \\left[\\begin{matrix}p_{x}\\\\p_{y}\\\\\\theta\\end{matrix}\\right]\\\\u = \\left[\\begin{matrix}v\\\\\\omega\\end{matrix}\\right]$"
      ],
      "text/plain": [
       "<IPython.core.display.Math object>"
      ]
     },
     "metadata": {},
     "output_type": "display_data"
    }
   ],
   "source": [
    "delta_t = sym.Symbol('\\Delta t')\n",
    "p_x, p_y, v, theta, omega = sym.symbols('p_x p_y v theta omega')\n",
    "\n",
    "x = sym.Matrix([p_x, p_y, theta])\n",
    "u = sym.Matrix([v, omega])\n",
    "display(Math('x = ' + sym.latex(x) + r'\\\\u = ' + sym.latex(u)))"
   ]
  },
  {
   "cell_type": "code",
   "execution_count": 8,
   "id": "d6bc4776-827a-414a-b956-a8481faf5f77",
   "metadata": {},
   "outputs": [
    {
     "name": "stdout",
     "output_type": "stream",
     "text": [
      "Continuous time:\n"
     ]
    },
    {
     "data": {
      "text/latex": [
       "$\\displaystyle A = \\left[\\begin{matrix}0 & 0 & - v \\sin{\\left(\\theta \\right)}\\\\0 & 0 & v \\cos{\\left(\\theta \\right)}\\\\0 & 0 & 0\\end{matrix}\\right]\\\\B = \\left[\\begin{matrix}\\cos{\\left(\\theta \\right)} & 0\\\\\\sin{\\left(\\theta \\right)} & 0\\\\0 & 1\\end{matrix}\\right]$"
      ],
      "text/plain": [
       "<IPython.core.display.Math object>"
      ]
     },
     "metadata": {},
     "output_type": "display_data"
    },
    {
     "name": "stdout",
     "output_type": "stream",
     "text": [
      "Discrete Time:\n"
     ]
    },
    {
     "data": {
      "text/latex": [
       "$\\displaystyle A_d = \\left[\\begin{matrix}1 & 0 & - \\Delta t v \\sin{\\left(\\theta \\right)}\\\\0 & 1 & \\Delta t v \\cos{\\left(\\theta \\right)}\\\\0 & 0 & 1\\end{matrix}\\right]\\\\B_d = \\Delta t \\left[\\begin{matrix}\\cos{\\left(\\theta \\right)} & - \\Delta t v \\sin{\\left(\\theta \\right)}\\\\\\sin{\\left(\\theta \\right)} & \\Delta t v \\cos{\\left(\\theta \\right)}\\\\0 & 1\\end{matrix}\\right]$"
      ],
      "text/plain": [
       "<IPython.core.display.Math object>"
      ]
     },
     "metadata": {},
     "output_type": "display_data"
    }
   ],
   "source": [
    "x_dot = sym.Matrix([\n",
    "    u[0]*sym.cos(x[2]),\n",
    "    u[0]*sym.sin(x[2]),\n",
    "    u[1],\n",
    "])\n",
    "\n",
    "A, B = linearize(x_dot, x, u)\n",
    "print('Continuous time:')\n",
    "display(Math('A = ' + sym.latex(A) + r'\\\\B = ' + sym.latex(B)))\n",
    "\n",
    "Ad, Bd = discretize(A, B, Δt)\n",
    "print('Discrete Time:')\n",
    "display(Math('A_d = ' + sym.latex(Ad) + r'\\\\B_d = \\Delta t ' + sym.latex(Bd/Δt)))"
   ]
  },
  {
   "cell_type": "markdown",
   "id": "98c055cb-4078-49d7-87d6-e92ea4e89d3f",
   "metadata": {},
   "source": [
    "## Bicycle Dynamics [5]\n",
    "- We can add an additional component to the standard car/unicycle dynamics via steering.\n",
    "- Letting $\\phi$ be the steering angle, the dynamics are:\n",
    "$$\\begin{aligned}\n",
    "x &= \\begin{bmatrix} p_x & p_y & \\theta & v & \\phi \\end{bmatrix} \\\\\n",
    "u &= \\begin{bmatrix} a & \\rho\\end{bmatrix}\n",
    "\\end{aligned}$$\n",
    "\n",
    "\n",
    "$$\\begin{aligned}\n",
    "\\dot p_{x} &= v\\cos\\theta \\\\\n",
    "\\dot p_{y} &= v\\sin\\theta \\\\\n",
    "\\dot v &= a \\\\\n",
    "\\dot \\phi &= \\rho \\\\\n",
    "\\end{aligned}$$"
   ]
  },
  {
   "cell_type": "code",
   "execution_count": 9,
   "id": "962642af-5728-4ef5-b6cc-bfaadbcfa918",
   "metadata": {},
   "outputs": [
    {
     "data": {
      "text/latex": [
       "$\\displaystyle x = \\left[\\begin{matrix}p_{x}\\\\p_{y}\\\\\\theta\\\\v\\\\\\phi\\end{matrix}\\right]\\\\u = \\left[\\begin{matrix}a\\\\\\rho\\end{matrix}\\right]$"
      ],
      "text/plain": [
       "<IPython.core.display.Math object>"
      ]
     },
     "metadata": {},
     "output_type": "display_data"
    }
   ],
   "source": [
    "delta_t = sym.Symbol('\\Delta t')\n",
    "p_x, p_y, theta, v, phi, a, rho = sym.symbols('p_x p_y theta v phi a rho')\n",
    "\n",
    "x = sym.Matrix([p_x, p_y, theta, v, phi])\n",
    "u = sym.Matrix([a, rho])\n",
    "display(Math('x = ' + sym.latex(x) + r'\\\\u = ' + sym.latex(u)))"
   ]
  },
  {
   "cell_type": "code",
   "execution_count": 10,
   "id": "4da9e89b-2273-4c10-b57b-793b342d15ee",
   "metadata": {
    "tags": []
   },
   "outputs": [
    {
     "name": "stdout",
     "output_type": "stream",
     "text": [
      "Continuous time:\n"
     ]
    },
    {
     "data": {
      "text/latex": [
       "$\\displaystyle A = \\left[\\begin{matrix}0 & 0 & - v \\sin{\\left(\\theta \\right)} & \\cos{\\left(\\theta \\right)} & 0\\\\0 & 0 & v \\cos{\\left(\\theta \\right)} & \\sin{\\left(\\theta \\right)} & 0\\\\0 & 0 & 0 & \\tan{\\left(\\phi \\right)} & v \\left(\\tan^{2}{\\left(\\phi \\right)} + 1\\right)\\\\0 & 0 & 0 & 0 & 0\\\\0 & 0 & 0 & 0 & 0\\end{matrix}\\right]\\\\B = \\left[\\begin{matrix}0 & 0\\\\0 & 0\\\\0 & 0\\\\1 & 0\\\\0 & 1\\end{matrix}\\right]$"
      ],
      "text/plain": [
       "<IPython.core.display.Math object>"
      ]
     },
     "metadata": {},
     "output_type": "display_data"
    },
    {
     "name": "stdout",
     "output_type": "stream",
     "text": [
      "Discrete Time:\n"
     ]
    },
    {
     "data": {
      "text/latex": [
       "$\\displaystyle A_d = \\left[\\begin{matrix}1 & 0 & - \\Delta t v \\sin{\\left(\\theta \\right)} & \\frac{\\Delta t \\left(- \\Delta t v \\sin{\\left(\\theta \\right)} \\tan{\\left(\\phi \\right)} + 2 \\cos{\\left(\\theta \\right)}\\right)}{2} & - \\frac{\\Delta t^{2} v^{2} \\sin{\\left(\\theta \\right)}}{2 \\cos^{2}{\\left(\\phi \\right)}}\\\\0 & 1 & \\Delta t v \\cos{\\left(\\theta \\right)} & \\frac{\\Delta t \\left(\\Delta t v \\cos{\\left(\\theta \\right)} \\tan{\\left(\\phi \\right)} + 2 \\sin{\\left(\\theta \\right)}\\right)}{2} & \\frac{\\Delta t^{2} v^{2} \\cos{\\left(\\theta \\right)}}{2 \\cos^{2}{\\left(\\phi \\right)}}\\\\0 & 0 & 1 & \\Delta t \\tan{\\left(\\phi \\right)} & \\frac{\\Delta t v}{\\cos^{2}{\\left(\\phi \\right)}}\\\\0 & 0 & 0 & 1 & 0\\\\0 & 0 & 0 & 0 & 1\\end{matrix}\\right]\\\\B_d = \\Delta t \\left[\\begin{matrix}\\frac{\\Delta t \\left(- \\Delta t v \\sin{\\left(\\theta \\right)} \\tan{\\left(\\phi \\right)} + 2 \\cos{\\left(\\theta \\right)}\\right)}{2} & - \\frac{\\Delta t^{2} v^{2} \\sin{\\left(\\theta \\right)}}{2 \\cos^{2}{\\left(\\phi \\right)}}\\\\\\frac{\\Delta t \\left(\\Delta t v \\cos{\\left(\\theta \\right)} \\tan{\\left(\\phi \\right)} + 2 \\sin{\\left(\\theta \\right)}\\right)}{2} & \\frac{\\Delta t^{2} v^{2} \\cos{\\left(\\theta \\right)}}{2 \\cos^{2}{\\left(\\phi \\right)}}\\\\\\Delta t \\tan{\\left(\\phi \\right)} & \\frac{\\Delta t v}{\\cos^{2}{\\left(\\phi \\right)}}\\\\1 & 0\\\\0 & 1\\end{matrix}\\right]$"
      ],
      "text/plain": [
       "<IPython.core.display.Math object>"
      ]
     },
     "metadata": {},
     "output_type": "display_data"
    }
   ],
   "source": [
    "x_dot = sym.Matrix([\n",
    "    x[3]*sym.cos(x[2]),\n",
    "    x[3]*sym.sin(x[2]),\n",
    "    x[3]*sym.tan(x[4]),\n",
    "    u[0],\n",
    "    u[1]\n",
    "])\n",
    "\n",
    "A, B = linearize(x_dot, x, u)\n",
    "print('Continuous time:')\n",
    "display(Math('A = ' + sym.latex(A) + r'\\\\B = ' + sym.latex(B)))\n",
    "\n",
    "Ad, Bd = discretize(A, B, Δt)\n",
    "print('Discrete Time:')\n",
    "display(Math('A_d = ' + sym.latex(Ad) + r'\\\\B_d = \\Delta t ' + sym.latex(Bd/Δt)))"
   ]
  },
  {
   "cell_type": "code",
   "execution_count": 11,
   "id": "bc616855-506c-46ed-a220-07dac0ebeb2b",
   "metadata": {},
   "outputs": [
    {
     "data": {
      "text/latex": [
       "$\\displaystyle \\left[\\begin{matrix}\\Delta t \\left(- \\frac{\\Delta t v \\sin{\\left(\\theta \\right)} \\tan{\\left(\\phi \\right)}}{2} + \\cos{\\left(\\theta \\right)}\\right) & - \\frac{\\Delta t^{2} v^{2} \\sin{\\left(\\theta \\right)}}{2 \\cos^{2}{\\left(\\phi \\right)}}\\\\\\Delta t \\left(\\frac{\\Delta t v \\cos{\\left(\\theta \\right)} \\tan{\\left(\\phi \\right)}}{2} + \\sin{\\left(\\theta \\right)}\\right) & \\frac{\\Delta t^{2} v^{2} \\cos{\\left(\\theta \\right)}}{2 \\cos^{2}{\\left(\\phi \\right)}}\\\\\\Delta t \\tan{\\left(\\phi \\right)} & \\frac{\\Delta t v}{\\cos^{2}{\\left(\\phi \\right)}}\\\\1 & 0\\\\0 & 1\\end{matrix}\\right]$"
      ],
      "text/plain": [
       "Matrix([\n",
       "[\\Delta t*(-\\Delta t*v*sin(theta)*tan(phi)/2 + cos(theta)), -\\Delta t**2*v**2*sin(theta)/(2*cos(phi)**2)],\n",
       "[ \\Delta t*(\\Delta t*v*cos(theta)*tan(phi)/2 + sin(theta)),  \\Delta t**2*v**2*cos(theta)/(2*cos(phi)**2)],\n",
       "[                                        \\Delta t*tan(phi),                       \\Delta t*v/cos(phi)**2],\n",
       "[                                                        1,                                            0],\n",
       "[                                                        0,                                            1]])"
      ]
     },
     "execution_count": 11,
     "metadata": {},
     "output_type": "execute_result"
    }
   ],
   "source": [
    "Bd.simplify()\n",
    "Bd / Δt"
   ]
  },
  {
   "cell_type": "markdown",
   "id": "8cc690da-b9a9-448c-a8fe-45a113170f27",
   "metadata": {
    "tags": []
   },
   "source": [
    "## Double Integrator Dynamics [3]\n",
    "- The double integrator model is a canonical second order linear system often used to demostrate control principles. \n",
    "- This can be represented in the discretized equation as:\n",
    "$$x_{k+1} = A x_k + B u_k \n",
    "= \\begin{bmatrix} 1 & \\Delta t \\\\ 0 & 1\\end{bmatrix} x_k + \\begin{bmatrix} \\frac{\\Delta t^2}{2} \\\\ \\Delta t \\end{bmatrix} u_k$$"
   ]
  },
  {
   "cell_type": "code",
   "execution_count": 15,
   "id": "86b326ea-e90f-4536-98a0-2c8a07f48ef3",
   "metadata": {},
   "outputs": [
    {
     "data": {
      "text/latex": [
       "$\\displaystyle x = \\left[\\begin{matrix}p_{x}\\\\v_{x}\\end{matrix}\\right]\\\\u = \\left[\\begin{matrix}a_{x}\\end{matrix}\\right]$"
      ],
      "text/plain": [
       "<IPython.core.display.Math object>"
      ]
     },
     "metadata": {},
     "output_type": "display_data"
    }
   ],
   "source": [
    "Δt = sym.Symbol('\\Delta t')\n",
    "p_x, p_y, v_x, v_y, a_x, a_y = sym.symbols('p_x p_y v_x v_y a_x a_y')\n",
    "\n",
    "x = sym.Matrix([p_x, v_x])\n",
    "u = sym.Matrix([a_x])\n",
    "display(Math('x = ' + sym.latex(x) + r'\\\\u = ' + sym.latex(u)))"
   ]
  },
  {
   "cell_type": "code",
   "execution_count": 19,
   "id": "1c3a3139-68a3-4b85-8822-3e0d19d006ef",
   "metadata": {},
   "outputs": [
    {
     "data": {
      "text/plain": [
       "(Matrix([\n",
       " [1, \\Delta t],\n",
       " [0,        1]]),\n",
       " Matrix([\n",
       " [2*\\Delta t**2],\n",
       " [     \\Delta t]]))"
      ]
     },
     "execution_count": 19,
     "metadata": {},
     "output_type": "execute_result"
    }
   ],
   "source": [
    "x_dot = sym.Matrix([\n",
    "    v_x + a_x*Δt,\n",
    "    # v_y + a_y*Δt,\n",
    "    a_x,\n",
    "    # a_y\n",
    "])\n",
    "\n",
    "A = x_dot.jacobian(x)\n",
    "B = x_dot.jacobian(u)\n",
    "discretize(A, B, Δt)"
   ]
  },
  {
   "cell_type": "markdown",
   "id": "e9847731-f9d0-4759-97f7-85bebffe610a",
   "metadata": {
    "tags": []
   },
   "source": [
    "## Augmented Unicycle Dynamics [2]\n",
    "A unicycle can be modelled using the following augmented continuous dynamics:\n",
    "\n",
    "$$\\begin{aligned}\n",
    "x &= \\begin{bmatrix} p_x & p_y & v & \\sin(\\theta) & \\cos(\\theta) \\end{bmatrix} \\\\\n",
    "u &= \\begin{bmatrix} a & \\omega\\end{bmatrix}\n",
    "\\end{aligned}$$\n",
    "\n",
    "\n",
    "$$\\begin{aligned}\n",
    "\\dot p_{x} &= v\\cos\\theta \\\\\n",
    "\\dot p_{y} &= v\\sin\\theta \\\\\n",
    "\\dot \\theta &= \\omega \\\\\n",
    "\\dot v &= a\n",
    "\\end{aligned}$$"
   ]
  },
  {
   "cell_type": "code",
   "execution_count": 12,
   "id": "b948ff91-7df4-43cf-b433-258ff61f3339",
   "metadata": {
    "tags": [
     "hide_input"
    ]
   },
   "outputs": [
    {
     "data": {
      "text/latex": [
       "$\\displaystyle x = \\left[\\begin{matrix}p_{x}\\\\p_{y}\\\\v\\\\\\sin \\Theta\\\\\\cos \\Theta\\end{matrix}\\right]\\\\u = \\left[\\begin{matrix}a\\\\\\omega\\end{matrix}\\right]$"
      ],
      "text/plain": [
       "<IPython.core.display.Math object>"
      ]
     },
     "metadata": {},
     "output_type": "display_data"
    }
   ],
   "source": [
    "Δt = sym.Symbol('\\Delta t')\n",
    "sθ = sym.Symbol('\\sin \\Theta')\n",
    "cθ = sym.Symbol('\\cos \\Theta')\n",
    "p_x, p_y, v, omega, a = sym.symbols('p_x p_y v omega a')\n",
    "\n",
    "x = sym.Matrix([p_x, p_y, v, sθ, cθ])\n",
    "u = sym.Matrix([a, omega])\n",
    "display(Math('x = ' + sym.latex(x) + r'\\\\u = ' + sym.latex(u)))"
   ]
  },
  {
   "cell_type": "code",
   "execution_count": 13,
   "id": "7e704fe3-0f87-4cbb-ac47-2c69326cdf04",
   "metadata": {
    "tags": [
     "hide_input"
    ]
   },
   "outputs": [
    {
     "name": "stdout",
     "output_type": "stream",
     "text": [
      "Continuous Time:\n"
     ]
    },
    {
     "data": {
      "text/latex": [
       "$\\displaystyle A = \\left[\\begin{matrix}0 & 0 & \\cos \\Theta & 0 & v\\\\0 & 0 & \\sin \\Theta & v & 0\\\\0 & 0 & 0 & 0 & 0\\\\0 & 0 & 0 & 0 & \\omega\\\\0 & 0 & 0 & - \\omega & 0\\end{matrix}\\right]\\\\B = \\left[\\begin{matrix}0 & 0\\\\0 & 0\\\\1 & 0\\\\0 & \\cos \\Theta\\\\0 & - \\sin \\Theta\\end{matrix}\\right]$"
      ],
      "text/plain": [
       "<IPython.core.display.Math object>"
      ]
     },
     "metadata": {},
     "output_type": "display_data"
    },
    {
     "name": "stdout",
     "output_type": "stream",
     "text": [
      "Discrete Time:\n"
     ]
    },
    {
     "data": {
      "text/latex": [
       "$\\displaystyle A_d = \\left[\\begin{matrix}1 & 0 & \\Delta t \\cos \\Theta & \\frac{v e^{i \\Delta t \\omega}}{2 \\omega} - \\frac{v}{\\omega} + \\frac{v e^{- i \\Delta t \\omega}}{2 \\omega} & \\frac{v \\sin{\\left(\\Delta t \\omega \\right)}}{\\omega}\\\\0 & 1 & \\Delta t \\sin \\Theta & \\frac{v \\sin{\\left(\\Delta t \\omega \\right)}}{\\omega} & - \\frac{v e^{i \\Delta t \\omega}}{2 \\omega} + \\frac{v}{\\omega} - \\frac{v e^{- i \\Delta t \\omega}}{2 \\omega}\\\\0 & 0 & 1 & 0 & 0\\\\0 & 0 & 0 & \\cos{\\left(\\Delta t \\omega \\right)} & \\sin{\\left(\\Delta t \\omega \\right)}\\\\0 & 0 & 0 & - \\sin{\\left(\\Delta t \\omega \\right)} & \\cos{\\left(\\Delta t \\omega \\right)}\\end{matrix}\\right]\\\\B_d = \\Delta t \\left[\\begin{matrix}\\Delta t \\cos \\Theta & \\frac{\\Delta t \\cos \\Theta \\left(\\frac{v e^{i \\Delta t \\omega}}{2 \\omega} - \\frac{v}{\\omega} + \\frac{v e^{- i \\Delta t \\omega}}{2 \\omega}\\right) - \\frac{\\Delta t \\sin \\Theta v \\sin{\\left(\\Delta t \\omega \\right)}}{\\omega}}{\\Delta t}\\\\\\Delta t \\sin \\Theta & \\frac{\\frac{\\Delta t \\cos \\Theta v \\sin{\\left(\\Delta t \\omega \\right)}}{\\omega} - \\Delta t \\sin \\Theta \\left(- \\frac{v e^{i \\Delta t \\omega}}{2 \\omega} + \\frac{v}{\\omega} - \\frac{v e^{- i \\Delta t \\omega}}{2 \\omega}\\right)}{\\Delta t}\\\\1 & 0\\\\0 & \\frac{\\Delta t \\cos \\Theta \\cos{\\left(\\Delta t \\omega \\right)} - \\Delta t \\sin \\Theta \\sin{\\left(\\Delta t \\omega \\right)}}{\\Delta t}\\\\0 & \\frac{- \\Delta t \\cos \\Theta \\sin{\\left(\\Delta t \\omega \\right)} - \\Delta t \\sin \\Theta \\cos{\\left(\\Delta t \\omega \\right)}}{\\Delta t}\\end{matrix}\\right]$"
      ],
      "text/plain": [
       "<IPython.core.display.Math object>"
      ]
     },
     "metadata": {},
     "output_type": "display_data"
    },
    {
     "name": "stdout",
     "output_type": "stream",
     "text": [
      "Others:\n"
     ]
    },
    {
     "data": {
      "text/latex": [
       "$\\displaystyle B = \\Delta t\\left[\\begin{matrix}0 & 0\\\\0 & 0\\\\1 & 0\\\\0 & 1\\end{matrix}\\right]$"
      ],
      "text/plain": [
       "<IPython.core.display.Math object>"
      ]
     },
     "metadata": {},
     "output_type": "display_data"
    }
   ],
   "source": [
    "x_dot = sym.Matrix([\n",
    "    x[2]*x[4],\n",
    "    x[2]*x[3],\n",
    "    u[0],\n",
    "    u[1]*x[4], # sym.sin(u[1]),\n",
    "    -u[1]*x[3] # sym.cos(u[1])\n",
    "])\n",
    "\n",
    "A, B = linearize(x_dot, x, u)\n",
    "print('Continuous Time:')\n",
    "display(Math('A = ' + sym.latex(A) + r'\\\\B = ' + sym.latex(B)))\n",
    "\n",
    "Ad, Bd = discretize(A, B, Δt)\n",
    "print('Discrete Time:')\n",
    "display(Math('A_d = ' + sym.latex(Ad) + r'\\\\B_d = \\Delta t ' + sym.latex(Bd/Δt)))\n",
    "\n",
    "print('Others:')\n",
    "Bo = sym.Matrix([[0, 0], [0, 0], [Δt, 0], [0, Δt]])\n",
    "display(Math('B = \\Delta t' + sym.latex(Bo/Δt)))"
   ]
  },
  {
   "cell_type": "markdown",
   "id": "2af875ae-af27-43f7-9a0c-c8c75d54c9ae",
   "metadata": {
    "tags": []
   },
   "source": [
    "## Quadraticizing Costs"
   ]
  },
  {
   "cell_type": "code",
   "execution_count": 18,
   "id": "1338d8fd-0c09-448c-a295-191f6dd78050",
   "metadata": {},
   "outputs": [],
   "source": [
    "def quadraticize(L, x, u):\n",
    "    \"\"\"Quadraticize the costs with respect to the states and controls.\"\"\"\n",
    "    \n",
    "    L_x = L.jacobian(x)\n",
    "    L_u = L.jacobian(u)\n",
    "    L_xx = L_x.jacobian(x)\n",
    "    L_uu = L_u.jacobian(u)\n",
    "    L_xu = L_x.jacobian(u)\n",
    "    L_ux = L_u.jacobian(x)\n",
    "    \n",
    "    return L_x, L_u, L_xx, L_uu, L_xu, L_ux"
   ]
  },
  {
   "cell_type": "code",
   "execution_count": 19,
   "id": "b29e2078-a6f3-45b2-8d1c-4c8431008a8b",
   "metadata": {},
   "outputs": [],
   "source": [
    "def quadraticize_reference(x, u, x_r, Q, R, terminal=False):\n",
    "    \"\"\"Quadraticize reference costs analytically.\"\"\"\n",
    "    \n",
    "    L_x = (x - x_r).T @ (Q + Q.T)\n",
    "    L_u = u.T @ (R + R.T)\n",
    "    L_xx = Q + Q.T\n",
    "    L_uu = R + R.T\n",
    "    L_xu = sym.zeros(x.shape[0], u.shape[0])\n",
    "    L_ux = L_xu.T\n",
    "    \n",
    "    if terminal:\n",
    "        γ = sym.symbols('gamma')\n",
    "        L_x *= γ\n",
    "        L_xx *= γ\n",
    "        L_u = sym.zeros(1, u.shape[0])\n",
    "        L_uu = sym.zeros(u.shape[0])\n",
    "    \n",
    "    return L_x, L_u, L_xx, L_uu, L_xu, L_ux"
   ]
  },
  {
   "cell_type": "code",
   "execution_count": 21,
   "id": "e145e700-ad9f-4451-8d30-2e129866987d",
   "metadata": {},
   "outputs": [],
   "source": [
    "delta_t = sym.Symbol('\\Delta t')\n",
    "p_x, p_y, v, theta, omega, a = sym.symbols('p_x p_y v theta omega a')\n",
    "p_xr, p_yr, v_r, theta_r, omega_r, a_r = sym.symbols('p_xr p_yr v_r theta_r omega_r a_r')\n",
    "p_xo, p_yo = sym.symbols('p_xo p_yo')\n",
    "\n",
    "x = sym.Matrix([p_x, p_y, v, theta])\n",
    "u = sym.Matrix([omega, a])\n",
    "x_r = sym.Matrix([p_xr, p_yr, v_r, theta_r])\n",
    "x_o = sym.Matrix([p_xo, p_yo, 0, 0])"
   ]
  },
  {
   "cell_type": "code",
   "execution_count": 24,
   "id": "b27d41bb-4242-4657-834b-202cbfd9d0df",
   "metadata": {},
   "outputs": [
    {
     "data": {
      "text/latex": [
       "$\\displaystyle Q = \\left[\\begin{matrix}1 & 0 & 0 & 0\\\\0 & 1 & 0 & 0\\\\0 & 0 & 1 & 0\\\\0 & 0 & 0 & 1\\end{matrix}\\right]\\\\R = \\left[\\begin{matrix}1 & 0\\\\0 & 1\\end{matrix}\\right]$"
      ],
      "text/plain": [
       "<IPython.core.display.Math object>"
      ]
     },
     "metadata": {},
     "output_type": "display_data"
    }
   ],
   "source": [
    "Q = sym.eye(x.shape[0])\n",
    "R = sym.eye(u.shape[0])\n",
    "# Q = sym.Matrix(np.arange(16)).reshape(4,4)\n",
    "# Q = sym.diag(1, 1, 0, 0)\n",
    "# Q[0,-1] = 1.0\n",
    "# R = sym.diag(2.0, 1.0)\n",
    "# R[0,-1] = 3.0\n",
    "\n",
    "display(Math('Q = ' + sym.latex(Q) + '\\\\\\R = ' + sym.latex(R)))"
   ]
  },
  {
   "cell_type": "code",
   "execution_count": 25,
   "id": "5eb1ba36-7b6a-4245-810a-97327c26eeab",
   "metadata": {},
   "outputs": [
    {
     "data": {
      "text/latex": [
       "$\\displaystyle L_u = \\left[\\begin{matrix}2 \\omega & 2 a\\end{matrix}\\right] = u^T (R + R^T) = \\left[\\begin{matrix}2 \\omega & 2 a\\end{matrix}\\right]$"
      ],
      "text/plain": [
       "<IPython.core.display.Math object>"
      ]
     },
     "metadata": {},
     "output_type": "display_data"
    },
    {
     "data": {
      "text/latex": [
       "$\\displaystyle L_x = \\left[\\begin{matrix}2 p_{x} - 2 p_{xr} & 2 p_{y} - 2 p_{yr} & 2 v - 2 v_{r} & 2 \\theta - 2 \\theta_{r}\\end{matrix}\\right] = (x - x_r)^T (Q + Q^T) = \\left[\\begin{matrix}2 p_{x} - 2 p_{xr} & 2 p_{y} - 2 p_{yr} & 2 v - 2 v_{r} & 2 \\theta - 2 \\theta_{r}\\end{matrix}\\right]$"
      ],
      "text/plain": [
       "<IPython.core.display.Math object>"
      ]
     },
     "metadata": {},
     "output_type": "display_data"
    },
    {
     "data": {
      "text/latex": [
       "$\\displaystyle L_{xx} = \\left[\\begin{matrix}2 & 0 & 0 & 0\\\\0 & 2 & 0 & 0\\\\0 & 0 & 2 & 0\\\\0 & 0 & 0 & 2\\end{matrix}\\right] = Q + Q^T = \\left[\\begin{matrix}2 & 0 & 0 & 0\\\\0 & 2 & 0 & 0\\\\0 & 0 & 2 & 0\\\\0 & 0 & 0 & 2\\end{matrix}\\right]$"
      ],
      "text/plain": [
       "<IPython.core.display.Math object>"
      ]
     },
     "metadata": {},
     "output_type": "display_data"
    },
    {
     "data": {
      "text/latex": [
       "$\\displaystyle L_{uu} = \\left[\\begin{matrix}2 & 0\\\\0 & 2\\end{matrix}\\right] = R + R^T = \\left[\\begin{matrix}2 & 0\\\\0 & 2\\end{matrix}\\right]$"
      ],
      "text/plain": [
       "<IPython.core.display.Math object>"
      ]
     },
     "metadata": {},
     "output_type": "display_data"
    },
    {
     "data": {
      "text/latex": [
       "$\\displaystyle L_{xu} = L_{ux}^T = \\left[\\begin{matrix}0 & 0\\\\0 & 0\\\\0 & 0\\\\0 & 0\\end{matrix}\\right]$"
      ],
      "text/plain": [
       "<IPython.core.display.Math object>"
      ]
     },
     "metadata": {},
     "output_type": "display_data"
    }
   ],
   "source": [
    "L = (x - x_r).T @ Q @ (x - x_r) + (u.T @ R @ u)\n",
    "L_x, L_u, L_xx, L_uu, L_xu, L_ux = quadraticize(L, x, u)\n",
    "L_x_a, L_u_a, L_xx_a, L_uu_a, L_xu_a, L_ux_a = quadraticize_reference(x, u, x_r, Q, R)\n",
    "\n",
    "display(Math('L_u = ' + sym.latex(L_u) + ' = u^T (R + R^T) = ' + sym.latex(L_u_a)))\n",
    "display(Math('L_x = ' + sym.latex(L_x) + ' = (x - x_r)^T (Q + Q^T) = ' + sym.latex(L_x_a)))\n",
    "display(Math('L_{xx} = ' + sym.latex(L_xx) + ' = Q + Q^T = ' + sym.latex(L_xx_a)))\n",
    "display(Math('L_{uu} = ' + sym.latex(L_uu) + ' = R + R^T = ' + sym.latex(L_uu_a)))\n",
    "display(Math('L_{xu} = L_{ux}^T = ' + sym.latex(L_xu_a)))"
   ]
  },
  {
   "cell_type": "code",
   "execution_count": 19,
   "id": "fd729603-3279-4a1b-a7d8-2188e16a4292",
   "metadata": {},
   "outputs": [
    {
     "data": {
      "text/latex": [
       "$\\displaystyle \\left[\\begin{matrix}2 p_{x} - 2 p_{xr} & 2 p_{y} - 2 p_{yr} & 0 & 0 & 2 \\omega & 2 a\\end{matrix}\\right]$"
      ],
      "text/plain": [
       "Matrix([[2*p_x - 2*p_xr, 2*p_y - 2*p_yr, 0, 0, 2*omega, 2*a]])"
      ]
     },
     "execution_count": 19,
     "metadata": {},
     "output_type": "execute_result"
    }
   ],
   "source": [
    "dL_dxu = L_x.row_join(L_u) # Gradient\n",
    "dL_dxu"
   ]
  },
  {
   "cell_type": "code",
   "execution_count": 20,
   "id": "6f8e7052-6cbd-4cfd-bee9-0d7adaf4192a",
   "metadata": {},
   "outputs": [
    {
     "data": {
      "text/latex": [
       "$\\displaystyle \\left[\\begin{matrix}2 & 0 & 0 & 0 & 0 & 0\\\\0 & 2 & 0 & 0 & 0 & 0\\\\0 & 0 & 0 & 0 & 0 & 0\\\\0 & 0 & 0 & 0 & 0 & 0\\\\0 & 0 & 0 & 0 & 2 & 0\\\\0 & 0 & 0 & 0 & 0 & 2\\end{matrix}\\right]$"
      ],
      "text/plain": [
       "Matrix([\n",
       "[2, 0, 0, 0, 0, 0],\n",
       "[0, 2, 0, 0, 0, 0],\n",
       "[0, 0, 0, 0, 0, 0],\n",
       "[0, 0, 0, 0, 0, 0],\n",
       "[0, 0, 0, 0, 2, 0],\n",
       "[0, 0, 0, 0, 0, 2]])"
      ]
     },
     "execution_count": 20,
     "metadata": {},
     "output_type": "execute_result"
    }
   ],
   "source": [
    "dL2_dxu2 = sym.Matrix(sym.BlockMatrix([\n",
    "    [L_xx, L_xu],\n",
    "    [L_xu.T, L_uu]\n",
    "])) # Hessian\n",
    "dL2_dxu2"
   ]
  },
  {
   "cell_type": "code",
   "execution_count": 21,
   "id": "5779d73b-b231-45be-9a97-bedc99e3517d",
   "metadata": {},
   "outputs": [
    {
     "data": {
      "text/latex": [
       "$\\displaystyle L_u = \\left[\\begin{matrix}0 & 0\\end{matrix}\\right] = u^T (R + R^T) = \\left[\\begin{matrix}0 & 0\\end{matrix}\\right]$"
      ],
      "text/plain": [
       "<IPython.core.display.Math object>"
      ]
     },
     "metadata": {},
     "output_type": "display_data"
    },
    {
     "data": {
      "text/latex": [
       "$\\displaystyle L_x = \\left[\\begin{matrix}\\gamma \\left(2 p_{x} - 2 p_{xr}\\right)\\\\\\gamma \\left(2 p_{y} - 2 p_{yr}\\right)\\\\0\\\\0\\end{matrix}\\right] = (x - x_r)^T (Q + Q^T) = \\left[\\begin{matrix}\\gamma \\left(2 p_{x} - 2 p_{xr}\\right)\\\\\\gamma \\left(2 p_{y} - 2 p_{yr}\\right)\\\\0\\\\0\\end{matrix}\\right]$"
      ],
      "text/plain": [
       "<IPython.core.display.Math object>"
      ]
     },
     "metadata": {},
     "output_type": "display_data"
    },
    {
     "data": {
      "text/latex": [
       "$\\displaystyle L_{xx} = \\left[\\begin{matrix}2 \\gamma & 0 & 0 & 0\\\\0 & 2 \\gamma & 0 & 0\\\\0 & 0 & 0 & 0\\\\0 & 0 & 0 & 0\\end{matrix}\\right] = Q + Q^T = \\left[\\begin{matrix}2 \\gamma & 0 & 0 & 0\\\\0 & 2 \\gamma & 0 & 0\\\\0 & 0 & 0 & 0\\\\0 & 0 & 0 & 0\\end{matrix}\\right]$"
      ],
      "text/plain": [
       "<IPython.core.display.Math object>"
      ]
     },
     "metadata": {},
     "output_type": "display_data"
    },
    {
     "data": {
      "text/latex": [
       "$\\displaystyle L_{uu} = \\left[\\begin{matrix}0 & 0\\\\0 & 0\\end{matrix}\\right] = R + R^T = \\left[\\begin{matrix}0 & 0\\\\0 & 0\\end{matrix}\\right]$"
      ],
      "text/plain": [
       "<IPython.core.display.Math object>"
      ]
     },
     "metadata": {},
     "output_type": "display_data"
    },
    {
     "data": {
      "text/latex": [
       "$\\displaystyle L_{xu} = L_{ux}^T = \\left[\\begin{matrix}0 & 0\\\\0 & 0\\\\0 & 0\\\\0 & 0\\end{matrix}\\right]$"
      ],
      "text/plain": [
       "<IPython.core.display.Math object>"
      ]
     },
     "metadata": {},
     "output_type": "display_data"
    }
   ],
   "source": [
    "γ = sym.symbols('gamma')\n",
    "L_N = γ * (x - x_r).T @ Q @ (x - x_r)\n",
    "L_x, L_u, L_xx, L_uu, L_xu, L_ux = quadraticize(L_N, x, u)\n",
    "L_x_a, L_u_a, L_xx_a, L_uu_a, L_xu_a, L_ux_a = quadraticize_reference(x, u, x_r, Q, R, terminal=True)\n",
    "\n",
    "display(Math('L_u = ' + sym.latex(L_u) + ' = u^T (R + R^T) = ' + sym.latex(L_u_a)))\n",
    "display(Math('L_x = ' + sym.latex(L_x.T) + ' = (x - x_r)^T (Q + Q^T) = ' + sym.latex(L_x_a.T)))\n",
    "display(Math('L_{xx} = ' + sym.latex(L_xx) + ' = Q + Q^T = ' + sym.latex(L_xx_a)))\n",
    "display(Math('L_{uu} = ' + sym.latex(L_uu) + ' = R + R^T = ' + sym.latex(L_uu_a)))\n",
    "display(Math('L_{xu} = L_{ux}^T = ' + sym.latex(L_xu_a)))"
   ]
  },
  {
   "cell_type": "markdown",
   "id": "f3f1cb6c-ce19-4fca-bc41-e81726e36371",
   "metadata": {},
   "source": [
    "### Obstacle Cost\n",
    "$$L = \\min(0, d-d_{max})^2$$"
   ]
  },
  {
   "cell_type": "code",
   "execution_count": 22,
   "id": "c05dbd6c-b618-4514-94df-21b478c48f92",
   "metadata": {},
   "outputs": [],
   "source": [
    "from sympy.functions.elementary.piecewise import Piecewise\n",
    "import matplotlib.pyplot as plt"
   ]
  },
  {
   "cell_type": "code",
   "execution_count": 23,
   "id": "4492a169-062a-4fa6-974c-e67923aedb28",
   "metadata": {},
   "outputs": [
    {
     "data": {
      "application/vnd.jupyter.widget-view+json": {
       "model_id": "80653d91feb6494da1098ad04ce7a0c4",
       "version_major": 2,
       "version_minor": 0
      },
      "text/plain": [
       "Canvas(toolbar=Toolbar(toolitems=[('Home', 'Reset original view', 'home', 'home'), ('Back', 'Back to previous …"
      ]
     },
     "metadata": {},
     "output_type": "display_data"
    },
    {
     "data": {
      "application/vnd.jupyter.widget-view+json": {
       "model_id": "786806c8aaa44b3ebc31b023948907d2",
       "version_major": 2,
       "version_minor": 0
      },
      "text/plain": [
       "Canvas(toolbar=Toolbar(toolitems=[('Home', 'Reset original view', 'home', 'home'), ('Back', 'Back to previous …"
      ]
     },
     "metadata": {},
     "output_type": "display_data"
    },
    {
     "data": {
      "text/plain": [
       "Text(0.5, 1.0, 'Lx')"
      ]
     },
     "execution_count": 23,
     "metadata": {},
     "output_type": "execute_result"
    }
   ],
   "source": [
    "d_max, d = sym.symbols('d_{max} d', positive=True)\n",
    "L = Piecewise((0, d > d_max), ((d - d_max)**2, d <= d_max))\n",
    "\n",
    "sym.plot(L.subs(d_max, 5), (d, 0, 10))\n",
    "plt.title('L')\n",
    "sym.plot(L.subs(d_max, 5).diff(d), (d, 0, 10))\n",
    "plt.title('Lx')"
   ]
  },
  {
   "cell_type": "code",
   "execution_count": 24,
   "id": "40aaa3f7-d25a-4c6e-bc3b-1f78768aa056",
   "metadata": {},
   "outputs": [
    {
     "data": {
      "text/latex": [
       "$\\displaystyle \\left[\\begin{matrix}\\left(- d_{max} + \\sqrt{\\left(- o_{x} + p_{x}\\right)^{2} + \\left(- o_{y} + p_{y}\\right)^{2}}\\right)^{2}\\end{matrix}\\right]$"
      ],
      "text/plain": [
       "Matrix([[(-d_{max} + sqrt((-o_x + p_x)**2 + (-o_y + p_y)**2))**2]])"
      ]
     },
     "execution_count": 24,
     "metadata": {},
     "output_type": "execute_result"
    }
   ],
   "source": [
    "o_x, o_y = sym.symbols('o_x o_y')\n",
    "d = sym.sqrt((x[0]-o_x)**2 + (x[1]-o_y)**2)\n",
    "L = sym.Matrix([(d - d_max)**2])\n",
    "L"
   ]
  },
  {
   "cell_type": "code",
   "execution_count": 51,
   "id": "016507ef-0dbd-43e9-a01e-f38426c077af",
   "metadata": {},
   "outputs": [
    {
     "data": {
      "text/latex": [
       "$\\displaystyle 1$"
      ],
      "text/plain": [
       "1"
      ]
     },
     "execution_count": 51,
     "metadata": {},
     "output_type": "execute_result"
    }
   ],
   "source": [
    "test_args = {d_max:2, o_x:0, o_y:0, p_x:0, p_y:1}\n",
    "d.subs(test_args)"
   ]
  },
  {
   "cell_type": "code",
   "execution_count": 48,
   "id": "ae200f57-8eca-4c29-be32-66378efe46c5",
   "metadata": {},
   "outputs": [
    {
     "data": {
      "text/latex": [
       "$\\displaystyle \\left[\\begin{matrix}1\\end{matrix}\\right]$"
      ],
      "text/plain": [
       "Matrix([[1]])"
      ]
     },
     "execution_count": 48,
     "metadata": {},
     "output_type": "execute_result"
    }
   ],
   "source": [
    "L.subs(test_args)"
   ]
  },
  {
   "cell_type": "code",
   "execution_count": 41,
   "id": "173204a9-a56f-4253-ac11-ff807af3dcd2",
   "metadata": {},
   "outputs": [
    {
     "data": {
      "text/latex": [
       "$\\displaystyle \\left[\\begin{matrix}\\frac{2 \\left(d_{max} - \\sqrt{\\left(o_{x} - p_{x}\\right)^{2} + \\left(o_{y} - p_{y}\\right)^{2}}\\right) \\left(o_{x} - p_{x}\\right)}{\\sqrt{\\left(o_{x} - p_{x}\\right)^{2} + \\left(o_{y} - p_{y}\\right)^{2}}} & \\frac{2 \\left(d_{max} - \\sqrt{\\left(o_{x} - p_{x}\\right)^{2} + \\left(o_{y} - p_{y}\\right)^{2}}\\right) \\left(o_{y} - p_{y}\\right)}{\\sqrt{\\left(o_{x} - p_{x}\\right)^{2} + \\left(o_{y} - p_{y}\\right)^{2}}} & 0 & 0\\end{matrix}\\right]$"
      ],
      "text/plain": [
       "Matrix([[2*(d_{max} - sqrt((o_x - p_x)**2 + (o_y - p_y)**2))*(o_x - p_x)/sqrt((o_x - p_x)**2 + (o_y - p_y)**2), 2*(d_{max} - sqrt((o_x - p_x)**2 + (o_y - p_y)**2))*(o_y - p_y)/sqrt((o_x - p_x)**2 + (o_y - p_y)**2), 0, 0]])"
      ]
     },
     "execution_count": 41,
     "metadata": {},
     "output_type": "execute_result"
    }
   ],
   "source": [
    "L_x"
   ]
  },
  {
   "cell_type": "code",
   "execution_count": 52,
   "id": "e7a32576-81db-428c-89c8-b844c40e5538",
   "metadata": {},
   "outputs": [
    {
     "data": {
      "text/latex": [
       "$\\displaystyle \\left[\\begin{matrix}0 & -2 & 0 & 0\\end{matrix}\\right]$"
      ],
      "text/plain": [
       "Matrix([[0, -2, 0, 0]])"
      ]
     },
     "execution_count": 52,
     "metadata": {},
     "output_type": "execute_result"
    }
   ],
   "source": [
    "L_x, L_u, L_xx, L_uu, L_xu, L_ux = quadraticize(L, x, u)\n",
    "L_x.simplify()\n",
    "L_x.subs(test_args)"
   ]
  },
  {
   "cell_type": "code",
   "execution_count": 1,
   "id": "4c738895-4e07-453b-b741-6ad1d6cfcb53",
   "metadata": {},
   "outputs": [
    {
     "ename": "NameError",
     "evalue": "name 'L_xx' is not defined",
     "output_type": "error",
     "traceback": [
      "\u001b[0;31m---------------------------------------------------------------------------\u001b[0m",
      "\u001b[0;31mNameError\u001b[0m                                 Traceback (most recent call last)",
      "\u001b[0;32m/tmp/ipykernel_285/3977532411.py\u001b[0m in \u001b[0;36m<module>\u001b[0;34m\u001b[0m\n\u001b[0;32m----> 1\u001b[0;31m \u001b[0mL_xx\u001b[0m\u001b[0;34m.\u001b[0m\u001b[0msimplify\u001b[0m\u001b[0;34m(\u001b[0m\u001b[0;34m)\u001b[0m\u001b[0;34m\u001b[0m\u001b[0;34m\u001b[0m\u001b[0m\n\u001b[0m\u001b[1;32m      2\u001b[0m \u001b[0;31m# L_xx[0,1].factor()\u001b[0m\u001b[0;34m\u001b[0m\u001b[0;34m\u001b[0m\u001b[0;34m\u001b[0m\u001b[0m\n\u001b[1;32m      3\u001b[0m \u001b[0;31m# L_xx.subs(test_args)\u001b[0m\u001b[0;34m\u001b[0m\u001b[0;34m\u001b[0m\u001b[0;34m\u001b[0m\u001b[0m\n",
      "\u001b[0;31mNameError\u001b[0m: name 'L_xx' is not defined"
     ]
    }
   ],
   "source": [
    "L_xx.simplify()\n",
    "# L_xx[0,1].factor()\n",
    "# L_xx.subs(test_args)"
   ]
  },
  {
   "cell_type": "code",
   "execution_count": null,
   "id": "d4664d51-7ee3-4c2f-b486-c066a521605a",
   "metadata": {},
   "outputs": [],
   "source": []
  }
 ],
 "metadata": {
  "kernelspec": {
   "display_name": "Python 3 (ipykernel)",
   "language": "python",
   "name": "python3"
  },
  "language_info": {
   "codemirror_mode": {
    "name": "ipython",
    "version": 3
   },
   "file_extension": ".py",
   "mimetype": "text/x-python",
   "name": "python",
   "nbconvert_exporter": "python",
   "pygments_lexer": "ipython3",
   "version": "3.9.6"
  }
 },
 "nbformat": 4,
 "nbformat_minor": 5
}
