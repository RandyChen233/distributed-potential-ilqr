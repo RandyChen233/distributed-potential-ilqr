{
 "cells": [
  {
   "cell_type": "markdown",
   "id": "dc93dafc-34e9-4a69-a56f-29c3bb713e71",
   "metadata": {
    "tags": []
   },
   "source": [
    "# take2\n",
    "\n",
    "**GOAL**: Keep It Stupid Simple = KISS.\n",
    "\n",
    "**Dependencies:**\n",
    " - [pocketknives](https://github.com/zjwilliams20/pocketknives)\n",
    "\n",
    "**References:**\n",
    " 1. [ilqgames/python](https://github.com/HJReachability/ilqgames/blob/master/python)"
   ]
  },
  {
   "cell_type": "code",
   "execution_count": 1,
   "id": "88b5716c-953a-43e7-ba1a-666f959cc2e7",
   "metadata": {},
   "outputs": [],
   "source": [
    "%load_ext autoreload\n",
    "%autoreload 1\n",
    "%aimport decentralized.control2"
   ]
  },
  {
   "cell_type": "code",
   "execution_count": 2,
   "id": "5af0f28d-2b3f-4be6-93b8-8952dfe73058",
   "metadata": {},
   "outputs": [],
   "source": [
    "import functools\n",
    "import itertools\n",
    "import random\n",
    "from time import perf_counter as pc\n",
    "\n",
    "import numpy as np\n",
    "import matplotlib.pyplot as plt\n",
    "from matplotlib.animation import FuncAnimation\n",
    "from scipy.spatial.transform import Rotation\n",
    "import torch\n",
    "\n",
    "from decentralized import control2\n",
    "from decentralized.util import Point\n",
    "import pocketknives\n",
    "\n",
    "π = np.pi"
   ]
  },
  {
   "cell_type": "code",
   "execution_count": 3,
   "id": "91cd6f19-d6ad-4d1b-b72f-829d26663d52",
   "metadata": {},
   "outputs": [],
   "source": [
    "%matplotlib widget\n",
    "plt.rcParams['axes.grid'] = True"
   ]
  },
  {
   "cell_type": "code",
   "execution_count": 4,
   "id": "33928e9f-cc0e-4c34-8005-795ccb11b835",
   "metadata": {},
   "outputs": [],
   "source": [
    "def split_agents(Z, z_dims):\n",
    "    \"\"\"Partition a cartesian product state or control for individual agents\"\"\"\n",
    "    if torch.is_tensor(Z):\n",
    "        return torch.split(torch.atleast_2d(Z), z_dims, dim=1)\n",
    "    return np.split(np.atleast_2d(Z), np.cumsum(z_dims[:-1]), axis=1)"
   ]
  },
  {
   "cell_type": "code",
   "execution_count": 5,
   "id": "94329606-5110-4dd0-bcb4-8cbeeeaf6fe1",
   "metadata": {},
   "outputs": [],
   "source": [
    "def pos_mask(x_dims):\n",
    "    \"\"\"Return a mask that's true wherever there's an x or y position\"\"\" \n",
    "    return np.array([i % x_dims[0] < 2 for i in range(sum(x_dims))])"
   ]
  },
  {
   "cell_type": "code",
   "execution_count": 6,
   "id": "2552858f-2662-40ce-90a2-25b30315b7fe",
   "metadata": {},
   "outputs": [],
   "source": [
    "def plot_solve(X, J, x_goal, x_dims=None):\n",
    "    \"\"\"Plot the resultant trajectory on plt.gcf()\"\"\"\n",
    "\n",
    "    plt.clf()\n",
    "    \n",
    "    if not x_dims:\n",
    "        x_dims = [X.shape[1]]\n",
    "        \n",
    "    N = X.shape[0]\n",
    "    t = np.arange(N) * dt\n",
    "    \n",
    "    X_split = split_agents(X, x_dims)\n",
    "    x_goal_split = split_agents(x_goal.reshape(1,-1), x_dims)\n",
    "    \n",
    "    for Xi, xg in zip(X_split, x_goal_split):\n",
    "        plt.scatter(Xi[:,0], Xi[:,1], c=t)\n",
    "        plt.scatter(Xi[0,0], Xi[0,1], 80, 'g', 'x', label=\"$x_0$\")\n",
    "        plt.scatter(xg[0,0], xg[0,1], 80, 'r', 'x', label=\"$x_f$\")\n",
    "    \n",
    "    plt.margins(0.1)\n",
    "    plt.title(f\"Final Cost: {J:.3g}\")"
   ]
  },
  {
   "cell_type": "markdown",
   "id": "b4e6bfed-7dbc-489d-ac20-66c1e4a1a25a",
   "metadata": {
    "tags": []
   },
   "source": [
    "## single-agent problem"
   ]
  },
  {
   "cell_type": "code",
   "execution_count": 85,
   "id": "a56f8261",
   "metadata": {},
   "outputs": [],
   "source": [
    "def unicycle_discrete(x, u):\n",
    "    \"\"\"Discretized dynamics.\"\"\"\n",
    "    \n",
    "    DT = 0.5\n",
    "    px, py, theta, v = x\n",
    "    a, omega = u\n",
    "    \n",
    "    return torch.stack([\n",
    "        px + v*torch.cos(theta)*DT,\n",
    "        py + v*torch.sin(theta)*DT,\n",
    "        v + a*DT,\n",
    "        theta + omega*DT\n",
    "    ])\n",
    "\n",
    "def unicycle_discrete2(x, u):\n",
    "    \"\"\"Discretized dynamics.\"\"\"\n",
    "    \n",
    "    DT = 0.5\n",
    "    theta = x[2]\n",
    "    v = x[3]\n",
    "    \n",
    "    return torch.stack([\n",
    "        x[0] + v*torch.cos(theta)*DT,\n",
    "        x[1] + v*torch.sin(theta)*DT,\n",
    "        v + u[0]*DT,\n",
    "        theta + u[1]*DT\n",
    "    ])"
   ]
  },
  {
   "cell_type": "code",
   "execution_count": 86,
   "id": "9e11674a-5cd2-4dda-9bdc-de2a495581d6",
   "metadata": {},
   "outputs": [],
   "source": [
    "def unicycle_continuous(x, u):\n",
    "    \"\"\"\n",
    "    Compute the time derivative of state for a particular state/control.\n",
    "    NOTE: `x` and `u` should be 2D (i.e. column vectors).\n",
    "    REF: [1]\n",
    "    \"\"\"\n",
    "\n",
    "    return torch.stack([\n",
    "        x[3] * torch.cos(x[2]),\n",
    "        x[3] * torch.sin(x[2]),\n",
    "        u[0],\n",
    "        u[1]\n",
    "    ])\n"
   ]
  },
  {
   "cell_type": "code",
   "execution_count": 87,
   "id": "ac7308ee",
   "metadata": {},
   "outputs": [],
   "source": [
    "def linearize(f, x_torch, u_torch, discrete=False):\n",
    "    \"\"\"\n",
    "    Compute the Jacobian linearization of the dynamics for a particular\n",
    "    state and controls for all players.\n",
    "    REF: [1]\n",
    "    \"\"\"\n",
    "\n",
    "    DT = 0.5\n",
    "    nx = x_torch.numel()\n",
    "    nu = u_torch.numel()\n",
    "\n",
    "    A_cont, B_cont = torch.autograd.functional.jacobian(f, (x_torch, u_torch))\n",
    "\n",
    "    if discrete:\n",
    "        return A_cont, B_cont\n",
    "\n",
    "    # Compute the discretized A and B.\n",
    "    A = DT * A_cont.reshape(nx, nx) + np.eye(nx, dtype=np.float32)\n",
    "    B = DT * B_cont.reshape(nx, nu)\n",
    "    return A, B"
   ]
  },
  {
   "cell_type": "code",
   "execution_count": 92,
   "id": "84b41f3c",
   "metadata": {},
   "outputs": [
    {
     "name": "stdout",
     "output_type": "stream",
     "text": [
      "72.5 µs ± 6.27 µs per loop (mean ± std. dev. of 7 runs, 10,000 loops each)\n"
     ]
    }
   ],
   "source": [
    "%%timeit\n",
    "unicycle_discrete(x, u)"
   ]
  },
  {
   "cell_type": "code",
   "execution_count": 93,
   "id": "84b41f3c",
   "metadata": {},
   "outputs": [
    {
     "name": "stdout",
     "output_type": "stream",
     "text": [
      "72.6 µs ± 3.17 µs per loop (mean ± std. dev. of 7 runs, 10,000 loops each)\n"
     ]
    }
   ],
   "source": [
    "%%timeit\n",
    "unicycle_discrete2(x, u)"
   ]
  },
  {
   "cell_type": "code",
   "execution_count": 82,
   "id": "706a38e2",
   "metadata": {},
   "outputs": [
    {
     "name": "stdout",
     "output_type": "stream",
     "text": [
      "29.5 µs ± 1.96 µs per loop (mean ± std. dev. of 7 runs, 10,000 loops each)\n"
     ]
    }
   ],
   "source": [
    "%%timeit\n",
    "unicycle_continuous3(x, u)"
   ]
  },
  {
   "cell_type": "code",
   "execution_count": 84,
   "id": "706a38e2",
   "metadata": {},
   "outputs": [
    {
     "name": "stdout",
     "output_type": "stream",
     "text": [
      "29.4 µs ± 1.65 µs per loop (mean ± std. dev. of 7 runs, 10,000 loops each)\n"
     ]
    }
   ],
   "source": [
    "%%timeit\n",
    "unicycle_continuous2(x, u)"
   ]
  },
  {
   "cell_type": "code",
   "execution_count": 65,
   "id": "ef73de0d",
   "metadata": {},
   "outputs": [
    {
     "data": {
      "text/plain": [
       "((tensor([[ 1.0000e+00,  0.0000e+00,  0.0000e+00, -2.1856e-08],\n",
       "          [ 0.0000e+00,  1.0000e+00,  0.0000e+00,  5.0000e-01],\n",
       "          [ 0.0000e+00,  0.0000e+00,  1.0000e+00,  0.0000e+00],\n",
       "          [ 0.0000e+00,  0.0000e+00,  0.0000e+00,  1.0000e+00]]),\n",
       "  tensor([[0.0000, 0.0000],\n",
       "          [0.0000, 0.0000],\n",
       "          [0.5000, 0.0000],\n",
       "          [0.0000, 0.5000]])),\n",
       " (tensor([[ 1.0000e+00,  0.0000e+00,  0.0000e+00, -2.1856e-08],\n",
       "          [ 0.0000e+00,  1.0000e+00,  0.0000e+00,  5.0000e-01],\n",
       "          [ 0.0000e+00,  0.0000e+00,  0.0000e+00,  1.0000e+00],\n",
       "          [ 0.0000e+00,  0.0000e+00,  1.0000e+00,  0.0000e+00]]),\n",
       "  tensor([[0.0000, 0.0000],\n",
       "          [0.0000, 0.0000],\n",
       "          [0.5000, 0.0000],\n",
       "          [0.0000, 0.5000]])))"
      ]
     },
     "execution_count": 65,
     "metadata": {},
     "output_type": "execute_result"
    }
   ],
   "source": [
    "x = torch.tensor([0., 0, np.pi/2, 0])\n",
    "u = torch.tensor([0., 0])\n",
    "linearize(unicycle_continuous, x, u, False), linearize(unicycle_discrete, x, u, True)"
   ]
  },
  {
   "cell_type": "code",
   "execution_count": 15,
   "id": "cac062f7-f1bf-401d-8624-967fb0e14e6e",
   "metadata": {},
   "outputs": [],
   "source": [
    "def reference_cost(x, u, _x_goal, _Q, _R, _Qf=None, terminal=False):\n",
    "    \"\"\"Cost of reaching the goal\"\"\"\n",
    "    \n",
    "    assert isinstance(x, torch.Tensor) and isinstance(u, torch.Tensor)\n",
    "    x = x.reshape(-1,1)\n",
    "    u = u.reshape(-1,1)\n",
    "    \n",
    "    if _Qf is None:\n",
    "        _Qf = torch.eye(_Q.shape[0])\n",
    "    \n",
    "    if terminal:\n",
    "        return (x - _x_goal).T @ _Qf @ (x - _x_goal)\n",
    "    return (x - _x_goal).T @ _Q @ (x - _x_goal) + u.T @ _R @ u"
   ]
  },
  {
   "cell_type": "code",
   "execution_count": 16,
   "id": "31bdf618-4e0b-42e4-b9af-2f0b8cdab4f7",
   "metadata": {},
   "outputs": [
    {
     "name": "stdout",
     "output_type": "stream",
     "text": [
      "0/50\tJ: 210000\n",
      "1/50\tJ: 106521\tμ: 0.5\tΔ: 0.5\n",
      "2/50\tJ: 7777.31\tμ: 0.125\tΔ: 0.25\n",
      "3/50\tJ: 4623.32\tμ: 0.015625\tΔ: 0.125\n",
      "4/50\tJ: 3518.16\tμ: 0.000976562\tΔ: 0.0625\n",
      "5/50\tJ: 3249.35\tμ: 3.05176e-05\tΔ: 0.03125\n",
      "6/50\tJ: 3187.49\tμ: 0\tΔ: 0.015625\n",
      "7/50\tJ: 3124.95\tμ: 0\tΔ: 0.0078125\n",
      "8/50\tJ: 3094.62\tμ: 0\tΔ: 0.00390625\n",
      "9/50\tJ: 3081.12\tμ: 0\tΔ: 0.00195312\n",
      "10/50\tJ: 3074.96\tμ: 0\tΔ: 0.000976562\n"
     ]
    }
   ],
   "source": [
    "dt = 0.1\n",
    "N = 50\n",
    "\n",
    "x = torch.tensor([-10, 10, 0, 0], dtype=torch.float, requires_grad=True)\n",
    "x_goal = torch.zeros((4, 1), dtype=torch.float)\n",
    "\n",
    "Q = torch.diag(torch.tensor([1., 1, 0, 0]))\n",
    "Qf = 1000 * torch.eye(Q.shape[0])\n",
    "R = torch.eye(2)\n",
    "goal_cost = functools.partial(reference_cost, _x_goal=x_goal, _Q=Q, _R=R, _Qf=Qf)\n",
    "\n",
    "ilqr = control2.iLQR(unicycle_continuous, goal_cost, x.numel(), 2, dt, N)\n",
    "X, U, J = ilqr.solve(x)\n",
    "plot_solve(X, J, x_goal.numpy())"
   ]
  },
  {
   "cell_type": "markdown",
   "id": "fa52b336-88bc-4de5-985c-3f8a885f5e00",
   "metadata": {
    "tags": []
   },
   "source": [
    "## multi-agent problem"
   ]
  },
  {
   "cell_type": "code",
   "execution_count": 17,
   "id": "a1c9269b-0670-4b71-9914-88299b983bcf",
   "metadata": {},
   "outputs": [],
   "source": [
    "def compute_pairwise_distance(X, x_dims):\n",
    "    \"\"\"Compute the distance between each pair of agents\"\"\"\n",
    "    assert len(set(x_dims)) == 1\n",
    "    \n",
    "    n_agents = len(x_dims)\n",
    "    n_states = x_dims[0]\n",
    "\n",
    "    pair_inds = np.array(list(itertools.combinations(range(n_agents), 2)))\n",
    "    X_agent = X.reshape(-1,n_agents,n_states).swapaxes(0,2)\n",
    "    dX = X_agent[:2,pair_inds[:,0]] - X_agent[:2,pair_inds[:,1]]\n",
    "    \n",
    "    if isinstance(X, np.ndarray):\n",
    "        return np.linalg.norm(dX, axis=0)\n",
    "    elif torch.is_tensor(X):\n",
    "        return torch.linalg.norm(dX, dim=0)"
   ]
  },
  {
   "cell_type": "code",
   "execution_count": 18,
   "id": "69955ae7-293d-41f3-947b-40320003f8dd",
   "metadata": {
    "tags": []
   },
   "outputs": [],
   "source": [
    "def dynamics_nd(f, x, u, _x_dims, _u_dims):\n",
    "    \"\"\"Compute the continuous time derivative for n agents\"\"\"\n",
    "    assert isinstance(x, torch.Tensor) and isinstance(u, torch.Tensor)\n",
    "    return torch.cat([\n",
    "        f(xi.flatten(), ui.flatten()) \n",
    "        for xi, ui in zip(split_agents(x, _x_dims), split_agents(u, _u_dims))\n",
    "    ])"
   ]
  },
  {
   "cell_type": "code",
   "execution_count": 19,
   "id": "0d66ce30-2168-454d-9185-47c0b3a42699",
   "metadata": {},
   "outputs": [],
   "source": [
    "def proximity_cost(X, _compute_pairwise_distance, _x_dims, _radius):\n",
    "    \"\"\"Penalizes distances underneath some radius between agents\"\"\"\n",
    "    \n",
    "    distances = _compute_pairwise_distance(X, _x_dims)\n",
    "    pair_costs = torch.fmin(torch.zeros((1)), distances - _radius)**2\n",
    "    return pair_costs.sum(dim=0)"
   ]
  },
  {
   "cell_type": "code",
   "execution_count": 20,
   "id": "50341bc7-4d4d-4c09-957b-3f267150b7fa",
   "metadata": {},
   "outputs": [],
   "source": [
    "def multi_agent_cost(goal_cost, prox_cost, x, u, terminal=False):\n",
    "    \"\"\"Reference deviation costs plus collision avoidance costs\"\"\"\n",
    "    return goal_cost(x, u, terminal=terminal) + 100*prox_cost(x)"
   ]
  },
  {
   "cell_type": "markdown",
   "id": "642a633c-4682-40c7-95c3-9825a74791a4",
   "metadata": {},
   "source": [
    "### initializing the scene\n",
    "Here, we define some initial positions within some distance of each other, and then rotate them about the origin by some random angle to hopefully create some interesting scenarios."
   ]
  },
  {
   "cell_type": "code",
   "execution_count": 21,
   "id": "ae45c06e-008b-4470-9fd8-6939e8d75241",
   "metadata": {},
   "outputs": [],
   "source": [
    "def randomize_locs(n_pts, min_sep=3.0, var=3.0, n_dim=2):\n",
    "    \"\"\"Uniformly randomize locations of points in N-D while enforcing\n",
    "       a minimum separation between them.\n",
    "    \"\"\" \n",
    "    \n",
    "    # Distance to move away from center if we're too close.\n",
    "    Δ = 0.1 * n_pts\n",
    "    x = var * np.random.uniform(-1, 1, (n_pts, n_dim))\n",
    "    \n",
    "    # Determine the pair-wise indicies for an arbitrary number of agents.\n",
    "    pair_inds = np.array(list(itertools.combinations(range(n_pts), 2)))\n",
    "    move_inds = np.arange(n_pts)\n",
    "\n",
    "    # Keep moving points away from center until we satisfy radius\n",
    "    while move_inds.size:\n",
    "        center = np.mean(x, axis=0)\n",
    "        distances = compute_pairwise_distance(x.flatten(), [n_dim]*n_pts)\n",
    "\n",
    "        move_inds = pair_inds[distances.flatten() <= min_sep]\n",
    "        x[move_inds] += Δ * (x[move_inds] - center)\n",
    "    \n",
    "    return x"
   ]
  },
  {
   "cell_type": "code",
   "execution_count": 22,
   "id": "1712eebb-a20b-478b-a70a-ba1e6e02a2de",
   "metadata": {},
   "outputs": [],
   "source": [
    "def face_goal(x0, x_goal):\n",
    "    \"\"\"Make the agents face the direction of their goal with a little noise\"\"\"\n",
    "    \n",
    "    VAR = 0.01\n",
    "    dX = x_goal[:,:2] - x0[:,:2]\n",
    "    headings = np.arctan2(*np.rot90(dX, 1))\n",
    "    \n",
    "    x0[:,2] = headings + VAR * np.random.randn(x0.shape[0])\n",
    "    x_goal[:,2] = headings + VAR * np.random.randn(x0.shape[0])\n",
    "    \n",
    "    return x0, x_goal"
   ]
  },
  {
   "cell_type": "code",
   "execution_count": 23,
   "id": "73c7053f-f679-4cb4-935c-751338b7ca08",
   "metadata": {},
   "outputs": [],
   "source": [
    "def randy_setup():\n",
    "    \"\"\"Hardcoded example with reasonable consistency eyeballed from \n",
    "       Potential-iLQR paper\n",
    "    \"\"\"\n",
    "    x0 = torch.tensor([[0.5, 1.5, 0.1, 0,\n",
    "                        2.5, 1.5, π, 0,\n",
    "                        1.5, 1.3, π/2, 0]], \n",
    "                     dtype=torch.float, requires_grad=True).T\n",
    "    x_goal = torch.tensor([[2.5, 1.5, 0, 0, \n",
    "                            0.5, 1.5, π, 0, \n",
    "                            1.5, 2.2, π/2, 0]]).T\n",
    "    return x0, x_goal"
   ]
  },
  {
   "cell_type": "markdown",
   "id": "f1ef5759-be12-4088-a4e6-fdc845d0d7eb",
   "metadata": {},
   "source": [
    "To be consistent between simulations, we normalize for the scale of the setup by computing the *energy*, or the sum of distances from the origin of the points. This should be the same for all runs."
   ]
  },
  {
   "cell_type": "code",
   "execution_count": 24,
   "id": "b87271ac-82e9-42d7-9276-824d05a26f4b",
   "metadata": {},
   "outputs": [],
   "source": [
    "def compute_energy(x, x_dims):\n",
    "    \"\"\"Determine the sum of distances from the origin\"\"\"\n",
    "    return torch.sum(x[pos_mask(x_dims)].reshape(-1,2).norm(dim=1)).item()\n",
    "\n",
    "def normalize_energy(x, x_dims, energy=10.0):\n",
    "    \"\"\"Zero-center the coordinates and then ensure the sum of \n",
    "       squared distances == energy\n",
    "    \"\"\"\n",
    "    \n",
    "    # Don't mutate x's data for this function, keep it pure.\n",
    "    x = x.clone()\n",
    "    n_agents = len(x_dims)\n",
    "    center = x[pos_mask(x_dims)].reshape(-1, 2).mean(0)\n",
    "\n",
    "    with torch.no_grad():\n",
    "        x[pos_mask(x_dims)] -= center.tile(n_agents).reshape(-1,1)\n",
    "        x[pos_mask(x_dims)] *= energy / compute_energy(x, x_dims)\n",
    "    assert x.numel() == sum(x_dims)\n",
    "    \n",
    "    return x\n",
    "\n",
    "def perturb_state(x, x_dims, var=0.5):\n",
    "    \"\"\"Add a little noise to the start to knock off perfect symmetries\"\"\"\n",
    "    \n",
    "    x = x.clone()\n",
    "    with torch.no_grad():\n",
    "        x[pos_mask(x_dims)] += var*torch.randn_like(x[pos_mask(x_dims)])\n",
    "    \n",
    "    return x"
   ]
  },
  {
   "cell_type": "code",
   "execution_count": 25,
   "id": "1fbd651e-7685-421f-b28a-fecb9e0a3bdb",
   "metadata": {},
   "outputs": [],
   "source": [
    "def random_setup(n_agents, **kwargs):\n",
    "    \"\"\"Create a randomized set up of initial and final positions\"\"\"\n",
    "    \n",
    "    # Rotate the initial points by some amount about the center.\n",
    "    theta = π + random.uniform(-π/4, π/4)\n",
    "    R = Rotation.from_euler('z', theta).as_matrix()[:2, :2]\n",
    "\n",
    "    # We don't have to normlize for energy here\n",
    "    x_i = randomize_locs(n_agents, **kwargs)\n",
    "    x_f = x_i @ R + x_i.mean(axis=0)\n",
    "    # x_f = randomize_locs(n_agents, 3.0)\n",
    "\n",
    "    x0 = np.c_[x_i, np.zeros((n_agents, 2))]\n",
    "    x_goal = np.c_[x_f, np.zeros((n_agents, 2))]\n",
    "    x0, x_goal = face_goal(x0, x_goal)\n",
    "    \n",
    "    x0 = torch.from_numpy(x0).requires_grad_(True).type(torch.float)\n",
    "    x_goal = torch.from_numpy(x_goal).type(torch.float)\n",
    "    \n",
    "    return x0.reshape(-1,1), x_goal.reshape(-1,1)"
   ]
  },
  {
   "cell_type": "code",
   "execution_count": null,
   "id": "d1d31aa3-c1ce-4260-bc30-342deca087e6",
   "metadata": {},
   "outputs": [
    {
     "data": {
      "text/plain": [
       "<Figure size 640x480 with 0 Axes>"
      ]
     },
     "metadata": {},
     "output_type": "display_data"
    },
    {
     "data": {
      "application/vnd.jupyter.widget-view+json": {
       "model_id": "66533c8bb75b49b8b874ea08fad74ee4",
       "version_major": 2,
       "version_minor": 0
      },
      "image/png": "[encoded data removed]",
      "text/html": [
       "\n",
       "            <div style=\"display: inline-block;\">\n",
       "                <div class=\"jupyter-widgets widget-label\" style=\"text-align: center;\">\n",
       "                    Figure\n",
       "                </div>\n",
       "                <img src='data:image/png;base64,iVBORw0KGgoAAAANSUhEUgAAAoAAAAHgCAYAAAA10dzkAAAAOXRFWHRTb2Z0d2FyZQBNYXRwbG90bGliIHZlcnNpb24zLjUuMSwgaHR0cHM6Ly9tYXRwbG90bGliLm9yZy/YYfK9AAAACXBIWXMAAA9hAAAPYQGoP6dpAAAIyUlEQVR4nO3WMQEAIAzAMMC/5+ECjiYKenbPzCwAADLO7wAAAN4ygAAAMQYQACDGAAIAxBhAAIAYAwgAEGMAAQBiDCAAQIwBBACIMYAAADEGEAAgxgACAMQYQACAGAMIABBjAAEAYgwgAECMAQQAiDGAAAAxBhAAIMYAAgDEGEAAgBgDCAAQYwABAGIMIABAjAEEAIgxgAAAMQYQACDGAAIAxBhAAIAYAwgAEGMAAQBiDCAAQIwBBACIMYAAADEGEAAgxgACAMQYQACAGAMIABBjAAEAYgwgAECMAQQAiDGAAAAxBhAAIMYAAgDEGEAAgBgDCAAQYwABAGIMIABAjAEEAIgxgAAAMQYQACDGAAIAxBhAAIAYAwgAEGMAAQBiDCAAQIwBBACIMYAAADEGEAAgxgACAMQYQACAGAMIABBjAAEAYgwgAECMAQQAiDGAAAAxBhAAIMYAAgDEGEAAgBgDCAAQYwABAGIMIABAjAEEAIgxgAAAMQYQACDGAAIAxBhAAIAYAwgAEGMAAQBiDCAAQIwBBACIMYAAADEGEAAgxgACAMQYQACAGAMIABBjAAEAYgwgAECMAQQAiDGAAAAxBhAAIMYAAgDEGEAAgBgDCAAQYwABAGIMIABAjAEEAIgxgAAAMQYQACDGAAIAxBhAAIAYAwgAEGMAAQBiDCAAQIwBBACIMYAAADEGEAAgxgACAMQYQACAGAMIABBjAAEAYgwgAECMAQQAiDGAAAAxBhAAIMYAAgDEGEAAgBgDCAAQYwABAGIMIABAjAEEAIgxgAAAMQYQACDGAAIAxBhAAIAYAwgAEGMAAQBiDCAAQIwBBACIMYAAADEGEAAgxgACAMQYQACAGAMIABBjAAEAYgwgAECMAQQAiDGAAAAxBhAAIMYAAgDEGEAAgBgDCAAQYwABAGIMIABAjAEEAIgxgAAAMQYQACDGAAIAxBhAAIAYAwgAEGMAAQBiDCAAQIwBBACIMYAAADEGEAAgxgACAMQYQACAGAMIABBjAAEAYgwgAECMAQQAiDGAAAAxBhAAIMYAAgDEGEAAgBgDCAAQYwABAGIMIABAjAEEAIgxgAAAMQYQACDGAAIAxBhAAIAYAwgAEGMAAQBiDCAAQIwBBACIMYAAADEGEAAgxgACAMQYQACAGAMIABBjAAEAYgwgAECMAQQAiDGAAAAxBhAAIMYAAgDEGEAAgBgDCAAQYwABAGIMIABAjAEEAIgxgAAAMQYQACDGAAIAxBhAAIAYAwgAEGMAAQBiDCAAQIwBBACIMYAAADEGEAAgxgACAMQYQACAGAMIABBjAAEAYgwgAECMAQQAiDGAAAAxBhAAIMYAAgDEGEAAgBgDCAAQYwABAGIMIABAjAEEAIgxgAAAMQYQACDGAAIAxBhAAIAYAwgAEGMAAQBiDCAAQIwBBACIMYAAADEGEAAgxgACAMQYQACAGAMIABBjAAEAYgwgAECMAQQAiDGAAAAxBhAAIMYAAgDEGEAAgBgDCAAQYwABAGIMIABAjAEEAIgxgAAAMQYQACDGAAIAxBhAAIAYAwgAEGMAAQBiDCAAQIwBBACIMYAAADEGEAAgxgACAMQYQACAGAMIABBjAAEAYgwgAECMAQQAiDGAAAAxBhAAIMYAAgDEGEAAgBgDCAAQYwABAGIMIABAjAEEAIgxgAAAMQYQACDGAAIAxBhAAIAYAwgAEGMAAQBiDCAAQIwBBACIMYAAADEGEAAgxgACAMQYQACAGAMIABBjAAEAYgwgAECMAQQAiDGAAAAxBhAAIMYAAgDEGEAAgBgDCAAQYwABAGIMIABAjAEEAIgxgAAAMQYQACDGAAIAxBhAAIAYAwgAEGMAAQBiDCAAQIwBBACIMYAAADEGEAAgxgACAMQYQACAGAMIABBjAAEAYgwgAECMAQQAiDGAAAAxBhAAIMYAAgDEGEAAgBgDCAAQYwABAGIMIABAjAEEAIgxgAAAMQYQACDGAAIAxBhAAIAYAwgAEGMAAQBiDCAAQIwBBACIMYAAADEGEAAgxgACAMQYQACAGAMIABBjAAEAYgwgAECMAQQAiDGAAAAxBhAAIMYAAgDEGEAAgBgDCAAQYwABAGIMIABAjAEEAIgxgAAAMQYQACDGAAIAxBhAAIAYAwgAEGMAAQBiDCAAQIwBBACIMYAAADEGEAAgxgACAMQYQACAGAMIABBjAAEAYgwgAECMAQQAiDGAAAAxBhAAIMYAAgDEGEAAgBgDCAAQYwABAGIMIABAjAEEAIgxgAAAMQYQACDGAAIAxBhAAIAYAwgAEGMAAQBiDCAAQIwBBACIMYAAADEGEAAgxgACAMQYQACAGAMIABBjAAEAYgwgAECMAQQAiDGAAAAxBhAAIMYAAgDEGEAAgBgDCAAQYwABAGIMIABAjAEEAIgxgAAAMQYQACDGAAIAxBhAAIAYAwgAEGMAAQBiDCAAQIwBBACIMYAAADEGEAAgxgACAMQYQACAGAMIABBjAAEAYgwgAECMAQQAiDGAAAAxBhAAIMYAAgDEGEAAgBgDCAAQYwABAGIMIABAjAEEAIgxgAAAMQYQACDGAAIAxBhAAIAYAwgAEGMAAQBiDCAAQIwBBACIMYAAADEGEAAgxgACAMQYQACAGAMIABBjAAEAYgwgAECMAQQAiDGAAAAxBhAAIMYAAgDEGEAAgBgDCAAQYwABAGIMIABAjAEEAIgxgAAAMQYQACDGAAIAxBhAAIAYAwgAEGMAAQBiDCAAQIwBBACIMYAAADEGEAAgxgACAMQYQACAGAMIABBjAAEAYgwgAECMAQQAiDGAAAAxBhAAIMYAAgDEGEAAgBgDCAAQYwABAGIMIABAjAEEAIgxgAAAMQYQACDGAAIAxBhAAIAYAwgAEGMAAQBiDCAAQIwBBACIMYAAADEGEAAgxgACAMQYQACAGAMIABBjAAEAYgwgAECMAQQAiDGAAAAxBhAAIMYAAgDEGEAAgBgDCAAQYwABAGIuJnkHvKensmIAAAAASUVORK5CYII=' width=640.0/>\n",
       "            </div>\n",
       "        "
      ],
      "text/plain": [
       "Canvas(toolbar=Toolbar(toolitems=[('Home', 'Reset original view', 'home', 'home'), ('Back', 'Back to previous …"
      ]
     },
     "metadata": {},
     "output_type": "display_data"
    }
   ],
   "source": [
    "plt.figure()"
   ]
  },
  {
   "cell_type": "code",
   "execution_count": 84,
   "id": "1d5df34d-5e4d-454b-82d4-33ae3b77f726",
   "metadata": {},
   "outputs": [],
   "source": [
    "n_agents = 3\n",
    "sep_init = 1.0\n",
    "# x0, x_goal = random_setup(n_agents, min_sep=sep_init, var=1.0)\n",
    "x0, x_goal = randy_setup()\n",
    "\n",
    "x_dims = [4] * n_agents\n",
    "u_dims = [2] * n_agents\n",
    "x0 = normalize_energy(x0, x_dims)\n",
    "x_goal = normalize_energy(x_goal, x_dims)\n",
    "\n",
    "# x0 = perturb_state(x0, x_dims)\n",
    "\n",
    "plt.clf()\n",
    "plt.gca().set_aspect('equal')\n",
    "X = torch.dstack([\n",
    "    x0.reshape(n_agents, 4).detach(), \n",
    "    x_goal.reshape(n_agents, 4).detach()\n",
    "]).swapaxes(1,2)\n",
    "for i, Xi in enumerate(X):\n",
    "    plt.annotate('', Xi[1,:2], Xi[0,:2], \n",
    "                 arrowprops=dict(facecolor=plt.cm.tab20.colors[2*i]))\n",
    "pocketknives.set_bounds(X.reshape(-1,4), zoom=0.2)"
   ]
  },
  {
   "cell_type": "code",
   "execution_count": 85,
   "id": "1f606b8b-543c-442a-8e82-7d1118b629ee",
   "metadata": {},
   "outputs": [],
   "source": [
    "dt = 0.05\n",
    "N = 50\n",
    "tol = 1e-3\n",
    "\n",
    "dynamics_8d = functools.partial(dynamics_nd, unicycle_continuous, _x_dims=x_dims, _u_dims=u_dims)\n",
    "\n",
    "Q = 4 * torch.diag(torch.tensor([1., 1, 0, 0]).tile(n_agents))\n",
    "# Qf = 1000 * torch.eye(Q.shape[0])\n",
    "Qf = 1000 * torch.diag(torch.tensor([1., 1, 0, 1]).tile(n_agents))\n",
    "R = torch.eye(2*n_agents)\n",
    "\n",
    "radius = 1.0\n",
    "\n",
    "goal_cost = functools.partial(reference_cost, _x_goal=x_goal, _Q=Q, _R=R, _Qf=Qf)\n",
    "prox_cost = functools.partial(proximity_cost, _x_dims=x_dims, _radius=radius, _compute_pairwise_distance=compute_pairwise_distance)\n",
    "multi_cost = functools.partial(multi_agent_cost, goal_cost, prox_cost)"
   ]
  },
  {
   "cell_type": "code",
   "execution_count": 94,
   "id": "563b0318-aef0-4483-afb9-9dae0352b3df",
   "metadata": {},
   "outputs": [
    {
     "name": "stdout",
     "output_type": "stream",
     "text": [
      "0/50\tμ: 1\tΔ: 2\n",
      "1/50\tJ: 20469.6\tμ: 0.5\tΔ: 0.5\n",
      "2/50\tJ: 14191\tμ: 0.125\tΔ: 0.25\n",
      "3/50\tJ: 14145.5\tμ: 0.015625\tΔ: 0.125\n",
      "4/50\tJ: 14003.5\tμ: 0.000976562\tΔ: 0.0625\n",
      "5/50\tJ: 13904.3\tμ: 3.05176e-05\tΔ: 0.03125\n",
      "6/50\tJ: 13828.9\tμ: 0\tΔ: 0.015625\n",
      "7/50\tJ: 13827.3\tμ: 0\tΔ: 0.0078125\n",
      "CPU times: user 22.8 s, sys: 798 ms, total: 23.6 s\n",
      "Wall time: 23.6 s\n"
     ]
    }
   ],
   "source": [
    "%%time\n",
    "# %%prun\n",
    "ilqr = control2.iLQR(dynamics_8d, multi_cost, x0.numel(), 2*n_agents, dt, N)\n",
    "t0 = pc()\n",
    "X, U, J = ilqr.solve(x0, tol=tol)\n",
    "\n",
    "t_solve = pc() - t0\n",
    "with open('out.log', 'a') as file:\n",
    "    file.write(f\"{type(ilqr)}\\t{t_solve=:.8g}\\t{J=:.8g}\\n\")"
   ]
  },
  {
   "cell_type": "code",
   "execution_count": 82,
   "id": "f583a3f3-8ec4-482d-b904-c957475a345a",
   "metadata": {},
   "outputs": [],
   "source": [
    "plot_solve(X, J, x_goal.numpy(), x_dims)"
   ]
  },
  {
   "cell_type": "code",
   "execution_count": 162,
   "id": "b87a4e75-51b8-4810-b699-4242d87f6435",
   "metadata": {},
   "outputs": [
    {
     "data": {
      "text/plain": [
       "<matplotlib.collections.LineCollection at 0x7fb88e5bc1c0>"
      ]
     },
     "execution_count": 162,
     "metadata": {},
     "output_type": "execute_result"
    }
   ],
   "source": [
    "plt.clf()\n",
    "plt.plot(compute_pairwise_distance(X, x_dims).T)\n",
    "plt.hlines(radius, *plt.xlim(), 'r', ls='--')"
   ]
  },
  {
   "cell_type": "code",
   "execution_count": 151,
   "id": "d9ae135c-adc9-40ee-87ad-a42fb0f1edfc",
   "metadata": {},
   "outputs": [
    {
     "data": {
      "text/plain": [
       "[<matplotlib.lines.Line2D at 0x7fb88ba8ea30>]"
      ]
     },
     "execution_count": 151,
     "metadata": {},
     "output_type": "execute_result"
    }
   ],
   "source": [
    "costs = []\n",
    "for xi, ui in zip(X, U):\n",
    "    costs.append(multi_cost(torch.from_numpy(xi), torch.from_numpy(ui)).item())\n",
    "plt.clf()\n",
    "plt.plot(costs)"
   ]
  },
  {
   "cell_type": "code",
   "execution_count": 152,
   "id": "86412aa3-9981-4600-a2a2-2211da3ec579",
   "metadata": {},
   "outputs": [],
   "source": [
    "def setup(X, x_goal, x_dims, radius):\n",
    "    plt.clf()\n",
    "    \n",
    "    n_agents = len(x_dims)\n",
    "    ax = plt.gca()\n",
    "    handles = []\n",
    "    for i in range(n_agents):\n",
    "        handles.append((\n",
    "            plt.plot(0, c=plt.cm.tab20.colors[2*i], marker='o', markersize=4)[0],\n",
    "            ax.add_artist(plt.Circle(np.nan, radius, color='k', fill=True, alpha=0.3, lw=2))\n",
    "        ))\n",
    "        \n",
    "    for xg in split_agents(x_goal, x_dims):\n",
    "        plt.scatter(xg[0,0], xg[0,1], c='r', marker='x', zorder=10)\n",
    "\n",
    "    X_cat = np.vstack(split_agents(X, x_dims))\n",
    "    pocketknives.set_bounds(X_cat, zoom=0.3)\n",
    "    \n",
    "    return handles\n",
    "    \n",
    "def animate(t, handles, X, x_dims, x_goal):\n",
    "    \"\"\"Animate the solution into a gif\"\"\"\n",
    "    for (i, xi), hi in zip(enumerate(split_agents(X, x_dims)), handles):\n",
    "        hi[0].set_xdata(xi[:t,0])\n",
    "        hi[0].set_ydata(xi[:t,1])\n",
    "        hi[1].set_center(xi[t-1,:2])\n",
    "    "
   ]
  },
  {
   "cell_type": "code",
   "execution_count": 153,
   "id": "d23639a7-3ef6-438f-a215-12798324ac8d",
   "metadata": {},
   "outputs": [],
   "source": [
    "plt.clf()\n",
    "handles = setup(X, x_goal.flatten(), x_dims, radius)\n",
    "animate(-1, handles, X, x_dims, x_goal)"
   ]
  },
  {
   "cell_type": "code",
   "execution_count": 106,
   "id": "cb12a6da-32df-47e7-bb14-d0f52afdcd71",
   "metadata": {},
   "outputs": [
    {
     "name": "stderr",
     "output_type": "stream",
     "text": [
      "MovieWriter ffmpeg unavailable; using Pillow instead.\n"
     ]
    }
   ],
   "source": [
    "handles = setup(X, x_goal.flatten(), x_dims, radius)\n",
    "anim = FuncAnimation(plt.gcf(), animate, frames=N+1, fargs=(handles, X, x_dims, x_goal))\n",
    "anim.save('traj.gif', fps=5)"
   ]
  },
  {
   "cell_type": "code",
   "execution_count": null,
   "id": "f60c50cc-480e-4a72-8b24-bb9aa3a8e44e",
   "metadata": {},
   "outputs": [],
   "source": []
  },
  {
   "cell_type": "code",
   "execution_count": null,
   "id": "e4cf44ff-2700-43bc-9848-3375985e6227",
   "metadata": {},
   "outputs": [],
   "source": []
  },
  {
   "cell_type": "code",
   "execution_count": null,
   "id": "18e04e80-d538-48a0-8e59-d9377ec87bc6",
   "metadata": {},
   "outputs": [],
   "source": []
  }
 ],
 "metadata": {
  "interpreter": {
   "hash": "a7155dc2877aad5861451e8991f2ffb7161aaf8d218c61a24e89522653b6db1c"
  },
  "kernelspec": {
   "display_name": "Python 3.9.12 ('take2')",
   "language": "python",
   "name": "python3"
  },
  "language_info": {
   "codemirror_mode": {
    "name": "ipython",
    "version": 3
   },
   "file_extension": ".py",
   "mimetype": "text/x-python",
   "name": "python",
   "nbconvert_exporter": "python",
   "pygments_lexer": "ipython3",
   "version": "3.9.12"
  }
 },
 "nbformat": 4,
 "nbformat_minor": 5
}
