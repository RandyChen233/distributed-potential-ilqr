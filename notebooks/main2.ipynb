{
 "cells": [
  {
   "cell_type": "markdown",
   "id": "dc93dafc-34e9-4a69-a56f-29c3bb713e71",
   "metadata": {
    "tags": []
   },
   "source": [
    "# take2\n",
    "\n",
    "**GOAL**: Keep It Stupid Simple = KISS.\n",
    "\n",
    "**References**:\n",
    " 1. [ilqgames/python](https://github.com/HJReachability/ilqgames/blob/master/python)"
   ]
  },
  {
   "cell_type": "code",
   "execution_count": 130,
   "id": "88b5716c-953a-43e7-ba1a-666f959cc2e7",
   "metadata": {},
   "outputs": [
    {
     "name": "stdout",
     "output_type": "stream",
     "text": [
      "The autoreload extension is already loaded. To reload it, use:\n",
      "  %reload_ext autoreload\n"
     ]
    }
   ],
   "source": [
    "%load_ext autoreload\n",
    "%autoreload 1\n",
    "%aimport decentralized.control2"
   ]
  },
  {
   "cell_type": "code",
   "execution_count": 2,
   "id": "5af0f28d-2b3f-4be6-93b8-8952dfe73058",
   "metadata": {},
   "outputs": [],
   "source": [
    "import functools\n",
    "import itertools\n",
    "\n",
    "import numpy as np\n",
    "import matplotlib.pyplot as plt\n",
    "from matplotlib.animation import FuncAnimation\n",
    "import torch\n",
    "\n",
    "from decentralized import control2\n",
    "import pocketknives"
   ]
  },
  {
   "cell_type": "code",
   "execution_count": 3,
   "id": "91cd6f19-d6ad-4d1b-b72f-829d26663d52",
   "metadata": {},
   "outputs": [],
   "source": [
    "%matplotlib widget\n",
    "plt.rcParams['axes.grid'] = True"
   ]
  },
  {
   "cell_type": "code",
   "execution_count": 123,
   "id": "d1d31aa3-c1ce-4260-bc30-342deca087e6",
   "metadata": {},
   "outputs": [
    {
     "data": {
      "text/plain": [
       "<Figure size 640x480 with 0 Axes>"
      ]
     },
     "execution_count": 123,
     "metadata": {},
     "output_type": "execute_result"
    },
    {
     "data": {
      "application/vnd.jupyter.widget-view+json": {
       "model_id": "cd27e62285304959b47f232f45cc2966",
       "version_major": 2,
       "version_minor": 0
      },
      "image/png": "[encoded data removed]",
      "text/html": [
       "\n",
       "            <div style=\"display: inline-block;\">\n",
       "                <div class=\"jupyter-widgets widget-label\" style=\"text-align: center;\">\n",
       "                    Figure\n",
       "                </div>\n",
       "                <img src='data:image/png;base64,iVBORw0KGgoAAAANSUhEUgAAAoAAAAHgCAYAAAA10dzkAAAAOXRFWHRTb2Z0d2FyZQBNYXRwbG90bGliIHZlcnNpb24zLjUuMSwgaHR0cHM6Ly9tYXRwbG90bGliLm9yZy/YYfK9AAAACXBIWXMAAA9hAAAPYQGoP6dpAAAIyUlEQVR4nO3WMQEAIAzAMMC/5+ECjiYKenbPzCwAADLO7wAAAN4ygAAAMQYQACDGAAIAxBhAAIAYAwgAEGMAAQBiDCAAQIwBBACIMYAAADEGEAAgxgACAMQYQACAGAMIABBjAAEAYgwgAECMAQQAiDGAAAAxBhAAIMYAAgDEGEAAgBgDCAAQYwABAGIMIABAjAEEAIgxgAAAMQYQACDGAAIAxBhAAIAYAwgAEGMAAQBiDCAAQIwBBACIMYAAADEGEAAgxgACAMQYQACAGAMIABBjAAEAYgwgAECMAQQAiDGAAAAxBhAAIMYAAgDEGEAAgBgDCAAQYwABAGIMIABAjAEEAIgxgAAAMQYQACDGAAIAxBhAAIAYAwgAEGMAAQBiDCAAQIwBBACIMYAAADEGEAAgxgACAMQYQACAGAMIABBjAAEAYgwgAECMAQQAiDGAAAAxBhAAIMYAAgDEGEAAgBgDCAAQYwABAGIMIABAjAEEAIgxgAAAMQYQACDGAAIAxBhAAIAYAwgAEGMAAQBiDCAAQIwBBACIMYAAADEGEAAgxgACAMQYQACAGAMIABBjAAEAYgwgAECMAQQAiDGAAAAxBhAAIMYAAgDEGEAAgBgDCAAQYwABAGIMIABAjAEEAIgxgAAAMQYQACDGAAIAxBhAAIAYAwgAEGMAAQBiDCAAQIwBBACIMYAAADEGEAAgxgACAMQYQACAGAMIABBjAAEAYgwgAECMAQQAiDGAAAAxBhAAIMYAAgDEGEAAgBgDCAAQYwABAGIMIABAjAEEAIgxgAAAMQYQACDGAAIAxBhAAIAYAwgAEGMAAQBiDCAAQIwBBACIMYAAADEGEAAgxgACAMQYQACAGAMIABBjAAEAYgwgAECMAQQAiDGAAAAxBhAAIMYAAgDEGEAAgBgDCAAQYwABAGIMIABAjAEEAIgxgAAAMQYQACDGAAIAxBhAAIAYAwgAEGMAAQBiDCAAQIwBBACIMYAAADEGEAAgxgACAMQYQACAGAMIABBjAAEAYgwgAECMAQQAiDGAAAAxBhAAIMYAAgDEGEAAgBgDCAAQYwABAGIMIABAjAEEAIgxgAAAMQYQACDGAAIAxBhAAIAYAwgAEGMAAQBiDCAAQIwBBACIMYAAADEGEAAgxgACAMQYQACAGAMIABBjAAEAYgwgAECMAQQAiDGAAAAxBhAAIMYAAgDEGEAAgBgDCAAQYwABAGIMIABAjAEEAIgxgAAAMQYQACDGAAIAxBhAAIAYAwgAEGMAAQBiDCAAQIwBBACIMYAAADEGEAAgxgACAMQYQACAGAMIABBjAAEAYgwgAECMAQQAiDGAAAAxBhAAIMYAAgDEGEAAgBgDCAAQYwABAGIMIABAjAEEAIgxgAAAMQYQACDGAAIAxBhAAIAYAwgAEGMAAQBiDCAAQIwBBACIMYAAADEGEAAgxgACAMQYQACAGAMIABBjAAEAYgwgAECMAQQAiDGAAAAxBhAAIMYAAgDEGEAAgBgDCAAQYwABAGIMIABAjAEEAIgxgAAAMQYQACDGAAIAxBhAAIAYAwgAEGMAAQBiDCAAQIwBBACIMYAAADEGEAAgxgACAMQYQACAGAMIABBjAAEAYgwgAECMAQQAiDGAAAAxBhAAIMYAAgDEGEAAgBgDCAAQYwABAGIMIABAjAEEAIgxgAAAMQYQACDGAAIAxBhAAIAYAwgAEGMAAQBiDCAAQIwBBACIMYAAADEGEAAgxgACAMQYQACAGAMIABBjAAEAYgwgAECMAQQAiDGAAAAxBhAAIMYAAgDEGEAAgBgDCAAQYwABAGIMIABAjAEEAIgxgAAAMQYQACDGAAIAxBhAAIAYAwgAEGMAAQBiDCAAQIwBBACIMYAAADEGEAAgxgACAMQYQACAGAMIABBjAAEAYgwgAECMAQQAiDGAAAAxBhAAIMYAAgDEGEAAgBgDCAAQYwABAGIMIABAjAEEAIgxgAAAMQYQACDGAAIAxBhAAIAYAwgAEGMAAQBiDCAAQIwBBACIMYAAADEGEAAgxgACAMQYQACAGAMIABBjAAEAYgwgAECMAQQAiDGAAAAxBhAAIMYAAgDEGEAAgBgDCAAQYwABAGIMIABAjAEEAIgxgAAAMQYQACDGAAIAxBhAAIAYAwgAEGMAAQBiDCAAQIwBBACIMYAAADEGEAAgxgACAMQYQACAGAMIABBjAAEAYgwgAECMAQQAiDGAAAAxBhAAIMYAAgDEGEAAgBgDCAAQYwABAGIMIABAjAEEAIgxgAAAMQYQACDGAAIAxBhAAIAYAwgAEGMAAQBiDCAAQIwBBACIMYAAADEGEAAgxgACAMQYQACAGAMIABBjAAEAYgwgAECMAQQAiDGAAAAxBhAAIMYAAgDEGEAAgBgDCAAQYwABAGIMIABAjAEEAIgxgAAAMQYQACDGAAIAxBhAAIAYAwgAEGMAAQBiDCAAQIwBBACIMYAAADEGEAAgxgACAMQYQACAGAMIABBjAAEAYgwgAECMAQQAiDGAAAAxBhAAIMYAAgDEGEAAgBgDCAAQYwABAGIMIABAjAEEAIgxgAAAMQYQACDGAAIAxBhAAIAYAwgAEGMAAQBiDCAAQIwBBACIMYAAADEGEAAgxgACAMQYQACAGAMIABBjAAEAYgwgAECMAQQAiDGAAAAxBhAAIMYAAgDEGEAAgBgDCAAQYwABAGIMIABAjAEEAIgxgAAAMQYQACDGAAIAxBhAAIAYAwgAEGMAAQBiDCAAQIwBBACIMYAAADEGEAAgxgACAMQYQACAGAMIABBjAAEAYgwgAECMAQQAiDGAAAAxBhAAIMYAAgDEGEAAgBgDCAAQYwABAGIMIABAjAEEAIgxgAAAMQYQACDGAAIAxBhAAIAYAwgAEGMAAQBiDCAAQIwBBACIMYAAADEGEAAgxgACAMQYQACAGAMIABBjAAEAYgwgAECMAQQAiDGAAAAxBhAAIMYAAgDEGEAAgBgDCAAQYwABAGIuJnkHvKensmIAAAAASUVORK5CYII=' width=640.0/>\n",
       "            </div>\n",
       "        "
      ],
      "text/plain": [
       "Canvas(toolbar=Toolbar(toolitems=[('Home', 'Reset original view', 'home', 'home'), ('Back', 'Back to previous …"
      ]
     },
     "metadata": {},
     "output_type": "display_data"
    }
   ],
   "source": [
    "plt.figure()"
   ]
  },
  {
   "cell_type": "code",
   "execution_count": 5,
   "id": "33928e9f-cc0e-4c34-8005-795ccb11b835",
   "metadata": {},
   "outputs": [],
   "source": [
    "def split_agents(Z, z_dims):\n",
    "    \"\"\"Partition a cartesian product state or control for individual agents\"\"\"\n",
    "    if torch.is_tensor(Z):\n",
    "        return torch.split(torch.atleast_2d(Z), z_dims, dim=1)\n",
    "    return np.split(np.atleast_2d(Z), np.cumsum(z_dims[:-1]), axis=1)"
   ]
  },
  {
   "cell_type": "code",
   "execution_count": 6,
   "id": "2552858f-2662-40ce-90a2-25b30315b7fe",
   "metadata": {},
   "outputs": [],
   "source": [
    "def plot_solve(X, J, x_goal, x_dims=None):\n",
    "    \"\"\"Plot the resultant trajectory on plt.gcf()\"\"\"\n",
    "\n",
    "    plt.clf()\n",
    "    \n",
    "    if not x_dims:\n",
    "        x_dims = [X.shape[1]]\n",
    "        \n",
    "    N = X.shape[0]\n",
    "    t = np.arange(N) * dt\n",
    "    \n",
    "    X_split = split_agents(X, x_dims)\n",
    "    x_goal_split = split_agents(x_goal.reshape(1,-1), x_dims)\n",
    "    \n",
    "    for Xi, xg in zip(X_split, x_goal_split):\n",
    "        plt.scatter(Xi[:,0], Xi[:,1], c=t)\n",
    "        plt.scatter(Xi[0,0], Xi[0,1], 80, 'g', 'x', label=\"$x_0$\")\n",
    "        plt.scatter(xg[0,0], xg[0,1], 80, 'r', 'x', label=\"$x_f$\")\n",
    "    \n",
    "    plt.margins(0.1)\n",
    "    plt.title(f\"Final Cost: {J:.3g}\")"
   ]
  },
  {
   "cell_type": "markdown",
   "id": "b4e6bfed-7dbc-489d-ac20-66c1e4a1a25a",
   "metadata": {
    "tags": []
   },
   "source": [
    "## single-agent problem"
   ]
  },
  {
   "cell_type": "code",
   "execution_count": 7,
   "id": "9e11674a-5cd2-4dda-9bdc-de2a495581d6",
   "metadata": {},
   "outputs": [],
   "source": [
    "def unicycle_continuous(x, u):\n",
    "    \"\"\"\n",
    "    Compute the time derivative of state for a particular state/control.\n",
    "    NOTE: `x` and `u` should be 2D (i.e. column vectors).\n",
    "    REF: [1]\n",
    "    \"\"\"\n",
    "    assert isinstance(x, torch.Tensor) and isinstance(u, torch.Tensor)\n",
    "\n",
    "    x_dot = torch.zeros(x.numel())\n",
    "    x_dot[0] = x[3] * torch.cos(x[2])\n",
    "    x_dot[1] = x[3] * torch.sin(x[2])\n",
    "    x_dot[2] = u[0]\n",
    "    x_dot[3] = u[1]\n",
    "    return x_dot"
   ]
  },
  {
   "cell_type": "code",
   "execution_count": 135,
   "id": "cac062f7-f1bf-401d-8624-967fb0e14e6e",
   "metadata": {},
   "outputs": [],
   "source": [
    "def reference_cost(x, u, _x_goal, _Q, _R, _Qf=None, terminal=False):\n",
    "    \"\"\"Cost of reaching the goal\"\"\"\n",
    "    \n",
    "    assert isinstance(x, torch.Tensor) and isinstance(u, torch.Tensor)\n",
    "    x = x.reshape(-1,1)\n",
    "    u = u.reshape(-1,1)\n",
    "    \n",
    "    if _Qf is None:\n",
    "        _Qf = torch.eye(_Q.shape[0])\n",
    "    \n",
    "    if terminal:\n",
    "        return (x - _x_goal).T @ _Qf @ (x - _x_goal)\n",
    "    return (x - _x_goal).T @ _Q @ (x - _x_goal) + u.T @ _R @ u"
   ]
  },
  {
   "cell_type": "code",
   "execution_count": 136,
   "id": "31bdf618-4e0b-42e4-b9af-2f0b8cdab4f7",
   "metadata": {},
   "outputs": [
    {
     "name": "stdout",
     "output_type": "stream",
     "text": [
      "0/50\tJ: 209893\n",
      "1/50\tJ: 99606.8\tμ: 0.5\tΔ: 0.5\n",
      "2/50\tJ: 55223.6\tμ: 0.125\tΔ: 0.25\n",
      "3/50\tJ: 42368\tμ: 0.015625\tΔ: 0.125\n",
      "4/50\tJ: 15068.3\tμ: 0.000976562\tΔ: 0.0625\n",
      "5/50\tJ: 10037.2\tμ: 3.05176e-05\tΔ: 0.03125\n",
      "6/50\tJ: 5651.58\tμ: 0\tΔ: 0.015625\n",
      "7/50\tJ: 3741.04\tμ: 0\tΔ: 0.0078125\n",
      "8/50\tJ: 3441.93\tμ: 0\tΔ: 0.00390625\n",
      "9/50\tJ: 3345.56\tμ: 0\tΔ: 0.00195312\n",
      "10/50\tJ: 3178.55\tμ: 0\tΔ: 0.000976562\n",
      "11/50\tJ: 3118.78\tμ: 0\tΔ: 0.000488281\n",
      "12/50\tJ: 3091.34\tμ: 0\tΔ: 0.000244141\n",
      "13/50\tJ: 3079.1\tμ: 0\tΔ: 0.00012207\n",
      "14/50\tJ: 3074.04\tμ: 0\tΔ: 6.10352e-05\n"
     ]
    }
   ],
   "source": [
    "dt = 0.1\n",
    "N = 50\n",
    "\n",
    "x = torch.tensor([-10, 10, 0, 0], dtype=torch.float, requires_grad=True)\n",
    "x_goal = torch.zeros((4, 1), dtype=torch.float)\n",
    "\n",
    "Q = torch.diag(torch.tensor([1., 1, 0, 0]))\n",
    "Qf = 1000 * torch.eye(Q.shape[0])\n",
    "R = torch.eye(2)\n",
    "goal_cost = functools.partial(reference_cost, _x_goal=x_goal, _Q=Q, _R=R, _Qf=Qf)\n",
    "\n",
    "ilqr = control2.iLQR(unicycle_continuous, goal_cost, x.numel(), 2, dt, N)\n",
    "X, U, J = ilqr.solve(x)\n",
    "plot_solve(X, J, x_goal.numpy())"
   ]
  },
  {
   "cell_type": "markdown",
   "id": "fa52b336-88bc-4de5-985c-3f8a885f5e00",
   "metadata": {
    "tags": []
   },
   "source": [
    "## multi-agent problem"
   ]
  },
  {
   "cell_type": "code",
   "execution_count": 137,
   "id": "69955ae7-293d-41f3-947b-40320003f8dd",
   "metadata": {
    "tags": []
   },
   "outputs": [],
   "source": [
    "def dynamics_nd(f, x, u, _x_dims, _u_dims):\n",
    "    \"\"\"Compute the continuous time derivative for n agents\"\"\"\n",
    "    assert isinstance(x, torch.Tensor) and isinstance(u, torch.Tensor)\n",
    "    return torch.cat([\n",
    "        f(xi.flatten(), ui.flatten()) \n",
    "        for xi, ui in zip(split_agents(x, _x_dims), split_agents(u, _u_dims))\n",
    "    ])"
   ]
  },
  {
   "cell_type": "code",
   "execution_count": 138,
   "id": "0d66ce30-2168-454d-9185-47c0b3a42699",
   "metadata": {},
   "outputs": [],
   "source": [
    "def proximity_cost(x, _x_dims, _radius):\n",
    "    \"\"\"Penalizes distances underneath some radius between agents\"\"\"\n",
    "    assert len(set(_x_dims)) == 1\n",
    "\n",
    "    assert torch.is_tensor(x)\n",
    "    \n",
    "    n_agents = len(_x_dims)\n",
    "    n_states = _x_dims[0]\n",
    "\n",
    "    pair_inds = torch.tensor(list(itertools.combinations(range(n_agents), 2)))\n",
    "    x_agent = x.reshape(-1,n_agents,n_states).swapaxes(0,2)\n",
    "    distances = torch.linalg.norm(x_agent[:2,pair_inds[:,0]] - x_agent[:2,pair_inds[:,1]], dim=0)\n",
    "\n",
    "    pair_costs = torch.fmin(torch.zeros((1)), distances - _radius)**2\n",
    "    return pair_costs.sum(dim=0)"
   ]
  },
  {
   "cell_type": "code",
   "execution_count": 139,
   "id": "50341bc7-4d4d-4c09-957b-3f267150b7fa",
   "metadata": {},
   "outputs": [],
   "source": [
    "def multi_agent_cost(goal_cost, prox_cost, x, u, terminal=False):\n",
    "    \"\"\"Reference deviation costs plus collision avoidance costs\"\"\"\n",
    "    return goal_cost(x, u, terminal=terminal) + 50*prox_cost(x)"
   ]
  },
  {
   "cell_type": "code",
   "execution_count": 149,
   "id": "1f606b8b-543c-442a-8e82-7d1118b629ee",
   "metadata": {},
   "outputs": [],
   "source": [
    "dt = 0.1\n",
    "N = 60\n",
    "tol = 1e-8\n",
    "\n",
    "x_dims = [4, 4]\n",
    "u_dims = [2, 2]\n",
    "x = torch.tensor([-5, -5,  np.pi/4, 0,\n",
    "                  -5,  5, -np.pi/4, 0], \n",
    "                 dtype=torch.float, requires_grad=True)\n",
    "x_goal = torch.tensor([[5,  5, np.pi/4, 0,\n",
    "                        5, -4, -np.pi/4, 0]],\n",
    "                      dtype=torch.float).T\n",
    "\n",
    "dynamics_8d = functools.partial(dynamics_nd, unicycle_continuous, _x_dims=x_dims, _u_dims=u_dims)\n",
    "\n",
    "Q = torch.diag(torch.tensor([1., 1, 0, 0]).tile(2))\n",
    "Qf = 1000 * torch.eye(Q.shape[0])\n",
    "R = torch.eye(4)\n",
    "radius = 2.0\n",
    "\n",
    "goal_cost = functools.partial(reference_cost, _x_goal=x_goal, _Q=Q, _R=R, _Qf=Qf)\n",
    "prox_cost = functools.partial(proximity_cost, _x_dims=x_dims, _radius=radius)\n",
    "multi_cost = functools.partial(multi_agent_cost, goal_cost, prox_cost)"
   ]
  },
  {
   "cell_type": "code",
   "execution_count": 150,
   "id": "563b0318-aef0-4483-afb9-9dae0352b3df",
   "metadata": {},
   "outputs": [
    {
     "name": "stdout",
     "output_type": "stream",
     "text": [
      "0/50\tμ: 1\tΔ: 2\n",
      "1/50\tJ: 6371.14\tμ: 0.5\tΔ: 0.5\n",
      "2/50\tJ: 6129.38\tμ: 0.125\tΔ: 0.25\n",
      "3/50\tJ: 6111.51\tμ: 0.015625\tΔ: 0.125\n",
      "4/50\tJ: 6022.04\tμ: 0.000976562\tΔ: 0.0625\n",
      "5/50\tJ: 6004.15\tμ: 3.05176e-05\tΔ: 0.03125\n",
      "6/50\tJ: 5883.22\tμ: 0\tΔ: 0.015625\n",
      "7/50\tJ: 5856.99\tμ: 0\tΔ: 0.0078125\n",
      "8/50\tJ: 5845.36\tμ: 0\tΔ: 0.00390625\n",
      "9/50\tJ: 5841.61\tμ: 0\tΔ: 0.00195312\n",
      "10/50\tJ: 5840.14\tμ: 0\tΔ: 0.000976562\n",
      "11/50\tJ: 5836.45\tμ: 0\tΔ: 0.000488281\n",
      "12/50\tJ: 5836.17\tμ: 0\tΔ: 0.000244141\n",
      "13/50\tJ: 5835.96\tμ: 0\tΔ: 0.00012207\n",
      "14/50\tJ: 5835.89\tμ: 0\tΔ: 6.10352e-05\n",
      "15/50\tJ: 5835.89\tμ: 0\tΔ: 3.05176e-05\n",
      "16/50\tJ: 5835.88\tμ: 0\tΔ: 1.52588e-05\n",
      "17/50\tJ: 5835.86\tμ: 0\tΔ: 7.62939e-06\n",
      "18/50\tJ: 5835.86\tμ: 0\tΔ: 3.8147e-06\n",
      "Failed line search.. increasing μ.\n",
      "19/50\tJ: 5835.86\tμ: 1e-06\tΔ: 2\n",
      "Failed line search.. increasing μ.\n",
      "20/50\tJ: 5835.86\tμ: 4e-06\tΔ: 4\n",
      "Failed line search.. increasing μ.\n",
      "21/50\tJ: 5835.86\tμ: 3.2e-05\tΔ: 8\n",
      "Failed line search.. increasing μ.\n",
      "22/50\tJ: 5835.86\tμ: 0.000512\tΔ: 16\n",
      "Failed line search.. increasing μ.\n",
      "23/50\tJ: 5835.86\tμ: 0.016384\tΔ: 32\n",
      "Failed line search.. increasing μ.\n",
      "24/50\tJ: 5835.86\tμ: 1.04858\tΔ: 64\n",
      "Failed line search.. increasing μ.\n",
      "25/50\tJ: 5835.86\tμ: 134.218\tΔ: 128\n",
      "Exceeded max regularization term...\n"
     ]
    }
   ],
   "source": [
    "# %%prun\n",
    "# ilqr = control2.iLQR(dynamics_8d, multi_cost, x.numel(), 4, dt, N)\n",
    "ilqr = control2.iLQR_v2(dynamics_8d, multi_cost, x.numel(), 4, dt, N)\n",
    "X, U, J = ilqr.solve(x, tol=tol)"
   ]
  },
  {
   "cell_type": "code",
   "execution_count": 151,
   "id": "f583a3f3-8ec4-482d-b904-c957475a345a",
   "metadata": {},
   "outputs": [],
   "source": [
    "plot_solve(X, J, x_goal.numpy(), [4, 4])"
   ]
  },
  {
   "cell_type": "code",
   "execution_count": 143,
   "id": "b87a4e75-51b8-4810-b699-4242d87f6435",
   "metadata": {},
   "outputs": [
    {
     "data": {
      "text/plain": [
       "<matplotlib.collections.LineCollection at 0x7f173e44d220>"
      ]
     },
     "execution_count": 143,
     "metadata": {},
     "output_type": "execute_result"
    }
   ],
   "source": [
    "distances = np.linalg.norm(X[:,:2] - X[:,4:6], axis=1)\n",
    "plt.clf()\n",
    "plt.plot(distances)\n",
    "plt.hlines(radius, *plt.xlim(), 'r')"
   ]
  },
  {
   "cell_type": "code",
   "execution_count": 152,
   "id": "d9ae135c-adc9-40ee-87ad-a42fb0f1edfc",
   "metadata": {},
   "outputs": [
    {
     "data": {
      "text/plain": [
       "[<matplotlib.lines.Line2D at 0x7f173e327670>]"
      ]
     },
     "execution_count": 152,
     "metadata": {},
     "output_type": "execute_result"
    }
   ],
   "source": [
    "costs = []\n",
    "for xi, ui in zip(X, U):\n",
    "    costs.append(multi_cost(torch.from_numpy(xi), torch.from_numpy(ui)).item())\n",
    "plt.clf()\n",
    "plt.plot(costs)"
   ]
  },
  {
   "cell_type": "code",
   "execution_count": 153,
   "id": "86412aa3-9981-4600-a2a2-2211da3ec579",
   "metadata": {},
   "outputs": [],
   "source": [
    "def setup(x_goal, x_dims, radius):\n",
    "    plt.clf()\n",
    "    \n",
    "    n_agents = len(x_dims)\n",
    "    ax = plt.gca()\n",
    "    handles = []\n",
    "    for i in range(n_agents):\n",
    "        handles.append((\n",
    "            plt.plot(np.nan, c=plt.cm.tab20.colors[2*i], marker='o', markersize=4)[0],\n",
    "            ax.add_artist(plt.Circle(np.nan, radius, color='k', fill=True, alpha=0.3, lw=2))\n",
    "        ))\n",
    "        \n",
    "    for xg in split_agents(x_goal, x_dims):\n",
    "        plt.scatter(xg[0,0], xg[0,1], c='r', marker='x', zorder=10)\n",
    "    plt.axis([-6, 7, -6, 7])\n",
    "    return handles\n",
    "    \n",
    "def animate(t, handles, X, x_dims, x_goal):\n",
    "    \"\"\"Animate the solution into a gif\"\"\"\n",
    "    \n",
    "    for (i, xi), hi in zip(enumerate(split_agents(X, x_dims)), handles):\n",
    "        hi[0].set_xdata(xi[:t,0])\n",
    "        hi[0].set_ydata(xi[:t,1])\n",
    "        hi[1].set_center(xi[t-1,:2])"
   ]
  },
  {
   "cell_type": "code",
   "execution_count": 154,
   "id": "d23639a7-3ef6-438f-a215-12798324ac8d",
   "metadata": {},
   "outputs": [],
   "source": [
    "plt.clf()\n",
    "handles = setup(x_goal.flatten(), x_dims, radius)\n",
    "animate(-1, handles, X, x_dims, x_goal)"
   ]
  },
  {
   "cell_type": "code",
   "execution_count": 155,
   "id": "cb12a6da-32df-47e7-bb14-d0f52afdcd71",
   "metadata": {},
   "outputs": [
    {
     "name": "stderr",
     "output_type": "stream",
     "text": [
      "MovieWriter ffmpeg unavailable; using Pillow instead.\n"
     ]
    }
   ],
   "source": [
    "handles = setup(x_goal.flatten(), x_dims, radius)\n",
    "anim = FuncAnimation(plt.gcf(), animate, frames=N+1, fargs=(handles, X, x_dims, x_goal))\n",
    "anim.save('traj.gif', fps=5)"
   ]
  },
  {
   "cell_type": "code",
   "execution_count": null,
   "id": "f60c50cc-480e-4a72-8b24-bb9aa3a8e44e",
   "metadata": {},
   "outputs": [],
   "source": []
  },
  {
   "cell_type": "code",
   "execution_count": null,
   "id": "e4cf44ff-2700-43bc-9848-3375985e6227",
   "metadata": {},
   "outputs": [],
   "source": []
  },
  {
   "cell_type": "code",
   "execution_count": null,
   "id": "18e04e80-d538-48a0-8e59-d9377ec87bc6",
   "metadata": {},
   "outputs": [],
   "source": []
  }
 ],
 "metadata": {
  "kernelspec": {
   "display_name": "Python 3 (ipykernel)",
   "language": "python",
   "name": "python3"
  },
  "language_info": {
   "codemirror_mode": {
    "name": "ipython",
    "version": 3
   },
   "file_extension": ".py",
   "mimetype": "text/x-python",
   "name": "python",
   "nbconvert_exporter": "python",
   "pygments_lexer": "ipython3",
   "version": "3.9.12"
  }
 },
 "nbformat": 4,
 "nbformat_minor": 5
}
