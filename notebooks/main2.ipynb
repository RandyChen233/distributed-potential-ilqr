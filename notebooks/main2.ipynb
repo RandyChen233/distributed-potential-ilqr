{
 "cells": [
  {
   "cell_type": "markdown",
   "id": "dc93dafc-34e9-4a69-a56f-29c3bb713e71",
   "metadata": {
    "tags": []
   },
   "source": [
    "# take2\n",
    "\n",
    "**GOAL**: Keep It Stupid Simple = KISS.\n",
    "\n",
    "**Dependencies:**\n",
    " - [pocketknives](https://github.com/zjwilliams20/pocketknives)\n",
    "\n",
    "**References:**\n",
    " 1. [ilqgames/python](https://github.com/HJReachability/ilqgames/blob/master/python)"
   ]
  },
  {
   "cell_type": "code",
   "execution_count": 1,
   "id": "88b5716c-953a-43e7-ba1a-666f959cc2e7",
   "metadata": {},
   "outputs": [],
   "source": [
    "%load_ext autoreload\n",
    "%autoreload 1\n",
    "%aimport decentralized.control2, decentralized.dynamics2, decentralized.cost2"
   ]
  },
  {
   "cell_type": "code",
   "execution_count": 2,
   "id": "5af0f28d-2b3f-4be6-93b8-8952dfe73058",
   "metadata": {},
   "outputs": [],
   "source": [
    "import functools\n",
    "import itertools\n",
    "import random\n",
    "from time import perf_counter as pc\n",
    "\n",
    "import numpy as np\n",
    "import matplotlib.pyplot as plt\n",
    "from matplotlib.animation import FuncAnimation\n",
    "from scipy.spatial.transform import Rotation\n",
    "import torch\n",
    "\n",
    "from decentralized import control2, dynamics2, cost2, compute_pairwise_distance, split_agents\n",
    "import pocketknives\n",
    "\n",
    "π = np.pi"
   ]
  },
  {
   "cell_type": "code",
   "execution_count": 3,
   "id": "91cd6f19-d6ad-4d1b-b72f-829d26663d52",
   "metadata": {},
   "outputs": [],
   "source": [
    "%matplotlib widget\n",
    "plt.rcParams['axes.grid'] = True"
   ]
  },
  {
   "cell_type": "code",
   "execution_count": 6,
   "id": "94329606-5110-4dd0-bcb4-8cbeeeaf6fe1",
   "metadata": {},
   "outputs": [],
   "source": [
    "def pos_mask(x_dims):\n",
    "    \"\"\"Return a mask that's true wherever there's an x or y position\"\"\" \n",
    "    return np.array([i % x_dims[0] < 2 for i in range(sum(x_dims))])"
   ]
  },
  {
   "cell_type": "code",
   "execution_count": 7,
   "id": "2552858f-2662-40ce-90a2-25b30315b7fe",
   "metadata": {},
   "outputs": [],
   "source": [
    "def plot_solve(X, J, x_goal, x_dims=None):\n",
    "    \"\"\"Plot the resultant trajectory on plt.gcf()\"\"\"\n",
    "\n",
    "    plt.clf()\n",
    "    \n",
    "    if not x_dims:\n",
    "        x_dims = [X.shape[1]]\n",
    "        \n",
    "    N = X.shape[0]\n",
    "    t = np.arange(N) * dt\n",
    "    \n",
    "    X_split = split_agents(X, x_dims)\n",
    "    x_goal_split = split_agents(x_goal.reshape(1,-1), x_dims)\n",
    "    \n",
    "    for Xi, xg in zip(X_split, x_goal_split):\n",
    "        plt.scatter(Xi[:,0], Xi[:,1], c=t)\n",
    "        plt.scatter(Xi[0,0], Xi[0,1], 80, 'g', 'x', label=\"$x_0$\")\n",
    "        plt.scatter(xg[0,0], xg[0,1], 80, 'r', 'x', label=\"$x_f$\")\n",
    "    \n",
    "    plt.margins(0.1)\n",
    "    plt.title(f\"Final Cost: {J:.3g}\")"
   ]
  },
  {
   "cell_type": "markdown",
   "id": "b4e6bfed-7dbc-489d-ac20-66c1e4a1a25a",
   "metadata": {
    "tags": []
   },
   "source": [
    "## single-agent problem"
   ]
  },
  {
   "cell_type": "code",
   "execution_count": 8,
   "id": "cac062f7-f1bf-401d-8624-967fb0e14e6e",
   "metadata": {},
   "outputs": [],
   "source": [
    "def reference_cost(x, u, _x_goal, _Q, _R, _Qf=None, terminal=False):\n",
    "    \"\"\"Cost of reaching the goal\"\"\"\n",
    "    \n",
    "    assert isinstance(x, torch.Tensor) and isinstance(u, torch.Tensor)\n",
    "    x = x.reshape(-1,1)\n",
    "    u = u.reshape(-1,1)\n",
    "    \n",
    "    if _Qf is None:\n",
    "        _Qf = torch.eye(_Q.shape[0])\n",
    "    \n",
    "    if terminal:\n",
    "        return (x - _x_goal).T @ _Qf @ (x - _x_goal)\n",
    "    return (x - _x_goal).T @ _Q @ (x - _x_goal) + u.T @ _R @ u"
   ]
  },
  {
   "cell_type": "code",
   "execution_count": 9,
   "id": "30faecf1",
   "metadata": {},
   "outputs": [],
   "source": [
    "class UnicycleDynamics(dynamics2.AutodiffModel):\n",
    "    @staticmethod\n",
    "    def f(x, u):\n",
    "        return torch.stack([\n",
    "            x[3] * torch.cos(x[2]),\n",
    "            x[3] * torch.sin(x[2]),\n",
    "            u[0],\n",
    "            u[1]\n",
    "        ])"
   ]
  },
  {
   "cell_type": "code",
   "execution_count": 10,
   "id": "31bdf618-4e0b-42e4-b9af-2f0b8cdab4f7",
   "metadata": {},
   "outputs": [
    {
     "name": "stderr",
     "output_type": "stream",
     "text": [
      "/home/zjw/documents/grad/Research/decentralized/decentralized/cost2.py:88: UserWarning: The use of `x.T` on tensors of dimension other than 2 to reverse their shape is deprecated and it will throw an error in a future release. Consider `x.mT` to transpose batches of matricesor `x.permute(*torch.arange(x.ndim - 1, -1, -1))` to reverse the dimensions of a tensor. (Triggered internally at  /opt/conda/conda-bld/pytorch_1646755883846/work/aten/src/ATen/native/TensorShape.cpp:2318.)\n",
      "  return (x - self.xf) @ self.Q @ (x - self.xf).T + u @ self.R @ u.T\n"
     ]
    },
    {
     "name": "stdout",
     "output_type": "stream",
     "text": [
      "0/50\tJ: 210000\n",
      "1/50\tJ: 106521\tμ: 0.5\tΔ: 0.5\n",
      "2/50\tJ: 7777.31\tμ: 0.125\tΔ: 0.25\n",
      "3/50\tJ: 4623.32\tμ: 0.015625\tΔ: 0.125\n",
      "4/50\tJ: 3518.16\tμ: 0.000976562\tΔ: 0.0625\n",
      "5/50\tJ: 3249.35\tμ: 3.05176e-05\tΔ: 0.03125\n",
      "6/50\tJ: 3187.49\tμ: 0\tΔ: 0.015625\n",
      "7/50\tJ: 3124.95\tμ: 0\tΔ: 0.0078125\n",
      "8/50\tJ: 3094.62\tμ: 0\tΔ: 0.00390625\n",
      "9/50\tJ: 3081.12\tμ: 0\tΔ: 0.00195312\n",
      "10/50\tJ: 3074.96\tμ: 0\tΔ: 0.000976562\n"
     ]
    },
    {
     "data": {
      "application/vnd.jupyter.widget-view+json": {
       "model_id": "efe96aac7ee74112a608bd12d17573a2",
       "version_major": 2,
       "version_minor": 0
      },
      "image/png": "[encoded data removed]",
      "text/html": [
       "\n",
       "            <div style=\"display: inline-block;\">\n",
       "                <div class=\"jupyter-widgets widget-label\" style=\"text-align: center;\">\n",
       "                    Figure\n",
       "                </div>\n",
       "                <img src='data:image/png;base64,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' width=640.0/>\n",
       "            </div>\n",
       "        "
      ],
      "text/plain": [
       "Canvas(toolbar=Toolbar(toolitems=[('Home', 'Reset original view', 'home', 'home'), ('Back', 'Back to previous …"
      ]
     },
     "metadata": {},
     "output_type": "display_data"
    }
   ],
   "source": [
    "dt = 0.1\n",
    "N = 50\n",
    "\n",
    "x = torch.tensor([-10, 10, 0, 0], dtype=torch.float, requires_grad=True)\n",
    "x_goal = torch.zeros((4, 1), dtype=torch.float)\n",
    "\n",
    "dynamics = UnicycleDynamics(4, 2, dt)\n",
    "\n",
    "Q = torch.diag(torch.tensor([1., 1, 0, 0]))\n",
    "Qf = 1000 * torch.eye(Q.shape[0])\n",
    "R = torch.eye(2)\n",
    "cost = cost2.ReferenceCost(x_goal, Q, R, Qf)\n",
    "\n",
    "ilqr = control2.iLQR(dynamics, cost, x.numel(), 2, dt, N)\n",
    "X, U, J = ilqr.solve(x)\n",
    "plot_solve(X, J, x_goal.numpy())"
   ]
  },
  {
   "cell_type": "markdown",
   "id": "fa52b336-88bc-4de5-985c-3f8a885f5e00",
   "metadata": {
    "tags": []
   },
   "source": [
    "## multi-agent problem"
   ]
  },
  {
   "cell_type": "code",
   "execution_count": 37,
   "id": "69955ae7-293d-41f3-947b-40320003f8dd",
   "metadata": {
    "tags": []
   },
   "outputs": [],
   "source": [
    "def dynamics_nd(f, x, u, _x_dims, _u_dims):\n",
    "    \"\"\"Compute the continuous time derivative for n agents\"\"\"\n",
    "    assert isinstance(x, torch.Tensor) and isinstance(u, torch.Tensor)\n",
    "    return torch.cat([\n",
    "        f(xi.flatten(), ui.flatten()) \n",
    "        for xi, ui in zip(split_agents(x, _x_dims), split_agents(u, _u_dims))\n",
    "    ])"
   ]
  },
  {
   "cell_type": "code",
   "execution_count": 11,
   "id": "0d66ce30-2168-454d-9185-47c0b3a42699",
   "metadata": {},
   "outputs": [],
   "source": [
    "def proximity_cost(X, _compute_pairwise_distance, _x_dims, _radius):\n",
    "    \"\"\"Penalizes distances underneath some radius between agents\"\"\"\n",
    "    \n",
    "    distances = _compute_pairwise_distance(X, _x_dims)\n",
    "    pair_costs = torch.fmin(torch.zeros((1)), distances - _radius)**2\n",
    "    return pair_costs.sum(dim=0)"
   ]
  },
  {
   "cell_type": "code",
   "execution_count": 12,
   "id": "50341bc7-4d4d-4c09-957b-3f267150b7fa",
   "metadata": {},
   "outputs": [],
   "source": [
    "def multi_agent_cost(goal_cost, prox_cost, x, u, terminal=False):\n",
    "    \"\"\"Reference deviation costs plus collision avoidance costs\"\"\"\n",
    "    return goal_cost(x, u, terminal=terminal) + 100*prox_cost(x)"
   ]
  },
  {
   "cell_type": "markdown",
   "id": "642a633c-4682-40c7-95c3-9825a74791a4",
   "metadata": {},
   "source": [
    "### initializing the scene\n",
    "Here, we define some initial positions within some distance of each other, and then rotate them about the origin by some random angle to hopefully create some interesting scenarios."
   ]
  },
  {
   "cell_type": "code",
   "execution_count": 13,
   "id": "ae45c06e-008b-4470-9fd8-6939e8d75241",
   "metadata": {},
   "outputs": [],
   "source": [
    "def randomize_locs(n_pts, min_sep=3.0, var=3.0, n_dim=2):\n",
    "    \"\"\"Uniformly randomize locations of points in N-D while enforcing\n",
    "       a minimum separation between them.\n",
    "    \"\"\" \n",
    "    \n",
    "    # Distance to move away from center if we're too close.\n",
    "    Δ = 0.1 * n_pts\n",
    "    x = var * np.random.uniform(-1, 1, (n_pts, n_dim))\n",
    "    \n",
    "    # Determine the pair-wise indicies for an arbitrary number of agents.\n",
    "    pair_inds = np.array(list(itertools.combinations(range(n_pts), 2)))\n",
    "    move_inds = np.arange(n_pts)\n",
    "\n",
    "    # Keep moving points away from center until we satisfy radius\n",
    "    while move_inds.size:\n",
    "        center = np.mean(x, axis=0)\n",
    "        distances = compute_pairwise_distance(x.flatten(), [n_dim]*n_pts)\n",
    "\n",
    "        move_inds = pair_inds[distances.flatten() <= min_sep]\n",
    "        x[move_inds] += Δ * (x[move_inds] - center)\n",
    "    \n",
    "    return x"
   ]
  },
  {
   "cell_type": "code",
   "execution_count": 14,
   "id": "1712eebb-a20b-478b-a70a-ba1e6e02a2de",
   "metadata": {},
   "outputs": [],
   "source": [
    "def face_goal(x0, x_goal):\n",
    "    \"\"\"Make the agents face the direction of their goal with a little noise\"\"\"\n",
    "    \n",
    "    VAR = 0.01\n",
    "    dX = x_goal[:,:2] - x0[:,:2]\n",
    "    headings = np.arctan2(*np.rot90(dX, 1))\n",
    "    \n",
    "    x0[:,2] = headings + VAR * np.random.randn(x0.shape[0])\n",
    "    x_goal[:,2] = headings + VAR * np.random.randn(x0.shape[0])\n",
    "    \n",
    "    return x0, x_goal"
   ]
  },
  {
   "cell_type": "code",
   "execution_count": 15,
   "id": "73c7053f-f679-4cb4-935c-751338b7ca08",
   "metadata": {},
   "outputs": [],
   "source": [
    "def randy_setup():\n",
    "    \"\"\"Hardcoded example with reasonable consistency eyeballed from \n",
    "       Potential-iLQR paper\n",
    "    \"\"\"\n",
    "    x0 = torch.tensor([[0.5, 1.5, 0.1, 0,\n",
    "                        2.5, 1.5, π, 0,\n",
    "                        1.5, 1.3, π/2, 0]], \n",
    "                     dtype=torch.float, requires_grad=True).T\n",
    "    x_goal = torch.tensor([[2.5, 1.5, 0, 0, \n",
    "                            0.5, 1.5, π, 0, \n",
    "                            1.5, 2.2, π/2, 0]]).T\n",
    "    return x0, x_goal"
   ]
  },
  {
   "cell_type": "markdown",
   "id": "f1ef5759-be12-4088-a4e6-fdc845d0d7eb",
   "metadata": {},
   "source": [
    "To be consistent between simulations, we normalize for the scale of the setup by computing the *energy*, or the sum of distances from the origin of the points. This should be the same for all runs."
   ]
  },
  {
   "cell_type": "code",
   "execution_count": 16,
   "id": "b87271ac-82e9-42d7-9276-824d05a26f4b",
   "metadata": {},
   "outputs": [],
   "source": [
    "def compute_energy(x, x_dims):\n",
    "    \"\"\"Determine the sum of distances from the origin\"\"\"\n",
    "    return torch.sum(x[pos_mask(x_dims)].reshape(-1,2).norm(dim=1)).item()\n",
    "\n",
    "def normalize_energy(x, x_dims, energy=10.0):\n",
    "    \"\"\"Zero-center the coordinates and then ensure the sum of \n",
    "       squared distances == energy\n",
    "    \"\"\"\n",
    "    \n",
    "    # Don't mutate x's data for this function, keep it pure.\n",
    "    x = x.clone()\n",
    "    n_agents = len(x_dims)\n",
    "    center = x[pos_mask(x_dims)].reshape(-1, 2).mean(0)\n",
    "\n",
    "    with torch.no_grad():\n",
    "        x[pos_mask(x_dims)] -= center.tile(n_agents).reshape(-1,1)\n",
    "        x[pos_mask(x_dims)] *= energy / compute_energy(x, x_dims)\n",
    "    assert x.numel() == sum(x_dims)\n",
    "    \n",
    "    return x\n",
    "\n",
    "def perturb_state(x, x_dims, var=0.5):\n",
    "    \"\"\"Add a little noise to the start to knock off perfect symmetries\"\"\"\n",
    "    \n",
    "    x = x.clone()\n",
    "    with torch.no_grad():\n",
    "        x[pos_mask(x_dims)] += var*torch.randn_like(x[pos_mask(x_dims)])\n",
    "    \n",
    "    return x"
   ]
  },
  {
   "cell_type": "code",
   "execution_count": 17,
   "id": "1fbd651e-7685-421f-b28a-fecb9e0a3bdb",
   "metadata": {},
   "outputs": [],
   "source": [
    "def random_setup(n_agents, **kwargs):\n",
    "    \"\"\"Create a randomized set up of initial and final positions\"\"\"\n",
    "    \n",
    "    # Rotate the initial points by some amount about the center.\n",
    "    theta = π + random.uniform(-π/4, π/4)\n",
    "    R = Rotation.from_euler('z', theta).as_matrix()[:2, :2]\n",
    "\n",
    "    # We don't have to normlize for energy here\n",
    "    x_i = randomize_locs(n_agents, **kwargs)\n",
    "    x_f = x_i @ R + x_i.mean(axis=0)\n",
    "    # x_f = randomize_locs(n_agents, 3.0)\n",
    "\n",
    "    x0 = np.c_[x_i, np.zeros((n_agents, 2))]\n",
    "    x_goal = np.c_[x_f, np.zeros((n_agents, 2))]\n",
    "    x0, x_goal = face_goal(x0, x_goal)\n",
    "    \n",
    "    x0 = torch.from_numpy(x0).requires_grad_(True).type(torch.float)\n",
    "    x_goal = torch.from_numpy(x_goal).type(torch.float)\n",
    "    \n",
    "    return x0.reshape(-1,1), x_goal.reshape(-1,1)"
   ]
  },
  {
   "cell_type": "code",
   "execution_count": 18,
   "id": "d1d31aa3-c1ce-4260-bc30-342deca087e6",
   "metadata": {},
   "outputs": [
    {
     "data": {
      "text/plain": [
       "<Figure size 640x480 with 0 Axes>"
      ]
     },
     "execution_count": 18,
     "metadata": {},
     "output_type": "execute_result"
    },
    {
     "data": {
      "application/vnd.jupyter.widget-view+json": {
       "model_id": "bcad385249ce4721a7cc1b585e992f46",
       "version_major": 2,
       "version_minor": 0
      },
      "image/png": "[encoded data removed]",
      "text/html": [
       "\n",
       "            <div style=\"display: inline-block;\">\n",
       "                <div class=\"jupyter-widgets widget-label\" style=\"text-align: center;\">\n",
       "                    Figure\n",
       "                </div>\n",
       "                <img src='data:image/png;base64,iVBORw0KGgoAAAANSUhEUgAAAoAAAAHgCAYAAAA10dzkAAAAOXRFWHRTb2Z0d2FyZQBNYXRwbG90bGliIHZlcnNpb24zLjUuMSwgaHR0cHM6Ly9tYXRwbG90bGliLm9yZy/YYfK9AAAACXBIWXMAAA9hAAAPYQGoP6dpAAAIyUlEQVR4nO3WMQEAIAzAMMC/5+ECjiYKenbPzCwAADLO7wAAAN4ygAAAMQYQACDGAAIAxBhAAIAYAwgAEGMAAQBiDCAAQIwBBACIMYAAADEGEAAgxgACAMQYQACAGAMIABBjAAEAYgwgAECMAQQAiDGAAAAxBhAAIMYAAgDEGEAAgBgDCAAQYwABAGIMIABAjAEEAIgxgAAAMQYQACDGAAIAxBhAAIAYAwgAEGMAAQBiDCAAQIwBBACIMYAAADEGEAAgxgACAMQYQACAGAMIABBjAAEAYgwgAECMAQQAiDGAAAAxBhAAIMYAAgDEGEAAgBgDCAAQYwABAGIMIABAjAEEAIgxgAAAMQYQACDGAAIAxBhAAIAYAwgAEGMAAQBiDCAAQIwBBACIMYAAADEGEAAgxgACAMQYQACAGAMIABBjAAEAYgwgAECMAQQAiDGAAAAxBhAAIMYAAgDEGEAAgBgDCAAQYwABAGIMIABAjAEEAIgxgAAAMQYQACDGAAIAxBhAAIAYAwgAEGMAAQBiDCAAQIwBBACIMYAAADEGEAAgxgACAMQYQACAGAMIABBjAAEAYgwgAECMAQQAiDGAAAAxBhAAIMYAAgDEGEAAgBgDCAAQYwABAGIMIABAjAEEAIgxgAAAMQYQACDGAAIAxBhAAIAYAwgAEGMAAQBiDCAAQIwBBACIMYAAADEGEAAgxgACAMQYQACAGAMIABBjAAEAYgwgAECMAQQAiDGAAAAxBhAAIMYAAgDEGEAAgBgDCAAQYwABAGIMIABAjAEEAIgxgAAAMQYQACDGAAIAxBhAAIAYAwgAEGMAAQBiDCAAQIwBBACIMYAAADEGEAAgxgACAMQYQACAGAMIABBjAAEAYgwgAECMAQQAiDGAAAAxBhAAIMYAAgDEGEAAgBgDCAAQYwABAGIMIABAjAEEAIgxgAAAMQYQACDGAAIAxBhAAIAYAwgAEGMAAQBiDCAAQIwBBACIMYAAADEGEAAgxgACAMQYQACAGAMIABBjAAEAYgwgAECMAQQAiDGAAAAxBhAAIMYAAgDEGEAAgBgDCAAQYwABAGIMIABAjAEEAIgxgAAAMQYQACDGAAIAxBhAAIAYAwgAEGMAAQBiDCAAQIwBBACIMYAAADEGEAAgxgACAMQYQACAGAMIABBjAAEAYgwgAECMAQQAiDGAAAAxBhAAIMYAAgDEGEAAgBgDCAAQYwABAGIMIABAjAEEAIgxgAAAMQYQACDGAAIAxBhAAIAYAwgAEGMAAQBiDCAAQIwBBACIMYAAADEGEAAgxgACAMQYQACAGAMIABBjAAEAYgwgAECMAQQAiDGAAAAxBhAAIMYAAgDEGEAAgBgDCAAQYwABAGIMIABAjAEEAIgxgAAAMQYQACDGAAIAxBhAAIAYAwgAEGMAAQBiDCAAQIwBBACIMYAAADEGEAAgxgACAMQYQACAGAMIABBjAAEAYgwgAECMAQQAiDGAAAAxBhAAIMYAAgDEGEAAgBgDCAAQYwABAGIMIABAjAEEAIgxgAAAMQYQACDGAAIAxBhAAIAYAwgAEGMAAQBiDCAAQIwBBACIMYAAADEGEAAgxgACAMQYQACAGAMIABBjAAEAYgwgAECMAQQAiDGAAAAxBhAAIMYAAgDEGEAAgBgDCAAQYwABAGIMIABAjAEEAIgxgAAAMQYQACDGAAIAxBhAAIAYAwgAEGMAAQBiDCAAQIwBBACIMYAAADEGEAAgxgACAMQYQACAGAMIABBjAAEAYgwgAECMAQQAiDGAAAAxBhAAIMYAAgDEGEAAgBgDCAAQYwABAGIMIABAjAEEAIgxgAAAMQYQACDGAAIAxBhAAIAYAwgAEGMAAQBiDCAAQIwBBACIMYAAADEGEAAgxgACAMQYQACAGAMIABBjAAEAYgwgAECMAQQAiDGAAAAxBhAAIMYAAgDEGEAAgBgDCAAQYwABAGIMIABAjAEEAIgxgAAAMQYQACDGAAIAxBhAAIAYAwgAEGMAAQBiDCAAQIwBBACIMYAAADEGEAAgxgACAMQYQACAGAMIABBjAAEAYgwgAECMAQQAiDGAAAAxBhAAIMYAAgDEGEAAgBgDCAAQYwABAGIMIABAjAEEAIgxgAAAMQYQACDGAAIAxBhAAIAYAwgAEGMAAQBiDCAAQIwBBACIMYAAADEGEAAgxgACAMQYQACAGAMIABBjAAEAYgwgAECMAQQAiDGAAAAxBhAAIMYAAgDEGEAAgBgDCAAQYwABAGIMIABAjAEEAIgxgAAAMQYQACDGAAIAxBhAAIAYAwgAEGMAAQBiDCAAQIwBBACIMYAAADEGEAAgxgACAMQYQACAGAMIABBjAAEAYgwgAECMAQQAiDGAAAAxBhAAIMYAAgDEGEAAgBgDCAAQYwABAGIMIABAjAEEAIgxgAAAMQYQACDGAAIAxBhAAIAYAwgAEGMAAQBiDCAAQIwBBACIMYAAADEGEAAgxgACAMQYQACAGAMIABBjAAEAYgwgAECMAQQAiDGAAAAxBhAAIMYAAgDEGEAAgBgDCAAQYwABAGIMIABAjAEEAIgxgAAAMQYQACDGAAIAxBhAAIAYAwgAEGMAAQBiDCAAQIwBBACIMYAAADEGEAAgxgACAMQYQACAGAMIABBjAAEAYgwgAECMAQQAiDGAAAAxBhAAIMYAAgDEGEAAgBgDCAAQYwABAGIMIABAjAEEAIgxgAAAMQYQACDGAAIAxBhAAIAYAwgAEGMAAQBiDCAAQIwBBACIMYAAADEGEAAgxgACAMQYQACAGAMIABBjAAEAYgwgAECMAQQAiDGAAAAxBhAAIMYAAgDEGEAAgBgDCAAQYwABAGIMIABAjAEEAIgxgAAAMQYQACDGAAIAxBhAAIAYAwgAEGMAAQBiDCAAQIwBBACIMYAAADEGEAAgxgACAMQYQACAGAMIABBjAAEAYgwgAECMAQQAiDGAAAAxBhAAIMYAAgDEGEAAgBgDCAAQYwABAGIuJnkHvKensmIAAAAASUVORK5CYII=' width=640.0/>\n",
       "            </div>\n",
       "        "
      ],
      "text/plain": [
       "Canvas(toolbar=Toolbar(toolitems=[('Home', 'Reset original view', 'home', 'home'), ('Back', 'Back to previous …"
      ]
     },
     "metadata": {},
     "output_type": "display_data"
    }
   ],
   "source": [
    "plt.figure()"
   ]
  },
  {
   "cell_type": "code",
   "execution_count": 19,
   "id": "1d5df34d-5e4d-454b-82d4-33ae3b77f726",
   "metadata": {},
   "outputs": [],
   "source": [
    "n_agents = 3\n",
    "sep_init = 1.0\n",
    "# x0, x_goal = random_setup(n_agents, min_sep=sep_init, var=1.0)\n",
    "x0, x_goal = randy_setup()\n",
    "\n",
    "x_dims = [4] * n_agents\n",
    "u_dims = [2] * n_agents\n",
    "x0 = normalize_energy(x0, x_dims)\n",
    "x_goal = normalize_energy(x_goal, x_dims)\n",
    "\n",
    "# x0 = perturb_state(x0, x_dims)\n",
    "\n",
    "plt.clf()\n",
    "plt.gca().set_aspect('equal')\n",
    "X = torch.dstack([\n",
    "    x0.reshape(n_agents, 4).detach(), \n",
    "    x_goal.reshape(n_agents, 4).detach()\n",
    "]).swapaxes(1,2)\n",
    "for i, Xi in enumerate(X):\n",
    "    plt.annotate('', Xi[1,:2], Xi[0,:2], \n",
    "                 arrowprops=dict(facecolor=plt.cm.tab20.colors[2*i]))\n",
    "pocketknives.set_bounds(X.reshape(-1,4), zoom=0.2)"
   ]
  },
  {
   "cell_type": "code",
   "execution_count": 34,
   "id": "1f606b8b-543c-442a-8e82-7d1118b629ee",
   "metadata": {},
   "outputs": [],
   "source": [
    "dt = 0.05\n",
    "N = 50\n",
    "tol = 1e-3\n",
    "\n",
    "dynamics_12d = dynamics2.MultiDynamicalModel([UnicycleDynamics(4, 2, dt)] * n_agents)\n",
    "\n",
    "Q = 4 * torch.diag(torch.tensor([1., 1, 0, 0]).tile(n_agents))\n",
    "# Qf = 1000 * torch.eye(Q.shape[0])\n",
    "Qf = 1000 * torch.diag(torch.tensor([1., 1, 0, 1]).tile(n_agents))\n",
    "R = torch.eye(2*n_agents)\n",
    "\n",
    "radius = 1.0\n",
    "\n",
    "goal_cost = cost2.ReferenceCost(x_goal, Q, R, Qf)\n",
    "prox_cost = cost2.ProximityCost(x_dims, radius)\n",
    "game_cost = cost2.GameCost(goal_cost, prox_cost)"
   ]
  },
  {
   "cell_type": "code",
   "execution_count": 36,
   "id": "563b0318-aef0-4483-afb9-9dae0352b3df",
   "metadata": {},
   "outputs": [
    {
     "name": "stdout",
     "output_type": "stream",
     "text": [
      "0/50\tJ: 190412\n",
      "1/50\tJ: 20469.6\tμ: 0.5\tΔ: 0.5\n",
      "2/50\tJ: 14191\tμ: 0.125\tΔ: 0.25\n",
      "3/50\tJ: 14145.5\tμ: 0.015625\tΔ: 0.125\n",
      "4/50\tJ: 14003.4\tμ: 0.000976562\tΔ: 0.0625\n",
      "5/50\tJ: 13904.2\tμ: 3.05176e-05\tΔ: 0.03125\n",
      "6/50\tJ: 13828.9\tμ: 0\tΔ: 0.015625\n",
      "CPU times: user 6.29 s, sys: 42 ms, total: 6.33 s\n",
      "Wall time: 6.32 s\n"
     ]
    }
   ],
   "source": [
    "%%time\n",
    "# %%prun\n",
    "ilqr = control2.iLQR(dynamics_12d, game_cost, x0.numel(), 2*n_agents, dt, N)\n",
    "t0 = pc()\n",
    "X, U, J = ilqr.solve(x0, tol=tol)\n",
    "\n",
    "# t_solve = pc() - t0\n",
    "# with open('out.log', 'a') as file:\n",
    "#     file.write(f\"{type(ilqr)}\\t{t_solve=:.8g}\\t{J=:.8g}\\n\")"
   ]
  },
  {
   "cell_type": "code",
   "execution_count": 37,
   "id": "f583a3f3-8ec4-482d-b904-c957475a345a",
   "metadata": {},
   "outputs": [],
   "source": [
    "plot_solve(X, J, x_goal.numpy(), x_dims)"
   ]
  },
  {
   "cell_type": "code",
   "execution_count": 162,
   "id": "b87a4e75-51b8-4810-b699-4242d87f6435",
   "metadata": {},
   "outputs": [
    {
     "data": {
      "text/plain": [
       "<matplotlib.collections.LineCollection at 0x7fb88e5bc1c0>"
      ]
     },
     "execution_count": 162,
     "metadata": {},
     "output_type": "execute_result"
    }
   ],
   "source": [
    "plt.clf()\n",
    "plt.plot(compute_pairwise_distance(X, x_dims).T)\n",
    "plt.hlines(radius, *plt.xlim(), 'r', ls='--')"
   ]
  },
  {
   "cell_type": "code",
   "execution_count": 151,
   "id": "d9ae135c-adc9-40ee-87ad-a42fb0f1edfc",
   "metadata": {},
   "outputs": [
    {
     "data": {
      "text/plain": [
       "[<matplotlib.lines.Line2D at 0x7fb88ba8ea30>]"
      ]
     },
     "execution_count": 151,
     "metadata": {},
     "output_type": "execute_result"
    }
   ],
   "source": [
    "costs = []\n",
    "for xi, ui in zip(X, U):\n",
    "    costs.append(multi_cost(torch.from_numpy(xi), torch.from_numpy(ui)).item())\n",
    "plt.clf()\n",
    "plt.plot(costs)"
   ]
  },
  {
   "cell_type": "code",
   "execution_count": 152,
   "id": "86412aa3-9981-4600-a2a2-2211da3ec579",
   "metadata": {},
   "outputs": [],
   "source": [
    "def setup(X, x_goal, x_dims, radius):\n",
    "    plt.clf()\n",
    "    \n",
    "    n_agents = len(x_dims)\n",
    "    ax = plt.gca()\n",
    "    handles = []\n",
    "    for i in range(n_agents):\n",
    "        handles.append((\n",
    "            plt.plot(0, c=plt.cm.tab20.colors[2*i], marker='o', markersize=4)[0],\n",
    "            ax.add_artist(plt.Circle(np.nan, radius, color='k', fill=True, alpha=0.3, lw=2))\n",
    "        ))\n",
    "        \n",
    "    for xg in split_agents(x_goal, x_dims):\n",
    "        plt.scatter(xg[0,0], xg[0,1], c='r', marker='x', zorder=10)\n",
    "\n",
    "    X_cat = np.vstack(split_agents(X, x_dims))\n",
    "    pocketknives.set_bounds(X_cat, zoom=0.3)\n",
    "    \n",
    "    return handles\n",
    "    \n",
    "def animate(t, handles, X, x_dims, x_goal):\n",
    "    \"\"\"Animate the solution into a gif\"\"\"\n",
    "    for (i, xi), hi in zip(enumerate(split_agents(X, x_dims)), handles):\n",
    "        hi[0].set_xdata(xi[:t,0])\n",
    "        hi[0].set_ydata(xi[:t,1])\n",
    "        hi[1].set_center(xi[t-1,:2])\n",
    "    "
   ]
  },
  {
   "cell_type": "code",
   "execution_count": 153,
   "id": "d23639a7-3ef6-438f-a215-12798324ac8d",
   "metadata": {},
   "outputs": [],
   "source": [
    "plt.clf()\n",
    "handles = setup(X, x_goal.flatten(), x_dims, radius)\n",
    "animate(-1, handles, X, x_dims, x_goal)"
   ]
  },
  {
   "cell_type": "code",
   "execution_count": 106,
   "id": "cb12a6da-32df-47e7-bb14-d0f52afdcd71",
   "metadata": {},
   "outputs": [
    {
     "name": "stderr",
     "output_type": "stream",
     "text": [
      "MovieWriter ffmpeg unavailable; using Pillow instead.\n"
     ]
    }
   ],
   "source": [
    "handles = setup(X, x_goal.flatten(), x_dims, radius)\n",
    "anim = FuncAnimation(plt.gcf(), animate, frames=N+1, fargs=(handles, X, x_dims, x_goal))\n",
    "anim.save('traj.gif', fps=5)"
   ]
  },
  {
   "cell_type": "code",
   "execution_count": null,
   "id": "f60c50cc-480e-4a72-8b24-bb9aa3a8e44e",
   "metadata": {},
   "outputs": [],
   "source": []
  },
  {
   "cell_type": "code",
   "execution_count": null,
   "id": "e4cf44ff-2700-43bc-9848-3375985e6227",
   "metadata": {},
   "outputs": [],
   "source": []
  },
  {
   "cell_type": "code",
   "execution_count": null,
   "id": "18e04e80-d538-48a0-8e59-d9377ec87bc6",
   "metadata": {},
   "outputs": [],
   "source": []
  }
 ],
 "metadata": {
  "interpreter": {
   "hash": "a7155dc2877aad5861451e8991f2ffb7161aaf8d218c61a24e89522653b6db1c"
  },
  "kernelspec": {
   "display_name": "Python 3.9.12 ('take2')",
   "language": "python",
   "name": "python3"
  },
  "language_info": {
   "codemirror_mode": {
    "name": "ipython",
    "version": 3
   },
   "file_extension": ".py",
   "mimetype": "text/x-python",
   "name": "python",
   "nbconvert_exporter": "python",
   "pygments_lexer": "ipython3",
   "version": "3.9.12"
  }
 },
 "nbformat": 4,
 "nbformat_minor": 5
}
