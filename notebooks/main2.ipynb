{
 "cells": [
  {
   "cell_type": "markdown",
   "id": "dc93dafc-34e9-4a69-a56f-29c3bb713e71",
   "metadata": {
    "tags": []
   },
   "source": [
    "# take2\n",
    "\n",
    "**GOAL**: Keep It Stupid Simple = KISS.\n",
    "\n",
    "**References**:\n",
    " 1. [ilqgames/python](https://github.com/HJReachability/ilqgames/blob/master/python)"
   ]
  },
  {
   "cell_type": "code",
   "execution_count": 5,
   "id": "88b5716c-953a-43e7-ba1a-666f959cc2e7",
   "metadata": {},
   "outputs": [
    {
     "name": "stdout",
     "output_type": "stream",
     "text": [
      "The autoreload extension is already loaded. To reload it, use:\n",
      "  %reload_ext autoreload\n"
     ]
    }
   ],
   "source": [
    "%load_ext autoreload\n",
    "%autoreload 1\n",
    "%aimport decentralized.control2"
   ]
  },
  {
   "cell_type": "code",
   "execution_count": 6,
   "id": "5af0f28d-2b3f-4be6-93b8-8952dfe73058",
   "metadata": {},
   "outputs": [],
   "source": [
    "import functools\n",
    "\n",
    "import numpy as np\n",
    "import matplotlib.pyplot as plt\n",
    "import torch\n",
    "\n",
    "from decentralized import control2\n",
    "import pocketknives"
   ]
  },
  {
   "cell_type": "markdown",
   "id": "10730021-f7e2-468c-be02-6d3127158b3d",
   "metadata": {},
   "source": [
    "## dynamics"
   ]
  },
  {
   "cell_type": "code",
   "execution_count": 7,
   "id": "9e11674a-5cd2-4dda-9bdc-de2a495581d6",
   "metadata": {},
   "outputs": [],
   "source": [
    "def unicycle_continuous(x, u):\n",
    "    \"\"\"\n",
    "    Compute the time derivative of state for a particular state/control.\n",
    "    NOTE: `x` and `u` should be 2D (i.e. column vectors).\n",
    "    REF: [1]\n",
    "    \"\"\"\n",
    "    assert isinstance(x, torch.Tensor) and isinstance(u, torch.Tensor)\n",
    "\n",
    "    x_dot = torch.zeros((x.numel(), 1))\n",
    "    x_dot[0, 0] = x[3, 0] * torch.cos(x[2, 0])\n",
    "    x_dot[1, 0] = x[3, 0] * torch.sin(x[2, 0])\n",
    "    x_dot[2, 0] = u[0, 0]\n",
    "    x_dot[3, 0] = u[1, 0]\n",
    "    return x_dot"
   ]
  },
  {
   "cell_type": "markdown",
   "id": "f325baca-13b4-49ba-9e79-6f4b43e8c377",
   "metadata": {},
   "source": [
    "## costs"
   ]
  },
  {
   "cell_type": "code",
   "execution_count": 8,
   "id": "2ff22ad2-8c82-4435-adb4-c63284cea00a",
   "metadata": {},
   "outputs": [],
   "source": [
    "def QR_goal_cost(x, u, _x_goal, _Q=None, _R=None, terminal=False):\n",
    "    \"\"\"Cost of reaching the goal\"\"\"\n",
    "    \n",
    "    assert isinstance(x, torch.Tensor) and isinstance(u, torch.Tensor)\n",
    "    \n",
    "    TERMINAL_WEIGHT = 1000.0    \n",
    "    if _Q is None:\n",
    "        _Q = torch.eye(x.numel())\n",
    "    if _R is None:\n",
    "        _R = torch.eye(u.numel())\n",
    "    \n",
    "    cost = (x - _x_goal).T @ _Q @ (x - _x_goal) + u.T @ _R @ u\n",
    "    \n",
    "    if terminal:\n",
    "        return TERMINAL_WEIGHT * cost\n",
    "    return cost"
   ]
  },
  {
   "cell_type": "code",
   "execution_count": 19,
   "id": "f31549b7-492b-414a-b3eb-6c0e181a8c8e",
   "metadata": {},
   "outputs": [],
   "source": [
    "class network(torch.nn.Module):\n",
    "    def __init__(self):\n",
    "        super().__init__()\n",
    "        self.fc1 = torch.nn.Linear(4, 2)\n",
    "        self.fc2 = torch.nn.Linear(2, 1)"
   ]
  },
  {
   "cell_type": "code",
   "execution_count": 20,
   "id": "55d38cb9-5a40-438c-ac94-9d51e667e4d6",
   "metadata": {},
   "outputs": [
    {
     "data": {
      "text/plain": [
       "network(\n",
       "  (fc1): Linear(in_features=4, out_features=2, bias=True)\n",
       "  (fc2): Linear(in_features=2, out_features=1, bias=True)\n",
       ")"
      ]
     },
     "execution_count": 20,
     "metadata": {},
     "output_type": "execute_result"
    }
   ],
   "source": [
    "network()"
   ]
  },
  {
   "cell_type": "code",
   "execution_count": 13,
   "id": "ce154527-41f0-4b38-ae25-21ce78b2a93a",
   "metadata": {},
   "outputs": [],
   "source": [
    "f = torch.nn.Module()"
   ]
  },
  {
   "cell_type": "code",
   "execution_count": 9,
   "id": "80abc104-beec-4f9a-8ac3-c88722cdafcc",
   "metadata": {},
   "outputs": [],
   "source": [
    "dt = 0.1\n",
    "N = 10\n",
    "x = torch.tensor([[0, 0, 0, 1]], dtype=torch.float, requires_grad=True).T\n",
    "u = torch.tensor([[0, 0]], dtype=torch.float, requires_grad=True).T\n",
    "x_goal = torch.zeros((4, 1), dtype=torch.float)\n",
    "\n",
    "goal_cost = functools.partial(QR_goal_cost, _x_goal=x_goal)"
   ]
  },
  {
   "cell_type": "code",
   "execution_count": 23,
   "id": "31bdf618-4e0b-42e4-b9af-2f0b8cdab4f7",
   "metadata": {},
   "outputs": [],
   "source": [
    "iLQR = control2.iLQR(unicycle_continuous, goal_cost, x.numel(), u.numel(), dt, N)"
   ]
  },
  {
   "cell_type": "code",
   "execution_count": 25,
   "id": "dc559076-1d7a-4a93-84b9-336eec992b9e",
   "metadata": {},
   "outputs": [
    {
     "ename": "RuntimeError",
     "evalue": "expand(torch.FloatTensor{[4, 1]}, size=[4]): the number of sizes provided (1) must be greater or equal to the number of dimensions in the tensor (2)",
     "output_type": "error",
     "traceback": [
      "\u001b[0;31m---------------------------------------------------------------------------\u001b[0m",
      "\u001b[0;31mRuntimeError\u001b[0m                              Traceback (most recent call last)",
      "Input \u001b[0;32mIn [25]\u001b[0m, in \u001b[0;36m<cell line: 1>\u001b[0;34m()\u001b[0m\n\u001b[0;32m----> 1\u001b[0m \u001b[43miLQR\u001b[49m\u001b[38;5;241;43m.\u001b[39;49m\u001b[43msolve\u001b[49m\u001b[43m(\u001b[49m\u001b[43mx\u001b[49m\u001b[43m)\u001b[49m\n",
      "File \u001b[0;32m~/documents/grad/Research/decentralized/decentralized/control2.py:213\u001b[0m, in \u001b[0;36miLQR.solve\u001b[0;34m(self, x0, U, n_lqr_iter, tol)\u001b[0m\n\u001b[1;32m    210\u001b[0m is_converged \u001b[38;5;241m=\u001b[39m \u001b[38;5;28;01mFalse\u001b[39;00m\n\u001b[1;32m    211\u001b[0m alphas \u001b[38;5;241m=\u001b[39m \u001b[38;5;241m1.1\u001b[39m\u001b[38;5;241m*\u001b[39m\u001b[38;5;241m*\u001b[39m(\u001b[38;5;241m-\u001b[39mtorch\u001b[38;5;241m.\u001b[39marange(\u001b[38;5;28mself\u001b[39m\u001b[38;5;241m.\u001b[39mN_LS_ITER, dtype\u001b[38;5;241m=\u001b[39mtorch\u001b[38;5;241m.\u001b[39mfloat32)\u001b[38;5;241m*\u001b[39m\u001b[38;5;241m*\u001b[39m\u001b[38;5;241m2\u001b[39m)\n\u001b[0;32m--> 213\u001b[0m X, J_star \u001b[38;5;241m=\u001b[39m \u001b[38;5;28;43mself\u001b[39;49m\u001b[38;5;241;43m.\u001b[39;49m\u001b[43m_rollout\u001b[49m\u001b[43m(\u001b[49m\u001b[43mx0\u001b[49m\u001b[43m,\u001b[49m\u001b[43m \u001b[49m\u001b[43mU\u001b[49m\u001b[43m)\u001b[49m\n\u001b[1;32m    215\u001b[0m \u001b[38;5;28mprint\u001b[39m(\u001b[38;5;124mf\u001b[39m\u001b[38;5;124m'\u001b[39m\u001b[38;5;124m0/\u001b[39m\u001b[38;5;132;01m{\u001b[39;00mn_lqr_iter\u001b[38;5;132;01m}\u001b[39;00m\u001b[38;5;130;01m\\t\u001b[39;00m\u001b[38;5;124mJ: \u001b[39m\u001b[38;5;132;01m{\u001b[39;00mJ_star\u001b[38;5;132;01m:\u001b[39;00m\u001b[38;5;124mg\u001b[39m\u001b[38;5;132;01m}\u001b[39;00m\u001b[38;5;124m'\u001b[39m)        \n\u001b[1;32m    216\u001b[0m \u001b[38;5;28;01mfor\u001b[39;00m i \u001b[38;5;129;01min\u001b[39;00m \u001b[38;5;28mrange\u001b[39m(n_lqr_iter):\n",
      "File \u001b[0;32m~/documents/grad/Research/decentralized/decentralized/control2.py:134\u001b[0m, in \u001b[0;36miLQR._rollout\u001b[0;34m(self, x0, U)\u001b[0m\n\u001b[1;32m    132\u001b[0m N \u001b[38;5;241m=\u001b[39m U\u001b[38;5;241m.\u001b[39mshape[\u001b[38;5;241m0\u001b[39m]\n\u001b[1;32m    133\u001b[0m X \u001b[38;5;241m=\u001b[39m torch\u001b[38;5;241m.\u001b[39mzeros((N\u001b[38;5;241m+\u001b[39m\u001b[38;5;241m1\u001b[39m, \u001b[38;5;28mself\u001b[39m\u001b[38;5;241m.\u001b[39mn_x))\n\u001b[0;32m--> 134\u001b[0m X[\u001b[38;5;241m0\u001b[39m] \u001b[38;5;241m=\u001b[39m x0\n\u001b[1;32m    135\u001b[0m J \u001b[38;5;241m=\u001b[39m \u001b[38;5;241m0.0\u001b[39m\n\u001b[1;32m    137\u001b[0m \u001b[38;5;28;01mfor\u001b[39;00m t \u001b[38;5;129;01min\u001b[39;00m \u001b[38;5;28mrange\u001b[39m(N):\n",
      "\u001b[0;31mRuntimeError\u001b[0m: expand(torch.FloatTensor{[4, 1]}, size=[4]): the number of sizes provided (1) must be greater or equal to the number of dimensions in the tensor (2)"
     ]
    }
   ],
   "source": [
    "iLQR.solve(x)"
   ]
  },
  {
   "cell_type": "code",
   "execution_count": 26,
   "id": "5db099aa-574a-4efa-9d50-e7aa0cd6408f",
   "metadata": {},
   "outputs": [
    {
     "name": "stdout",
     "output_type": "stream",
     "text": [
      "> \u001b[0;32m/home/zjw/documents/grad/Research/decentralized/decentralized/control2.py\u001b[0m(134)\u001b[0;36m_rollout\u001b[0;34m()\u001b[0m\n",
      "\u001b[0;32m    132 \u001b[0;31m        \u001b[0mN\u001b[0m \u001b[0;34m=\u001b[0m \u001b[0mU\u001b[0m\u001b[0;34m.\u001b[0m\u001b[0mshape\u001b[0m\u001b[0;34m[\u001b[0m\u001b[0;36m0\u001b[0m\u001b[0;34m]\u001b[0m\u001b[0;34m\u001b[0m\u001b[0;34m\u001b[0m\u001b[0m\n",
      "\u001b[0m\u001b[0;32m    133 \u001b[0;31m        \u001b[0mX\u001b[0m \u001b[0;34m=\u001b[0m \u001b[0mtorch\u001b[0m\u001b[0;34m.\u001b[0m\u001b[0mzeros\u001b[0m\u001b[0;34m(\u001b[0m\u001b[0;34m(\u001b[0m\u001b[0mN\u001b[0m\u001b[0;34m+\u001b[0m\u001b[0;36m1\u001b[0m\u001b[0;34m,\u001b[0m \u001b[0mself\u001b[0m\u001b[0;34m.\u001b[0m\u001b[0mn_x\u001b[0m\u001b[0;34m)\u001b[0m\u001b[0;34m)\u001b[0m\u001b[0;34m\u001b[0m\u001b[0;34m\u001b[0m\u001b[0m\n",
      "\u001b[0m\u001b[0;32m--> 134 \u001b[0;31m        \u001b[0mX\u001b[0m\u001b[0;34m[\u001b[0m\u001b[0;36m0\u001b[0m\u001b[0;34m]\u001b[0m \u001b[0;34m=\u001b[0m \u001b[0mx0\u001b[0m\u001b[0;34m\u001b[0m\u001b[0;34m\u001b[0m\u001b[0m\n",
      "\u001b[0m\u001b[0;32m    135 \u001b[0;31m        \u001b[0mJ\u001b[0m \u001b[0;34m=\u001b[0m \u001b[0;36m0.0\u001b[0m\u001b[0;34m\u001b[0m\u001b[0;34m\u001b[0m\u001b[0m\n",
      "\u001b[0m\u001b[0;32m    136 \u001b[0;31m\u001b[0;34m\u001b[0m\u001b[0m\n",
      "\u001b[0m\n"
     ]
    },
    {
     "name": "stdin",
     "output_type": "stream",
     "text": [
      "ipdb>  q\n"
     ]
    }
   ],
   "source": [
    "%debug"
   ]
  }
 ],
 "metadata": {
  "kernelspec": {
   "display_name": "Python 3 (ipykernel)",
   "language": "python",
   "name": "python3"
  },
  "language_info": {
   "codemirror_mode": {
    "name": "ipython",
    "version": 3
   },
   "file_extension": ".py",
   "mimetype": "text/x-python",
   "name": "python",
   "nbconvert_exporter": "python",
   "pygments_lexer": "ipython3",
   "version": "3.9.12"
  }
 },
 "nbformat": 4,
 "nbformat_minor": 5
}
