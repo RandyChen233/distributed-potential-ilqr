{
 "cells": [
  {
   "cell_type": "markdown",
   "id": "dc93dafc-34e9-4a69-a56f-29c3bb713e71",
   "metadata": {
    "tags": []
   },
   "source": [
    "# take2\n",
    "\n",
    "**GOAL**: Keep It Stupid Simple = KISS.\n",
    "\n",
    "**References**:\n",
    " 1. [ilqgames/python](https://github.com/HJReachability/ilqgames/blob/master/python)"
   ]
  },
  {
   "cell_type": "code",
   "execution_count": 1,
   "id": "88b5716c-953a-43e7-ba1a-666f959cc2e7",
   "metadata": {},
   "outputs": [],
   "source": [
    "%load_ext autoreload\n",
    "%autoreload 1\n",
    "%aimport decentralized.control2"
   ]
  },
  {
   "cell_type": "code",
   "execution_count": 4,
   "id": "5af0f28d-2b3f-4be6-93b8-8952dfe73058",
   "metadata": {},
   "outputs": [],
   "source": [
    "import functools\n",
    "\n",
    "import numpy as np\n",
    "import matplotlib.pyplot as plt\n",
    "import torch\n",
    "\n",
    "from decentralized import control2\n",
    "import pocketknives"
   ]
  },
  {
   "cell_type": "code",
   "execution_count": 32,
   "id": "91cd6f19-d6ad-4d1b-b72f-829d26663d52",
   "metadata": {},
   "outputs": [],
   "source": [
    "%matplotlib widget\n",
    "plt.rcParams['axes.grid'] = True"
   ]
  },
  {
   "cell_type": "code",
   "execution_count": 62,
   "id": "d1d31aa3-c1ce-4260-bc30-342deca087e6",
   "metadata": {},
   "outputs": [
    {
     "data": {
      "text/plain": [
       "<Figure size 640x480 with 0 Axes>"
      ]
     },
     "execution_count": 62,
     "metadata": {},
     "output_type": "execute_result"
    },
    {
     "data": {
      "application/vnd.jupyter.widget-view+json": {
       "model_id": "0ea3dc083eab4d3a90c6bc7e10b0d504",
       "version_major": 2,
       "version_minor": 0
      },
      "image/png": "[encoded data removed]",
      "text/html": [
       "\n",
       "            <div style=\"display: inline-block;\">\n",
       "                <div class=\"jupyter-widgets widget-label\" style=\"text-align: center;\">\n",
       "                    Figure\n",
       "                </div>\n",
       "                <img src='data:image/png;base64,iVBORw0KGgoAAAANSUhEUgAAAoAAAAHgCAYAAAA10dzkAAAAOXRFWHRTb2Z0d2FyZQBNYXRwbG90bGliIHZlcnNpb24zLjUuMSwgaHR0cHM6Ly9tYXRwbG90bGliLm9yZy/YYfK9AAAACXBIWXMAAA9hAAAPYQGoP6dpAAAIyUlEQVR4nO3WMQEAIAzAMMC/5+ECjiYKenbPzCwAADLO7wAAAN4ygAAAMQYQACDGAAIAxBhAAIAYAwgAEGMAAQBiDCAAQIwBBACIMYAAADEGEAAgxgACAMQYQACAGAMIABBjAAEAYgwgAECMAQQAiDGAAAAxBhAAIMYAAgDEGEAAgBgDCAAQYwABAGIMIABAjAEEAIgxgAAAMQYQACDGAAIAxBhAAIAYAwgAEGMAAQBiDCAAQIwBBACIMYAAADEGEAAgxgACAMQYQACAGAMIABBjAAEAYgwgAECMAQQAiDGAAAAxBhAAIMYAAgDEGEAAgBgDCAAQYwABAGIMIABAjAEEAIgxgAAAMQYQACDGAAIAxBhAAIAYAwgAEGMAAQBiDCAAQIwBBACIMYAAADEGEAAgxgACAMQYQACAGAMIABBjAAEAYgwgAECMAQQAiDGAAAAxBhAAIMYAAgDEGEAAgBgDCAAQYwABAGIMIABAjAEEAIgxgAAAMQYQACDGAAIAxBhAAIAYAwgAEGMAAQBiDCAAQIwBBACIMYAAADEGEAAgxgACAMQYQACAGAMIABBjAAEAYgwgAECMAQQAiDGAAAAxBhAAIMYAAgDEGEAAgBgDCAAQYwABAGIMIABAjAEEAIgxgAAAMQYQACDGAAIAxBhAAIAYAwgAEGMAAQBiDCAAQIwBBACIMYAAADEGEAAgxgACAMQYQACAGAMIABBjAAEAYgwgAECMAQQAiDGAAAAxBhAAIMYAAgDEGEAAgBgDCAAQYwABAGIMIABAjAEEAIgxgAAAMQYQACDGAAIAxBhAAIAYAwgAEGMAAQBiDCAAQIwBBACIMYAAADEGEAAgxgACAMQYQACAGAMIABBjAAEAYgwgAECMAQQAiDGAAAAxBhAAIMYAAgDEGEAAgBgDCAAQYwABAGIMIABAjAEEAIgxgAAAMQYQACDGAAIAxBhAAIAYAwgAEGMAAQBiDCAAQIwBBACIMYAAADEGEAAgxgACAMQYQACAGAMIABBjAAEAYgwgAECMAQQAiDGAAAAxBhAAIMYAAgDEGEAAgBgDCAAQYwABAGIMIABAjAEEAIgxgAAAMQYQACDGAAIAxBhAAIAYAwgAEGMAAQBiDCAAQIwBBACIMYAAADEGEAAgxgACAMQYQACAGAMIABBjAAEAYgwgAECMAQQAiDGAAAAxBhAAIMYAAgDEGEAAgBgDCAAQYwABAGIMIABAjAEEAIgxgAAAMQYQACDGAAIAxBhAAIAYAwgAEGMAAQBiDCAAQIwBBACIMYAAADEGEAAgxgACAMQYQACAGAMIABBjAAEAYgwgAECMAQQAiDGAAAAxBhAAIMYAAgDEGEAAgBgDCAAQYwABAGIMIABAjAEEAIgxgAAAMQYQACDGAAIAxBhAAIAYAwgAEGMAAQBiDCAAQIwBBACIMYAAADEGEAAgxgACAMQYQACAGAMIABBjAAEAYgwgAECMAQQAiDGAAAAxBhAAIMYAAgDEGEAAgBgDCAAQYwABAGIMIABAjAEEAIgxgAAAMQYQACDGAAIAxBhAAIAYAwgAEGMAAQBiDCAAQIwBBACIMYAAADEGEAAgxgACAMQYQACAGAMIABBjAAEAYgwgAECMAQQAiDGAAAAxBhAAIMYAAgDEGEAAgBgDCAAQYwABAGIMIABAjAEEAIgxgAAAMQYQACDGAAIAxBhAAIAYAwgAEGMAAQBiDCAAQIwBBACIMYAAADEGEAAgxgACAMQYQACAGAMIABBjAAEAYgwgAECMAQQAiDGAAAAxBhAAIMYAAgDEGEAAgBgDCAAQYwABAGIMIABAjAEEAIgxgAAAMQYQACDGAAIAxBhAAIAYAwgAEGMAAQBiDCAAQIwBBACIMYAAADEGEAAgxgACAMQYQACAGAMIABBjAAEAYgwgAECMAQQAiDGAAAAxBhAAIMYAAgDEGEAAgBgDCAAQYwABAGIMIABAjAEEAIgxgAAAMQYQACDGAAIAxBhAAIAYAwgAEGMAAQBiDCAAQIwBBACIMYAAADEGEAAgxgACAMQYQACAGAMIABBjAAEAYgwgAECMAQQAiDGAAAAxBhAAIMYAAgDEGEAAgBgDCAAQYwABAGIMIABAjAEEAIgxgAAAMQYQACDGAAIAxBhAAIAYAwgAEGMAAQBiDCAAQIwBBACIMYAAADEGEAAgxgACAMQYQACAGAMIABBjAAEAYgwgAECMAQQAiDGAAAAxBhAAIMYAAgDEGEAAgBgDCAAQYwABAGIMIABAjAEEAIgxgAAAMQYQACDGAAIAxBhAAIAYAwgAEGMAAQBiDCAAQIwBBACIMYAAADEGEAAgxgACAMQYQACAGAMIABBjAAEAYgwgAECMAQQAiDGAAAAxBhAAIMYAAgDEGEAAgBgDCAAQYwABAGIMIABAjAEEAIgxgAAAMQYQACDGAAIAxBhAAIAYAwgAEGMAAQBiDCAAQIwBBACIMYAAADEGEAAgxgACAMQYQACAGAMIABBjAAEAYgwgAECMAQQAiDGAAAAxBhAAIMYAAgDEGEAAgBgDCAAQYwABAGIMIABAjAEEAIgxgAAAMQYQACDGAAIAxBhAAIAYAwgAEGMAAQBiDCAAQIwBBACIMYAAADEGEAAgxgACAMQYQACAGAMIABBjAAEAYgwgAECMAQQAiDGAAAAxBhAAIMYAAgDEGEAAgBgDCAAQYwABAGIMIABAjAEEAIgxgAAAMQYQACDGAAIAxBhAAIAYAwgAEGMAAQBiDCAAQIwBBACIMYAAADEGEAAgxgACAMQYQACAGAMIABBjAAEAYgwgAECMAQQAiDGAAAAxBhAAIMYAAgDEGEAAgBgDCAAQYwABAGIMIABAjAEEAIgxgAAAMQYQACDGAAIAxBhAAIAYAwgAEGMAAQBiDCAAQIwBBACIMYAAADEGEAAgxgACAMQYQACAGAMIABBjAAEAYgwgAECMAQQAiDGAAAAxBhAAIMYAAgDEGEAAgBgDCAAQYwABAGIuJnkHvKensmIAAAAASUVORK5CYII=' width=640.0/>\n",
       "            </div>\n",
       "        "
      ],
      "text/plain": [
       "Canvas(toolbar=Toolbar(toolitems=[('Home', 'Reset original view', 'home', 'home'), ('Back', 'Back to previous …"
      ]
     },
     "metadata": {},
     "output_type": "display_data"
    }
   ],
   "source": [
    "plt.figure()"
   ]
  },
  {
   "cell_type": "markdown",
   "id": "10730021-f7e2-468c-be02-6d3127158b3d",
   "metadata": {},
   "source": [
    "## dynamics"
   ]
  },
  {
   "cell_type": "code",
   "execution_count": 91,
   "id": "9e11674a-5cd2-4dda-9bdc-de2a495581d6",
   "metadata": {},
   "outputs": [],
   "source": [
    "def unicycle_continuous(x, u):\n",
    "    \"\"\"\n",
    "    Compute the time derivative of state for a particular state/control.\n",
    "    NOTE: `x` and `u` should be 2D (i.e. column vectors).\n",
    "    REF: [1]\n",
    "    \"\"\"\n",
    "    assert isinstance(x, torch.Tensor) and isinstance(u, torch.Tensor)\n",
    "\n",
    "    x_dot = torch.zeros(x.numel())\n",
    "    x_dot[0] = x[3] * torch.cos(x[2])\n",
    "    x_dot[1] = x[3] * torch.sin(x[2])\n",
    "    x_dot[2] = u[0]\n",
    "    x_dot[3] = u[1]\n",
    "    return x_dot"
   ]
  },
  {
   "cell_type": "markdown",
   "id": "f325baca-13b4-49ba-9e79-6f4b43e8c377",
   "metadata": {},
   "source": [
    "## costs"
   ]
  },
  {
   "cell_type": "code",
   "execution_count": 115,
   "id": "cac062f7-f1bf-401d-8624-967fb0e14e6e",
   "metadata": {},
   "outputs": [],
   "source": [
    "def QR_goal_cost(x, u, _x_goal, _Q, _R, _Qf=None, terminal=False):\n",
    "    \"\"\"Cost of reaching the goal\"\"\"\n",
    "    \n",
    "    assert isinstance(x, torch.Tensor) and isinstance(u, torch.Tensor)\n",
    "    x = x.reshape(-1,1)\n",
    "    u = u.reshape(-1,1)\n",
    "    \n",
    "    if _Qf is None:\n",
    "        _Qf = torch.eye(Q.shape[0])\n",
    "    \n",
    "    if terminal:\n",
    "        return (x - _x_goal).T @ _Qf @ (x - _x_goal)\n",
    "    return (x - _x_goal).T @ _Q @ (x - _x_goal) + u.T @ _R @ u"
   ]
  },
  {
   "cell_type": "markdown",
   "id": "b4e6bfed-7dbc-489d-ac20-66c1e4a1a25a",
   "metadata": {
    "tags": []
   },
   "source": [
    "## single-agent problem"
   ]
  },
  {
   "cell_type": "code",
   "execution_count": 119,
   "id": "31bdf618-4e0b-42e4-b9af-2f0b8cdab4f7",
   "metadata": {},
   "outputs": [
    {
     "name": "stdout",
     "output_type": "stream",
     "text": [
      "0/50\tJ: 209878\n",
      "1/50\tJ: 140560\tμ: 0.5\tΔ: 0.5\n",
      "2/50\tJ: 135350\tμ: 0.125\tΔ: 0.25\n",
      "3/50\tJ: 57659.7\tμ: 0.015625\tΔ: 0.125\n",
      "4/50\tJ: 5352.69\tμ: 0.000976562\tΔ: 0.0625\n",
      "5/50\tJ: 3796.07\tμ: 3.05176e-05\tΔ: 0.03125\n",
      "6/50\tJ: 3190.39\tμ: 0\tΔ: 0.015625\n",
      "7/50\tJ: 3113.08\tμ: 0\tΔ: 0.0078125\n",
      "8/50\tJ: 3089.72\tμ: 0\tΔ: 0.00390625\n",
      "9/50\tJ: 3078.74\tμ: 0\tΔ: 0.00195312\n",
      "10/50\tJ: 3074.1\tμ: 0\tΔ: 0.000976562\n",
      "11/50\tJ: 3072.02\tμ: 0\tΔ: 0.000488281\n",
      "12/50\tJ: 3071.14\tμ: 0\tΔ: 0.000244141\n",
      "13/50\tJ: 3070.76\tμ: 0\tΔ: 0.00012207\n",
      "14/50\tJ: 3070.6\tμ: 0\tΔ: 6.10352e-05\n",
      "15/50\tJ: 3070.53\tμ: 0\tΔ: 3.05176e-05\n",
      "16/50\tJ: 3070.5\tμ: 0\tΔ: 1.52588e-05\n",
      "17/50\tJ: 3070.48\tμ: 0\tΔ: 7.62939e-06\n",
      "18/50\tJ: 3070.48\tμ: 0\tΔ: 3.8147e-06\n"
     ]
    }
   ],
   "source": [
    "dt = 0.1\n",
    "N = 50\n",
    "tol = 1e-6\n",
    "\n",
    "x = torch.tensor([-10, 10, 0, 0], dtype=torch.float, requires_grad=True)\n",
    "x_goal = torch.zeros((4, 1), dtype=torch.float)\n",
    "\n",
    "Q = torch.diag(torch.tensor([1., 1, 0, 0]))\n",
    "Qf = 1000 * torch.eye(Q.shape[0])\n",
    "R = torch.eye(2)\n",
    "goal_cost = functools.partial(QR_goal_cost, _x_goal=x_goal, _Q=Q, _R=R, _Qf=Qf)\n",
    "\n",
    "ilqr = control2.iLQR(unicycle_continuous, goal_cost, x.numel(), 2, dt, N)\n",
    "X, U, J = ilqr.solve(x, tol=tol)\n",
    "plot_solve(X, U, J)"
   ]
  },
  {
   "cell_type": "markdown",
   "id": "fa52b336-88bc-4de5-985c-3f8a885f5e00",
   "metadata": {
    "tags": []
   },
   "source": [
    "## multi-agent problem"
   ]
  },
  {
   "cell_type": "code",
   "execution_count": 123,
   "id": "35f5e5c6-f7cc-4193-ad58-659600a620fe",
   "metadata": {},
   "outputs": [],
   "source": [
    "def _integrate_discrete(f, x, u, _dt):\n",
    "    \"\"\"Zero-order hold to discretize a state given continuous dynamics f\"\"\"\n",
    "    return x + f(x, u) * _dt"
   ]
  },
  {
   "cell_type": "code",
   "execution_count": 162,
   "id": "69955ae7-293d-41f3-947b-40320003f8dd",
   "metadata": {},
   "outputs": [],
   "source": [
    "def unicycle_continuous_2players(x, u):\n",
    "    \"\"\"Hardcode the 2 player unicycle dynamics dimensions\"\"\"\n",
    "    assert isinstance(x, torch.Tensor) and isinstance(u, torch.Tensor)\n",
    "\n",
    "    return torch.cat([\n",
    "        unicycle_continuous(x[:4], u[:2]),\n",
    "        unicycle_continuous(x[4:], u[2:])\n",
    "    ])"
   ]
  },
  {
   "cell_type": "code",
   "execution_count": 163,
   "id": "35d13d3f-988e-4852-b084-61025206729e",
   "metadata": {},
   "outputs": [
    {
     "data": {
      "text/plain": [
       "tensor([0., 0., 0., 0., 0., 0., 0., 0.], grad_fn=<CatBackward0>)"
      ]
     },
     "execution_count": 163,
     "metadata": {},
     "output_type": "execute_result"
    }
   ],
   "source": [
    "unicycle_continuous_2players(x, torch.zeros(4))"
   ]
  },
  {
   "cell_type": "code",
   "execution_count": 193,
   "id": "1f606b8b-543c-442a-8e82-7d1118b629ee",
   "metadata": {},
   "outputs": [],
   "source": [
    "dt = 0.1\n",
    "N = 50\n",
    "tol = 1e-6\n",
    "\n",
    "x = torch.tensor([-5, -5, 0, 0,\n",
    "                  -5,  5, 0, 0], \n",
    "                 dtype=torch.float, requires_grad=True)\n",
    "# x_goal = torch.zeros((x.numel(), 1), dtype=torch.float)\n",
    "x_goal = torch.tensor([[5,  5, 0, 0,\n",
    "                        5, -5, 0, 0]],\n",
    "                      dtype=torch.float).T\n",
    "\n",
    "Q = torch.diag(torch.tensor([1., 1, 0, 0]).tile(2))\n",
    "Qf = 1000 * torch.eye(Q.shape[0])\n",
    "R = torch.eye(4)\n",
    "goal_cost = functools.partial(QR_goal_cost, _x_goal=x_goal, _Q=Q, _R=R, _Qf=Qf)"
   ]
  },
  {
   "cell_type": "code",
   "execution_count": 194,
   "id": "ae527be0-22e3-42d2-947c-f5a0849c87cf",
   "metadata": {},
   "outputs": [
    {
     "name": "stdout",
     "output_type": "stream",
     "text": [
      "0/50\tJ: 419737\n",
      "1/50\tJ: 256247\tμ: 0.5\tΔ: 0.5\n",
      "2/50\tJ: 190141\tμ: 0.125\tΔ: 0.25\n",
      "3/50\tJ: 81713.2\tμ: 0.015625\tΔ: 0.125\n",
      "4/50\tJ: 27934.2\tμ: 0.000976562\tΔ: 0.0625\n",
      "5/50\tJ: 24543.1\tμ: 3.05176e-05\tΔ: 0.03125\n",
      "6/50\tJ: 12355\tμ: 0\tΔ: 0.015625\n",
      "7/50\tJ: 8783.32\tμ: 0\tΔ: 0.0078125\n",
      "8/50\tJ: 7160.42\tμ: 0\tΔ: 0.00390625\n",
      "9/50\tJ: 6443.79\tμ: 0\tΔ: 0.00195312\n",
      "10/50\tJ: 6397.48\tμ: 0\tΔ: 0.000976562\n",
      "11/50\tJ: 6251.16\tμ: 0\tΔ: 0.000488281\n",
      "12/50\tJ: 6192.14\tμ: 0\tΔ: 0.000244141\n",
      "13/50\tJ: 6162.89\tμ: 0\tΔ: 0.00012207\n",
      "14/50\tJ: 6150.36\tμ: 0\tΔ: 6.10352e-05\n",
      "15/50\tJ: 6144.87\tμ: 0\tΔ: 3.05176e-05\n",
      "16/50\tJ: 6142.6\tμ: 0\tΔ: 1.52588e-05\n",
      "17/50\tJ: 6141.64\tμ: 0\tΔ: 7.62939e-06\n",
      "18/50\tJ: 6141.24\tμ: 0\tΔ: 3.8147e-06\n",
      "19/50\tJ: 6141.07\tμ: 0\tΔ: 1.90735e-06\n",
      "20/50\tJ: 6141\tμ: 0\tΔ: 9.53674e-07\n",
      "21/50\tJ: 6140.97\tμ: 0\tΔ: 4.76837e-07\n",
      "22/50\tJ: 6140.95\tμ: 0\tΔ: 2.38419e-07\n",
      "23/50\tJ: 6140.95\tμ: 0\tΔ: 1.19209e-07\n"
     ]
    }
   ],
   "source": [
    "ilqr = control2.iLQR(unicycle_continuous_2players, goal_cost, x.numel(), 4, dt, N)\n",
    "X, U, J = ilqr.solve(x, tol=tol)\n",
    "# plot_solve(X, U, J)"
   ]
  },
  {
   "cell_type": "code",
   "execution_count": 195,
   "id": "33928e9f-cc0e-4c34-8005-795ccb11b835",
   "metadata": {},
   "outputs": [],
   "source": [
    "def split_state(X, x_dims):\n",
    "    \"\"\"Partition a cartesian state for individual agents\"\"\"\n",
    "    return np.split(np.atleast_2d(X), np.cumsum(x_dims[:-1]), axis=1)"
   ]
  },
  {
   "cell_type": "code",
   "execution_count": 205,
   "id": "2552858f-2662-40ce-90a2-25b30315b7fe",
   "metadata": {},
   "outputs": [],
   "source": [
    "def plot_solve(X, J, x_goal, x_dims):\n",
    "    \"\"\"Plot the resultant trajectory on plt.gcf()\"\"\"\n",
    "\n",
    "    plt.clf()\n",
    "    \n",
    "    N = X.shape[0]\n",
    "    t = np.arange(N) * dt\n",
    "    \n",
    "    X_split = split_state(X, x_dims)\n",
    "    x_goal_split = split_state(x_goal.reshape(1,-1), x_dims)\n",
    "    \n",
    "    for Xi, xg in zip(X_split, x_goal_split):\n",
    "        plt.scatter(Xi[:,0], Xi[:,1], c=t)\n",
    "        plt.scatter(Xi[0,0], Xi[0,1], 80, 'g', 'x', label=\"$x_0$\")\n",
    "        plt.scatter(xg[0,0], xg[0,1], 80, 'r', 'x', label=\"$x_f$\")\n",
    "        print(xg)\n",
    "    \n",
    "    plt.margins(0.1)\n",
    "    plt.title(f\"Final Cost: {J:.3g}\")"
   ]
  },
  {
   "cell_type": "code",
   "execution_count": 206,
   "id": "e87ea430-a7a3-4617-8a34-bdfdf3ecf6ae",
   "metadata": {},
   "outputs": [
    {
     "name": "stdout",
     "output_type": "stream",
     "text": [
      "[[5. 5. 0. 0.]]\n",
      "[[ 5. -5.  0.  0.]]\n"
     ]
    }
   ],
   "source": [
    "plot_solve(X, J, x_goal.numpy(), [4, 4])"
   ]
  },
  {
   "cell_type": "code",
   "execution_count": null,
   "id": "bf6b0e7e-a431-4ce6-bcd4-99dbf5312557",
   "metadata": {},
   "outputs": [],
   "source": []
  },
  {
   "cell_type": "code",
   "execution_count": null,
   "id": "1c95f16f-acb5-4d31-9fd8-1142e161947e",
   "metadata": {},
   "outputs": [],
   "source": []
  },
  {
   "cell_type": "code",
   "execution_count": null,
   "id": "b856f9e5-371b-4378-92af-0f35757a40fc",
   "metadata": {},
   "outputs": [],
   "source": []
  }
 ],
 "metadata": {
  "kernelspec": {
   "display_name": "Python 3 (ipykernel)",
   "language": "python",
   "name": "python3"
  },
  "language_info": {
   "codemirror_mode": {
    "name": "ipython",
    "version": 3
   },
   "file_extension": ".py",
   "mimetype": "text/x-python",
   "name": "python",
   "nbconvert_exporter": "python",
   "pygments_lexer": "ipython3",
   "version": "3.9.12"
  }
 },
 "nbformat": 4,
 "nbformat_minor": 5
}
