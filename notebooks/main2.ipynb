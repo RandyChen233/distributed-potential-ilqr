{
 "cells": [
  {
   "cell_type": "markdown",
   "id": "dc93dafc-34e9-4a69-a56f-29c3bb713e71",
   "metadata": {
    "tags": []
   },
   "source": [
    "# take2\n",
    "\n",
    "**GOAL**: Keep It Stupid Simple = KISS.\n",
    "\n",
    "**References**:\n",
    " 1. [ilqgames/python](https://github.com/HJReachability/ilqgames/blob/master/python)"
   ]
  },
  {
   "cell_type": "code",
   "execution_count": 1,
   "id": "88b5716c-953a-43e7-ba1a-666f959cc2e7",
   "metadata": {},
   "outputs": [],
   "source": [
    "%load_ext autoreload\n",
    "%autoreload 1\n",
    "%aimport decentralized.control2"
   ]
  },
  {
   "cell_type": "code",
   "execution_count": 2,
   "id": "5af0f28d-2b3f-4be6-93b8-8952dfe73058",
   "metadata": {},
   "outputs": [],
   "source": [
    "import functools\n",
    "import itertools\n",
    "\n",
    "import numpy as np\n",
    "import matplotlib.pyplot as plt\n",
    "import torch\n",
    "\n",
    "from decentralized import control2\n",
    "import pocketknives"
   ]
  },
  {
   "cell_type": "code",
   "execution_count": 3,
   "id": "91cd6f19-d6ad-4d1b-b72f-829d26663d52",
   "metadata": {},
   "outputs": [],
   "source": [
    "%matplotlib widget\n",
    "plt.rcParams['axes.grid'] = True"
   ]
  },
  {
   "cell_type": "code",
   "execution_count": 4,
   "id": "d1d31aa3-c1ce-4260-bc30-342deca087e6",
   "metadata": {},
   "outputs": [
    {
     "data": {
      "text/plain": [
       "<Figure size 640x480 with 0 Axes>"
      ]
     },
     "execution_count": 4,
     "metadata": {},
     "output_type": "execute_result"
    },
    {
     "data": {
      "application/vnd.jupyter.widget-view+json": {
       "model_id": "b71ce4995b774d1f80eeb1595a9fa6a8",
       "version_major": 2,
       "version_minor": 0
      },
      "image/png": "[encoded data removed]",
      "text/html": [
       "\n",
       "            <div style=\"display: inline-block;\">\n",
       "                <div class=\"jupyter-widgets widget-label\" style=\"text-align: center;\">\n",
       "                    Figure\n",
       "                </div>\n",
       "                <img src='data:image/png;base64,iVBORw0KGgoAAAANSUhEUgAAAoAAAAHgCAYAAAA10dzkAAAAOXRFWHRTb2Z0d2FyZQBNYXRwbG90bGliIHZlcnNpb24zLjUuMSwgaHR0cHM6Ly9tYXRwbG90bGliLm9yZy/YYfK9AAAACXBIWXMAAA9hAAAPYQGoP6dpAAAIyUlEQVR4nO3WMQEAIAzAMMC/5+ECjiYKenbPzCwAADLO7wAAAN4ygAAAMQYQACDGAAIAxBhAAIAYAwgAEGMAAQBiDCAAQIwBBACIMYAAADEGEAAgxgACAMQYQACAGAMIABBjAAEAYgwgAECMAQQAiDGAAAAxBhAAIMYAAgDEGEAAgBgDCAAQYwABAGIMIABAjAEEAIgxgAAAMQYQACDGAAIAxBhAAIAYAwgAEGMAAQBiDCAAQIwBBACIMYAAADEGEAAgxgACAMQYQACAGAMIABBjAAEAYgwgAECMAQQAiDGAAAAxBhAAIMYAAgDEGEAAgBgDCAAQYwABAGIMIABAjAEEAIgxgAAAMQYQACDGAAIAxBhAAIAYAwgAEGMAAQBiDCAAQIwBBACIMYAAADEGEAAgxgACAMQYQACAGAMIABBjAAEAYgwgAECMAQQAiDGAAAAxBhAAIMYAAgDEGEAAgBgDCAAQYwABAGIMIABAjAEEAIgxgAAAMQYQACDGAAIAxBhAAIAYAwgAEGMAAQBiDCAAQIwBBACIMYAAADEGEAAgxgACAMQYQACAGAMIABBjAAEAYgwgAECMAQQAiDGAAAAxBhAAIMYAAgDEGEAAgBgDCAAQYwABAGIMIABAjAEEAIgxgAAAMQYQACDGAAIAxBhAAIAYAwgAEGMAAQBiDCAAQIwBBACIMYAAADEGEAAgxgACAMQYQACAGAMIABBjAAEAYgwgAECMAQQAiDGAAAAxBhAAIMYAAgDEGEAAgBgDCAAQYwABAGIMIABAjAEEAIgxgAAAMQYQACDGAAIAxBhAAIAYAwgAEGMAAQBiDCAAQIwBBACIMYAAADEGEAAgxgACAMQYQACAGAMIABBjAAEAYgwgAECMAQQAiDGAAAAxBhAAIMYAAgDEGEAAgBgDCAAQYwABAGIMIABAjAEEAIgxgAAAMQYQACDGAAIAxBhAAIAYAwgAEGMAAQBiDCAAQIwBBACIMYAAADEGEAAgxgACAMQYQACAGAMIABBjAAEAYgwgAECMAQQAiDGAAAAxBhAAIMYAAgDEGEAAgBgDCAAQYwABAGIMIABAjAEEAIgxgAAAMQYQACDGAAIAxBhAAIAYAwgAEGMAAQBiDCAAQIwBBACIMYAAADEGEAAgxgACAMQYQACAGAMIABBjAAEAYgwgAECMAQQAiDGAAAAxBhAAIMYAAgDEGEAAgBgDCAAQYwABAGIMIABAjAEEAIgxgAAAMQYQACDGAAIAxBhAAIAYAwgAEGMAAQBiDCAAQIwBBACIMYAAADEGEAAgxgACAMQYQACAGAMIABBjAAEAYgwgAECMAQQAiDGAAAAxBhAAIMYAAgDEGEAAgBgDCAAQYwABAGIMIABAjAEEAIgxgAAAMQYQACDGAAIAxBhAAIAYAwgAEGMAAQBiDCAAQIwBBACIMYAAADEGEAAgxgACAMQYQACAGAMIABBjAAEAYgwgAECMAQQAiDGAAAAxBhAAIMYAAgDEGEAAgBgDCAAQYwABAGIMIABAjAEEAIgxgAAAMQYQACDGAAIAxBhAAIAYAwgAEGMAAQBiDCAAQIwBBACIMYAAADEGEAAgxgACAMQYQACAGAMIABBjAAEAYgwgAECMAQQAiDGAAAAxBhAAIMYAAgDEGEAAgBgDCAAQYwABAGIMIABAjAEEAIgxgAAAMQYQACDGAAIAxBhAAIAYAwgAEGMAAQBiDCAAQIwBBACIMYAAADEGEAAgxgACAMQYQACAGAMIABBjAAEAYgwgAECMAQQAiDGAAAAxBhAAIMYAAgDEGEAAgBgDCAAQYwABAGIMIABAjAEEAIgxgAAAMQYQACDGAAIAxBhAAIAYAwgAEGMAAQBiDCAAQIwBBACIMYAAADEGEAAgxgACAMQYQACAGAMIABBjAAEAYgwgAECMAQQAiDGAAAAxBhAAIMYAAgDEGEAAgBgDCAAQYwABAGIMIABAjAEEAIgxgAAAMQYQACDGAAIAxBhAAIAYAwgAEGMAAQBiDCAAQIwBBACIMYAAADEGEAAgxgACAMQYQACAGAMIABBjAAEAYgwgAECMAQQAiDGAAAAxBhAAIMYAAgDEGEAAgBgDCAAQYwABAGIMIABAjAEEAIgxgAAAMQYQACDGAAIAxBhAAIAYAwgAEGMAAQBiDCAAQIwBBACIMYAAADEGEAAgxgACAMQYQACAGAMIABBjAAEAYgwgAECMAQQAiDGAAAAxBhAAIMYAAgDEGEAAgBgDCAAQYwABAGIMIABAjAEEAIgxgAAAMQYQACDGAAIAxBhAAIAYAwgAEGMAAQBiDCAAQIwBBACIMYAAADEGEAAgxgACAMQYQACAGAMIABBjAAEAYgwgAECMAQQAiDGAAAAxBhAAIMYAAgDEGEAAgBgDCAAQYwABAGIMIABAjAEEAIgxgAAAMQYQACDGAAIAxBhAAIAYAwgAEGMAAQBiDCAAQIwBBACIMYAAADEGEAAgxgACAMQYQACAGAMIABBjAAEAYgwgAECMAQQAiDGAAAAxBhAAIMYAAgDEGEAAgBgDCAAQYwABAGIMIABAjAEEAIgxgAAAMQYQACDGAAIAxBhAAIAYAwgAEGMAAQBiDCAAQIwBBACIMYAAADEGEAAgxgACAMQYQACAGAMIABBjAAEAYgwgAECMAQQAiDGAAAAxBhAAIMYAAgDEGEAAgBgDCAAQYwABAGIMIABAjAEEAIgxgAAAMQYQACDGAAIAxBhAAIAYAwgAEGMAAQBiDCAAQIwBBACIMYAAADEGEAAgxgACAMQYQACAGAMIABBjAAEAYgwgAECMAQQAiDGAAAAxBhAAIMYAAgDEGEAAgBgDCAAQYwABAGIMIABAjAEEAIgxgAAAMQYQACDGAAIAxBhAAIAYAwgAEGMAAQBiDCAAQIwBBACIMYAAADEGEAAgxgACAMQYQACAGAMIABBjAAEAYgwgAECMAQQAiDGAAAAxBhAAIMYAAgDEGEAAgBgDCAAQYwABAGIuJnkHvKensmIAAAAASUVORK5CYII=' width=640.0/>\n",
       "            </div>\n",
       "        "
      ],
      "text/plain": [
       "Canvas(toolbar=Toolbar(toolitems=[('Home', 'Reset original view', 'home', 'home'), ('Back', 'Back to previous …"
      ]
     },
     "metadata": {},
     "output_type": "display_data"
    }
   ],
   "source": [
    "plt.figure()"
   ]
  },
  {
   "cell_type": "code",
   "execution_count": 37,
   "id": "33928e9f-cc0e-4c34-8005-795ccb11b835",
   "metadata": {},
   "outputs": [],
   "source": [
    "def split_agents(Z, z_dims):\n",
    "    \"\"\"Partition a cartesian product state or control for individual agents\"\"\"\n",
    "    if torch.is_tensor(Z):\n",
    "        return torch.split(torch.atleast_2d(Z), z_dims, dim=1)\n",
    "    return np.split(np.atleast_2d(Z), np.cumsum(z_dims[:-1]), axis=1)"
   ]
  },
  {
   "cell_type": "code",
   "execution_count": 21,
   "id": "2552858f-2662-40ce-90a2-25b30315b7fe",
   "metadata": {},
   "outputs": [],
   "source": [
    "def plot_solve(X, J, x_goal, x_dims=None):\n",
    "    \"\"\"Plot the resultant trajectory on plt.gcf()\"\"\"\n",
    "\n",
    "    plt.clf()\n",
    "    \n",
    "    if not x_dims:\n",
    "        x_dims = [X.shape[1]]\n",
    "        \n",
    "    N = X.shape[0]\n",
    "    t = np.arange(N) * dt\n",
    "    \n",
    "    X_split = split_agents(X, x_dims)\n",
    "    x_goal_split = split_agents(x_goal.reshape(1,-1), x_dims)\n",
    "    \n",
    "    for Xi, xg in zip(X_split, x_goal_split):\n",
    "        plt.scatter(Xi[:,0], Xi[:,1], c=t)\n",
    "        plt.scatter(Xi[0,0], Xi[0,1], 80, 'g', 'x', label=\"$x_0$\")\n",
    "        plt.scatter(xg[0,0], xg[0,1], 80, 'r', 'x', label=\"$x_f$\")\n",
    "    \n",
    "    plt.margins(0.1)\n",
    "    plt.title(f\"Final Cost: {J:.3g}\")"
   ]
  },
  {
   "cell_type": "markdown",
   "id": "b4e6bfed-7dbc-489d-ac20-66c1e4a1a25a",
   "metadata": {
    "tags": []
   },
   "source": [
    "## single-agent problem"
   ]
  },
  {
   "cell_type": "code",
   "execution_count": 18,
   "id": "9e11674a-5cd2-4dda-9bdc-de2a495581d6",
   "metadata": {},
   "outputs": [],
   "source": [
    "def unicycle_continuous(x, u):\n",
    "    \"\"\"\n",
    "    Compute the time derivative of state for a particular state/control.\n",
    "    NOTE: `x` and `u` should be 2D (i.e. column vectors).\n",
    "    REF: [1]\n",
    "    \"\"\"\n",
    "    assert isinstance(x, torch.Tensor) and isinstance(u, torch.Tensor)\n",
    "\n",
    "    x_dot = torch.zeros(x.numel())\n",
    "    x_dot[0] = x[3] * torch.cos(x[2])\n",
    "    x_dot[1] = x[3] * torch.sin(x[2])\n",
    "    x_dot[2] = u[0]\n",
    "    x_dot[3] = u[1]\n",
    "    return x_dot"
   ]
  },
  {
   "cell_type": "code",
   "execution_count": 19,
   "id": "cac062f7-f1bf-401d-8624-967fb0e14e6e",
   "metadata": {},
   "outputs": [],
   "source": [
    "def reference_cost(x, u, _x_goal, _Q, _R, _Qf=None, terminal=False):\n",
    "    \"\"\"Cost of reaching the goal\"\"\"\n",
    "    \n",
    "    assert isinstance(x, torch.Tensor) and isinstance(u, torch.Tensor)\n",
    "    x = x.reshape(-1,1)\n",
    "    u = u.reshape(-1,1)\n",
    "    \n",
    "    if _Qf is None:\n",
    "        _Qf = torch.eye(Q.shape[0])\n",
    "    \n",
    "    if terminal:\n",
    "        return (x - _x_goal).T @ _Qf @ (x - _x_goal)\n",
    "    return (x - _x_goal).T @ _Q @ (x - _x_goal) + u.T @ _R @ u"
   ]
  },
  {
   "cell_type": "code",
   "execution_count": 20,
   "id": "31bdf618-4e0b-42e4-b9af-2f0b8cdab4f7",
   "metadata": {},
   "outputs": [
    {
     "name": "stdout",
     "output_type": "stream",
     "text": [
      "0/50\tJ: 209874\n",
      "1/50\tJ: 164786\tμ: 0.5\tΔ: 0.5\n",
      "2/50\tJ: 141559\tμ: 0.125\tΔ: 0.25\n",
      "3/50\tJ: 90773.6\tμ: 0.015625\tΔ: 0.125\n",
      "4/50\tJ: 18300.8\tμ: 0.000976562\tΔ: 0.0625\n",
      "5/50\tJ: 7564.6\tμ: 3.05176e-05\tΔ: 0.03125\n",
      "6/50\tJ: 6857.65\tμ: 0\tΔ: 0.015625\n",
      "7/50\tJ: 4876.21\tμ: 0\tΔ: 0.0078125\n",
      "8/50\tJ: 3525.38\tμ: 0\tΔ: 0.00390625\n",
      "9/50\tJ: 3199.35\tμ: 0\tΔ: 0.00195312\n",
      "10/50\tJ: 3128.1\tμ: 0\tΔ: 0.000976562\n",
      "11/50\tJ: 3121.56\tμ: 0\tΔ: 0.000488281\n",
      "12/50\tJ: 3094.7\tμ: 0\tΔ: 0.000244141\n",
      "13/50\tJ: 3081.34\tμ: 0\tΔ: 0.00012207\n",
      "14/50\tJ: 3075.38\tμ: 0\tΔ: 6.10352e-05\n"
     ]
    }
   ],
   "source": [
    "dt = 0.1\n",
    "N = 50\n",
    "\n",
    "x = torch.tensor([-10, 10, 0, 0], dtype=torch.float, requires_grad=True)\n",
    "x_goal = torch.zeros((4, 1), dtype=torch.float)\n",
    "\n",
    "Q = torch.diag(torch.tensor([1., 1, 0, 0]))\n",
    "Qf = 1000 * torch.eye(Q.shape[0])\n",
    "R = torch.eye(2)\n",
    "goal_cost = functools.partial(reference_cost, _x_goal=x_goal, _Q=Q, _R=R, _Qf=Qf)\n",
    "\n",
    "ilqr = control2.iLQR(unicycle_continuous, goal_cost, x.numel(), 2, dt, N)\n",
    "X, U, J = ilqr.solve(x)\n",
    "plot_solve(X, J, x_goal.numpy())"
   ]
  },
  {
   "cell_type": "markdown",
   "id": "fa52b336-88bc-4de5-985c-3f8a885f5e00",
   "metadata": {
    "tags": []
   },
   "source": [
    "## multi-agent problem"
   ]
  },
  {
   "cell_type": "code",
   "execution_count": 48,
   "id": "69955ae7-293d-41f3-947b-40320003f8dd",
   "metadata": {},
   "outputs": [],
   "source": [
    "def dynamics_nd(f, x, u, _x_dims, _u_dims):\n",
    "    \"\"\"Compute the continuous time derivative for n agents\"\"\"\n",
    "    assert isinstance(x, torch.Tensor) and isinstance(u, torch.Tensor)\n",
    "    return torch.cat([\n",
    "        f(xi.flatten(), ui.flatten()) \n",
    "        for xi, ui in zip(split_agents(x, _x_dims), split_agents(u, _u_dims))\n",
    "    ])"
   ]
  },
  {
   "cell_type": "code",
   "execution_count": 388,
   "id": "0d66ce30-2168-454d-9185-47c0b3a42699",
   "metadata": {},
   "outputs": [],
   "source": [
    "def proximity_cost(x, _x_dims, _radius):\n",
    "    \"\"\"Penalizes distances underneath some radius between agents\"\"\"\n",
    "    assert len(set(_x_dims)) == 1\n",
    "\n",
    "    assert torch.is_tensor(x)\n",
    "    \n",
    "    n_agents = len(_x_dims)\n",
    "    n_states = _x_dims[0]\n",
    "\n",
    "    pair_inds = torch.tensor(list(itertools.combinations(range(n_agents), 2)))\n",
    "    x_agent = x.reshape(-1,n_agents,n_states).swapaxes(0,2)\n",
    "    distances = torch.linalg.norm(x_agent[:2,pair_inds[:,0]] - x_agent[:2,pair_inds[:,1]], dim=0)\n",
    "\n",
    "    pair_costs = torch.fmin(torch.zeros((1)), distances - _radius)**2\n",
    "    return pair_costs.sum(dim=0)"
   ]
  },
  {
   "cell_type": "code",
   "execution_count": 390,
   "id": "50341bc7-4d4d-4c09-957b-3f267150b7fa",
   "metadata": {},
   "outputs": [],
   "source": [
    "def multi_agent_cost(goal_cost, prox_cost, x, u, terminal=False):\n",
    "    \"\"\"Reference deviation costs plus collision avoidance costs\"\"\"\n",
    "    return goal_cost(x, u, terminal=terminal) + 50*prox_cost(x)"
   ]
  },
  {
   "cell_type": "code",
   "execution_count": 422,
   "id": "1f606b8b-543c-442a-8e82-7d1118b629ee",
   "metadata": {},
   "outputs": [],
   "source": [
    "dt = 0.1\n",
    "N = 60\n",
    "\n",
    "x_dims = [4, 4]\n",
    "u_dims = [2, 2]\n",
    "x = torch.tensor([-5, -5, 0, 0,\n",
    "                  -5,  5, 0, 0], \n",
    "                 dtype=torch.float, requires_grad=True)\n",
    "x_goal = torch.tensor([[5,  5, 0, 0,\n",
    "                        5, -4, 0, 0]],\n",
    "                      dtype=torch.float).T\n",
    "\n",
    "dynamics_8d = functools.partial(dynamics_nd, unicycle_continuous, _x_dims=x_dims, _u_dims=u_dims)\n",
    "\n",
    "Q = torch.diag(torch.tensor([1., 1, 0, 0]).tile(2))\n",
    "Qf = 1000 * torch.eye(Q.shape[0])\n",
    "R = torch.eye(4)\n",
    "radius = 0.5\n",
    "\n",
    "goal_cost = functools.partial(reference_cost, _x_goal=x_goal, _Q=Q, _R=R, _Qf=Qf)\n",
    "prox_cost = functools.partial(proximity_cost, _x_dims=x_dims, _radius=radius)\n",
    "multi_cost = functools.partial(multi_agent_cost, goal_cost, prox_cost)"
   ]
  },
  {
   "cell_type": "code",
   "execution_count": 423,
   "id": "563b0318-aef0-4483-afb9-9dae0352b3df",
   "metadata": {},
   "outputs": [
    {
     "name": "stdout",
     "output_type": "stream",
     "text": [
      "0/50\tJ: 403517\n",
      "1/50\tJ: 49171.9\tμ: 0.5\tΔ: 0.5\n",
      "2/50\tJ: 28909.6\tμ: 0.125\tΔ: 0.25\n",
      "3/50\tJ: 19468.6\tμ: 0.015625\tΔ: 0.125\n",
      "4/50\tJ: 17903.5\tμ: 0.000976562\tΔ: 0.0625\n",
      "5/50\tJ: 11103.3\tμ: 3.05176e-05\tΔ: 0.03125\n",
      "6/50\tJ: 7423.25\tμ: 0\tΔ: 0.015625\n",
      "7/50\tJ: 6299.59\tμ: 0\tΔ: 0.0078125\n",
      "8/50\tJ: 6242.5\tμ: 0\tΔ: 0.00390625\n",
      "9/50\tJ: 5966.88\tμ: 0\tΔ: 0.00195312\n",
      "10/50\tJ: 5893.41\tμ: 0\tΔ: 0.000976562\n",
      "11/50\tJ: 5861.55\tμ: 0\tΔ: 0.000488281\n",
      "12/50\tJ: 5848.98\tμ: 0\tΔ: 0.000244141\n",
      " "
     ]
    },
    {
     "data": {
      "text/plain": [
       "         943274 function calls (938528 primitive calls) in 15.159 seconds\n",
       "\n",
       "   Ordered by: internal time\n",
       "\n",
       "   ncalls  tottime  percall  cumtime  percall filename:lineno(function)\n",
       "    17290    7.026    0.000    7.026    0.000 {method 'run_backward' of 'torch._C._EngineBase' objects}\n",
       "     8280    0.936    0.000    1.289    0.000 1703630234.py:1(unicycle_continuous)\n",
       "    35495    0.703    0.000    0.703    0.000 {method 'reshape' of 'torch._C._TensorBase' objects}\n",
       "     4209    0.474    0.000    0.567    0.000 2586921350.py:1(reference_cost)\n",
       "     4209    0.470    0.000    1.016    0.000 482437832.py:1(proximity_cost)\n",
       "       13    0.466    0.036   12.635    0.972 control2.py:153(_backward_pass)\n",
       "    17290    0.402    0.000    0.402    0.000 {built-in method ones_like}\n",
       "3159/2366    0.388    0.000   10.949    0.005 functional.py:484(jacobian)\n",
       "     7904    0.279    0.000    0.279    0.000 {built-in method stack}\n",
       "       42    0.274    0.007    1.867    0.044 control2.py:132(_forward_pass)\n",
       "      780    0.242    0.000    5.082    0.007 control2.py:24(_linearize_dynamics)\n",
       "     9594    0.201    0.000    0.201    0.000 {built-in method zeros_like}\n",
       "    16561    0.201    0.000    0.201    0.000 {method 'flatten' of 'torch._C._TensorBase' objects}\n",
       "    11052    0.179    0.000    0.179    0.000 {method 'detach' of 'torch._C._TensorBase' objects}\n",
       "    17342    0.169    0.000    7.863    0.000 functional.py:139(_autograd_grad)\n",
       "     8280    0.166    0.000    0.166    0.000 {method 'split_with_sizes' of 'torch._C._TensorBase' objects}\n",
       "     4209    0.160    0.000    1.744    0.000 1361912715.py:1(multi_agent_cost)\n",
       "     7904    0.157    0.000    0.157    0.000 {method 'view' of 'torch._C._TensorBase' objects}\n",
       "     8280    0.149    0.000    0.149    0.000 {built-in method cos}\n",
       "     8280    0.146    0.000    0.146    0.000 {built-in method atleast_2d}\n",
       "    12656    0.143    0.000    0.143    0.000 {built-in method zeros}\n",
       "     4209    0.130    0.000    0.130    0.000 {built-in method torch._C._linalg.linalg_norm}\n",
       "     8280    0.113    0.000    0.113    0.000 {built-in method sin}\n",
       "     4140    0.106    0.000    0.106    0.000 {built-in method cat}\n",
       "    17290    0.106    0.000    7.677    0.000 __init__.py:177(grad)\n",
       "     2580    0.090    0.000    1.184    0.000 control2.py:19(_integrate_discrete)\n",
       "    17290    0.079    0.000    0.499    0.000 __init__.py:30(_make_grads)\n",
       "     4209    0.073    0.000    0.073    0.000 {method 'sum' of 'torch._C._TensorBase' objects}\n",
       "     4211    0.068    0.000    0.068    0.000 {method 'pow' of 'torch._C._TensorBase' objects}\n",
       "     4210    0.067    0.000    0.067    0.000 {built-in method tensor}\n",
       "     1560    0.060    0.000    0.060    0.000 {built-in method torch._C._linalg.linalg_solve}\n",
       "   198586    0.055    0.000    0.055    0.000 {built-in method builtins.isinstance}\n",
       "     4209    0.054    0.000    0.054    0.000 {built-in method fmin}\n",
       "     8280    0.050    0.000    0.211    0.000 functional.py:1321(atleast_2d)\n",
       "      780    0.049    0.000    0.058    0.000 twodim_base.py:161(eye)\n",
       "    11856    0.045    0.000    0.495    0.000 functional.py:688(<genexpr>)\n",
       "     4209    0.045    0.000    0.045    0.000 {method 'swapaxes' of 'torch._C._TensorBase' objects}\n",
       "      793    0.045    0.000    5.876    0.007 functional.py:695(hessian)\n",
       "      793    0.037    0.000    6.979    0.009 control2.py:50(quadraticize_cost)\n",
       "     4140    0.037    0.000    2.125    0.001 1187419787.py:1(dynamics_nd)\n",
       "     8280    0.033    0.000    0.460    0.000 3336580851.py:1(split_agents)\n",
       "     1586    0.031    0.000    0.031    0.000 {method 'view_as' of 'torch._C._TensorBase' objects}\n",
       "     4140    0.031    0.000    1.521    0.000 1187419787.py:4(<listcomp>)\n",
       "      780    0.028    0.000    5.110    0.007 control2.py:108(linearize_dynamics)\n",
       "     3159    0.027    0.000    0.125    0.000 functional.py:55(_grad_preprocess)\n",
       "     8280    0.024    0.000    0.197    0.000 _tensor.py:560(split)\n",
       "7111/3159    0.021    0.000    0.158    0.000 functional.py:78(_grad_postprocess)\n",
       "     7904    0.020    0.000    0.023    0.000 functional.py:16(_as_tuple)\n",
       "   111338    0.019    0.000    0.019    0.000 {built-in method builtins.len}\n",
       "    58292    0.018    0.000    0.018    0.000 {method 'append' of 'list' objects}\n",
       "        1    0.017    0.017    0.651    0.651 control2.py:117(_rollout)\n",
       "    17290    0.015    0.000    0.019    0.000 __init__.py:77(_tensor_or_tensors_to_tuple)\n",
       "     2623    0.014    0.000    0.014    0.000 {method 'item' of 'torch._C._TensorBase' objects}\n",
       "    15808    0.014    0.000    0.014    0.000 {method 'size' of 'torch._C._TensorBase' objects}\n",
       "      793    0.013    0.000    0.926    0.001 functional.py:798(jac_func)\n",
       "    28717    0.012    0.000    0.012    0.000 {method 'numel' of 'torch._C._TensorBase' objects}\n",
       "     2580    0.012    0.000    1.196    0.000 control2.py:111(integrate_dynamics)\n",
       "     8280    0.011    0.000    0.210    0.000 functional.py:112(split)\n",
       "4212/4211    0.011    0.000    0.082    0.000 _tensor.py:26(wrapped)\n",
       "    29782    0.009    0.000    0.009    0.000 {built-in method torch._C._has_torch_function}\n",
       "     3159    0.009    0.000    0.012    0.000 grad_mode.py:169(__enter__)\n",
       "      780    0.008    0.000    0.008    0.000 {built-in method numpy.zeros}\n",
       "      793    0.008    0.000    0.008    0.000 {method 'squeeze' of 'torch._C._TensorBase' objects}\n",
       "     9477    0.008    0.000    0.128    0.000 functional.py:83(<genexpr>)\n",
       "     3159    0.008    0.000    0.011    0.000 grad_mode.py:173(__exit__)\n",
       "    12489    0.008    0.000    0.009    0.000 __init__.py:273(is_tensor)\n",
       "     8280    0.007    0.000    0.011    0.000 _VF.py:25(__getattr__)\n",
       "      793    0.007    0.000    6.986    0.009 control2.py:114(quadraticize_cost)\n",
       "     1586    0.006    0.000    0.735    0.000 control2.py:72(<lambda>)\n",
       "      793    0.006    0.000    0.373    0.000 functional.py:785(ensure_single_output_function)\n",
       "     4732    0.006    0.000    0.006    0.000 {method 'requires_grad_' of 'torch._C._TensorBase' objects}\n",
       "     3952    0.006    0.000    0.007    0.000 functional.py:38(_tuple_postprocess)\n",
       "     7111    0.006    0.000    0.143    0.000 functional.py:87(<genexpr>)\n",
       "      780    0.005    0.000    0.005    0.000 {built-in method from_numpy}\n",
       "     6318    0.004    0.000    0.004    0.000 {built-in method torch._C._set_grad_enabled}\n",
       "    11856    0.004    0.000    0.004    0.000 functional.py:667(<genexpr>)\n",
       "      780    0.004    0.000    0.009    0.000 _tensor.py:738(__array_wrap__)\n",
       "     8280    0.003    0.000    0.003    0.000 {built-in method builtins.getattr}\n",
       "    18120    0.003    0.000    0.003    0.000 {built-in method torch._C._has_torch_function_unary}\n",
       "      782    0.003    0.000    0.003    0.000 {method 'numpy' of 'torch._C._TensorBase' objects}\n",
       "     4745    0.003    0.000    0.003    0.000 {method 'nelement' of 'torch._C._TensorBase' objects}\n",
       "      780    0.002    0.000    0.006    0.000 _tensor.py:728(__array__)\n",
       "        1    0.002    0.002   15.157   15.157 control2.py:185(solve)\n",
       "     4745    0.002    0.000    0.002    0.000 functional.py:107(_check_requires_grad)\n",
       "     3159    0.002    0.000    0.002    0.000 {built-in method torch._C.is_grad_enabled}\n",
       "        1    0.001    0.001   15.158   15.158 <string>:2(<module>)\n",
       "       13    0.001    0.000    0.001    0.000 socket.py:357(send)\n",
       "       42    0.000    0.000    0.000    0.000 {method 'clone' of 'torch._C._TensorBase' objects}\n",
       "        1    0.000    0.000    0.000    0.000 _tensor.py:635(__rpow__)\n",
       "        1    0.000    0.000    0.000    0.000 {built-in method rand}\n",
       "       13    0.000    0.000    0.000    0.000 {built-in method eye}\n",
       "       26    0.000    0.000    0.002    0.000 iostream.py:525(write)\n",
       "       13    0.000    0.000    0.002    0.000 {built-in method builtins.print}\n",
       "        1    0.000    0.000   15.159   15.159 {built-in method builtins.exec}\n",
       "        1    0.000    0.000    0.000    0.000 {built-in method arange}\n",
       "       13    0.000    0.000    0.000    0.000 {method 'unbind' of 'torch._C._TensorBase' objects}\n",
       "       13    0.000    0.000    0.001    0.000 iostream.py:209(schedule)\n",
       "       13    0.000    0.000    0.000    0.000 _tensor.py:688(__iter__)\n",
       "       26    0.000    0.000    0.000    0.000 iostream.py:436(_is_master_process)\n",
       "       13    0.000    0.000    0.000    0.000 {built-in method torch._C._get_tracing_state}\n",
       "       26    0.000    0.000    0.001    0.000 iostream.py:455(_schedule_flush)\n",
       "       26    0.000    0.000    0.000    0.000 {built-in method posix.getpid}\n",
       "       13    0.000    0.000    0.000    0.000 threading.py:1126(is_alive)\n",
       "        1    0.000    0.000    0.000    0.000 {method 'disable' of '_lsprof.Profiler' objects}\n",
       "       13    0.000    0.000    0.000    0.000 iostream.py:97(_event_pipe)\n",
       "       13    0.000    0.000    0.000    0.000 threading.py:1059(_wait_for_tstate_lock)\n",
       "       13    0.000    0.000    0.000    0.000 {built-in method builtins.min}\n",
       "       13    0.000    0.000    0.000    0.000 {method 'acquire' of '_thread.lock' objects}\n",
       "        1    0.000    0.000    0.000    0.000 {built-in method result_type}\n",
       "       26    0.000    0.000    0.000    0.000 {method 'write' of '_io.StringIO' objects}\n",
       "       13    0.000    0.000    0.000    0.000 {method 'dim' of 'torch._C._TensorBase' objects}\n",
       "        1    0.000    0.000    0.000    0.000 control2.py:95(__init__)\n",
       "       26    0.000    0.000    0.000    0.000 {method '__exit__' of '_thread.RLock' objects}\n",
       "       13    0.000    0.000    0.000    0.000 {method 'append' of 'collections.deque' objects}\n",
       "       13    0.000    0.000    0.000    0.000 threading.py:529(is_set)\n",
       "       13    0.000    0.000    0.000    0.000 {built-in method builtins.iter}"
      ]
     },
     "metadata": {},
     "output_type": "display_data"
    }
   ],
   "source": [
    "# %%prun\n",
    "ilqr = control2.iLQR(dynamics_8d, multi_cost, x.numel(), 4, dt, N)\n",
    "X, U, J = ilqr.solve(x)"
   ]
  },
  {
   "cell_type": "code",
   "execution_count": 411,
   "id": "f583a3f3-8ec4-482d-b904-c957475a345a",
   "metadata": {},
   "outputs": [],
   "source": [
    "plot_solve(X, J, x_goal.numpy(), [4, 4])"
   ]
  },
  {
   "cell_type": "code",
   "execution_count": 403,
   "id": "b87a4e75-51b8-4810-b699-4242d87f6435",
   "metadata": {},
   "outputs": [
    {
     "data": {
      "text/plain": [
       "<matplotlib.collections.LineCollection at 0x7f6e5e244610>"
      ]
     },
     "execution_count": 403,
     "metadata": {},
     "output_type": "execute_result"
    }
   ],
   "source": [
    "distances = np.linalg.norm(X[:,:2] - X[:,4:6], axis=1)\n",
    "plt.clf()\n",
    "plt.plot(distances)\n",
    "plt.hlines(radius, *plt.xlim(), 'r')"
   ]
  },
  {
   "cell_type": "code",
   "execution_count": 398,
   "id": "d9ae135c-adc9-40ee-87ad-a42fb0f1edfc",
   "metadata": {},
   "outputs": [
    {
     "data": {
      "text/plain": [
       "[<matplotlib.lines.Line2D at 0x7f6e5e2ca5e0>]"
      ]
     },
     "execution_count": 398,
     "metadata": {},
     "output_type": "execute_result"
    }
   ],
   "source": [
    "costs = []\n",
    "for xi, ui in zip(X, U):\n",
    "    costs.append(multi_cost(torch.from_numpy(xi), torch.from_numpy(ui)).item())\n",
    "plt.clf()\n",
    "plt.plot(costs)"
   ]
  }
 ],
 "metadata": {
  "kernelspec": {
   "display_name": "Python 3 (ipykernel)",
   "language": "python",
   "name": "python3"
  },
  "language_info": {
   "codemirror_mode": {
    "name": "ipython",
    "version": 3
   },
   "file_extension": ".py",
   "mimetype": "text/x-python",
   "name": "python",
   "nbconvert_exporter": "python",
   "pygments_lexer": "ipython3",
   "version": "3.9.12"
  }
 },
 "nbformat": 4,
 "nbformat_minor": 5
}
