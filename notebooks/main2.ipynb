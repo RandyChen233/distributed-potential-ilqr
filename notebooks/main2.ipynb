{
 "cells": [
  {
   "cell_type": "markdown",
   "id": "dc93dafc-34e9-4a69-a56f-29c3bb713e71",
   "metadata": {
    "tags": []
   },
   "source": [
    "# take2\n",
    "\n",
    "**GOAL**: Keep It Stupid Simple = KISS.\n",
    "\n",
    "**References**:\n",
    " 1. [ilqgames/python](https://github.com/HJReachability/ilqgames/blob/master/python)"
   ]
  },
  {
   "cell_type": "code",
   "execution_count": 1,
   "id": "88b5716c-953a-43e7-ba1a-666f959cc2e7",
   "metadata": {},
   "outputs": [],
   "source": [
    "%load_ext autoreload\n",
    "%autoreload 1\n",
    "%aimport decentralized.control2"
   ]
  },
  {
   "cell_type": "code",
   "execution_count": 4,
   "id": "5af0f28d-2b3f-4be6-93b8-8952dfe73058",
   "metadata": {},
   "outputs": [],
   "source": [
    "import functools\n",
    "\n",
    "import numpy as np\n",
    "import matplotlib.pyplot as plt\n",
    "import torch\n",
    "\n",
    "from decentralized import control2\n",
    "import pocketknives"
   ]
  },
  {
   "cell_type": "code",
   "execution_count": 32,
   "id": "91cd6f19-d6ad-4d1b-b72f-829d26663d52",
   "metadata": {},
   "outputs": [],
   "source": [
    "%matplotlib widget\n",
    "plt.rcParams['axes.grid'] = True"
   ]
  },
  {
   "cell_type": "code",
   "execution_count": 62,
   "id": "d1d31aa3-c1ce-4260-bc30-342deca087e6",
   "metadata": {},
   "outputs": [
    {
     "data": {
      "text/plain": [
       "<Figure size 640x480 with 0 Axes>"
      ]
     },
     "execution_count": 62,
     "metadata": {},
     "output_type": "execute_result"
    },
    {
     "data": {
      "application/vnd.jupyter.widget-view+json": {
       "model_id": "0ea3dc083eab4d3a90c6bc7e10b0d504",
       "version_major": 2,
       "version_minor": 0
      },
      "image/png": "[encoded data removed]",
      "text/html": [
       "\n",
       "            <div style=\"display: inline-block;\">\n",
       "                <div class=\"jupyter-widgets widget-label\" style=\"text-align: center;\">\n",
       "                    Figure\n",
       "                </div>\n",
       "                <img src='data:image/png;base64,iVBORw0KGgoAAAANSUhEUgAAAoAAAAHgCAYAAAA10dzkAAAAOXRFWHRTb2Z0d2FyZQBNYXRwbG90bGliIHZlcnNpb24zLjUuMSwgaHR0cHM6Ly9tYXRwbG90bGliLm9yZy/YYfK9AAAACXBIWXMAAA9hAAAPYQGoP6dpAAAIyUlEQVR4nO3WMQEAIAzAMMC/5+ECjiYKenbPzCwAADLO7wAAAN4ygAAAMQYQACDGAAIAxBhAAIAYAwgAEGMAAQBiDCAAQIwBBACIMYAAADEGEAAgxgACAMQYQACAGAMIABBjAAEAYgwgAECMAQQAiDGAAAAxBhAAIMYAAgDEGEAAgBgDCAAQYwABAGIMIABAjAEEAIgxgAAAMQYQACDGAAIAxBhAAIAYAwgAEGMAAQBiDCAAQIwBBACIMYAAADEGEAAgxgACAMQYQACAGAMIABBjAAEAYgwgAECMAQQAiDGAAAAxBhAAIMYAAgDEGEAAgBgDCAAQYwABAGIMIABAjAEEAIgxgAAAMQYQACDGAAIAxBhAAIAYAwgAEGMAAQBiDCAAQIwBBACIMYAAADEGEAAgxgACAMQYQACAGAMIABBjAAEAYgwgAECMAQQAiDGAAAAxBhAAIMYAAgDEGEAAgBgDCAAQYwABAGIMIABAjAEEAIgxgAAAMQYQACDGAAIAxBhAAIAYAwgAEGMAAQBiDCAAQIwBBACIMYAAADEGEAAgxgACAMQYQACAGAMIABBjAAEAYgwgAECMAQQAiDGAAAAxBhAAIMYAAgDEGEAAgBgDCAAQYwABAGIMIABAjAEEAIgxgAAAMQYQACDGAAIAxBhAAIAYAwgAEGMAAQBiDCAAQIwBBACIMYAAADEGEAAgxgACAMQYQACAGAMIABBjAAEAYgwgAECMAQQAiDGAAAAxBhAAIMYAAgDEGEAAgBgDCAAQYwABAGIMIABAjAEEAIgxgAAAMQYQACDGAAIAxBhAAIAYAwgAEGMAAQBiDCAAQIwBBACIMYAAADEGEAAgxgACAMQYQACAGAMIABBjAAEAYgwgAECMAQQAiDGAAAAxBhAAIMYAAgDEGEAAgBgDCAAQYwABAGIMIABAjAEEAIgxgAAAMQYQACDGAAIAxBhAAIAYAwgAEGMAAQBiDCAAQIwBBACIMYAAADEGEAAgxgACAMQYQACAGAMIABBjAAEAYgwgAECMAQQAiDGAAAAxBhAAIMYAAgDEGEAAgBgDCAAQYwABAGIMIABAjAEEAIgxgAAAMQYQACDGAAIAxBhAAIAYAwgAEGMAAQBiDCAAQIwBBACIMYAAADEGEAAgxgACAMQYQACAGAMIABBjAAEAYgwgAECMAQQAiDGAAAAxBhAAIMYAAgDEGEAAgBgDCAAQYwABAGIMIABAjAEEAIgxgAAAMQYQACDGAAIAxBhAAIAYAwgAEGMAAQBiDCAAQIwBBACIMYAAADEGEAAgxgACAMQYQACAGAMIABBjAAEAYgwgAECMAQQAiDGAAAAxBhAAIMYAAgDEGEAAgBgDCAAQYwABAGIMIABAjAEEAIgxgAAAMQYQACDGAAIAxBhAAIAYAwgAEGMAAQBiDCAAQIwBBACIMYAAADEGEAAgxgACAMQYQACAGAMIABBjAAEAYgwgAECMAQQAiDGAAAAxBhAAIMYAAgDEGEAAgBgDCAAQYwABAGIMIABAjAEEAIgxgAAAMQYQACDGAAIAxBhAAIAYAwgAEGMAAQBiDCAAQIwBBACIMYAAADEGEAAgxgACAMQYQACAGAMIABBjAAEAYgwgAECMAQQAiDGAAAAxBhAAIMYAAgDEGEAAgBgDCAAQYwABAGIMIABAjAEEAIgxgAAAMQYQACDGAAIAxBhAAIAYAwgAEGMAAQBiDCAAQIwBBACIMYAAADEGEAAgxgACAMQYQACAGAMIABBjAAEAYgwgAECMAQQAiDGAAAAxBhAAIMYAAgDEGEAAgBgDCAAQYwABAGIMIABAjAEEAIgxgAAAMQYQACDGAAIAxBhAAIAYAwgAEGMAAQBiDCAAQIwBBACIMYAAADEGEAAgxgACAMQYQACAGAMIABBjAAEAYgwgAECMAQQAiDGAAAAxBhAAIMYAAgDEGEAAgBgDCAAQYwABAGIMIABAjAEEAIgxgAAAMQYQACDGAAIAxBhAAIAYAwgAEGMAAQBiDCAAQIwBBACIMYAAADEGEAAgxgACAMQYQACAGAMIABBjAAEAYgwgAECMAQQAiDGAAAAxBhAAIMYAAgDEGEAAgBgDCAAQYwABAGIMIABAjAEEAIgxgAAAMQYQACDGAAIAxBhAAIAYAwgAEGMAAQBiDCAAQIwBBACIMYAAADEGEAAgxgACAMQYQACAGAMIABBjAAEAYgwgAECMAQQAiDGAAAAxBhAAIMYAAgDEGEAAgBgDCAAQYwABAGIMIABAjAEEAIgxgAAAMQYQACDGAAIAxBhAAIAYAwgAEGMAAQBiDCAAQIwBBACIMYAAADEGEAAgxgACAMQYQACAGAMIABBjAAEAYgwgAECMAQQAiDGAAAAxBhAAIMYAAgDEGEAAgBgDCAAQYwABAGIMIABAjAEEAIgxgAAAMQYQACDGAAIAxBhAAIAYAwgAEGMAAQBiDCAAQIwBBACIMYAAADEGEAAgxgACAMQYQACAGAMIABBjAAEAYgwgAECMAQQAiDGAAAAxBhAAIMYAAgDEGEAAgBgDCAAQYwABAGIMIABAjAEEAIgxgAAAMQYQACDGAAIAxBhAAIAYAwgAEGMAAQBiDCAAQIwBBACIMYAAADEGEAAgxgACAMQYQACAGAMIABBjAAEAYgwgAECMAQQAiDGAAAAxBhAAIMYAAgDEGEAAgBgDCAAQYwABAGIMIABAjAEEAIgxgAAAMQYQACDGAAIAxBhAAIAYAwgAEGMAAQBiDCAAQIwBBACIMYAAADEGEAAgxgACAMQYQACAGAMIABBjAAEAYgwgAECMAQQAiDGAAAAxBhAAIMYAAgDEGEAAgBgDCAAQYwABAGIMIABAjAEEAIgxgAAAMQYQACDGAAIAxBhAAIAYAwgAEGMAAQBiDCAAQIwBBACIMYAAADEGEAAgxgACAMQYQACAGAMIABBjAAEAYgwgAECMAQQAiDGAAAAxBhAAIMYAAgDEGEAAgBgDCAAQYwABAGIuJnkHvKensmIAAAAASUVORK5CYII=' width=640.0/>\n",
       "            </div>\n",
       "        "
      ],
      "text/plain": [
       "Canvas(toolbar=Toolbar(toolitems=[('Home', 'Reset original view', 'home', 'home'), ('Back', 'Back to previous …"
      ]
     },
     "metadata": {},
     "output_type": "display_data"
    }
   ],
   "source": [
    "plt.figure()"
   ]
  },
  {
   "cell_type": "code",
   "execution_count": 95,
   "id": "2552858f-2662-40ce-90a2-25b30315b7fe",
   "metadata": {},
   "outputs": [],
   "source": [
    "def plot_solve(X, U, J):\n",
    "    \"\"\"Plot the resultant trajectory on plt.gcf()\"\"\"\n",
    "    N = X.shape[0]\n",
    "    t = np.arange(N) * dt\n",
    "\n",
    "    plt.clf()\n",
    "    plt.scatter(X[:,0], X[:,1], c=t)\n",
    "    plt.scatter(X[0,0], X[0,1], 80, 'g', 'x', label=\"$x_0$\")\n",
    "    plt.scatter(x_goal[0], x_goal[1], 80, 'r', 'x', label=\"$x_f$\")\n",
    "    plt.margins(0.1)\n",
    "    \n",
    "    plt.title(f\"Final Cost: {J:.3g}\")"
   ]
  },
  {
   "cell_type": "markdown",
   "id": "10730021-f7e2-468c-be02-6d3127158b3d",
   "metadata": {},
   "source": [
    "## dynamics"
   ]
  },
  {
   "cell_type": "code",
   "execution_count": 91,
   "id": "9e11674a-5cd2-4dda-9bdc-de2a495581d6",
   "metadata": {},
   "outputs": [],
   "source": [
    "def unicycle_continuous(x, u):\n",
    "    \"\"\"\n",
    "    Compute the time derivative of state for a particular state/control.\n",
    "    NOTE: `x` and `u` should be 2D (i.e. column vectors).\n",
    "    REF: [1]\n",
    "    \"\"\"\n",
    "    assert isinstance(x, torch.Tensor) and isinstance(u, torch.Tensor)\n",
    "\n",
    "    x_dot = torch.zeros(x.numel())\n",
    "    x_dot[0] = x[3] * torch.cos(x[2])\n",
    "    x_dot[1] = x[3] * torch.sin(x[2])\n",
    "    x_dot[2] = u[0]\n",
    "    x_dot[3] = u[1]\n",
    "    return x_dot"
   ]
  },
  {
   "cell_type": "markdown",
   "id": "f325baca-13b4-49ba-9e79-6f4b43e8c377",
   "metadata": {},
   "source": [
    "## costs"
   ]
  },
  {
   "cell_type": "code",
   "execution_count": 115,
   "id": "cac062f7-f1bf-401d-8624-967fb0e14e6e",
   "metadata": {},
   "outputs": [],
   "source": [
    "def QR_goal_cost(x, u, _x_goal, _Q, _R, _Qf=None, terminal=False):\n",
    "    \"\"\"Cost of reaching the goal\"\"\"\n",
    "    \n",
    "    assert isinstance(x, torch.Tensor) and isinstance(u, torch.Tensor)\n",
    "    x = x.reshape(-1,1)\n",
    "    u = u.reshape(-1,1)\n",
    "    \n",
    "    if _Qf is None:\n",
    "        _Qf = torch.eye(Q.shape[0])\n",
    "    \n",
    "    if terminal:\n",
    "        return (x - _x_goal).T @ _Qf @ (x - _x_goal)\n",
    "    return (x - _x_goal).T @ _Q @ (x - _x_goal) + u.T @ _R @ u"
   ]
  },
  {
   "cell_type": "markdown",
   "id": "b4e6bfed-7dbc-489d-ac20-66c1e4a1a25a",
   "metadata": {},
   "source": [
    "## single-agent problem"
   ]
  },
  {
   "cell_type": "code",
   "execution_count": 119,
   "id": "31bdf618-4e0b-42e4-b9af-2f0b8cdab4f7",
   "metadata": {},
   "outputs": [
    {
     "name": "stdout",
     "output_type": "stream",
     "text": [
      "0/50\tJ: 209878\n",
      "1/50\tJ: 140560\tμ: 0.5\tΔ: 0.5\n",
      "2/50\tJ: 135350\tμ: 0.125\tΔ: 0.25\n",
      "3/50\tJ: 57659.7\tμ: 0.015625\tΔ: 0.125\n",
      "4/50\tJ: 5352.69\tμ: 0.000976562\tΔ: 0.0625\n",
      "5/50\tJ: 3796.07\tμ: 3.05176e-05\tΔ: 0.03125\n",
      "6/50\tJ: 3190.39\tμ: 0\tΔ: 0.015625\n",
      "7/50\tJ: 3113.08\tμ: 0\tΔ: 0.0078125\n",
      "8/50\tJ: 3089.72\tμ: 0\tΔ: 0.00390625\n",
      "9/50\tJ: 3078.74\tμ: 0\tΔ: 0.00195312\n",
      "10/50\tJ: 3074.1\tμ: 0\tΔ: 0.000976562\n",
      "11/50\tJ: 3072.02\tμ: 0\tΔ: 0.000488281\n",
      "12/50\tJ: 3071.14\tμ: 0\tΔ: 0.000244141\n",
      "13/50\tJ: 3070.76\tμ: 0\tΔ: 0.00012207\n",
      "14/50\tJ: 3070.6\tμ: 0\tΔ: 6.10352e-05\n",
      "15/50\tJ: 3070.53\tμ: 0\tΔ: 3.05176e-05\n",
      "16/50\tJ: 3070.5\tμ: 0\tΔ: 1.52588e-05\n",
      "17/50\tJ: 3070.48\tμ: 0\tΔ: 7.62939e-06\n",
      "18/50\tJ: 3070.48\tμ: 0\tΔ: 3.8147e-06\n"
     ]
    }
   ],
   "source": [
    "dt = 0.1\n",
    "N = 50\n",
    "tol = 1e-6\n",
    "\n",
    "x = torch.tensor([-10, 10, 0, 0], dtype=torch.float, requires_grad=True)\n",
    "x_goal = torch.zeros((4, 1), dtype=torch.float)\n",
    "\n",
    "Q = torch.diag(torch.tensor([1., 1, 0, 0]))\n",
    "Qf = 1000 * torch.eye(Q.shape[0])\n",
    "R = torch.eye(2)\n",
    "goal_cost = functools.partial(QR_goal_cost, _x_goal=x_goal, _Q=Q, _R=R, _Qf=Qf)\n",
    "\n",
    "ilqr = control2.iLQR(unicycle_continuous, goal_cost, x.numel(), u.numel(), dt, N)\n",
    "X, U, J = ilqr.solve(x, tol=tol)\n",
    "plot_solve(X, U, J)"
   ]
  },
  {
   "cell_type": "code",
   "execution_count": 121,
   "id": "8d1f521f-089e-4ed8-a352-734f55cbe963",
   "metadata": {},
   "outputs": [
    {
     "data": {
      "text/plain": [
       "array([[-1.00000000e+01,  1.00000000e+01,  0.00000000e+00,\n",
       "         0.00000000e+00],\n",
       "       [-1.00000000e+01,  1.00000000e+01, -3.34941655e-01,\n",
       "         1.29861367e+00],\n",
       "       [-9.87735462e+00,  9.95731258e+00, -5.60895085e-01,\n",
       "         2.42982340e+00],\n",
       "       [-9.67160225e+00,  9.82805920e+00, -6.86507642e-01,\n",
       "         3.39274359e+00],\n",
       "       [-9.40918541e+00,  9.61301327e+00, -7.49328017e-01,\n",
       "         4.19724655e+00],\n",
       "       [-9.10188580e+00,  9.32711887e+00, -7.78895020e-01,\n",
       "         4.85593557e+00],\n",
       "       [-8.75629330e+00,  8.98599243e+00, -7.92286992e-01,\n",
       "         5.38168144e+00],\n",
       "       [-8.37838173e+00,  8.60283756e+00, -7.98173547e-01,\n",
       "         5.78699398e+00],\n",
       "       [-7.97444057e+00,  8.18844128e+00, -8.00721824e-01,\n",
       "         6.08385515e+00],\n",
       "       [-7.55088949e+00,  7.75170660e+00, -8.01923394e-01,\n",
       "         6.28366613e+00],\n",
       "       [-7.11396980e+00,  7.30010271e+00, -8.02762449e-01,\n",
       "         6.39722872e+00],\n",
       "       [-6.66953993e+00,  6.83996391e+00, -8.03761601e-01,\n",
       "         6.43473387e+00],\n",
       "       [-6.22296715e+00,  6.37668133e+00, -8.05234492e-01,\n",
       "         6.40574551e+00],\n",
       "       [-5.77908611e+00,  5.91483164e+00, -8.07402670e-01,\n",
       "         6.31918526e+00],\n",
       "       [-5.34219217e+00,  5.45827436e+00, -8.10441554e-01,\n",
       "         6.18332481e+00],\n",
       "       [-4.91605091e+00,  5.01023579e+00, -8.14479172e-01,\n",
       "         6.00579262e+00],\n",
       "       [-4.50390482e+00,  4.57339334e+00, -8.19559813e-01,\n",
       "         5.79359484e+00],\n",
       "       [-4.10846710e+00,  4.14997101e+00, -8.25584948e-01,\n",
       "         5.55313635e+00],\n",
       "       [-3.73189378e+00,  3.74184632e+00, -8.32251251e-01,\n",
       "         5.29024649e+00],\n",
       "       [-3.37574768e+00,  3.35065961e+00, -8.39007676e-01,\n",
       "         5.01020145e+00],\n",
       "       [-3.04096532e+00,  2.97791052e+00, -8.45052242e-01,\n",
       "         4.71774864e+00],\n",
       "       [-2.72785211e+00,  2.62502027e+00, -8.49380434e-01,\n",
       "         4.41713238e+00],\n",
       "       [-2.43612337e+00,  2.29335046e+00, -8.50883782e-01,\n",
       "         4.11212206e+00],\n",
       "       [-2.16500330e+00,  1.98417509e+00, -8.48482728e-01,\n",
       "         3.80604553e+00],\n",
       "       [-1.91337717e+00,  1.69861579e+00, -8.41268361e-01,\n",
       "         3.50182319e+00],\n",
       "       [-1.67997444e+00,  1.43755865e+00, -8.28624725e-01,\n",
       "         3.20200324e+00],\n",
       "       [-1.46355426e+00,  1.20157015e+00, -8.10308576e-01,\n",
       "         2.90879655e+00],\n",
       "       [-1.26305819e+00,  9.90827858e-01, -7.86473393e-01,\n",
       "         2.62411046e+00],\n",
       "       [-1.07770514e+00,  8.05075824e-01, -7.57637203e-01,\n",
       "         2.34957790e+00],\n",
       "       [-9.07017291e-01,  6.43611193e-01, -7.24604905e-01,\n",
       "         2.08658290e+00],\n",
       "       [-7.50782013e-01,  5.05304217e-01, -6.88362837e-01,\n",
       "         1.83628201e+00],\n",
       "       [-6.08968318e-01,  3.88650060e-01, -6.49964929e-01,\n",
       "         1.59962213e+00],\n",
       "       [-4.81621593e-01,  2.91847557e-01, -6.10428691e-01,\n",
       "         1.37735796e+00],\n",
       "       [-3.68760556e-01,  2.12894812e-01, -5.70652843e-01,\n",
       "         1.17006838e+00],\n",
       "       [-2.70293623e-01,  1.49689883e-01, -5.31363726e-01,\n",
       "         9.78173554e-01],\n",
       "       [-1.85963631e-01,  1.00124896e-01, -4.93089288e-01,\n",
       "         8.01952541e-01],\n",
       "       [-1.15321651e-01,  6.21645190e-02, -4.56156343e-01,\n",
       "         6.41561031e-01],\n",
       "       [-5.77253588e-02,  3.39037105e-02, -4.20705140e-01,\n",
       "         4.97051090e-01],\n",
       "       [-1.23544745e-02,  1.36039350e-02, -3.86715472e-01,\n",
       "         3.68392706e-01],\n",
       "       [ 2.17643231e-02, -2.89940275e-04, -3.54038805e-01,\n",
       "         2.55494833e-01],\n",
       "       [ 4.57292348e-02, -9.14766360e-03, -3.22429597e-01,\n",
       "         1.58219516e-01],\n",
       "       [ 6.07358553e-02, -1.41611956e-02, -2.91577518e-01,\n",
       "         7.63885602e-02],\n",
       "       [ 6.80522844e-02, -1.63570885e-02, -2.61140943e-01,\n",
       "         9.78835672e-03],\n",
       "       [ 6.89979345e-02, -1.66098066e-02, -2.30771795e-01,\n",
       "        -4.18161936e-02],\n",
       "       [ 6.49271682e-02, -1.56533495e-02, -2.00143278e-01,\n",
       "        -7.86605403e-02],\n",
       "       [ 5.72181344e-02, -1.40895015e-02, -1.69013023e-01,\n",
       "        -1.00995228e-01],\n",
       "       [ 4.72625159e-02, -1.23906657e-02, -1.37245148e-01,\n",
       "        -1.09093785e-01],\n",
       "       [ 3.64557207e-02, -1.08981021e-02, -1.04748532e-01,\n",
       "        -1.03226908e-01],\n",
       "       [ 2.61896104e-02, -9.81879141e-03, -7.15242624e-02,\n",
       "        -8.36648792e-02],\n",
       "       [ 1.78445131e-02, -9.22089443e-03, -3.76791991e-02,\n",
       "        -5.06911464e-02],\n",
       "       [ 1.27789956e-02, -9.02993977e-03, -3.42538208e-03,\n",
       "        -4.60828468e-03]], dtype=float32)"
      ]
     },
     "execution_count": 121,
     "metadata": {},
     "output_type": "execute_result"
    }
   ],
   "source": [
    "X"
   ]
  },
  {
   "cell_type": "code",
   "execution_count": null,
   "id": "535be3ee-173b-4147-ab42-a1afc0b07c98",
   "metadata": {},
   "outputs": [],
   "source": []
  },
  {
   "cell_type": "code",
   "execution_count": null,
   "id": "b9963ad7-36ca-485c-93f0-397b58af0b9f",
   "metadata": {},
   "outputs": [],
   "source": []
  },
  {
   "cell_type": "code",
   "execution_count": null,
   "id": "e87ea430-a7a3-4617-8a34-bdfdf3ecf6ae",
   "metadata": {},
   "outputs": [],
   "source": []
  }
 ],
 "metadata": {
  "kernelspec": {
   "display_name": "Python 3 (ipykernel)",
   "language": "python",
   "name": "python3"
  },
  "language_info": {
   "codemirror_mode": {
    "name": "ipython",
    "version": 3
   },
   "file_extension": ".py",
   "mimetype": "text/x-python",
   "name": "python",
   "nbconvert_exporter": "python",
   "pygments_lexer": "ipython3",
   "version": "3.9.12"
  }
 },
 "nbformat": 4,
 "nbformat_minor": 5
}
