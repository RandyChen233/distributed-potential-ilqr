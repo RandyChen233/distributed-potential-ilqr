{
 "cells": [
  {
   "cell_type": "markdown",
   "id": "dc93dafc-34e9-4a69-a56f-29c3bb713e71",
   "metadata": {
    "tags": []
   },
   "source": [
    "# take2\n",
    "\n",
    "**GOAL**: Keep It Stupid Simple = KISS.\n",
    "\n",
    "**Dependencies:**\n",
    " - [pocketknives](https://github.com/zjwilliams20/pocketknives)\n",
    "\n",
    "**References:**\n",
    " 1. [ilqgames/python](https://github.com/HJReachability/ilqgames/blob/master/python)"
   ]
  },
  {
   "cell_type": "code",
   "execution_count": 9,
   "id": "5af0f28d-2b3f-4be6-93b8-8952dfe73058",
   "metadata": {},
   "outputs": [],
   "source": [
    "from time import perf_counter as pc\n",
    "\n",
    "import numpy as np\n",
    "import matplotlib.pyplot as plt\n",
    "from matplotlib.animation import FuncAnimation\n",
    "\n",
    "from decentralized import split_agents\n",
    "import decentralized as dec\n",
    "import pocketknives\n",
    "\n",
    "π = np.pi"
   ]
  },
  {
   "cell_type": "code",
   "execution_count": 10,
   "id": "14b8776e-8546-446f-8bc3-ee319d701b2b",
   "metadata": {},
   "outputs": [
    {
     "name": "stdout",
     "output_type": "stream",
     "text": [
      "The autoreload extension is already loaded. To reload it, use:\n",
      "  %reload_ext autoreload\n"
     ]
    }
   ],
   "source": [
    "%load_ext autoreload\n",
    "%autoreload 1\n",
    "%aimport decentralized.control, decentralized.dynamics, decentralized.cost, decentralized.problem, decentralized.util"
   ]
  },
  {
   "cell_type": "code",
   "execution_count": 11,
   "id": "91cd6f19-d6ad-4d1b-b72f-829d26663d52",
   "metadata": {},
   "outputs": [],
   "source": [
    "%matplotlib widget\n",
    "plt.rcParams['axes.grid'] = True"
   ]
  },
  {
   "cell_type": "code",
   "execution_count": 17,
   "id": "5caba289-740d-46cf-aba0-faa5b1a915cd",
   "metadata": {},
   "outputs": [
    {
     "data": {
      "application/vnd.jupyter.widget-view+json": {
       "model_id": "d89e18352efb4bbb92f1dd9a45330635",
       "version_major": 2,
       "version_minor": 0
      },
      "image/png": "[encoded data removed]",
      "text/html": [
       "\n",
       "            <div style=\"display: inline-block;\">\n",
       "                <div class=\"jupyter-widgets widget-label\" style=\"text-align: center;\">\n",
       "                    Figure\n",
       "                </div>\n",
       "                <img src='data:image/png;base64,iVBORw0KGgoAAAANSUhEUgAAAXIAAAFyCAYAAADoJFEJAAAAOXRFWHRTb2Z0d2FyZQBNYXRwbG90bGliIHZlcnNpb24zLjUuMiwgaHR0cHM6Ly9tYXRwbG90bGliLm9yZy8qNh9FAAAACXBIWXMAAA9hAAAPYQGoP6dpAAAFLklEQVR4nO3UQQ0AIBDAMMC/50MED7KkVbDX9szMAiDr/A4A4I2RA8QZOUCckQPEGTlAnJEDxBk5QJyRA8QZOUCckQPEGTlAnJEDxBk5QJyRA8QZOUCckQPEGTlAnJEDxBk5QJyRA8QZOUCckQPEGTlAnJEDxBk5QJyRA8QZOUCckQPEGTlAnJEDxBk5QJyRA8QZOUCckQPEGTlAnJEDxBk5QJyRA8QZOUCckQPEGTlAnJEDxBk5QJyRA8QZOUCckQPEGTlAnJEDxBk5QJyRA8QZOUCckQPEGTlAnJEDxBk5QJyRA8QZOUCckQPEGTlAnJEDxBk5QJyRA8QZOUCckQPEGTlAnJEDxBk5QJyRA8QZOUCckQPEGTlAnJEDxBk5QJyRA8QZOUCckQPEGTlAnJEDxBk5QJyRA8QZOUCckQPEGTlAnJEDxBk5QJyRA8QZOUCckQPEGTlAnJEDxBk5QJyRA8QZOUCckQPEGTlAnJEDxBk5QJyRA8QZOUCckQPEGTlAnJEDxBk5QJyRA8QZOUCckQPEGTlAnJEDxBk5QJyRA8QZOUCckQPEGTlAnJEDxBk5QJyRA8QZOUCckQPEGTlAnJEDxBk5QJyRA8QZOUCckQPEGTlAnJEDxBk5QJyRA8QZOUCckQPEGTlAnJEDxBk5QJyRA8QZOUCckQPEGTlAnJEDxBk5QJyRA8QZOUCckQPEGTlAnJEDxBk5QJyRA8QZOUCckQPEGTlAnJEDxBk5QJyRA8QZOUCckQPEGTlAnJEDxBk5QJyRA8QZOUCckQPEGTlAnJEDxBk5QJyRA8QZOUCckQPEGTlAnJEDxBk5QJyRA8QZOUCckQPEGTlAnJEDxBk5QJyRA8QZOUCckQPEGTlAnJEDxBk5QJyRA8QZOUCckQPEGTlAnJEDxBk5QJyRA8QZOUCckQPEGTlAnJEDxBk5QJyRA8QZOUCckQPEGTlAnJEDxBk5QJyRA8QZOUCckQPEGTlAnJEDxBk5QJyRA8QZOUCckQPEGTlAnJEDxBk5QJyRA8QZOUCckQPEGTlAnJEDxBk5QJyRA8QZOUCckQPEGTlAnJEDxBk5QJyRA8QZOUCckQPEGTlAnJEDxBk5QJyRA8QZOUCckQPEGTlAnJEDxBk5QJyRA8QZOUCckQPEGTlAnJEDxBk5QJyRA8QZOUCckQPEGTlAnJEDxBk5QJyRA8QZOUCckQPEGTlAnJEDxBk5QJyRA8QZOUCckQPEGTlAnJEDxBk5QJyRA8QZOUCckQPEGTlAnJEDxBk5QJyRA8QZOUCckQPEGTlAnJEDxBk5QJyRA8QZOUCckQPEGTlAnJEDxBk5QJyRA8QZOUCckQPEGTlAnJEDxBk5QJyRA8QZOUCckQPEGTlAnJEDxBk5QJyRA8QZOUCckQPEGTlAnJEDxBk5QJyRA8QZOUCckQPEGTlAnJEDxBk5QJyRA8QZOUCckQPEGTlAnJEDxBk5QJyRA8QZOUCckQPEGTlAnJEDxBk5QJyRA8QZOUCckQPEGTlAnJEDxBk5QJyRA8QZOUCckQPEGTlAnJEDxBk5QJyRA8QZOUCckQPEGTlAnJEDxBk5QJyRA8QZOUCckQPEGTlAnJEDxBk5QJyRA8QZOUCckQPEGTlAnJEDxBk5QJyRA8QZOUCckQPEGTlAnJEDxBk5QJyRA8QZOUCckQPEGTlAnJEDxBk5QJyRA8QZOUCckQPEGTlAnJEDxBk5QJyRA8QZOUCckQPEGTlAnJEDxBk5QJyRA8QZOUDcBUYHBuDijI5tAAAAAElFTkSuQmCC' width=370.0/>\n",
       "            </div>\n",
       "        "
      ],
      "text/plain": [
       "Canvas(toolbar=Toolbar(toolitems=[('Home', 'Reset original view', 'home', 'home'), ('Back', 'Back to previous …"
      ]
     },
     "metadata": {},
     "output_type": "display_data"
    }
   ],
   "source": [
    "fig = plt.figure(figsize=(3.7, 3.7))\n",
    "# fig = plt.figure()"
   ]
  },
  {
   "cell_type": "code",
   "execution_count": 18,
   "id": "94329606-5110-4dd0-bcb4-8cbeeeaf6fe1",
   "metadata": {},
   "outputs": [],
   "source": [
    "def pos_mask(x_dims):\n",
    "    \"\"\"Return a mask that's true wherever there's an x or y position\"\"\" \n",
    "    return np.array([i % x_dims[0] < 2 for i in range(sum(x_dims))])"
   ]
  },
  {
   "cell_type": "code",
   "execution_count": 19,
   "id": "2552858f-2662-40ce-90a2-25b30315b7fe",
   "metadata": {},
   "outputs": [],
   "source": [
    "def plot_solve(X, J, x_goal, x_dims=None):\n",
    "    \"\"\"Plot the resultant trajectory on plt.gcf()\"\"\"\n",
    "\n",
    "    if not x_dims:\n",
    "        x_dims = [X.shape[1]]\n",
    "        \n",
    "    N = X.shape[0]\n",
    "    t = np.arange(N) * dt\n",
    "    \n",
    "    X_split = split_agents(X, x_dims)\n",
    "    x_goal_split = split_agents(x_goal.reshape(1,-1), x_dims)\n",
    "    \n",
    "    for Xi, xg in zip(X_split, x_goal_split):\n",
    "        plt.scatter(Xi[:,0], Xi[:,1], c=t)\n",
    "        plt.scatter(Xi[0,0], Xi[0,1], 80, 'g', 'x', label=\"$x_0$\")\n",
    "        plt.scatter(xg[0,0], xg[0,1], 80, 'r', 'x', label=\"$x_f$\")\n",
    "    \n",
    "    plt.margins(0.1)\n",
    "    plt.title(f\"Final Cost: {J:.3g}\")\n",
    "    plt.draw()"
   ]
  },
  {
   "cell_type": "markdown",
   "id": "b4e6bfed-7dbc-489d-ac20-66c1e4a1a25a",
   "metadata": {
    "tags": []
   },
   "source": [
    "## single-agent problem"
   ]
  },
  {
   "cell_type": "code",
   "execution_count": 20,
   "id": "6dff7c45-1399-4160-9c68-14ec819a9dc8",
   "metadata": {},
   "outputs": [
    {
     "name": "stdout",
     "output_type": "stream",
     "text": [
      "0/50\tJ: 210000\n",
      "1/50\tJ: 106521\tμ: 0.5\tΔ: 0.5\n",
      "2/50\tJ: 7777.6\tμ: 0.125\tΔ: 0.25\n",
      "3/50\tJ: 4623.43\tμ: 0.015625\tΔ: 0.125\n",
      "4/50\tJ: 3518.18\tμ: 0.000976562\tΔ: 0.0625\n",
      "5/50\tJ: 3249.36\tμ: 3.05176e-05\tΔ: 0.03125\n",
      "6/50\tJ: 3187.49\tμ: 0\tΔ: 0.015625\n",
      "7/50\tJ: 3124.95\tμ: 0\tΔ: 0.0078125\n",
      "8/50\tJ: 3094.62\tμ: 0\tΔ: 0.00390625\n",
      "9/50\tJ: 3081.12\tμ: 0\tΔ: 0.00195312\n",
      "10/50\tJ: 3074.96\tμ: 0\tΔ: 0.000976562\n"
     ]
    }
   ],
   "source": [
    "dt = 0.1\n",
    "N = 50\n",
    "\n",
    "x = np.array([-10, 10, 0, 0], dtype=float)\n",
    "x_goal = np.zeros((4, 1), dtype=float).T\n",
    "\n",
    "dynamics = dec.UnicycleDynamics4D(dt)\n",
    "\n",
    "Q = np.diag([1., 1, 0, 0])\n",
    "Qf = 1000 * np.eye(Q.shape[0])\n",
    "R = np.eye(2)\n",
    "cost = dec.ReferenceCost(x_goal, Q, R, Qf)\n",
    "\n",
    "prob = dec.ilqrProblem(dynamics, cost)\n",
    "ilqr = dec.ilqrSolver(prob, N)\n",
    "X, U, J = ilqr.solve(x)\n",
    "\n",
    "plt.clf()\n",
    "plot_solve(X, J, x_goal)"
   ]
  },
  {
   "cell_type": "markdown",
   "id": "fa52b336-88bc-4de5-985c-3f8a885f5e00",
   "metadata": {
    "tags": []
   },
   "source": [
    "## multi-agent problem"
   ]
  },
  {
   "cell_type": "markdown",
   "id": "642a633c-4682-40c7-95c3-9825a74791a4",
   "metadata": {
    "tags": []
   },
   "source": [
    "### initializing the scene\n",
    "Here, we define some initial positions within some distance of each other, and then rotate them about the origin by some random angle to hopefully create some interesting scenarios."
   ]
  },
  {
   "cell_type": "code",
   "execution_count": 21,
   "id": "73c7053f-f679-4cb4-935c-751338b7ca08",
   "metadata": {},
   "outputs": [],
   "source": [
    "def paper_setup():\n",
    "    \"\"\"Hardcoded example with reasonable consistency eyeballed from \n",
    "       Potential-iLQR paper\n",
    "    \"\"\"\n",
    "    x0 = np.array([[0.5, 1.5, 0, 0.1,\n",
    "                    2.5, 1.5, 0, π,\n",
    "                    1.5, 1.3, 0, π/2]], \n",
    "                    dtype=float).T\n",
    "    x_goal = np.array([[2.5, 1.5, 0, 0, \n",
    "                        0.5, 1.5, 0, π, \n",
    "                        1.5, 2.2, 0, π/2]]).T\n",
    "    return x0, x_goal\n",
    "\n",
    "def car_setup():\n",
    "    \"\"\"Same as paper_setup but using car dynamics\"\"\"\n",
    "    x0, x_goal = paper_setup()\n",
    "    car_mask = [i % 4 < 3 for i in range(x0.shape[0])]\n",
    "    return x0[car_mask], x_goal[car_mask]\n",
    "\n",
    "def bike_setup():\n",
    "    \"\"\"Same as paper_setup but using bike dynamics\"\"\"\n",
    "    N_AGENTS = 3\n",
    "    N_STATES = 5\n",
    "    n_total_states = N_AGENTS * N_STATES\n",
    "    bike_mask = [i % 5 < 4 for i in range(n_total_states)]\n",
    "    \n",
    "    x0, x_goal = paper_setup()\n",
    "    x0_bike = np.zeros((n_total_states, 1))\n",
    "    x_goal_bike = np.zeros_like(x0_bike)\n",
    "    x0_bike[bike_mask] = x0\n",
    "    x_goal_bike[bike_mask] = x_goal\n",
    "    \n",
    "    return x0_bike, x_goal_bike\n",
    "\n",
    "def double_int_setup():\n",
    "    x0, x_goal = paper_setup()\n",
    "    theta_mask = [i % 4 == 2 for i in range(x0.shape[0])]\n",
    "    x0[theta_mask] = 0.0\n",
    "    x_goal[theta_mask] = 0.0\n",
    "\n",
    "    return x0, x_goal\n",
    "\n",
    "def dec_test_setup():\n",
    "    x0, x_goal = paper_setup()\n",
    "    x0_other = np.array([[5, 5, 0, 0,\n",
    "                          6, 6, 0, π/4]]).T\n",
    "    x_goal_other = np.array([[6, 4, 0, -π/2,\n",
    "                              4, 6, 0, π/4]]).T\n",
    "    \n",
    "    x0 = np.concatenate([x0, x0_other]) \n",
    "    x_goal = np.concatenate([x_goal, x_goal_other])    \n",
    "    \n",
    "    return x0, x_goal"
   ]
  },
  {
   "cell_type": "markdown",
   "id": "f1ef5759-be12-4088-a4e6-fdc845d0d7eb",
   "metadata": {},
   "source": [
    "To be consistent between simulations, we normalize for the scale of the setup by computing the *energy*, or the sum of distances from the origin of the points. This should be the same for all runs."
   ]
  },
  {
   "cell_type": "code",
   "execution_count": 22,
   "id": "b87271ac-82e9-42d7-9276-824d05a26f4b",
   "metadata": {},
   "outputs": [],
   "source": [
    "def compute_energy(x, x_dims):\n",
    "    \"\"\"Determine the sum of distances from the origin\"\"\"\n",
    "    return np.linalg.norm(x[pos_mask(x_dims)].reshape(-1,2), axis=1).sum()\n",
    "\n",
    "def normalize_energy(x, x_dims, energy=10.0):\n",
    "    \"\"\"Zero-center the coordinates and then ensure the sum of \n",
    "       squared distances == energy\n",
    "    \"\"\"\n",
    "    \n",
    "    # Don't mutate x's data for this function, keep it pure.\n",
    "    x = x.copy()\n",
    "    n_agents = len(x_dims)\n",
    "    center = x[pos_mask(x_dims)].reshape(-1, 2).mean(0)\n",
    "\n",
    "    x[pos_mask(x_dims)] -= np.tile(center, n_agents).reshape(-1,1)\n",
    "    x[pos_mask(x_dims)] *= energy / compute_energy(x, x_dims)\n",
    "    assert x.size == sum(x_dims)\n",
    "    \n",
    "    return x\n",
    "\n",
    "def perturb_state(x, x_dims, var=0.5):\n",
    "    \"\"\"Add a little noise to the start to knock off perfect symmetries\"\"\"\n",
    "    \n",
    "    x = x.copy()\n",
    "    x[pos_mask(x_dims)] += var*np.randn_like(x[pos_mask(x_dims)])\n",
    "    return x"
   ]
  },
  {
   "cell_type": "code",
   "execution_count": 23,
   "id": "1d5df34d-5e4d-454b-82d4-33ae3b77f726",
   "metadata": {},
   "outputs": [],
   "source": [
    "n_agents = 5\n",
    "n_states = 4\n",
    "n_controls = 2\n",
    "ENERGY = 10.0\n",
    "\n",
    "# x0, x_goal = paper_setup()\n",
    "# x0, x_goal = car_setup()\n",
    "# x0, x_goal = bike_setup()\n",
    "# x0, x_goal = double_int_setup()\n",
    "# x0, x_goal = dec_test_setup()\n",
    "x0, x_goal = dec.random_setup(n_agents, n_states, is_rotation=False, min_sep=1.0, var=1.0)\n",
    "\n",
    "x_dims = [n_states] * n_agents\n",
    "u_dims = [2] * n_agents\n",
    "\n",
    "x0 = normalize_energy(x0, x_dims, ENERGY)\n",
    "x_goal = normalize_energy(x_goal, x_dims, ENERGY)\n",
    "# x0 = perturb_state(x0, x_dims)\n",
    "\n",
    "plt.clf()\n",
    "plt.gca().set_aspect('equal')\n",
    "X = np.dstack([\n",
    "    x0.reshape(n_agents, n_states), \n",
    "    x_goal.reshape(n_agents, n_states)\n",
    "]).swapaxes(1,2)\n",
    "for i, Xi in enumerate(X):\n",
    "    plt.annotate('', Xi[1,:2], Xi[0,:2], \n",
    "                 arrowprops=dict(facecolor=plt.cm.tab20.colors[2*i]))\n",
    "pocketknives.set_bounds(X.reshape(-1, n_states), zoom=0.2)\n",
    "plt.draw()"
   ]
  },
  {
   "cell_type": "code",
   "execution_count": 25,
   "id": "1f606b8b-543c-442a-8e82-7d1118b629ee",
   "metadata": {},
   "outputs": [],
   "source": [
    "dt = 0.05\n",
    "N = 50\n",
    "tol = 1e-3\n",
    "ids = [100 + i for i in range(n_agents)]\n",
    "\n",
    "model = dec.UnicycleDynamics4D\n",
    "# model = dec.CarDynamics3D\n",
    "# model = dec.BikeDynamics5D\n",
    "# model = dec.DoubleIntDynamics4D\n",
    "dynamics = dec.MultiDynamicalModel([model(dt, id_) for id_ in ids])\n",
    "\n",
    "Q = 4 * np.diag(np.array([1., 1, 0, 0]))\n",
    "# Qf = 1000 * np.eye(Q.shape[0])\n",
    "Qf = 1000 * np.diag(np.array([1., 1, 1, 1]))\n",
    "R = np.eye(2)\n",
    "\n",
    "# radius = ENERGY / 20\n",
    "radius = 0.5\n",
    "\n",
    "goal_costs = [dec.ReferenceCost(x_goal_i, Q.copy(), R.copy(), Qf.copy(), id_) \n",
    "              for x_goal_i, id_ in zip(split_agents(x_goal.T, x_dims), ids)]\n",
    "prox_cost = dec.ProximityCost(x_dims, radius)\n",
    "game_cost = dec.GameCost(goal_costs, prox_cost)\n",
    "\n",
    "prob = dec.ilqrProblem(dynamics, game_cost)"
   ]
  },
  {
   "cell_type": "code",
   "execution_count": 26,
   "id": "563b0318-aef0-4483-afb9-9dae0352b3df",
   "metadata": {},
   "outputs": [
    {
     "name": "stdout",
     "output_type": "stream",
     "text": [
      "0/50\tJ: 40181.7\n",
      "1/50\tJ: 4160.47\tμ: 0.5\tΔ: 0.5\n",
      "2/50\tJ: 2886.32\tμ: 0.125\tΔ: 0.25\n",
      "3/50\tJ: 2857.15\tμ: 0.015625\tΔ: 0.125\n",
      "CPU times: user 3.25 s, sys: 1.53 s, total: 4.79 s\n",
      "Wall time: 1.23 s\n"
     ]
    }
   ],
   "source": [
    "%%time\n",
    "# %%prun\n",
    "ilqr = dec.ilqrSolver(prob, N)\n",
    "t0 = pc()\n",
    "X, U, J = ilqr.solve(x0, tol=tol)"
   ]
  },
  {
   "cell_type": "code",
   "execution_count": 27,
   "id": "f583a3f3-8ec4-482d-b904-c957475a345a",
   "metadata": {},
   "outputs": [],
   "source": [
    "plt.clf()\n",
    "plot_solve(X, J, x_goal, x_dims)"
   ]
  },
  {
   "cell_type": "code",
   "execution_count": 28,
   "id": "b87a4e75-51b8-4810-b699-4242d87f6435",
   "metadata": {},
   "outputs": [],
   "source": [
    "plt.clf()\n",
    "plt.plot(dec.compute_pairwise_distance(X, x_dims).T)\n",
    "plt.hlines(radius, *plt.xlim(), 'r', ls='--')\n",
    "plt.draw()"
   ]
  },
  {
   "cell_type": "code",
   "execution_count": 29,
   "id": "d9ae135c-adc9-40ee-87ad-a42fb0f1edfc",
   "metadata": {},
   "outputs": [],
   "source": [
    "costs = []\n",
    "for xi, ui in zip(X, U):\n",
    "    costs.append(game_cost(xi, ui).item())\n",
    "plt.clf()\n",
    "plt.plot(costs)\n",
    "plt.draw()"
   ]
  },
  {
   "cell_type": "markdown",
   "id": "f66d3a80-59f3-4690-8b97-8f5d874a14a8",
   "metadata": {},
   "source": [
    "## multi-agent receding horizon"
   ]
  },
  {
   "cell_type": "code",
   "execution_count": 31,
   "id": "671563fd-1e6e-46ac-bdf7-87e46a1a099a",
   "metadata": {},
   "outputs": [
    {
     "name": "stdout",
     "output_type": "stream",
     "text": [
      "--------------------------------------------------\n",
      "Horizon 0\n",
      "0/50\tJ: 40181.7\n",
      "1/50\tJ: 4160.47\tμ: 0.5\tΔ: 0.5\n",
      "2/50\tJ: 2886.32\tμ: 0.125\tΔ: 0.25\n",
      "3/50\tJ: 2857.15\tμ: 0.015625\tΔ: 0.125\n",
      "--------------------------------------------------\n",
      "Horizon 1\n",
      "0/50\tJ: 1094.06\n",
      "1/50\tJ: 1074.86\tμ: 0.5\tΔ: 0.5\n",
      "--------------------------------------------------\n",
      "Horizon 2\n",
      "0/50\tJ: 404.672\n",
      "1/50\tJ: 402.677\tμ: 0.5\tΔ: 0.5\n",
      "--------------------------------------------------\n",
      "Horizon 3\n",
      "0/50\tJ: 143.668\n",
      "1/50\tJ: 140.407\tμ: 0.5\tΔ: 0.5\n",
      "--------------------------------------------------\n",
      "Horizon 4\n",
      "0/50\tJ: 47.9761\n",
      "1/50\tJ: 45.2845\tμ: 0.5\tΔ: 0.5\n",
      "Converged!\n"
     ]
    }
   ],
   "source": [
    "rhc = dec.RecedingHorizonController(x0, ilqr, step_size=10)\n",
    "U0 = np.zeros((ilqr.N, ilqr.n_u))\n",
    "for Xi, Ui, Ji in rhc.solve(U0, J_converge=101.0, tol=tol):\n",
    "    plt.cla()\n",
    "    plot_solve(Xi, Ji, x_goal, x_dims)\n",
    "    fig.canvas.draw()"
   ]
  },
  {
   "cell_type": "markdown",
   "id": "68c1de09-898c-411a-896b-c4000ec679cf",
   "metadata": {},
   "source": [
    "## decentralized multi-agent"
   ]
  },
  {
   "cell_type": "code",
   "execution_count": 32,
   "id": "2d74de30-c356-4ee1-8c90-2abacc98d974",
   "metadata": {},
   "outputs": [
    {
     "data": {
      "text/plain": [
       "{100: [100],\n",
       " 101: [101, 102],\n",
       " 102: [101, 102, 103],\n",
       " 103: [102, 103],\n",
       " 104: [104]}"
      ]
     },
     "execution_count": 32,
     "metadata": {},
     "output_type": "execute_result"
    }
   ],
   "source": [
    "graph = dec.define_inter_graph_threshold(X, radius/2, x_dims, ids)\n",
    "graph"
   ]
  },
  {
   "cell_type": "code",
   "execution_count": 33,
   "id": "572bedc9-a7aa-4aaf-8057-1bb4cda239c6",
   "metadata": {},
   "outputs": [
    {
     "data": {
      "application/vnd.jupyter.widget-view+json": {
       "model_id": "d89e18352efb4bbb92f1dd9a45330635",
       "version_major": 2,
       "version_minor": 0
      },
      "image/png": "[encoded data removed]",
      "text/html": [
       "\n",
       "            <div style=\"display: inline-block;\">\n",
       "                <div class=\"jupyter-widgets widget-label\" style=\"text-align: center;\">\n",
       "                    Figure 2\n",
       "                </div>\n",
       "                <img src='data:image/png;base64,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' width=370.0/>\n",
       "            </div>\n",
       "        "
      ],
      "text/plain": [
       "Canvas(toolbar=Toolbar(toolitems=[('Home', 'Reset original view', 'home', 'home'), ('Back', 'Back to previous …"
      ]
     },
     "metadata": {},
     "output_type": "display_data"
    }
   ],
   "source": [
    "plt.clf()\n",
    "dec.plot_interaction_graph(graph)\n",
    "plt.draw()"
   ]
  },
  {
   "cell_type": "code",
   "execution_count": 34,
   "id": "deaa67a1-6c2f-4305-9332-bf71a16c7d69",
   "metadata": {},
   "outputs": [],
   "source": [
    "X0 = np.tile(x0.T, (N,1))\n",
    "U0 = np.zeros((N, n_controls*n_agents))"
   ]
  },
  {
   "cell_type": "code",
   "execution_count": 35,
   "id": "3a50e984-954e-40c4-bff3-6371d6a153a3",
   "metadata": {},
   "outputs": [
    {
     "ename": "TypeError",
     "evalue": "concatenate() got an unexpected keyword argument 'dim'",
     "output_type": "error",
     "traceback": [
      "\u001b[0;31m---------------------------------------------------------------------------\u001b[0m",
      "\u001b[0;31mTypeError\u001b[0m                                 Traceback (most recent call last)",
      "File \u001b[0;32m<timed exec>:1\u001b[0m, in \u001b[0;36m<module>\u001b[0;34m\u001b[0m\n",
      "File \u001b[0;32m~/grad/Research/decentralized/decentralized/problem.py:33\u001b[0m, in \u001b[0;36msolve_decentralized\u001b[0;34m(problem, X, U, radius, is_mp)\u001b[0m\n\u001b[1;32m     30\u001b[0m graph \u001b[38;5;241m=\u001b[39m define_inter_graph_threshold(X, radius, x_dims, ids)\n\u001b[1;32m     32\u001b[0m \u001b[38;5;66;03m# Split up the initial state and control for each subproblem.\u001b[39;00m\n\u001b[0;32m---> 33\u001b[0m x0_split \u001b[38;5;241m=\u001b[39m \u001b[43msplit_graph\u001b[49m\u001b[43m(\u001b[49m\u001b[43mX\u001b[49m\u001b[43m[\u001b[49m\u001b[43mnp\u001b[49m\u001b[38;5;241;43m.\u001b[39;49m\u001b[43mnewaxis\u001b[49m\u001b[43m,\u001b[49m\u001b[43m \u001b[49m\u001b[38;5;241;43m0\u001b[39;49m\u001b[43m]\u001b[49m\u001b[43m,\u001b[49m\u001b[43m \u001b[49m\u001b[43mx_dims\u001b[49m\u001b[43m,\u001b[49m\u001b[43m \u001b[49m\u001b[43mgraph\u001b[49m\u001b[43m)\u001b[49m\n\u001b[1;32m     34\u001b[0m U_split \u001b[38;5;241m=\u001b[39m split_graph(U, u_dims, graph)\n\u001b[1;32m     36\u001b[0m X_dec \u001b[38;5;241m=\u001b[39m np\u001b[38;5;241m.\u001b[39mzeros((N \u001b[38;5;241m+\u001b[39m \u001b[38;5;241m1\u001b[39m, n_agents \u001b[38;5;241m*\u001b[39m n_states))\n",
      "File \u001b[0;32m~/grad/Research/decentralized/decentralized/util.py:77\u001b[0m, in \u001b[0;36msplit_graph\u001b[0;34m(Z, z_dims, graph)\u001b[0m\n\u001b[1;32m     74\u001b[0m \u001b[38;5;28;01mfor\u001b[39;00m n, ids \u001b[38;5;129;01min\u001b[39;00m graph\u001b[38;5;241m.\u001b[39mitems():\n\u001b[1;32m     75\u001b[0m     inds \u001b[38;5;241m=\u001b[39m [mapping[id_] \u001b[38;5;28;01mfor\u001b[39;00m id_ \u001b[38;5;129;01min\u001b[39;00m ids]\n\u001b[1;32m     76\u001b[0m     z_split\u001b[38;5;241m.\u001b[39mappend(\n\u001b[0;32m---> 77\u001b[0m         \u001b[43mnp\u001b[49m\u001b[38;5;241;43m.\u001b[39;49m\u001b[43mconcatenate\u001b[49m\u001b[43m(\u001b[49m\u001b[43m[\u001b[49m\u001b[43mZ\u001b[49m\u001b[43m[\u001b[49m\u001b[43m:\u001b[49m\u001b[43m,\u001b[49m\u001b[43m \u001b[49m\u001b[43mi\u001b[49m\u001b[43m \u001b[49m\u001b[38;5;241;43m*\u001b[39;49m\u001b[43m \u001b[49m\u001b[43mn_z\u001b[49m\u001b[43m \u001b[49m\u001b[43m:\u001b[49m\u001b[43m \u001b[49m\u001b[43m(\u001b[49m\u001b[43mi\u001b[49m\u001b[43m \u001b[49m\u001b[38;5;241;43m+\u001b[39;49m\u001b[43m \u001b[49m\u001b[38;5;241;43m1\u001b[39;49m\u001b[43m)\u001b[49m\u001b[43m \u001b[49m\u001b[38;5;241;43m*\u001b[39;49m\u001b[43m \u001b[49m\u001b[43mn_z\u001b[49m\u001b[43m]\u001b[49m\u001b[43m \u001b[49m\u001b[38;5;28;43;01mfor\u001b[39;49;00m\u001b[43m \u001b[49m\u001b[43mi\u001b[49m\u001b[43m \u001b[49m\u001b[38;5;129;43;01min\u001b[39;49;00m\u001b[43m \u001b[49m\u001b[43minds\u001b[49m\u001b[43m]\u001b[49m\u001b[43m,\u001b[49m\u001b[43m \u001b[49m\u001b[43mdim\u001b[49m\u001b[38;5;241;43m=\u001b[39;49m\u001b[38;5;241;43m1\u001b[39;49m\u001b[43m)\u001b[49m\n\u001b[1;32m     78\u001b[0m     )\n\u001b[1;32m     80\u001b[0m \u001b[38;5;28;01mreturn\u001b[39;00m z_split\n",
      "File \u001b[0;32m<__array_function__ internals>:179\u001b[0m, in \u001b[0;36mconcatenate\u001b[0;34m(*args, **kwargs)\u001b[0m\n",
      "\u001b[0;31mTypeError\u001b[0m: concatenate() got an unexpected keyword argument 'dim'"
     ]
    }
   ],
   "source": [
    "%%time\n",
    "X_dec, U_dec, J_dec = dec.solve_decentralized(prob, X0, U0, radius, is_mp=False)"
   ]
  },
  {
   "cell_type": "code",
   "execution_count": 78,
   "id": "f86c1bc4-080d-4fb2-b316-4da8f917b3a1",
   "metadata": {},
   "outputs": [],
   "source": [
    "plt.clf()\n",
    "plot_solve(X_dec, J_dec, x_goal.numpy(), x_dims)"
   ]
  },
  {
   "cell_type": "code",
   "execution_count": 29,
   "id": "4856bf08-5d40-4102-8806-c1ac8fce260b",
   "metadata": {},
   "outputs": [],
   "source": [
    "X = X_dec.clone()"
   ]
  },
  {
   "cell_type": "markdown",
   "id": "27478146-3f83-4e15-8202-833edd93f879",
   "metadata": {
    "tags": []
   },
   "source": [
    "## decentralized multi-agent receding horizon\n",
    "Adding RHC to the decentralized implementation would just be a matter of indexing a subset of the generated states in the combined decentralized solutions."
   ]
  },
  {
   "cell_type": "markdown",
   "id": "ce44002f-d19a-4f80-9e38-9a9bf4f3a2d0",
   "metadata": {},
   "source": [
    "## animation"
   ]
  },
  {
   "cell_type": "code",
   "execution_count": 52,
   "id": "fd5d8eee-d9af-4c29-9b1e-abe38ddccc90",
   "metadata": {},
   "outputs": [
    {
     "data": {
      "application/vnd.jupyter.widget-view+json": {
       "model_id": "4de6ccdb7ec1493d82f25c9e2c59ab17",
       "version_major": 2,
       "version_minor": 0
      },
      "image/png": "[encoded data removed]",
      "text/html": [
       "\n",
       "            <div style=\"display: inline-block;\">\n",
       "                <div class=\"jupyter-widgets widget-label\" style=\"text-align: center;\">\n",
       "                    Figure\n",
       "                </div>\n",
       "                <img src='data:image/png;base64,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' width=500.0/>\n",
       "            </div>\n",
       "        "
      ],
      "text/plain": [
       "Canvas(toolbar=Toolbar(toolitems=[('Home', 'Reset original view', 'home', 'home'), ('Back', 'Back to previous …"
      ]
     },
     "metadata": {},
     "output_type": "display_data"
    }
   ],
   "source": [
    "_, axes = plt.subplots(1, 2, figsize=(5.0, 3.7))"
   ]
  },
  {
   "cell_type": "code",
   "execution_count": 50,
   "id": "86412aa3-9981-4600-a2a2-2211da3ec579",
   "metadata": {},
   "outputs": [],
   "source": [
    "def setup(axes, X, x_goal, x_dims, radius):\n",
    "    \n",
    "    ax1, ax2 = axes\n",
    "    n_agents = len(x_dims)\n",
    "    handles1 = []\n",
    "    for i in range(n_agents):\n",
    "        handles1.append((\n",
    "            ax1.plot(0, c=plt.cm.tab20.colors[2*i], marker='o', markersize=4)[0],\n",
    "            ax1.add_artist(plt.Circle(np.nan, radius, color='k', fill=True, alpha=0.3, lw=2)),\n",
    "        ))\n",
    "        \n",
    "    for xg in split_agents(x_goal, x_dims):\n",
    "        ax1.scatter(xg[0,0], xg[0,1], c='r', marker='x', zorder=10)\n",
    "\n",
    "    X_cat = np.vstack(split_agents(X, x_dims))\n",
    "    pocketknives.set_bounds(X_cat, axes[0], zoom=0.15)\n",
    "    plt.draw()\n",
    "    \n",
    "    handles2 = []\n",
    "    n_pairs = pocketknives.nchoosek(n_agents, 2)\n",
    "    for i in range(n_pairs):\n",
    "        handles2.append(ax2.plot(0, c=plt.cm.tab20.colors[2*i])[0])\n",
    "    ax2.hlines(radius, 0, X.shape[0], 'r', ls='--')\n",
    "    ax2.set_ylim(0.0, distances.max())\n",
    "        \n",
    "    return handles1, handles2\n",
    "    \n",
    "def animate(t, handles1, handles2, X, x_dims, x_goal, distances):\n",
    "    \"\"\"Animate the solution into a gif\"\"\"\n",
    "    \n",
    "    for (i, xi), hi in zip(enumerate(split_agents(X, x_dims)), handles1):\n",
    "        hi[0].set_xdata(xi[:t,0])\n",
    "        hi[0].set_ydata(xi[:t,1])\n",
    "        hi[1].set_center(xi[t-1,:2])\n",
    "        \n",
    "    for i, hi in enumerate(handles2):\n",
    "        hi.set_xdata(range(t))\n",
    "        hi.set_ydata(distances[:t, i])\n",
    "    \n",
    "    plt.draw()\n",
    "    "
   ]
  },
  {
   "cell_type": "code",
   "execution_count": 51,
   "id": "d23639a7-3ef6-438f-a215-12798324ac8d",
   "metadata": {},
   "outputs": [],
   "source": [
    "distances = dec.compute_pairwise_distance(X, x_dims).T\n",
    "handles1, handles2 = setup(axes, X, x_goal.flatten(), x_dims, radius)\n",
    "animate(10, handles1, handles2, X, x_dims, x_goal, distances)\n",
    "plt.draw()"
   ]
  },
  {
   "cell_type": "code",
   "execution_count": 53,
   "id": "cb12a6da-32df-47e7-bb14-d0f52afdcd71",
   "metadata": {},
   "outputs": [
    {
     "name": "stderr",
     "output_type": "stream",
     "text": [
      "MovieWriter ffmpeg unavailable; using Pillow instead.\n"
     ]
    }
   ],
   "source": [
    "handles = setup(axes, X, x_goal.flatten(), x_dims, radius)\n",
    "anim = FuncAnimation(\n",
    "    plt.gcf(), \n",
    "    animate, \n",
    "    frames=N+1, \n",
    "    fargs=(*handles, X, x_dims, x_goal, distances))\n",
    "anim.save('traj.gif', fps=5)"
   ]
  },
  {
   "cell_type": "code",
   "execution_count": null,
   "id": "b07afc16-1532-42b3-8c41-479132ac9bc0",
   "metadata": {},
   "outputs": [],
   "source": []
  },
  {
   "cell_type": "code",
   "execution_count": null,
   "id": "18e04e80-d538-48a0-8e59-d9377ec87bc6",
   "metadata": {},
   "outputs": [],
   "source": []
  },
  {
   "cell_type": "code",
   "execution_count": null,
   "id": "22f08729-6a64-4ede-9624-b5b4fd25a825",
   "metadata": {},
   "outputs": [],
   "source": []
  }
 ],
 "metadata": {
  "interpreter": {
   "hash": "a7155dc2877aad5861451e8991f2ffb7161aaf8d218c61a24e89522653b6db1c"
  },
  "kernelspec": {
   "display_name": "Python 3 (ipykernel)",
   "language": "python",
   "name": "python3"
  },
  "language_info": {
   "codemirror_mode": {
    "name": "ipython",
    "version": 3
   },
   "file_extension": ".py",
   "mimetype": "text/x-python",
   "name": "python",
   "nbconvert_exporter": "python",
   "pygments_lexer": "ipython3",
   "version": "3.10.4"
  },
  "vscode": {
   "interpreter": {
    "hash": "058f31b78fbf7244eb8facf557271df584eab59ce6d5780d24511a849a97c170"
   }
  }
 },
 "nbformat": 4,
 "nbformat_minor": 5
}
