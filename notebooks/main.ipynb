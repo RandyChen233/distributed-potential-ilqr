{
 "cells": [
  {
   "cell_type": "markdown",
   "id": "dc93dafc-34e9-4a69-a56f-29c3bb713e71",
   "metadata": {
    "tags": []
   },
   "source": [
    "# take2\n",
    "\n",
    "**GOAL**: Keep It Stupid Simple = KISS.\n",
    "\n",
    "**Dependencies:**\n",
    " - [pocketknives](https://github.com/zjwilliams20/pocketknives)\n",
    "\n",
    "**References:**\n",
    " 1. [ilqgames/python](https://github.com/HJReachability/ilqgames/blob/master/python)"
   ]
  },
  {
   "cell_type": "code",
   "execution_count": 1,
   "id": "5af0f28d-2b3f-4be6-93b8-8952dfe73058",
   "metadata": {},
   "outputs": [],
   "source": [
    "from time import perf_counter as pc\n",
    "\n",
    "import numpy as np\n",
    "import matplotlib.pyplot as plt\n",
    "from matplotlib.animation import FuncAnimation\n",
    "import torch\n",
    "\n",
    "from decentralized import split_agents\n",
    "import decentralized as dec\n",
    "import pocketknives\n",
    "\n",
    "π = np.pi"
   ]
  },
  {
   "cell_type": "code",
   "execution_count": 2,
   "id": "14b8776e-8546-446f-8bc3-ee319d701b2b",
   "metadata": {},
   "outputs": [],
   "source": [
    "%load_ext autoreload\n",
    "%autoreload 1\n",
    "%aimport decentralized.control, decentralized.dynamics, decentralized.cost, decentralized.problem, decentralized.util"
   ]
  },
  {
   "cell_type": "code",
   "execution_count": 3,
   "id": "91cd6f19-d6ad-4d1b-b72f-829d26663d52",
   "metadata": {},
   "outputs": [],
   "source": [
    "%matplotlib widget\n",
    "plt.rcParams['axes.grid'] = True"
   ]
  },
  {
   "cell_type": "code",
   "execution_count": 4,
   "id": "5caba289-740d-46cf-aba0-faa5b1a915cd",
   "metadata": {},
   "outputs": [
    {
     "data": {
      "application/vnd.jupyter.widget-view+json": {
       "model_id": "4fac9a7c0f9249308a4a07567c220823",
       "version_major": 2,
       "version_minor": 0
      },
      "image/png": "[encoded data removed]",
      "text/html": [
       "\n",
       "            <div style=\"display: inline-block;\">\n",
       "                <div class=\"jupyter-widgets widget-label\" style=\"text-align: center;\">\n",
       "                    Figure\n",
       "                </div>\n",
       "                <img src='data:image/png;base64,iVBORw0KGgoAAAANSUhEUgAAAXIAAAFyCAYAAADoJFEJAAAAOXRFWHRTb2Z0d2FyZQBNYXRwbG90bGliIHZlcnNpb24zLjUuMiwgaHR0cHM6Ly9tYXRwbG90bGliLm9yZy8qNh9FAAAACXBIWXMAAA9hAAAPYQGoP6dpAAAFLklEQVR4nO3UQQ0AIBDAMMC/50MED7KkVbDX9szMAiDr/A4A4I2RA8QZOUCckQPEGTlAnJEDxBk5QJyRA8QZOUCckQPEGTlAnJEDxBk5QJyRA8QZOUCckQPEGTlAnJEDxBk5QJyRA8QZOUCckQPEGTlAnJEDxBk5QJyRA8QZOUCckQPEGTlAnJEDxBk5QJyRA8QZOUCckQPEGTlAnJEDxBk5QJyRA8QZOUCckQPEGTlAnJEDxBk5QJyRA8QZOUCckQPEGTlAnJEDxBk5QJyRA8QZOUCckQPEGTlAnJEDxBk5QJyRA8QZOUCckQPEGTlAnJEDxBk5QJyRA8QZOUCckQPEGTlAnJEDxBk5QJyRA8QZOUCckQPEGTlAnJEDxBk5QJyRA8QZOUCckQPEGTlAnJEDxBk5QJyRA8QZOUCckQPEGTlAnJEDxBk5QJyRA8QZOUCckQPEGTlAnJEDxBk5QJyRA8QZOUCckQPEGTlAnJEDxBk5QJyRA8QZOUCckQPEGTlAnJEDxBk5QJyRA8QZOUCckQPEGTlAnJEDxBk5QJyRA8QZOUCckQPEGTlAnJEDxBk5QJyRA8QZOUCckQPEGTlAnJEDxBk5QJyRA8QZOUCckQPEGTlAnJEDxBk5QJyRA8QZOUCckQPEGTlAnJEDxBk5QJyRA8QZOUCckQPEGTlAnJEDxBk5QJyRA8QZOUCckQPEGTlAnJEDxBk5QJyRA8QZOUCckQPEGTlAnJEDxBk5QJyRA8QZOUCckQPEGTlAnJEDxBk5QJyRA8QZOUCckQPEGTlAnJEDxBk5QJyRA8QZOUCckQPEGTlAnJEDxBk5QJyRA8QZOUCckQPEGTlAnJEDxBk5QJyRA8QZOUCckQPEGTlAnJEDxBk5QJyRA8QZOUCckQPEGTlAnJEDxBk5QJyRA8QZOUCckQPEGTlAnJEDxBk5QJyRA8QZOUCckQPEGTlAnJEDxBk5QJyRA8QZOUCckQPEGTlAnJEDxBk5QJyRA8QZOUCckQPEGTlAnJEDxBk5QJyRA8QZOUCckQPEGTlAnJEDxBk5QJyRA8QZOUCckQPEGTlAnJEDxBk5QJyRA8QZOUCckQPEGTlAnJEDxBk5QJyRA8QZOUCckQPEGTlAnJEDxBk5QJyRA8QZOUCckQPEGTlAnJEDxBk5QJyRA8QZOUCckQPEGTlAnJEDxBk5QJyRA8QZOUCckQPEGTlAnJEDxBk5QJyRA8QZOUCckQPEGTlAnJEDxBk5QJyRA8QZOUCckQPEGTlAnJEDxBk5QJyRA8QZOUCckQPEGTlAnJEDxBk5QJyRA8QZOUCckQPEGTlAnJEDxBk5QJyRA8QZOUCckQPEGTlAnJEDxBk5QJyRA8QZOUCckQPEGTlAnJEDxBk5QJyRA8QZOUCckQPEGTlAnJEDxBk5QJyRA8QZOUCckQPEGTlAnJEDxBk5QJyRA8QZOUCckQPEGTlAnJEDxBk5QJyRA8QZOUCckQPEGTlAnJEDxBk5QJyRA8QZOUCckQPEGTlAnJEDxBk5QJyRA8QZOUCckQPEGTlAnJEDxBk5QJyRA8QZOUCckQPEGTlAnJEDxBk5QJyRA8QZOUCckQPEGTlAnJEDxBk5QJyRA8QZOUCckQPEGTlAnJEDxBk5QJyRA8QZOUCckQPEGTlAnJEDxBk5QJyRA8QZOUCckQPEGTlAnJEDxBk5QJyRA8QZOUCckQPEGTlAnJEDxBk5QJyRA8QZOUCckQPEGTlAnJEDxBk5QJyRA8QZOUDcBUYHBuDijI5tAAAAAElFTkSuQmCC' width=370.0/>\n",
       "            </div>\n",
       "        "
      ],
      "text/plain": [
       "Canvas(toolbar=Toolbar(toolitems=[('Home', 'Reset original view', 'home', 'home'), ('Back', 'Back to previous …"
      ]
     },
     "metadata": {},
     "output_type": "display_data"
    }
   ],
   "source": [
    "fig = plt.figure(figsize=(3.7, 3.7))\n",
    "# fig = plt.figure()"
   ]
  },
  {
   "cell_type": "code",
   "execution_count": 5,
   "id": "94329606-5110-4dd0-bcb4-8cbeeeaf6fe1",
   "metadata": {},
   "outputs": [],
   "source": [
    "def pos_mask(x_dims):\n",
    "    \"\"\"Return a mask that's true wherever there's an x or y position\"\"\" \n",
    "    return np.array([i % x_dims[0] < 2 for i in range(sum(x_dims))])"
   ]
  },
  {
   "cell_type": "code",
   "execution_count": 6,
   "id": "2552858f-2662-40ce-90a2-25b30315b7fe",
   "metadata": {},
   "outputs": [],
   "source": [
    "def plot_solve(X, J, x_goal, x_dims=None):\n",
    "    \"\"\"Plot the resultant trajectory on plt.gcf()\"\"\"\n",
    "\n",
    "    if not x_dims:\n",
    "        x_dims = [X.shape[1]]\n",
    "        \n",
    "    N = X.shape[0]\n",
    "    t = np.arange(N) * dt\n",
    "    \n",
    "    X_split = split_agents(X, x_dims)\n",
    "    x_goal_split = split_agents(x_goal.reshape(1,-1), x_dims)\n",
    "    \n",
    "    for Xi, xg in zip(X_split, x_goal_split):\n",
    "        plt.scatter(Xi[:,0], Xi[:,1], c=t)\n",
    "        plt.scatter(Xi[0,0], Xi[0,1], 80, 'g', 'x', label=\"$x_0$\")\n",
    "        plt.scatter(xg[0,0], xg[0,1], 80, 'r', 'x', label=\"$x_f$\")\n",
    "    \n",
    "    plt.margins(0.1)\n",
    "    plt.title(f\"Final Cost: {J:.3g}\")\n",
    "    plt.draw()"
   ]
  },
  {
   "cell_type": "markdown",
   "id": "b4e6bfed-7dbc-489d-ac20-66c1e4a1a25a",
   "metadata": {
    "tags": []
   },
   "source": [
    "## single-agent problem"
   ]
  },
  {
   "cell_type": "code",
   "execution_count": 7,
   "id": "31bdf618-4e0b-42e4-b9af-2f0b8cdab4f7",
   "metadata": {},
   "outputs": [
    {
     "name": "stdout",
     "output_type": "stream",
     "text": [
      "0/50\tJ: 210000\n",
      "1/50\tJ: 106051\tμ: 0.5\tΔ: 0.5\n",
      "2/50\tJ: 4572.96\tμ: 0.125\tΔ: 0.25\n",
      "3/50\tJ: 2783.66\tμ: 0.015625\tΔ: 0.125\n",
      "4/50\tJ: 2511.76\tμ: 0.000976562\tΔ: 0.0625\n",
      "5/50\tJ: 2329.04\tμ: 3.05176e-05\tΔ: 0.03125\n",
      "6/50\tJ: 2322.72\tμ: 0\tΔ: 0.015625\n",
      "7/50\tJ: 2271.32\tμ: 0\tΔ: 0.0078125\n",
      "8/50\tJ: 2261.2\tμ: 0\tΔ: 0.00390625\n",
      "9/50\tJ: 2258.84\tμ: 0\tΔ: 0.00195312\n"
     ]
    }
   ],
   "source": [
    "dt = 0.1\n",
    "N = 50\n",
    "\n",
    "x = torch.tensor([-10, 10, 0], dtype=torch.float)\n",
    "x_goal = torch.zeros((3, 1), dtype=torch.float).T\n",
    "\n",
    "dynamics = dec.CarDynamics3D(dt)\n",
    "\n",
    "Q = torch.diag(torch.tensor([1., 1, 0]))\n",
    "Qf = 1000 * torch.eye(Q.shape[0])\n",
    "R = torch.eye(2)\n",
    "cost = dec.ReferenceCost(x_goal, Q, R, Qf)\n",
    "\n",
    "prob = dec.ilqrProblem(dynamics, cost)\n",
    "ilqr = dec.ilqrSolver(prob, N)\n",
    "X, U, J = ilqr.solve(x)\n",
    "plot_solve(X, J, x_goal.numpy())"
   ]
  },
  {
   "cell_type": "markdown",
   "id": "fa52b336-88bc-4de5-985c-3f8a885f5e00",
   "metadata": {
    "tags": []
   },
   "source": [
    "## multi-agent problem"
   ]
  },
  {
   "cell_type": "markdown",
   "id": "642a633c-4682-40c7-95c3-9825a74791a4",
   "metadata": {
    "tags": []
   },
   "source": [
    "### initializing the scene\n",
    "Here, we define some initial positions within some distance of each other, and then rotate them about the origin by some random angle to hopefully create some interesting scenarios."
   ]
  },
  {
   "cell_type": "code",
   "execution_count": 7,
   "id": "73c7053f-f679-4cb4-935c-751338b7ca08",
   "metadata": {},
   "outputs": [],
   "source": [
    "def paper_setup():\n",
    "    \"\"\"Hardcoded example with reasonable consistency eyeballed from \n",
    "       Potential-iLQR paper\n",
    "    \"\"\"\n",
    "    x0 = torch.tensor([[0.5, 1.5, 0.1, 0,\n",
    "                        2.5, 1.5, π, 0,\n",
    "                        1.5, 1.3, π/2, 0]], \n",
    "                     dtype=torch.float).T\n",
    "    x_goal = torch.tensor([[2.5, 1.5, 0, 0, \n",
    "                            0.5, 1.5, π, 0, \n",
    "                            1.5, 2.2, π/2, 0]]).T\n",
    "    return x0, x_goal\n",
    "\n",
    "def car_setup():\n",
    "    \"\"\"Same as paper_setup but using car dynamics\"\"\"\n",
    "    x0, x_goal = paper_setup()\n",
    "    car_mask = [i % 4 < 3 for i in range(x0.shape[0])]\n",
    "    return x0[car_mask], x_goal[car_mask]\n",
    "\n",
    "def bike_setup():\n",
    "    \"\"\"Same as paper_setup but using bike dynamics\"\"\"\n",
    "    N_AGENTS = 3\n",
    "    N_STATES = 5\n",
    "    n_total_states = N_AGENTS * N_STATES\n",
    "    bike_mask = [i % 5 < 4 for i in range(n_total_states)]\n",
    "    \n",
    "    x0, x_goal = paper_setup()\n",
    "    x0_bike = torch.zeros(n_total_states, 1)\n",
    "    x_goal_bike = torch.zeros_like(x0_bike)\n",
    "    x0_bike[bike_mask] = x0\n",
    "    x_goal_bike[bike_mask] = x_goal\n",
    "    \n",
    "    return x0_bike, x_goal_bike\n",
    "\n",
    "def double_int_setup():\n",
    "    x0, x_goal = paper_setup()\n",
    "    theta_mask = [i % 4 == 2 for i in range(x0.shape[0])]\n",
    "    with torch.no_grad():\n",
    "        x0[theta_mask] = 0.0\n",
    "        x_goal[theta_mask] = 0.0\n",
    "\n",
    "    return x0, x_goal\n",
    "\n",
    "def dec_test_setup():\n",
    "    x0, x_goal = paper_setup()\n",
    "    x0_other = torch.tensor([[5, 5, 0, 0,\n",
    "                              6, 6, π/4, 0]]).T\n",
    "    x_goal_other = torch.tensor([[6, 4, -π/2, 0,\n",
    "                                  4, 6, π/4, 0]]).T\n",
    "    \n",
    "    x0 = torch.cat([x0, x0_other]) \n",
    "    x_goal = torch.cat([x_goal, x_goal_other])    \n",
    "    \n",
    "    return x0, x_goal"
   ]
  },
  {
   "cell_type": "markdown",
   "id": "f1ef5759-be12-4088-a4e6-fdc845d0d7eb",
   "metadata": {},
   "source": [
    "To be consistent between simulations, we normalize for the scale of the setup by computing the *energy*, or the sum of distances from the origin of the points. This should be the same for all runs."
   ]
  },
  {
   "cell_type": "code",
   "execution_count": 8,
   "id": "b87271ac-82e9-42d7-9276-824d05a26f4b",
   "metadata": {},
   "outputs": [],
   "source": [
    "def compute_energy(x, x_dims):\n",
    "    \"\"\"Determine the sum of distances from the origin\"\"\"\n",
    "    return torch.sum(x[pos_mask(x_dims)].reshape(-1,2).norm(dim=1)).item()\n",
    "\n",
    "def normalize_energy(x, x_dims, energy=10.0):\n",
    "    \"\"\"Zero-center the coordinates and then ensure the sum of \n",
    "       squared distances == energy\n",
    "    \"\"\"\n",
    "    \n",
    "    # Don't mutate x's data for this function, keep it pure.\n",
    "    x = x.clone()\n",
    "    n_agents = len(x_dims)\n",
    "    center = x[pos_mask(x_dims)].reshape(-1, 2).mean(0)\n",
    "\n",
    "    with torch.no_grad():\n",
    "        x[pos_mask(x_dims)] -= center.tile(n_agents).reshape(-1,1)\n",
    "        x[pos_mask(x_dims)] *= energy / compute_energy(x, x_dims)\n",
    "    assert x.numel() == sum(x_dims)\n",
    "    \n",
    "    return x\n",
    "\n",
    "def perturb_state(x, x_dims, var=0.5):\n",
    "    \"\"\"Add a little noise to the start to knock off perfect symmetries\"\"\"\n",
    "    \n",
    "    x = x.clone()\n",
    "    with torch.no_grad():\n",
    "        x[pos_mask(x_dims)] += var*torch.randn_like(x[pos_mask(x_dims)])\n",
    "    \n",
    "    return x"
   ]
  },
  {
   "cell_type": "code",
   "execution_count": 19,
   "id": "1d5df34d-5e4d-454b-82d4-33ae3b77f726",
   "metadata": {},
   "outputs": [],
   "source": [
    "n_agents = 5\n",
    "n_states = 4\n",
    "n_controls = 2\n",
    "ENERGY = 10.0\n",
    "\n",
    "# x0, x_goal = paper_setup()\n",
    "# x0, x_goal = car_setup()\n",
    "# x0, x_goal = bike_setup()\n",
    "# x0, x_goal = double_int_setup()\n",
    "# x0, x_goal = dec_test_setup()\n",
    "x0, x_goal = dec.random_setup(n_agents, n_states, is_rotation=False, min_sep=1.0, var=1.0)\n",
    "\n",
    "x_dims = [n_states] * n_agents\n",
    "u_dims = [2] * n_agents\n",
    "\n",
    "x0 = normalize_energy(x0, x_dims, ENERGY)\n",
    "x_goal = normalize_energy(x_goal, x_dims, ENERGY)\n",
    "# x0 = perturb_state(x0, x_dims)\n",
    "\n",
    "plt.clf()\n",
    "plt.gca().set_aspect('equal')\n",
    "X = torch.dstack([\n",
    "    x0.reshape(n_agents, n_states).detach(), \n",
    "    x_goal.reshape(n_agents, n_states).detach()\n",
    "]).swapaxes(1,2)\n",
    "for i, Xi in enumerate(X):\n",
    "    plt.annotate('', Xi[1,:2], Xi[0,:2], \n",
    "                 arrowprops=dict(facecolor=plt.cm.tab20.colors[2*i]))\n",
    "pocketknives.set_bounds(X.reshape(-1, n_states), zoom=0.2)\n",
    "plt.draw()"
   ]
  },
  {
   "cell_type": "code",
   "execution_count": 20,
   "id": "1f606b8b-543c-442a-8e82-7d1118b629ee",
   "metadata": {},
   "outputs": [],
   "source": [
    "dt = 0.05\n",
    "N = 50\n",
    "tol = 1e-3\n",
    "ids = [100 + i for i in range(n_agents)]\n",
    "\n",
    "model = dec.UnicycleDynamics4D\n",
    "# model = dec.CarDynamics3D\n",
    "# model = dec.BikeDynamics5D\n",
    "# model = dec.DoubleIntDynamics4D\n",
    "dynamics = dec.MultiDynamicalModel([model(dt, id_) for id_ in ids])\n",
    "\n",
    "Q = 4 * torch.diag(torch.tensor([1., 1, 0, 0]))\n",
    "# Qf = 1000 * torch.eye(Q.shape[0])\n",
    "Qf = 1000 * torch.diag(torch.tensor([1., 1, 1, 1]))\n",
    "R = torch.eye(2)\n",
    "\n",
    "# radius = ENERGY / 20\n",
    "radius = 0.5\n",
    "\n",
    "goal_costs = [dec.ReferenceCost(x_goal_i, Q.clone(), R.clone(), Qf.clone(), id_) \n",
    "              for x_goal_i, id_ in zip(split_agents(x_goal.T, x_dims), ids)]\n",
    "prox_cost = dec.ProximityCost(x_dims, radius)\n",
    "game_cost = dec.GameCost(goal_costs, prox_cost)\n",
    "\n",
    "prob = dec.ilqrProblem(dynamics, game_cost)"
   ]
  },
  {
   "cell_type": "code",
   "execution_count": 24,
   "id": "563b0318-aef0-4483-afb9-9dae0352b3df",
   "metadata": {},
   "outputs": [
    {
     "name": "stdout",
     "output_type": "stream",
     "text": [
      "0/50\tJ: 58366.9\n",
      "1/50\tJ: 13550\tμ: 0.5\tΔ: 0.5\n",
      "2/50\tJ: 12440\tμ: 0.125\tΔ: 0.25\n",
      "3/50\tJ: 6244.21\tμ: 0.015625\tΔ: 0.125\n",
      "4/50\tJ: 6082.7\tμ: 0.000976562\tΔ: 0.0625\n",
      "5/50\tJ: 5997.19\tμ: 3.05176e-05\tΔ: 0.03125\n",
      "6/50\tJ: 5842.92\tμ: 0\tΔ: 0.015625\n",
      "7/50\tJ: 5593.19\tμ: 0\tΔ: 0.0078125\n",
      "8/50\tJ: 5476.3\tμ: 0\tΔ: 0.00390625\n",
      "9/50\tJ: 5397.35\tμ: 0\tΔ: 0.00195312\n",
      "10/50\tJ: 5294.73\tμ: 0\tΔ: 0.000976562\n",
      "11/50\tJ: 5269.55\tμ: 0\tΔ: 0.000488281\n",
      "CPU times: user 21.4 s, sys: 0 ns, total: 21.4 s\n",
      "Wall time: 21.4 s\n"
     ]
    }
   ],
   "source": [
    "%%time\n",
    "# %%prun\n",
    "ilqr = dec.ilqrSolver(prob, N)\n",
    "t0 = pc()\n",
    "X, U, J = ilqr.solve(x0, tol=tol)"
   ]
  },
  {
   "cell_type": "code",
   "execution_count": 25,
   "id": "f583a3f3-8ec4-482d-b904-c957475a345a",
   "metadata": {},
   "outputs": [],
   "source": [
    "plt.clf()\n",
    "plot_solve(X, J, x_goal.numpy(), x_dims)"
   ]
  },
  {
   "cell_type": "code",
   "execution_count": 26,
   "id": "b87a4e75-51b8-4810-b699-4242d87f6435",
   "metadata": {},
   "outputs": [],
   "source": [
    "plt.clf()\n",
    "plt.plot(dec.compute_pairwise_distance(X, x_dims).T)\n",
    "plt.hlines(radius, *plt.xlim(), 'r', ls='--')\n",
    "plt.draw()"
   ]
  },
  {
   "cell_type": "code",
   "execution_count": 25,
   "id": "d9ae135c-adc9-40ee-87ad-a42fb0f1edfc",
   "metadata": {},
   "outputs": [],
   "source": [
    "costs = []\n",
    "for xi, ui in zip(X, U):\n",
    "    costs.append(game_cost(xi, ui).item())\n",
    "plt.clf()\n",
    "plt.plot(costs)\n",
    "plt.draw()"
   ]
  },
  {
   "cell_type": "markdown",
   "id": "f66d3a80-59f3-4690-8b97-8f5d874a14a8",
   "metadata": {},
   "source": [
    "## multi-agent receding horizon"
   ]
  },
  {
   "cell_type": "code",
   "execution_count": 36,
   "id": "671563fd-1e6e-46ac-bdf7-87e46a1a099a",
   "metadata": {},
   "outputs": [
    {
     "name": "stdout",
     "output_type": "stream",
     "text": [
      "--------------------------------------------------\n",
      "Horizon 0\n",
      "0/50\tJ: 90302.8\n",
      "1/50\tJ: 7493.98\tμ: 0.5\tΔ: 0.5\n",
      "2/50\tJ: 6424.32\tμ: 0.125\tΔ: 0.25\n",
      "3/50\tJ: 6413.42\tμ: 0.015625\tΔ: 0.125\n",
      "--------------------------------------------------\n",
      "Horizon 1\n",
      "0/50\tJ: 2469.15\n",
      "1/50\tJ: 2425.67\tμ: 0.5\tΔ: 0.5\n",
      "--------------------------------------------------\n",
      "Horizon 2\n",
      "0/50\tJ: 909.057\n",
      "1/50\tJ: 906.489\tμ: 0.5\tΔ: 0.5\n",
      "--------------------------------------------------\n",
      "Horizon 3\n",
      "0/50\tJ: 320.679\n",
      "1/50\tJ: 314.359\tμ: 0.5\tΔ: 0.5\n",
      "--------------------------------------------------\n",
      "Horizon 4\n",
      "0/50\tJ: 105.959\n",
      "1/50\tJ: 100.372\tμ: 0.5\tΔ: 0.5\n",
      "Converged!\n"
     ]
    }
   ],
   "source": [
    "rhc = dec.RecedingHorizonController(x0, ilqr, step_size=10)\n",
    "U0 = torch.zeros((ilqr.N, ilqr.n_u))\n",
    "for Xi, Ui, Ji in rhc.solve(U0, J_converge=101.0, tol=tol):\n",
    "    plt.cla()\n",
    "    plot_solve(Xi, Ji, x_goal.numpy(), x_dims)\n",
    "    fig.canvas.draw()"
   ]
  },
  {
   "cell_type": "markdown",
   "id": "68c1de09-898c-411a-896b-c4000ec679cf",
   "metadata": {},
   "source": [
    "## decentralized multi-agent"
   ]
  },
  {
   "cell_type": "code",
   "execution_count": 27,
   "id": "2d74de30-c356-4ee1-8c90-2abacc98d974",
   "metadata": {},
   "outputs": [
    {
     "data": {
      "text/plain": [
       "{100: [100, 102, 104],\n",
       " 101: [101, 102, 103],\n",
       " 102: [100, 101, 102, 103],\n",
       " 103: [101, 102, 103],\n",
       " 104: [100, 104]}"
      ]
     },
     "execution_count": 27,
     "metadata": {},
     "output_type": "execute_result"
    }
   ],
   "source": [
    "graph = dec.define_inter_graph_threshold(X, radius/2, x_dims, ids)\n",
    "graph"
   ]
  },
  {
   "cell_type": "code",
   "execution_count": 28,
   "id": "572bedc9-a7aa-4aaf-8057-1bb4cda239c6",
   "metadata": {},
   "outputs": [
    {
     "data": {
      "application/vnd.jupyter.widget-view+json": {
       "model_id": "4fac9a7c0f9249308a4a07567c220823",
       "version_major": 2,
       "version_minor": 0
      },
      "image/png": "[encoded data removed]",
      "text/html": [
       "\n",
       "            <div style=\"display: inline-block;\">\n",
       "                <div class=\"jupyter-widgets widget-label\" style=\"text-align: center;\">\n",
       "                    Figure 1\n",
       "                </div>\n",
       "                <img src='data:image/png;base64,iVBORw0KGgoAAAANSUhEUgAAAXIAAAFyCAYAAADoJFEJAAAAOXRFWHRTb2Z0d2FyZQBNYXRwbG90bGliIHZlcnNpb24zLjUuMiwgaHR0cHM6Ly9tYXRwbG90bGliLm9yZy8qNh9FAAAACXBIWXMAAA9hAAAPYQGoP6dpAAA7EklEQVR4nO3de1xUdf4/8NeYhKKIXPoyQ+QuZm6BocxQhGu7mlcGSNYuXgOSMNO+RmaKighqiGZF9MX1AgqkyLrrhgkMrWVl35UwBgnRMi/spgF+Q+U6hWOc3x/uzE9EjcvMnDnM6/l47KNl5pzzeX9m8DWHM5/z+cgEQRBARESS1UfsAoiIqGcY5EREEscgJyKSOAY5EZHEMciJiCSOQU5EJHEMciIiiWOQExFJHIOciEjiGORERBLHICcikjgGORGRxDHIiYgkjkFORCRxDHIiIoljkBMRSRyDnIhI4hjkREQSxyAnIpI4BjkRkcQxyImIJI5BTkQkcQxyIiKJY5ATEUkcg5yISOIY5EREEscgJyKSOAY5EZHEMciJiCSOQU5EJHEMciIiiWOQExFJHIOciEjiGORERBLHICcikjgGORGRxDHIiYgkjkFORCRxDHIiIoljkBMRSRyDnIhI4hjkREQS11fsArqjra0N1dXVcHR0hEwmE7scIrIRgiCgqakJHh4e6NPHes6DJRnk1dXVuO+++8Qug4hs1Pnz5+Hp6Sl2GUaSDHJHR0cAQFVVlfH/i0Wv1+PTTz/FuHHjYGdnJ2ot5mQr/QRsp6+20k/AdH1tamqCl5eX6LlzM5kgCILYRXRVY2MjnJyckJOTAwcHB7HLISIbodPpMGvWLDQ0NGDQoEFil2MkyTNyg0mTJon+Yur1ehw8eBATJ07s1Wc1ttJPwHb6aiv9BEzX18bGRhNWZTqSDnI7Ozur+QW0plrMyVb6CdhOX22ln0DP+2qtr5P1fO1KRETdwiAnIpI4BjkRkcQxyImIJI5BTkQkcQxyIiKJY5ATEUkcg5yISOIY5EREEscgJyKSOAY5EZHEMciJiCRO0pNmEdGdCYKA2tpa1NXV4erVq7j77rvh5uYGhUIhdmlkQgxyol7m3Llz2L17N0pKSqDValFbW9thG7lcDqVSCScnJzz00EMYPny4CJWSqTDIiXoBQRCg0WiQlpYGjUYDR0dHjB49GlFRUVAqlfDw8IC9vT1aW1tRXV2NsrIyaLVa5OfnIzc3F0FBQVi4cCGCgoK4Dq4EMciJJO7ChQuIjo5GUVERlEol0tPTMWPGjDuunjVt2jQA11e8yc3NRVpaGoKDgzFlyhRs377dqtajpF/HLzuJJCwrKws+Pj6oqKjAgQMHUFpairlz53Z6CUQHBwfMnTsXpaWlOHDgACoqKuDj44OsrCwzV06mxCAnkiBBEBAfH4/IyEiEhYWhsrISISEh3b4sIpPJEBISgsrKSoSFhSEyMhLx8fGQ4JK+NomXVogkaPXq1Vi7di2Sk5OxbNkykx3X2dkZWVlZ8Pb2RmxsLGQyGRITE012fDIPBjmRxGRlZWHt2rXYsGEDli5dapY2DB8OsbGxGDp0KCIiIszSDpkGL60QScj58+exaNEihIeHmy3EDZYtW4bw8HAsWrQIFy5cMGtb1DMMciKJEAQB8+bNw8CBA/Huu+9apM2UlBQMHDgQ0dHRvF5uxRjkRBKh0WhQVFSErVu3YvDgwRZp09nZGVu3bkVRURE0Go1F2qSuY5ATSURaWhpUKhWCg4Mt2m5wcDCUSiU2b95s0Xap8xjkRBJw7tw5aDQaLFiwwDjE8PDhwwgNDYWHhwdkMhny8vLa7WMYoqhQKNC/f39MmDABp0+fbrfNG2+8gdGjR8PBweG2Z/kymQwLFixAYWEhqqqqzNE96iEGOZEE7N69G46OjpgxY4bxsZaWFowcORJpaWm33Gfjxo1ITU3Fli1bUFJSggEDBmDy5Mn4+eefjdtcvXoVzzzzDF566aU7tj9z5kw4Ojpi165dpukQmRSHHxJJQElJifHM2SAoKAhBQUG33F4QBKSkpCAuLg5Tp04FAGRnZ8Pd3R15eXnGDwTDGPHMzMw7tu/g4IDAwEAcPXrUBL0hU+MZOZGVEwQBWq0WKpWq0/tUVVWhtrYWEyZMMD7m5OSEgIAAFBcXd6sOlUoFrVbbrX3JvBjkRFautrYWtbW1UCqVXdoHANzd3ds97u7ufstpbTtDpVKhpqYGNTU13dqfzIdBTmTl6urqAAAeHh6i1mFYjOLSpUui1kEdMciJrNzVq1cBAPb29p3eRy6XAwAuXrzY7vGLFy8an+sqQ/utra3d2p/Mh0FOZOXuvvtuAF0LUC8vL8jlcnzyySfGxxobG1FSUoLAwMBu1WFovysfKGQZHLVCZOXc3NwAANXV1e0eb25uxpkzZ4w/V1VVoby8HC4uLhgyZAhiYmKwbt06PPDAA/Dy8sKqVavg4eGBsLAw4z7ff/89Ll++jO+//x6//PILysvLAQDDhg3DwIED27VnuDbu6upqhl5ST0g6yPV6PfR6veg13Pjf3spW+glYX19dXV0hl8tRVlZmXNkHAEpLSzFu3Djjz4sXLwYAREREIDMzE0uXLkVLSwvmzZuH+vp6jBkzBkVFRejXr59xn/j4+HaLSPj5+QEAPv30U4wdO7ZdHVqtFgqFAm5ublbz2nSWqd5Ta+23TJDgTDiNjY1wcnJCTk5Op1dCIZKydevWwdXVFUVFRaLVMHnyZFy5cgUrV64UrQax6XQ6zJo1Cw0NDRg0aJDY5RhJ+ox80qRJor+Yer0eBw8exMSJE2FnZydqLeZkK/0ErLOvx44dwzvvvAOdTifKyYtOp8OXX36JV199FWq12uLt95Sp3tPGxkYTVmU6kg5yOzs7q/mHZk21mJOt9BOwrr6Gh4djzZo1yM3Nxdy5cy3e/p49e9DU1ISIiAireU26o6fvqbX2naNWiCRg6NChCAoKQlpamsXnBRcEAWlpaVCr1fDy8rJo29Q5DHIiiVi4cCHKyspQUFBg0XYLCgpw7NgxLFiwwKLtUucxyIkkIigoCFOmTMGLL76IK1euWKTNK1euYN68eXecoIvExyAnkgiZTIbt27ejubkZMTExFmkzJiYGOp0O27ZtM86DTtaHQU4kIZ6enkhNTUV2djY2bNhg1raSk5ORnZ2Nd999F56enmZti3pG0qNWiGxRREQEzp49i9jYWADXV7s3teTkZCxfvhzx8fGIiIgw+fHJtBjkRBKUmJgImUyG2NhYnDx5EikpKXB2du7xca9cuYKYmBhkZ2cjPj4eCQkJPS+WzI6XVogkSCaTITExEZmZmcjLy8OIESOQn5/f7aGJgiAgPz8fI0aMQF5eHjIzM40fFmT9GOREEhYREYETJ07A19cXoaGh8PPzQ0ZGBnQ6Xaf21+l0yMjIgFKpRGhoKIYPH44TJ07wcorE8NIKkcR5enqisLAQu3btQmRkJKKjo7F48WIEBgZCpVJBpVJBoVDA3t4era2tqKmpgVarhVarxZEjR9Dc3Gyc7mLo0KH8YlOCGOREvYBMJsOFCxdgb2+P4uJifPjhhzh69Ch27NiBpKSkDtsrFAr4+fkhJCQECQkJGD58OFJSUrBkyRIsXboUv/vd70ToBXUXg5yoFxAEARkZGXj66acxcuRIjBw50vhcTU0NLl26hNbWVtjb28PV1RUKhQJ6vR6FhYXG2+7nz5+Pt99+G/Hx8fjLX/4iVleoGxjkRL3A559/jrNnz2LHjh0dnlMoFMb1Nu+kX79+SEhIQFRUFJYtW9alxZ5JXPyyk6gXyMjIwAMPPIDHH3+8R8cJDw/H7373O5uec1yKGOREEldfX4+//e1viIqK6vFwwb59+2Lt2rUoKirC4cOHTVQhmRuDnEjicnJyoNfrTTZk8KmnnoJSqcSKFSssPmUudQ+DnEji0tPTERISArlcbpLj9enTB0lJSfjnP/+JwsJCkxyTzItBTiRhZWVlOHbsGKKiokx63EmTJuEPf/gDVq5ciba2NpMem0yPQU4kYRkZGVAoFCafK1wmk2H9+vX4+uuvsXfvXpMem0yPQU4kUT/99BN2796NyMhI9O1r+pHEo0ePRkhICFatWgW9Xm/y45PpMMiJJGrfvn1oaGgw62LMb7zxBs6cOYOdO3earQ3qOQY5kUSlp6dj7NixGDZsmNna8PX1xcyZM7FmzRr89NNPZmuHeoZBTiRBp0+fxueff44XXnjB7G2tWbMGFy9exObNm83eFnUPg5xIgnbs2IHBgwdj2rRpZm9r2LBhiIqKwvr169HY2Gj29qjrGOREEnPt2jVkZmZi9uzZ6N+/v0XaXLVqFVpaWvDWW29ZpD3qGgY5kcQUFhaitrbWIpdVDO699168/PLLePvtt/Hjjz9arF3qHAY5kcQYVvQZNWqURduNjY1Fnz59sH79eou2S7+OQU4kITU1NSgoKLDo2biBq6srlixZgs2bN+P8+fMWb59uj0FOJCFZWVmws7PDzJkzRWk/JiYGgwYNQmJioijt060xyIkkwrAK0DPPPIPBgweLUoOjoyNWrFiBzMxMnDp1SpQaqCMGOZFEHD58GGfOnDH5BFldNX/+fHh4eCA+Pl7UOuj/Y5ATSUR6ejqGDRuGP/zhD6LWYVgSbu/evSgrKxO1FrqOQU4kAaZcBcgUDEvCxcXFiV0KQeKLL+v1etFnZTO0L3Yd5mYr/QSss6979uxB3759MWfOHJPV1dN+rl27FhERETh8+DACAwNNUpO5mOo9tabfiRvJBAmu5dTY2AgnJyfk5OTAwcFB7HKIyEbodDrMmjULDQ0NGDRokNjlGEn6jHzSpEmiv5h6vR4HDx7ExIkTYWdnJ2ot5mQr/QSsr68VFRV4/PHHkZuba9IFJEzRz08++QTTpk3D3r17MXnyZJPVZmqmek+tda4ZSQe5nZ2dVfxDA6yrFnOylX4C1tPXnTt3YvDgwVCr1WZZQKIn/Zw8eTIeeeQRxMXFQa1Wo08f6/7arafvqTX8PtyKdb/qRDbup59+wq5du8y2ClBPcUk468AgJ7Jif//7382+ClBPcUk48THIiayYJVYBMoV169ZxSTgRMciJrNSZM2fw2WefiTJBVleNHDmSS8KJiEFOZKV27NgBJycni6wCZApcEk48DHIiK2RYBWjOnDkWWwWop7gknHgY5ERWSKPRoKamRvQJsrrKsCTc22+/LXYpNoVBTmSF0tPToVQq4efnJ3YpXWJYEu6tt97iknAWxCAnsjKGVYCkdjZuwCXhLI9BTmRlDKsAzZo1S+xSuoVLwlkeg5zIihhWAXr66adFWwXIFAxLwq1Zs0bsUmwCg5zIihhWAZLC2PE7MSwJt3PnTnz33Xdil9PrMciJrEhGRoZVrAJkCoYl4VatWiV2Kb0eg5zIStTX1+Ovf/2r1awC1FNcEs5yGOREVmLPnj3Q6/WIiIgQuxST4ZJwlsEgJ7IS6enpCA4OhkKhELsUk+nbty/Wrl0LjUaDL774Quxyei0GOZEVOHbsGMrKyiQ7dvxOnnrqKSiVSixfvhwSXFlSEhjkRFYgIyMDCoUCarVa7FJMrk+fPnjjjTfwz3/+E4WFhWKX0ysxyIlE9tNPP2H37t2IiIiwylWATGHy5Mn4wx/+gJUrV6KtrU3scnodBjmRyP7+97+jvr7eqlcB6ikuCWdeDHIikWVkZOCPf/wjHnjgAbFLMSsuCWc+DHIiEZ09exaffvqp5O/k7CzDknCZmZlil9KrMMiJRGRYBeipp54SuxSLMCwJl5iYyCXhTIhBTiSSa9euYefOnZg9e7ZkVgEyBS4JZ3oMciKRFBUVoaamxmYuqxhwSTjTY5ATiSQ9PR1+fn6SWwXIFLgknGkxyIlEUFtbi/z8fJs7GzfgknCmxSAnEoHUVwEyhV9bEk4QBNTU1OD48ePQarU4fvw4ampqLFylNPTO28iIrFhvWQWopwxLwr3xxht49dVXcd999+HcuXPYvXs3SkpKoNVqUVtb22E/uVwOlUqFgIAAzJkzB15eXiJUb10Y5EQW9sUXX+D06dPYtm2b2KWILiYmBqmpqYiOjsZdd90FjUYDR0dHjB49GlFRUVAqlfDw8IC9vT1aW1tRXV2NsrIyaLVabNq0CatXr0ZQUBAWLlyIoKCgXjGPe3cwyIksLD09HcOGDcMf//hHsUsRXUNDA+655x589NFHUCqVSE9Px4wZM+Dg4HDbfaZNmwYA0Ol0yM3NRVpaGoKDgzFlyhRs374dnp6elirfavAaOZEF1dfX429/+xvmzp1rs2ePBllZWfDx8UFDQwMOHDiA0tJSzJ07944hfiMHBwfMnTsXpaWlOHDgACoqKuDj44OsrCwzV259GOREFrRnzx5cvXq1V60C1FWCICA+Ph6RkZEICwtDZWUlQkJCuv3BJpPJEBISgsrKSoSFhSEyMhLx8fE2Nfe5pC+t6PV60SffMbQvdh3mZiv9BMzb1/fffx9Tp07FPffcI/prKdZ7mpCQgKSkJCQnJ2PZsmUmO66zszOysrLg7e2N2NhYtLW1YfXq1QBM11ex37PbkQkS/NhqbGyEk5MTcnJyOv1nGBGJ79ChQ0hNTcWGDRuwdOlSs7WzYcMGxMbGYtGiRXjiiSdMdlydTodZs2ahoaEBgwYNMtlxe0rSQV5XVyf6i6nX63Hw4EFMnDgRdnZ2otZiTrbST8B8fX399dexf/9+nDx50ioWkLD0e3r+/Hn4+fkhLCzMItexIyIikJeXh/Lycri7u5ukr42NjXBzc7O6IBf/t6kH7OzsrCZUrKkWc7KVfgKm7etPP/2ErKwszJ8/3+omyLLEeyoIAhYuXIiBAwfi3XffNWtbBikpKfj444+xYMEC7N+/H0DP+2qtv/uSDnIiqfjggw96/SpAd6LRaFBUVIQDBw5Y7CYoZ2dnbN26FaGhoSgqKrJIm2LhqBUiC0hPT7eJVYBuJy0tDSqVCsHBwRZtNzg4GEqlElu3brVou5bGICcyM8MqQFFRUWKXIopz585Bo9FgwYIF7YYYHj58GKGhofDw8IBMJkNeXl67/QzDFBUKBfr3748JEybg9OnT7bZ58sknMWTIEPTr1w8KhQLPPfccqqurjc/LZDIsWLAAGo0GFy9eNGs/xcQgJzIzW1sF6Ga7d++Go6MjZsyY0e7xlpYWjBw5Emlpabfcb+PGjUhNTcWWLVtQUlKCAQMGYPLkyfj555+N24wbNw579+7FqVOnsG/fPpw9exZPP/10u+PMnDkTjo6O+Oyzz0zeN2vBa+REZnTt2jVkZmZi9uzZNjtUtqSkBKNHj+7Q/6CgIAQFBd1yH0EQkJKSgri4OEydOhUAkJ2dDXd3d+Tl5Rk/FF599VXjPr/5zW8QGxuLsLAw6PV64xeTDg4OCAwMxJkzZ8zRPavAM3IiMyoqKkJ1dbXNXlYRBAFarRYqlapL+1VVVaG2thYTJkwwPubk5ISAgAAUFxffcp/Lly9j9+7dGD16dIfRJSqVCufOnet6BySCQU7UTZ2ZLzsjIwN+fn5QKpUiVSmu2tpa1NbWdrn/hulr3d3d2z3u7u7eYWrbZcuWYcCAAXB1dcX3339vHGp4I5VKhUuXLvXa+cx5aYWoC7oyX7a3tzc+/PBDpKamilCpdairqwMAeHh4mK2N119/HVFRUfj3v/+NxMREhIeHIz8/v90XqwqFAgBw6dIlDBkyxGy1iIVBTvQrBEGARqNBWlpal+bL3rJlC9ra2rB//354eXnZ5HzZV69eBQDY29t3aT+5XA4AuHjxojGEDT+PGjWq3bZubm5wc3PD8OHD8dBDD+G+++7Dl19+icDAQOM2hvYN9fQ2DHKiO7hw4QKio6NRVFTE+bK74e677wYAtLa2dmk/Ly8vyOVyfPLJJ8bgbmxsRElJCV566aXb7tfW1nbL9gw/G+rpbXiNnOg2srOz4ePjg4qKCs6X3U0DBw4EgHZjuw2am5tRXl6O8vJyANe/4CwvL8f3338PmUyGmJgYrFu3Dh9++CGOHz+O8PBweHh4ICwsDMD10TD/8z//g/Lycvz73//GoUOHMHPmTNx///3tzsYBGK+Nu7q6mq+zYhIkqKGhQQAgNDQ0iF2KcPXqVSEvL0+4evWq2KWYla30UxAEobW1VXj22WcFAEJ4eLhw+fJlkxz38uXLQnh4uABAWLVqldDW1maS43aXKd/TtrY24fvvvxfy8/OFpKQkYcaMGYK3t7fQp08foW/fvsLKlSs77PPpp58KADr8LyIiwnjMVatWCe7u7oK9vb0wfvx44dSpU8b9KyoqhHHjxgkuLi6Cvb298Nvf/laYP3++cOHChQ5trVixQnB1de1xX60pe27ESytEN0lMTMTevXvNPl+2TCZDYmKiyY5vKS0tLThx4gQqKipQUVGBr7/+GhUVFaivrwdwfZigr68vxo0bh1deeQXZ2dnQarUdjjN27Ng7Lv4gk8mwZs0arFmz5pbPP/zwwzh06FCnatZqtRg6dGintpUiBjnRDbKyspCUlGTW+bINHw6xsbEYOnSo1a4W1NbWhn//+9/twrqiogJnzpyBIAjo06cPhg8fDl9fX0yaNAm+vr7w9fXFkCFD2n2pe/HiRWzatAk6nU6Um6J0Oh2Ki4stPs+LJTHIif7j/PnzWLRoEcLDw8266AFwPcxPnjyJRYsWYfz48aJ/AdrY2IjKysp2gX38+HE0NTUBAFxcXDBy5Eio1Wr4+vpi5MiR8Pb27tSUvLNnz8bq1auRm5sryuyPe/bsQVNTE8aOHWvxti2FQU6E60MM582bJ8p82dHR0SgsLLTI0MRffvkFZ8+eRUVFBSorK+Hn5wdfX198++23AIC+ffviwQcfhK+vL6ZOnWo8y1YoFN2ub+jQoQgKCkJaWhqef/55iw7BFAQBaWlpCAoK6nBzUW/CICeC+PNlazQaqNVqkx7/ypUrxrNrw/8qKyuh0+kAXJ+bxM/PD1OnTsWKFSvg6+uLBx98sMtjvjtj4cKFCA4ORkFBAUJCQkx+/NspKCjAsWPHkJCQ0KsXY5b0Um/WsNySXq9HYWEh1Gq11a4eYgq9vZ/BwcG4ePEivvrqK4ufMfr7+0OhUCA/P79bx7h27Rq+++67DqF9/vx5ANfHTvv4+BjPrn19ffHwww/DxcXFYu+pIAhQq9XGDxNnZ2eztgdc/yDz8fHBqFGjkJeXZ/yw7OlSb9aSPTfiOHKyebeaL7unc2X/61//QlRUFLy8vNC/f3/cf//9WL16dYc7Cw3zZRcWFqKqqupXa/3xxx/xySef4J133kFkZCSUSiUGDhwIHx8fzJw5E++//z4EQcDs2bORk5ODyspKNDc3o6ysDJmZmVi8eDEmTJhg8csMMpkM27dvR3NzM2JiYizSZkxMDHQ6HbZt29br76jlpRWyebeaL9swV/bcuXONd2reyDBXdlZWFry8vLBq1SpMnjwZJ0+eRL9+/fDtt9+ira0NW7duxbBhw1BZWYno6Gi0tLRg06ZN7Y41c+ZMLF68GLt27cKqVasAXL+V/Ntvv2335WNFRYVxbpf+/ftjxIgRUCqViIyMNJ5pu7i4mPGV6hlPT0+kpqYiMjIS3t7eJh3aebPk5GRkZ2cjMzMTnp6e0Ov1ZmvLKog0fr1HrGlQvq3cKNOb+xkcHCxMmTLlts8DED744APjz21tbYJcLhfefPNN42P19fWCvb29sGfPntseZ+PGjYKXl9ctn5s0aZLw0EMPCbNnzxYefvhhoW/fvsYbZH77298KTz75pBAXFyf89a9/FU6dOiVcu3at6x29iVjv6apVqwQAQnJyslmOv379egGAEB8fb3zMVH21puy5Ec/IyaYJ/5kvuyvzhf/aXNk3r4Rj0NDQcNszZn9/f3z66acYPHgwfv/73+Oll16Cr68vRowYAScnp651ysolJiZCJpMhNjYWJ0+eREpKikmumV+5cgUxMTHIzs5GfHw8EhISel6sRDDIyaZ1Z77srsyVbXDmzBm89957HS6rGKhUKuj1euzbt6/dbH+9keGO1qFDh2LRokX4+OOPsXXrVgQHB3frWrYgCCgoKMCLL76I5uZmZGZmWu1NVubCLzvJpllivuwffvgBU6ZMwTPPPIPo6OhbbnPjfNm2IiIiAidOnICvry9CQ0Ph7++PjIwM4/DIX6PT6ZCRkQF/f3+EhobC19cXJ06csLkQB3hGTjauO/Nld2Wu7OrqaowbNw6jR4/Gtm3bbntMQ/tdne5V6jw9PVFYWAiNRoPNmzcjOjoaixcvRmBgIFQqFVQqFRQKhXG+95qaGmi1Wmi1WhQXF6OpqQlqtRoFBQU2Od+7AYOcbFp35svu7FzZP/zwA8aNGweVSoWdO3eiT5/b/wFsaN8cN+NYO5lMBrVaDbVajaqqKuzatQtHjx7Fjh07kJSU1GF7hUIBlUqFJUuWYM6cOfDy8hKhauvCICeb5ubmBqDjfNnNzc3tVl03zJXt4uKCIUOGGOfKfuCBB4zDD2+cK/uHH37A2LFj8Zvf/AabNm3Cjz/+aDyW4Yz+Rr1+vuxOMryWBjU1Nbh06RJaW1thb28PV1fXXv8dQncwyMmmyeVyyOVylJWVtRsvXlpainHjxhl/Xrx4MYDr13UzMzOxdOlStLS0YN68eaivr8eYMWNQVFSEfv36AQAOHjyIM2fO4MyZMx0mxBJucTO1VquFQqFgSN2Er0nnMMjJpslkMqhUqg7zZfd0ruzIyEhERkZ2ug6tVguVStXp7YluxFErZPMCAgJw5MiRTo+WMDXDfNmPPvqoKO2T9DHIyebNnj0bTU1NyM3NFaV9w3zZc+bMEaV9kj4GOdm8G+fLvtPlFHMQ/jNftlqt5ugL6jZJXyPX6/WiT4ZjaF/sOsytt/fzxRdfxNSpU0WdL9vSr21vf09vZKq+WutrJen5yHNyckRZA5B6H0EQsHbtWtTU1ODEiRMWmy/b29sb9957L+Li4mz2ZhYp0el0mDVrltXNRy7pIK+rqxP9xdTr9Th48CAmTpzYKxdcMLCFfl64cAGjRo1CWFgYsrKyzN5eREQE9u/fj2PHjomyZqctvKcGpuprY2Mj3NzcrC7IJX1pxc7Ozmp+Aa2pFnPqzf308vISZb5ssa+N9+b39GY97au1vk6SDnIiU4uIiMB3332H2NhYADBLmCcnJ2P58uWIj4+3yQmeyPQY5EQ3Wb16Nc6ePcv5skkyOPyQ6CYymQwzZ85Eeno68vLy4O3tjfz8/G4PTRQEAfn5+RgxYgTy8vKQmZlpXFyByBQY5ES3ER4ejs8++wyXLl3ifNlk1XhphegOtm3bhgEDBmDLli14//33OV82WSUGOdFtnDp1Ctu3b8fGjRsxffp0TJ8+nfNlk1VikBPdxurVqzFkyBAsXLjQ+BjnyyZrxCAnug2NRoOdO3fecdUezpdN1oBfdhLdpK2tDQDg7++PZ599VuRqiH4dg5zoJn/7298AAOvWreOXkyQJDHKiG/z888/GVX8CAwNFroaocxjkRDdITU01LoRMJBUMcqL/qKurQ1JSEubOnSt2KURdwiAn+o+1a9dCEASzznpIZA4MciIAp0+fxubNm7F8+XK4ubmJXQ5RlzDIiQAsX74cCoUCr7zyitilEHUZbwgim3fkyBHs27cPWVlZ6N+/v9Wuy0h0OzwjJ5smCAKWLFmCUaNGYc6cOWKXQ9QtPCMnm7Zv3z4UFxfj448/Rp8+PK8haeJvLtmsq1evIjY2Fmq1GuPHjxe7HKJu4xk52aw///nPqKqqwv79+8UuhahHeEZONqm+vh5r1qxBVFQUfHx8xC6HqEcY5GSTkpKS0NraisTERLFLIeoxBjnZnH/9619ITU3F66+/zrnEqVdgkJPNWblyJZydnfHaa6+JXQqRSfDLTrIppaWlyMnJwfbt2zFw4ECxyyEyCZ6Rk80w3Pzj4+OD559/XuxyiEyGZ+TdJAgCamtrUVNTgzNnzuD48eNcv9HK5efn4/PPP0dhYSHuuususcshMhkGeRecO3cOu3fvRklJCbRaLWpraztsI5fLoVKpEBAQgDlz5sDLy0uESulm165dw9KlSzF+/HhMmTJF7HKITIpB/isEQYBGo0FaWho0Gg0cHR0xevRoREVFQalUwsPDA/b29mhtbUV1dTXKysqg1WqxadMmrF69GkFBQVi4cCGCgoK4/qOI0tPTcerUKezZs4fvA/U6DPI7uHDhAqKjo1FUVASlUon09HTMmDEDDg4Ot91n2rRpAACdTofc3FykpaUhODgYU6ZMwfbt2+Hp6Wmp8uk/mpqasHr1ajz33HMYNWqU2OUQmRy/7LyNrKws+Pj4oKKiAgcOHEBpaSnmzp17xxC/kYODA+bOnYvS0lIcOHAAFRUV8PHxQVZWlpkrp5tt3LgRjY2NWLdundilEJkFg/wmgiAgPj4ekZGRCAsLQ2VlJUJCQrr957hMJkNISAgqKysRFhaGyMhIxMfHQxAEE1dOt/LDDz/grbfewquvvor77rtP7HKIzELSl1b0er3JFwFISEhAUlISkpOTTbp2o7OzM7KysuDt7Y3Y2Fi0tbVh9erVJju+uRleZ6ktupCYmAhXV1e89tprna5dqn3tKlvpJ2C6vlrrayUTJHhq2NjYCCcnJ+Tk5HT6UkdnHDp0CKmpqdiwYQOWLl1qsuPebMOGDYiNjcWiRYvwxBNPmK0dIjItnU6HWbNmoaGhAYMGDRK7HCNJB3ldXZ3JXszz58/Dz88PYWFhFrmOHRERgby8PJSXl0viC1C9Xo+DBw9i4sSJsLOzE7ucTvnTn/6E77//Hl9++WWXapZiX7vDVvoJmK6vjY2NcHNzs7ogl/SlFTs7O5P8AgqCgIULF2LgwIF49913TVDZr0tJScHHH3+MBQsWoLCwUDJD4kz1mpvbRx99hIKCAnzwwQfd/qtNKn3tKVvpJ9Dzvlrr68QvOwFoNBoUFRVh69atGDx4sEXadHZ2xtatW1FUVASNRmORNm3FL7/8gtdffx1jxozB1KlTxS6HyOwY5ADS0tKgUqkQHBxs0XaDg4OhVCqxefNmi7bb22VnZ+P48ePYtGmTZP7SIeoJmw/yc+fOQaPRYMGCBcZ/9IcPH0ZoaCg8PDwgk8mQl5fXbh/DEEWFQoH+/ftjwoQJOH369C2P39railGjRkEmk6G8vLzdczKZzHhppaqqyhzdszktLS2Ii4vD9OnTERAQIHY5RBZh80G+e/duODo6YsaMGcbHWlpaMHLkSKSlpd1yn40bNyI1NRVbtmxBSUkJBgwYgMmTJ+Pnn3/usO3SpUvh4eFx2/ZnzpwJR0dH7Nq1q+edIbzzzjuoq6vD+vXrxS6FyGIk/WWnKZSUlGD06NHtvhALCgpCUFDQLbcXBAEpKSmIi4szXn/Nzs6Gu7s78vLy2n0gaDQa/OMf/8C+fftuex3cwcEBgYGBOHr0qAl7ZZsuXryIDRs24OWXX+ZkZWRTbPqMXBAEaLVaqFSqTu9TVVWF2tpaTJgwwfiYk5MTAgICUFxcbHzs4sWLiI6Oxvvvv/+royZUKhW0Wm3XO0DtJCQkwM7ODitXrhS7FCKLsukgr62tRW1tLZRKZZf2AQB3d/d2j7u7uxufEwQBkZGRmD9/Pvz9/X/1mCqVCjU1NaipqelC9XSjb775Btu3b0dcXBxcXFzELofIomw6yOvq6gDgjtewu+O9995DU1MTli9f3qntDYtRXLp0yaR12JJly5ZhyJAhWLhwodilEFmcTQf51atXAQD29vad3kculwO4funkRhcvXjQ+d+jQIRQXF8Pe3h59+/bFsGHDAAD+/v6IiIjocExD+62trV3vBOGzzz7DgQMHsH79+i69l0S9hU0H+d133w2gawHq5eUFuVyOTz75xPhYY2MjSkpKEBgYCABITU3F119/jfLycpSXl6OwsBAA8Je//AVvvPFGh2Ma2mcIdV1bWxuWLFmCgIAAPPvss2KXQyQKmx614ubmBgCorq5u93hzczPOnDlj/Lmqqgrl5eVwcXHBkCFDEBMTg3Xr1uGBBx6Al5cXVq1aBQ8PD4SFhQEAhgwZ0u54htXa77///lvOq2K4Nu7q6mqyvtmKPXv2QKvV4osvvuDNP2SzbDrI5XI55HI5ysrKjCv7AEBpaSnGjRtn/Hnx4sUArk90lZmZiaVLl6KlpQXz5s1DfX09xowZg6KiIvTr169bdWi1Wi7c3A0///wzVqxYgT/96U8YM2aM2OUQicamg1wmk91y6N/YsWPvuPCDTCbDmjVrsGbNmk6189vf/vaOx+vqEEi6LjU1FdXV1Th48KDYpRCJyqavkQNAQEAAjhw5Ap1OJ0r7Op0OxcXFePTRR0VpX6rq6uqQlJSE+fPnY/jw4WKXQyQqmw/y2bNno6mpCbm5uaK0v2fPHjQ1NWHOnDmitC9Va9euNc55Q2TrbD7Ihw4diqCgIKSlpVl8HU1BEJCWlga1Ws1byrvg9OnT2Lx5M2JjY3HPPfeIXQ6R6Gw+yAFg4cKFKCsrQ0FBgUXbLSgowLFjx7BgwQKLtit1y5cvh1wuR0xMjNilEFkFBjmuT5I1ZcoUvPjii7hy5YpF2rxy5QrmzZt3xwm6qKMjR45g3759eOONN9C/f3+xyyGyCgxyXB+Fsn37djQ3N1vsLO+VV17BpUuXsHHjRo5/7iRBELBkyRKMGjWK3ykQ3YBB/h+enp5ITU1FdnY2NmzYYNa2kpOT8f7776Nv374ICwvD8ePHzdpeb7Fv3z4UFxdj06ZN6NOHv7pEBvzXcIOIiAisWrUKsbGxZgvz5ORkLF++HPHx8Th+/DgGDBiAxx57DHv37jVLe73F1atXERsbC7VajfHjx4tdDpFVsekbgm4lMTERMpkMsbGxOHnyJFJSUuDs7Nzj4165cgUxMTHIzs5GfHw8EhISIJPJcOTIEbzwwguYPn06SktLkZSUhL59+bbc7M9//jOqqqqwf/9+sUshsjo8I7+JTCZDYmIiMjMzkZeXhxEjRiA/P7/bQxMFQUB+fj5GjBiBvLw8ZGZmGj8sAGDAgAHIycnBW2+9hbfffhtTpkwxTq9L19XX12PNmjWIioqCj4+P2OUQWR0G+W1ERETgxIkT8PX1RWhoKPz9/ZGRkdHpO0B1Oh0yMjLg7++P0NBQ+Pr64sSJE7ecxlYmk2Hx4sU4ePAgvv76a/j7++PYsWOm7pJkJSUlobW1FYmJiWKXQmSV+Df8HXh6eqKwsBAajQabN29GdHQ0Fi9ejMDAQKhUKqhUKigUCtjb26O1tRU1NTXQarXQarUoLi5GU1MT1Go1CgoKEBQU9KujU8aNGwetVotp06Zh9OjR2LZtG5577jkL9dY6/etf/0JqaiqWL1/OScWIboNB/itkMhnUajXUajWqqqqwa9cuHD16FDt27EBSUlKH7RUKBVQqFZYsWYI5c+Z0+Y7NIUOG4IsvvsBLL72E8PBwlJaWYtOmTbCzszNVlyRl5cqVcHZ2xmuvvSZ2KURWi0HeBYa5xw1qampQW1uLQ4cO4YknnoBcLjfJWWP//v2xc+dOPPLII4iJiUF5eTn27t3bYZ3Q3q60tBQ5OTnYvn27cU53IuqI18h7QKFQYMSIERg2bBhGjBhh0j/9ZTIZFi5ciE8//RSnTp2CSqXC0aNHTXZ8a2e4+cfHxwfPP/+82OUQWTUGuZUbM2YMtFot7rvvPjz++OPIyMgQuySLyM/Px+eff44333wTd911l9jlEFk1BrkE3Hvvvfjss8/w/PPP44UXXsD8+fN79ULN165dw9KlSzF+/HhMmTJF7HKIrB6DXCLs7e2xZcsWbN++HTt37sTYsWM7rDXaW6Snp+PUqVPYtGkT56Eh6gQGucS88MILOHz4MM6fPw+lUon//d//Fbskk2pqasLq1avx3HPPYdSoUWKXQyQJDHIJCggIgFarxfDhwzFu3Dhs3rzZ4otimMvGjRvR2NiIdevWiV0KkWRIevihXq+HXq8XvYYb/2spLi4uKCoqQlxcHJYsWYJjx47hnXfegb29vVnas0Q/a2pqsHnzZixZsgRyuVy091as99TSbKWfgOn6aq2vlUyQ4KlcY2MjnJyckJOTAwcHB7HLISIbodPpMGvWLDQ0NGDQoEFil2Mk6TPySZMmif5i6vV6HDx4EBMnThT17suvv/4as2fPhk6nQ1ZWFh5//HGTHt/c/Txx4gR+//vf480330R0dLTJj98V1vKemput9BMwXV8bGxtNWJXpSDrI7ezsrOYXUOxa/P398c9//hMzZszApEmTsHHjRrz66qsmH/Vhrn4uW7YMnp6eiI6O5ntqYbbST6DnfbXW14lfdvYibm5uKCoqwuLFi/Haa68Zz9Ct3UcffYR//OMf2LBhg9X+QyGyZgzyXqZv377YuHEjcnNzsX//fgQGBuLcuXNil3Vbv/zyC15//XWMGTMGU6dOFbscIklikPdS06dPx5dffomWlhb4+/vjo48+ErukW8rOzsbx48d58w9RDzDIe7GHH34YX331FR577DEEBQVh/fr1VjXevKWlBXFxcZg+fToCAgLELodIshjkvZyzszMOHDiAlStXYsWKFXjmmWfQ1NQkdlkAgHfeeQd1dXVYv3692KUQSRqD3AbcddddWLt2LT744AP84x//wGOPPYbvvvtO1JouXryIDRs24OWXX+7y4htE1B6D3IaEhYXh6NGj+OWXX/DII48gPz9ftFoSEhJgZ2eHlStXilYDUW/BILcxDz74II4ePYonnngCoaGhSEhIQFtbW4+PKwgCampqcPz4cWi1Whw/fhw1NTW33Pabb77B9u3bERcXBxcXlx63TWTrJH1DEHXPoEGDsG/fPiQlJSE+Ph5arRa7du2Ck5NTl45z7tw57N69GyUlJdBqtaitre2wjVwuh0qlQkBAgHEN02XLlmHIkCFYuHChqbpEZNMY5DaqT58+iIuLg1KpxKxZs/DII48gLy8P3t7ed9xPEAQUFhYiLS0NGo0Gjo6OGD16NKKioqBUKuHh4QF7e3u0traiuroaZWVl0Gq12LRpE1avXo2AgAB8+eWX2LNnj9km+CKyNQxyG6dWq1FaWoo//elPCAgIQGZmJp566qlbbltXV4cnn3wSH330EZRKJdLT0zFjxow7Tlw2bdo0ANcnG8rNzUVqaioAICsrC2PGjIGnp6fpO0VkY3iNnDBs2DAUFxdDrVbj6aefxooVK/DLL7+02yY7OxuvvPIKjh8/jgMHDqC0tBRz587t9OyTDg4OmDt3Lo4dO4YDBw6goqICPj4+yMrKMkeXiGwKg5wAAAMHDkRubi42btyIDRs2IDg4GJcvX4YgCIiPj8cLL7yAp556CpWVlQgJCen2XZgymQwhISGorKxEWFgYIiMjER8fb1U3KhFJDS+tkJFMJsPrr78OPz8/TJ8+Hf7+/pg4cSK2bduG5ORkLFu2zGRtOTs7IysrC97e3oiNjYVMJkNiYqLJjk9kSxjk1MGECROg1Wrxxz/+Edu2bcOGDRuwdOlSs7Rl+HCIjY3F0KFDERERYZZ2iHozXlqhW7rrrrtQX1+P5557zmwhbrBs2TKEh4dj0aJFuHDhglnbIuqNGOTUgSAImDdvHgYOHGgcZWJuKSkpGDhwIKKjo3m9nKiLGOTUgUajQVFREbZu3YrBgwdbpE1nZ2ds3boVRUVF0Gg0FmmTqLdgkFMHaWlpUKlUCA4Otmi7wcHBUCqV2Lx5s0XbJZI6Bjm1c+7cOWg0GixYsMA4xPDw4cMIDQ2Fh4cHZDIZ8vLy2u1jGKKoUCjQv39/TJgwAadPn263zeXLlzF79mwMGjQIgwcPRlRUFJqbm9ttI5PJsGDBAhQWFqKqqsqs/STqTRjk1M7u3bvh6OiIGTNmGB9raWnByJEjkZaWdst9Nm7ciNTUVGzZsgUlJSUYMGAAJk+ejJ9//tm4zezZs3HixAkcPHgQ+fn5OHz4MObNm9fhWDNnzoSjoyN27dpl+s4R9VIcfkjtlJSUYPTo0e3u2AwKCkJQUNAttxcEASkpKYiLizOuuZmdnQ13d3fk5eVhxowZ+Oabb1BUVISvvvoK/v7+AID33nsParUamzZtgoeHh/F4Dg4OCAwMxNGjR83YS6LehWfkZCQIArRaLVQqVaf3qaqqQm1tLSZMmGB8zMnJCQEBASguLgYAFBcXY/DgwcYQB66PVe/Tpw9KSko6HFOlUkGr1fagJ0S2hUFORrW1taitrYVSqezSPgDg7u7e7nF3d3fjc7W1tfiv//qvds/37dsXLi4ut5z6VqVSoaam5rbzmRNRewxyMqqrqwOAdpc6xKBQKAAAly5dErUOIqlgkJPR1atXAaBL84TL5XIA19fgvNHFixeNz8nlcvzf//1fu+evXbuGy5cvG7e5kaH91tbWzhdPZMMY5GR09913A+hagHp5eUEul+OTTz4xPtbY2IiSkhIEBgYCAAIDA1FfX9/uuvehQ4fQ1taGgICADsc0tM+FJ4g6h6NWyMjNzQ0AUF1d3e7x5uZmnDlzxvhzVVUVysvL4eLigiFDhiAmJgbr1q3DAw88AC8vL6xatQoeHh4ICwsDADz00EOYMmUKoqOjsWXLFuj1erz88suYMWPGLS/jGK6Nu7q6mqmnRL0Lz8jJSC6XQy6Xo6ysrN3jpaWl8PPzg5+fHwBg8eLF8PPzQ3x8PABg6dKl+O///m/MmzcPjzzyCJqbm1FUVIR+/foZj7F79248+OCDGD9+PNRqNcaMGYNt27bdsg6tVguFQmG8Vk5Ed8YzcjKSyWS3HPo3duzYO05kJZPJsGbNGqxZs+a227i4uCAnJ6dTdXR1CCSRreMZObUTEBCAI0eOQKfTidK+TqdDcXExHn30UVHaJ5IiBjm1M3v2bDQ1NSE3N1eU9vfs2YOmpibMmTNHlPaJpIhBTu0MHToUQUFBSEtLs/i84IIgIC0tDWq1Gl5eXhZtm0jKJH2NXK/XQ6/Xi17Djf/tDV588UVMnToVBQUFCAkJsVi7BQUFOHbsGBISEkR9PXvje3orttJPwHR9tdbXSiZIcDmWxsZGODk5IScnp93kTmQagiBg7dq1qKmpwYkTJ+Ds7Gz2Nq9cuQJvb2/ce++9iIuLM06hS2RNdDodZs2ahYaGBgwaNEjscowkHeR1dXWiv5h6vR4HDx7ExIkTYWdnJ2otpnThwgWMGjUKYWFhyMrKMnt7ERER2L9/P44dOwZPT0+zt3cnvfU9vZmt9BMwXV8bGxvh5uZmdUEu6UsrdnZ2VvMLaE21mIKXlxdSU1MRGRkJb29v42r35pCcnIzs7GxkZmZa1bXx3vae3o6t9BPoeV+t9XWSdJCTeUVERODs2bOIjY0FALOEeXJyMpYvX474+HhERESY/PhEtoBBTneUmJgImUyG2NhYnDx5EikpKSa5Zn7lyhXExMQgOzsb8fHxSEhI6HmxRDaKww/pjmQyGRITE5Geno59+/ZhxIgRyM/P7/bQREEQkJ+fjxEjRiAvLw+ZmZnGDwsi6h4GOXVKeHg43n33XTz88MMIDQ2Fv78/MjIyOn0HqE6nQ0ZGBvz9/REaGgpfX1+cOHGCl1OITICXVqjT3Nzc8OGHH+Ljjz/G5s2bER0djcWLFyMwMBAqlQoqlQoKhQL29vZobW1FTU0NtFottFotiouL0dTUBLVajYKCAgQFBfEsnMhEGOTUJTKZDGq1Gmq1GlVVVdi1axeOHj2KHTt2ICkpqcP2CoUCKpUKS5YswZw5c6xqVApRb8Egp24zzD1uUFNTg0uXLqG1tRX29vZwdXXlVLREFsAgJ5PhHOJE4uCXnUREEscgJyKSOAY5EZHEMciJiCSOQU5EJHEMciIiiWOQExFJHIOciEjiGORERBLHICcikjgGORGRxDHIiYgkjkFORCRxkpz90LDMWGNjo8iVAHq9HjqdDo2NjVa7wrYp2Eo/Advpq630EzBdXw2Z092lDs1FkkHe1NQEALjvvvtEroSIbFFTUxOcnJzELsNIJljbR0sntLW1obq6Go6OjlwujIgsRhAENDU1wcPDA336WM+VaUkGORER/X/W85FCRETdwiAnIpI4BjkRkcQxyImIJI5BTkQkcQxyIiKJY5ATEUkcg5yISOIY5EREEscgJyKSOAY5EZHEMciJiCSOQU5EJHEMciIiiWOQExFJHIOciEjiGORERBLHICcikjgGORGRxDHIiYgkjkFORCRxDHIiIoljkBMRSRyDnIhI4hjkREQSxyAnIpI4BjkRkcQxyImIJI5BTkQkcQxyIiKJY5ATEUkcg5yISOIY5EREEscgJyKSOAY5EZHEMciJiCSOQU5EJHEMciIiift/gezoX+vGz8wAAAAASUVORK5CYII=' width=370.0/>\n",
       "            </div>\n",
       "        "
      ],
      "text/plain": [
       "Canvas(toolbar=Toolbar(toolitems=[('Home', 'Reset original view', 'home', 'home'), ('Back', 'Back to previous …"
      ]
     },
     "metadata": {},
     "output_type": "display_data"
    }
   ],
   "source": [
    "plt.clf()\n",
    "dec.plot_interaction_graph(graph)\n",
    "plt.draw()"
   ]
  },
  {
   "cell_type": "code",
   "execution_count": 27,
   "id": "deaa67a1-6c2f-4305-9332-bf71a16c7d69",
   "metadata": {},
   "outputs": [],
   "source": [
    "X0 = torch.tile(x0.T, (N,1))\n",
    "U0 = torch.zeros((N, n_controls*n_agents))"
   ]
  },
  {
   "cell_type": "code",
   "execution_count": 28,
   "id": "3a50e984-954e-40c4-bff3-6371d6a153a3",
   "metadata": {},
   "outputs": [
    {
     "name": "stdout",
     "output_type": "stream",
     "text": [
      "0/50\tJ: 26379.9\n",
      "1/50\tJ: 1868\tμ: 0.5\tΔ: 0.5\n",
      "2/50\tJ: 1864.47\tμ: 0.125\tΔ: 0.25\n",
      "Problem 100: [100]\n",
      "Took 0.7208006999990175 seconds\n",
      "============================================================\n",
      "0/50\tJ: 11356\n",
      "1/50\tJ: 832.618\tμ: 0.5\tΔ: 0.5\n",
      "2/50\tJ: 803.053\tμ: 0.125\tΔ: 0.25\n",
      "Problem 101: [101]\n",
      "Took 0.6880504000000656 seconds\n",
      "============================================================\n",
      "0/50\tJ: 5961.45\n",
      "1/50\tJ: 1192.64\tμ: 0.5\tΔ: 0.5\n",
      "2/50\tJ: 440.511\tμ: 0.125\tΔ: 0.25\n",
      "3/50\tJ: 433.58\tμ: 0.015625\tΔ: 0.125\n",
      "4/50\tJ: 432.923\tμ: 0.000976562\tΔ: 0.0625\n",
      "Problem 102: [102]\n",
      "Took 1.1082776999992348 seconds\n",
      "============================================================\n",
      "0/50\tJ: 14061\n",
      "1/50\tJ: 4776.3\tμ: 0.5\tΔ: 0.5\n",
      "2/50\tJ: 1114.57\tμ: 0.125\tΔ: 0.25\n",
      "3/50\tJ: 1069.2\tμ: 0.015625\tΔ: 0.125\n",
      "4/50\tJ: 1034.89\tμ: 0.000976562\tΔ: 0.0625\n",
      "5/50\tJ: 1028.54\tμ: 3.05176e-05\tΔ: 0.03125\n",
      "6/50\tJ: 1025.82\tμ: 0\tΔ: 0.015625\n",
      "7/50\tJ: 1024.56\tμ: 0\tΔ: 0.0078125\n",
      "Problem 103: [103]\n",
      "Took 2.0048832000011316 seconds\n",
      "============================================================\n",
      "0/50\tJ: 3742.75\n",
      "1/50\tJ: 518.531\tμ: 0.5\tΔ: 0.5\n",
      "2/50\tJ: 271.294\tμ: 0.125\tΔ: 0.25\n",
      "3/50\tJ: 270.03\tμ: 0.015625\tΔ: 0.125\n",
      "Problem 104: [104]\n",
      "Took 0.9447392000001855 seconds\n",
      "============================================================\n",
      "CPU times: user 5.5 s, sys: 48.5 ms, total: 5.55 s\n",
      "Wall time: 5.53 s\n"
     ]
    }
   ],
   "source": [
    "%%time\n",
    "X_dec, U_dec, J_dec = dec.solve_decentralized(prob, X0, U0, radius, is_mp=False)"
   ]
  },
  {
   "cell_type": "code",
   "execution_count": 78,
   "id": "f86c1bc4-080d-4fb2-b316-4da8f917b3a1",
   "metadata": {},
   "outputs": [],
   "source": [
    "plt.clf()\n",
    "plot_solve(X_dec, J_dec, x_goal.numpy(), x_dims)"
   ]
  },
  {
   "cell_type": "code",
   "execution_count": 29,
   "id": "4856bf08-5d40-4102-8806-c1ac8fce260b",
   "metadata": {},
   "outputs": [],
   "source": [
    "X = X_dec.clone()"
   ]
  },
  {
   "cell_type": "markdown",
   "id": "27478146-3f83-4e15-8202-833edd93f879",
   "metadata": {
    "tags": []
   },
   "source": [
    "## decentralized multi-agent receding horizon\n",
    "Adding RHC to the decentralized implementation would just be a matter of indexing a subset of the generated states in the combined decentralized solutions."
   ]
  },
  {
   "cell_type": "markdown",
   "id": "ce44002f-d19a-4f80-9e38-9a9bf4f3a2d0",
   "metadata": {},
   "source": [
    "## animation"
   ]
  },
  {
   "cell_type": "code",
   "execution_count": 52,
   "id": "fd5d8eee-d9af-4c29-9b1e-abe38ddccc90",
   "metadata": {},
   "outputs": [
    {
     "data": {
      "application/vnd.jupyter.widget-view+json": {
       "model_id": "4de6ccdb7ec1493d82f25c9e2c59ab17",
       "version_major": 2,
       "version_minor": 0
      },
      "image/png": "[encoded data removed]",
      "text/html": [
       "\n",
       "            <div style=\"display: inline-block;\">\n",
       "                <div class=\"jupyter-widgets widget-label\" style=\"text-align: center;\">\n",
       "                    Figure\n",
       "                </div>\n",
       "                <img src='data:image/png;base64,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' width=500.0/>\n",
       "            </div>\n",
       "        "
      ],
      "text/plain": [
       "Canvas(toolbar=Toolbar(toolitems=[('Home', 'Reset original view', 'home', 'home'), ('Back', 'Back to previous …"
      ]
     },
     "metadata": {},
     "output_type": "display_data"
    }
   ],
   "source": [
    "_, axes = plt.subplots(1, 2, figsize=(5.0, 3.7))"
   ]
  },
  {
   "cell_type": "code",
   "execution_count": 50,
   "id": "86412aa3-9981-4600-a2a2-2211da3ec579",
   "metadata": {},
   "outputs": [],
   "source": [
    "def setup(axes, X, x_goal, x_dims, radius):\n",
    "    \n",
    "    ax1, ax2 = axes\n",
    "    n_agents = len(x_dims)\n",
    "    handles1 = []\n",
    "    for i in range(n_agents):\n",
    "        handles1.append((\n",
    "            ax1.plot(0, c=plt.cm.tab20.colors[2*i], marker='o', markersize=4)[0],\n",
    "            ax1.add_artist(plt.Circle(np.nan, radius, color='k', fill=True, alpha=0.3, lw=2)),\n",
    "        ))\n",
    "        \n",
    "    for xg in split_agents(x_goal, x_dims):\n",
    "        ax1.scatter(xg[0,0], xg[0,1], c='r', marker='x', zorder=10)\n",
    "\n",
    "    X_cat = np.vstack(split_agents(X, x_dims))\n",
    "    pocketknives.set_bounds(X_cat, axes[0], zoom=0.15)\n",
    "    plt.draw()\n",
    "    \n",
    "    handles2 = []\n",
    "    n_pairs = pocketknives.nchoosek(n_agents, 2)\n",
    "    for i in range(n_pairs):\n",
    "        handles2.append(ax2.plot(0, c=plt.cm.tab20.colors[2*i])[0])\n",
    "    ax2.hlines(radius, 0, X.shape[0], 'r', ls='--')\n",
    "    ax2.set_ylim(0.0, distances.max())\n",
    "        \n",
    "    return handles1, handles2\n",
    "    \n",
    "def animate(t, handles1, handles2, X, x_dims, x_goal, distances):\n",
    "    \"\"\"Animate the solution into a gif\"\"\"\n",
    "    \n",
    "    for (i, xi), hi in zip(enumerate(split_agents(X, x_dims)), handles1):\n",
    "        hi[0].set_xdata(xi[:t,0])\n",
    "        hi[0].set_ydata(xi[:t,1])\n",
    "        hi[1].set_center(xi[t-1,:2])\n",
    "        \n",
    "    for i, hi in enumerate(handles2):\n",
    "        hi.set_xdata(range(t))\n",
    "        hi.set_ydata(distances[:t, i])\n",
    "    \n",
    "    plt.draw()\n",
    "    "
   ]
  },
  {
   "cell_type": "code",
   "execution_count": 51,
   "id": "d23639a7-3ef6-438f-a215-12798324ac8d",
   "metadata": {},
   "outputs": [],
   "source": [
    "distances = dec.compute_pairwise_distance(X, x_dims).T\n",
    "handles1, handles2 = setup(axes, X, x_goal.flatten(), x_dims, radius)\n",
    "animate(10, handles1, handles2, X, x_dims, x_goal, distances)\n",
    "plt.draw()"
   ]
  },
  {
   "cell_type": "code",
   "execution_count": 53,
   "id": "cb12a6da-32df-47e7-bb14-d0f52afdcd71",
   "metadata": {},
   "outputs": [
    {
     "name": "stderr",
     "output_type": "stream",
     "text": [
      "MovieWriter ffmpeg unavailable; using Pillow instead.\n"
     ]
    }
   ],
   "source": [
    "handles = setup(axes, X, x_goal.flatten(), x_dims, radius)\n",
    "anim = FuncAnimation(\n",
    "    plt.gcf(), \n",
    "    animate, \n",
    "    frames=N+1, \n",
    "    fargs=(*handles, X, x_dims, x_goal, distances))\n",
    "anim.save('traj.gif', fps=5)"
   ]
  },
  {
   "cell_type": "code",
   "execution_count": null,
   "id": "b07afc16-1532-42b3-8c41-479132ac9bc0",
   "metadata": {},
   "outputs": [],
   "source": []
  },
  {
   "cell_type": "code",
   "execution_count": null,
   "id": "18e04e80-d538-48a0-8e59-d9377ec87bc6",
   "metadata": {},
   "outputs": [],
   "source": []
  },
  {
   "cell_type": "code",
   "execution_count": null,
   "id": "22f08729-6a64-4ede-9624-b5b4fd25a825",
   "metadata": {},
   "outputs": [],
   "source": []
  }
 ],
 "metadata": {
  "interpreter": {
   "hash": "a7155dc2877aad5861451e8991f2ffb7161aaf8d218c61a24e89522653b6db1c"
  },
  "kernelspec": {
   "display_name": "Python 3 (ipykernel)",
   "language": "python",
   "name": "python3"
  },
  "language_info": {
   "codemirror_mode": {
    "name": "ipython",
    "version": 3
   },
   "file_extension": ".py",
   "mimetype": "text/x-python",
   "name": "python",
   "nbconvert_exporter": "python",
   "pygments_lexer": "ipython3",
   "version": "3.10.4"
  }
 },
 "nbformat": 4,
 "nbformat_minor": 5
}
