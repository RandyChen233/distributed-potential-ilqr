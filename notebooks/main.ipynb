{
 "cells": [
  {
   "cell_type": "markdown",
   "id": "dc93dafc-34e9-4a69-a56f-29c3bb713e71",
   "metadata": {
    "tags": []
   },
   "source": [
    "# take2\n",
    "\n",
    "**GOAL**: Keep It Stupid Simple = KISS.\n",
    "\n",
    "**Dependencies:**\n",
    " - [pocketknives](https://github.com/zjwilliams20/pocketknives)\n",
    "\n",
    "**References:**\n",
    " 1. [ilqgames/python](https://github.com/HJReachability/ilqgames/blob/master/python)"
   ]
  },
  {
   "cell_type": "code",
   "execution_count": 1,
   "id": "5af0f28d-2b3f-4be6-93b8-8952dfe73058",
   "metadata": {},
   "outputs": [],
   "source": [
    "import itertools\n",
    "import random\n",
    "from time import perf_counter as pc\n",
    "\n",
    "import numpy as np\n",
    "import matplotlib.pyplot as plt\n",
    "from matplotlib.animation import FuncAnimation\n",
    "from scipy.spatial.transform import Rotation\n",
    "import torch\n",
    "\n",
    "from decentralized import split_agents\n",
    "import decentralized as dec\n",
    "import pocketknives\n",
    "\n",
    "π = np.pi"
   ]
  },
  {
   "cell_type": "code",
   "execution_count": 2,
   "id": "14b8776e-8546-446f-8bc3-ee319d701b2b",
   "metadata": {},
   "outputs": [],
   "source": [
    "%load_ext autoreload\n",
    "%autoreload 1\n",
    "%aimport decentralized.control, decentralized.dynamics, decentralized.cost, decentralized.problem"
   ]
  },
  {
   "cell_type": "code",
   "execution_count": 3,
   "id": "91cd6f19-d6ad-4d1b-b72f-829d26663d52",
   "metadata": {},
   "outputs": [],
   "source": [
    "%matplotlib widget\n",
    "plt.rcParams['axes.grid'] = True"
   ]
  },
  {
   "cell_type": "code",
   "execution_count": 4,
   "id": "5caba289-740d-46cf-aba0-faa5b1a915cd",
   "metadata": {},
   "outputs": [
    {
     "data": {
      "application/vnd.jupyter.widget-view+json": {
       "model_id": "db4203a0341b47b88755c06183378f8d",
       "version_major": 2,
       "version_minor": 0
      },
      "image/png": "[encoded data removed]",
      "text/html": [
       "\n",
       "            <div style=\"display: inline-block;\">\n",
       "                <div class=\"jupyter-widgets widget-label\" style=\"text-align: center;\">\n",
       "                    Figure\n",
       "                </div>\n",
       "                <img src='data:image/png;base64,iVBORw0KGgoAAAANSUhEUgAAAXIAAAFyCAYAAADoJFEJAAAAOXRFWHRTb2Z0d2FyZQBNYXRwbG90bGliIHZlcnNpb24zLjUuMSwgaHR0cHM6Ly9tYXRwbG90bGliLm9yZy/YYfK9AAAACXBIWXMAAA9hAAAPYQGoP6dpAAAFLklEQVR4nO3UQQ0AIBDAMMC/50MED7KkVbDX9szMAiDr/A4A4I2RA8QZOUCckQPEGTlAnJEDxBk5QJyRA8QZOUCckQPEGTlAnJEDxBk5QJyRA8QZOUCckQPEGTlAnJEDxBk5QJyRA8QZOUCckQPEGTlAnJEDxBk5QJyRA8QZOUCckQPEGTlAnJEDxBk5QJyRA8QZOUCckQPEGTlAnJEDxBk5QJyRA8QZOUCckQPEGTlAnJEDxBk5QJyRA8QZOUCckQPEGTlAnJEDxBk5QJyRA8QZOUCckQPEGTlAnJEDxBk5QJyRA8QZOUCckQPEGTlAnJEDxBk5QJyRA8QZOUCckQPEGTlAnJEDxBk5QJyRA8QZOUCckQPEGTlAnJEDxBk5QJyRA8QZOUCckQPEGTlAnJEDxBk5QJyRA8QZOUCckQPEGTlAnJEDxBk5QJyRA8QZOUCckQPEGTlAnJEDxBk5QJyRA8QZOUCckQPEGTlAnJEDxBk5QJyRA8QZOUCckQPEGTlAnJEDxBk5QJyRA8QZOUCckQPEGTlAnJEDxBk5QJyRA8QZOUCckQPEGTlAnJEDxBk5QJyRA8QZOUCckQPEGTlAnJEDxBk5QJyRA8QZOUCckQPEGTlAnJEDxBk5QJyRA8QZOUCckQPEGTlAnJEDxBk5QJyRA8QZOUCckQPEGTlAnJEDxBk5QJyRA8QZOUCckQPEGTlAnJEDxBk5QJyRA8QZOUCckQPEGTlAnJEDxBk5QJyRA8QZOUCckQPEGTlAnJEDxBk5QJyRA8QZOUCckQPEGTlAnJEDxBk5QJyRA8QZOUCckQPEGTlAnJEDxBk5QJyRA8QZOUCckQPEGTlAnJEDxBk5QJyRA8QZOUCckQPEGTlAnJEDxBk5QJyRA8QZOUCckQPEGTlAnJEDxBk5QJyRA8QZOUCckQPEGTlAnJEDxBk5QJyRA8QZOUCckQPEGTlAnJEDxBk5QJyRA8QZOUCckQPEGTlAnJEDxBk5QJyRA8QZOUCckQPEGTlAnJEDxBk5QJyRA8QZOUCckQPEGTlAnJEDxBk5QJyRA8QZOUCckQPEGTlAnJEDxBk5QJyRA8QZOUCckQPEGTlAnJEDxBk5QJyRA8QZOUCckQPEGTlAnJEDxBk5QJyRA8QZOUCckQPEGTlAnJEDxBk5QJyRA8QZOUCckQPEGTlAnJEDxBk5QJyRA8QZOUCckQPEGTlAnJEDxBk5QJyRA8QZOUCckQPEGTlAnJEDxBk5QJyRA8QZOUCckQPEGTlAnJEDxBk5QJyRA8QZOUCckQPEGTlAnJEDxBk5QJyRA8QZOUCckQPEGTlAnJEDxBk5QJyRA8QZOUCckQPEGTlAnJEDxBk5QJyRA8QZOUCckQPEGTlAnJEDxBk5QJyRA8QZOUCckQPEGTlAnJEDxBk5QJyRA8QZOUCckQPEGTlAnJEDxBk5QJyRA8QZOUCckQPEGTlAnJEDxBk5QJyRA8QZOUCckQPEGTlAnJEDxBk5QJyRA8QZOUCckQPEGTlAnJEDxBk5QJyRA8QZOUCckQPEGTlAnJEDxBk5QJyRA8QZOUCckQPEGTlAnJEDxBk5QJyRA8QZOUCckQPEGTlAnJEDxBk5QJyRA8QZOUCckQPEGTlAnJEDxBk5QJyRA8QZOUCckQPEGTlAnJEDxBk5QJyRA8QZOUCckQPEGTlAnJEDxBk5QJyRA8QZOUCckQPEGTlAnJEDxBk5QJyRA8QZOUCckQPEGTlAnJEDxBk5QJyRA8QZOUDcBUYHBuDijI5tAAAAAElFTkSuQmCC' width=370.0/>\n",
       "            </div>\n",
       "        "
      ],
      "text/plain": [
       "Canvas(toolbar=Toolbar(toolitems=[('Home', 'Reset original view', 'home', 'home'), ('Back', 'Back to previous …"
      ]
     },
     "metadata": {},
     "output_type": "display_data"
    }
   ],
   "source": [
    "fig = plt.figure(figsize=(3.7, 3.7))"
   ]
  },
  {
   "cell_type": "code",
   "execution_count": 5,
   "id": "94329606-5110-4dd0-bcb4-8cbeeeaf6fe1",
   "metadata": {},
   "outputs": [],
   "source": [
    "def pos_mask(x_dims):\n",
    "    \"\"\"Return a mask that's true wherever there's an x or y position\"\"\" \n",
    "    return np.array([i % x_dims[0] < 2 for i in range(sum(x_dims))])"
   ]
  },
  {
   "cell_type": "code",
   "execution_count": 6,
   "id": "2552858f-2662-40ce-90a2-25b30315b7fe",
   "metadata": {},
   "outputs": [],
   "source": [
    "def plot_solve(X, J, x_goal, x_dims=None):\n",
    "    \"\"\"Plot the resultant trajectory on plt.gcf()\"\"\"\n",
    "\n",
    "    plt.clf()\n",
    "    \n",
    "    if not x_dims:\n",
    "        x_dims = [X.shape[1]]\n",
    "        \n",
    "    N = X.shape[0]\n",
    "    t = np.arange(N) * dt\n",
    "    \n",
    "    X_split = split_agents(X, x_dims)\n",
    "    x_goal_split = split_agents(x_goal.reshape(1,-1), x_dims)\n",
    "    \n",
    "    for Xi, xg in zip(X_split, x_goal_split):\n",
    "        plt.scatter(Xi[:,0], Xi[:,1], c=t)\n",
    "        plt.scatter(Xi[0,0], Xi[0,1], 80, 'g', 'x', label=\"$x_0$\")\n",
    "        plt.scatter(xg[0,0], xg[0,1], 80, 'r', 'x', label=\"$x_f$\")\n",
    "    \n",
    "    plt.margins(0.1)\n",
    "    plt.title(f\"Final Cost: {J:.3g}\")"
   ]
  },
  {
   "cell_type": "markdown",
   "id": "b4e6bfed-7dbc-489d-ac20-66c1e4a1a25a",
   "metadata": {
    "tags": []
   },
   "source": [
    "## single-agent problem"
   ]
  },
  {
   "cell_type": "code",
   "execution_count": 8,
   "id": "31bdf618-4e0b-42e4-b9af-2f0b8cdab4f7",
   "metadata": {},
   "outputs": [
    {
     "name": "stdout",
     "output_type": "stream",
     "text": [
      "0/50\tJ: 210000\n",
      "1/50\tJ: 106051\tμ: 0.5\tΔ: 0.5\n",
      "2/50\tJ: 4572.96\tμ: 0.125\tΔ: 0.25\n",
      "3/50\tJ: 2783.66\tμ: 0.015625\tΔ: 0.125\n",
      "4/50\tJ: 2511.76\tμ: 0.000976562\tΔ: 0.0625\n",
      "5/50\tJ: 2329.04\tμ: 3.05176e-05\tΔ: 0.03125\n",
      "6/50\tJ: 2322.72\tμ: 0\tΔ: 0.015625\n",
      "7/50\tJ: 2271.32\tμ: 0\tΔ: 0.0078125\n",
      "8/50\tJ: 2261.2\tμ: 0\tΔ: 0.00390625\n",
      "9/50\tJ: 2258.84\tμ: 0\tΔ: 0.00195312\n"
     ]
    }
   ],
   "source": [
    "dt = 0.1\n",
    "N = 50\n",
    "\n",
    "x = torch.tensor([-10, 10, 0], dtype=torch.float, requires_grad=True)\n",
    "x_goal = torch.zeros((3, 1), dtype=torch.float).T\n",
    "\n",
    "dynamics = dec.CarDynamics3D(dt)\n",
    "\n",
    "Q = torch.diag(torch.tensor([1., 1, 0]))\n",
    "Qf = 1000 * torch.eye(Q.shape[0])\n",
    "R = torch.eye(2)\n",
    "cost = dec.ReferenceCost(x_goal, Q, R, Qf)\n",
    "\n",
    "prob = dec.NavigationProblem(dynamics, cost)\n",
    "ilqr = dec.iLQR(prob, x.numel(), 2, dt, N)\n",
    "X, U, J = ilqr.solve(x)\n",
    "plot_solve(X, J, x_goal.numpy())"
   ]
  },
  {
   "cell_type": "markdown",
   "id": "fa52b336-88bc-4de5-985c-3f8a885f5e00",
   "metadata": {
    "tags": []
   },
   "source": [
    "## multi-agent problem"
   ]
  },
  {
   "cell_type": "markdown",
   "id": "642a633c-4682-40c7-95c3-9825a74791a4",
   "metadata": {
    "tags": []
   },
   "source": [
    "### initializing the scene\n",
    "Here, we define some initial positions within some distance of each other, and then rotate them about the origin by some random angle to hopefully create some interesting scenarios."
   ]
  },
  {
   "cell_type": "code",
   "execution_count": 7,
   "id": "ae45c06e-008b-4470-9fd8-6939e8d75241",
   "metadata": {},
   "outputs": [],
   "source": [
    "def randomize_locs(n_pts, min_sep=3.0, var=3.0, n_dim=2):\n",
    "    \"\"\"Uniformly randomize locations of points in N-D while enforcing\n",
    "       a minimum separation between them.\n",
    "    \"\"\" \n",
    "    \n",
    "    # Distance to move away from center if we're too close.\n",
    "    Δ = 0.1 * n_pts\n",
    "    x = var * np.random.uniform(-1, 1, (n_pts, n_dim))\n",
    "    \n",
    "    # Determine the pair-wise indicies for an arbitrary number of agents.\n",
    "    pair_inds = np.array(list(itertools.combinations(range(n_pts), 2)))\n",
    "    move_inds = np.arange(n_pts)\n",
    "\n",
    "    # Keep moving points away from center until we satisfy radius\n",
    "    while move_inds.size:\n",
    "        center = np.mean(x, axis=0)\n",
    "        distances = dec.compute_pairwise_distance(x.flatten(), [n_dim]*n_pts)\n",
    "\n",
    "        move_inds = pair_inds[distances.flatten() <= min_sep]\n",
    "        x[move_inds] += Δ * (x[move_inds] - center)\n",
    "    \n",
    "    return x\n",
    "\n",
    "def face_goal(x0, x_goal):\n",
    "    \"\"\"Make the agents face the direction of their goal with a little noise\"\"\"\n",
    "    \n",
    "    VAR = 0.01\n",
    "    dX = x_goal[:,:2] - x0[:,:2]\n",
    "    headings = np.arctan2(*np.rot90(dX, 1))\n",
    "    \n",
    "    x0[:,2] = headings + VAR * np.random.randn(x0.shape[0])\n",
    "    x_goal[:,2] = headings + VAR * np.random.randn(x0.shape[0])\n",
    "    \n",
    "    return x0, x_goal\n",
    "\n",
    "def random_setup(n_agents, n_states, **kwargs):\n",
    "    \"\"\"Create a randomized set up of initial and final positions\"\"\"\n",
    "    \n",
    "    # Rotate the initial points by some amount about the center.\n",
    "    theta = π + random.uniform(-π/4, π/4)\n",
    "    R = Rotation.from_euler('z', theta).as_matrix()[:2, :2]\n",
    "\n",
    "    # We don't have to normlize for energy here\n",
    "    x_i = randomize_locs(n_agents, **kwargs)\n",
    "    x_f = x_i @ R + x_i.mean(axis=0)\n",
    "    # x_f = randomize_locs(n_agents, 3.0)\n",
    "\n",
    "    x0 = np.c_[x_i, np.zeros((n_agents, n_states-2))]\n",
    "    x_goal = np.c_[x_f, np.zeros((n_agents, n_states-2))]\n",
    "    x0, x_goal = face_goal(x0, x_goal)\n",
    "    \n",
    "    x0 = torch.from_numpy(x0).requires_grad_(True).type(torch.float)\n",
    "    x_goal = torch.from_numpy(x_goal).type(torch.float)\n",
    "    \n",
    "    return x0.reshape(-1,1), x_goal.reshape(-1,1)"
   ]
  },
  {
   "cell_type": "code",
   "execution_count": 8,
   "id": "73c7053f-f679-4cb4-935c-751338b7ca08",
   "metadata": {},
   "outputs": [],
   "source": [
    "def paper_setup():\n",
    "    \"\"\"Hardcoded example with reasonable consistency eyeballed from \n",
    "       Potential-iLQR paper\n",
    "    \"\"\"\n",
    "    x0 = torch.tensor([[0.5, 1.5, 0.1, 0,\n",
    "                        2.5, 1.5, π, 0,\n",
    "                        1.5, 1.3, π/2, 0]], \n",
    "                     dtype=torch.float, requires_grad=True).T\n",
    "    x_goal = torch.tensor([[2.5, 1.5, 0, 0, \n",
    "                            0.5, 1.5, π, 0, \n",
    "                            1.5, 2.2, π/2, 0]]).T\n",
    "    return x0, x_goal\n",
    "\n",
    "def car_setup():\n",
    "    \"\"\"Same as paper_setup but using car dynamics\"\"\"\n",
    "    x0, x_goal = paper_setup()\n",
    "    car_mask = [i % 4 < 3 for i in range(x0.shape[0])]\n",
    "    return x0[car_mask], x_goal[car_mask]\n",
    "\n",
    "def bike_setup():\n",
    "    \"\"\"Same as paper_setup but using bike dynamics\"\"\"\n",
    "    N_AGENTS = 3\n",
    "    N_STATES = 5\n",
    "    n_total_states = N_AGENTS * N_STATES\n",
    "    bike_mask = [i % 5 < 4 for i in range(n_total_states)]\n",
    "    \n",
    "    x0, x_goal = paper_setup()\n",
    "    x0_bike = torch.zeros(n_total_states, 1)\n",
    "    x_goal_bike = torch.zeros_like(x0_bike)\n",
    "    x0_bike[bike_mask] = x0\n",
    "    x_goal_bike[bike_mask] = x_goal\n",
    "    \n",
    "    return x0_bike, x_goal_bike\n",
    "\n",
    "def double_int_setup():\n",
    "    x0, x_goal = paper_setup()\n",
    "    theta_mask = [i % 4 == 2 for i in range(x0.shape[0])]\n",
    "    with torch.no_grad():\n",
    "        x0[theta_mask] = 0.0\n",
    "        x_goal[theta_mask] = 0.0\n",
    "\n",
    "    return x0, x_goal\n",
    "\n",
    "def dec_test_setup():\n",
    "    x0, x_goal = paper_setup()\n",
    "    x0_other = torch.tensor([[5, 5, 0, 0,\n",
    "                              6, 6, π/4, 0]]).T\n",
    "    x_goal_other = torch.tensor([[6, 4, -π/2, 0,\n",
    "                                  4, 6, π/4, 0]]).T\n",
    "    \n",
    "    x0 = torch.cat([x0, x0_other]) \n",
    "    x_goal = torch.cat([x_goal, x_goal_other])    \n",
    "    \n",
    "    return x0, x_goal"
   ]
  },
  {
   "cell_type": "markdown",
   "id": "f1ef5759-be12-4088-a4e6-fdc845d0d7eb",
   "metadata": {},
   "source": [
    "To be consistent between simulations, we normalize for the scale of the setup by computing the *energy*, or the sum of distances from the origin of the points. This should be the same for all runs."
   ]
  },
  {
   "cell_type": "code",
   "execution_count": 25,
   "id": "b87271ac-82e9-42d7-9276-824d05a26f4b",
   "metadata": {},
   "outputs": [],
   "source": [
    "def compute_energy(x, x_dims):\n",
    "    \"\"\"Determine the sum of distances from the origin\"\"\"\n",
    "    return torch.sum(x[pos_mask(x_dims)].reshape(-1,2).norm(dim=1)).item()\n",
    "\n",
    "def normalize_energy(x, x_dims, energy=10.0):\n",
    "    \"\"\"Zero-center the coordinates and then ensure the sum of \n",
    "       squared distances == energy\n",
    "    \"\"\"\n",
    "    \n",
    "    # Don't mutate x's data for this function, keep it pure.\n",
    "    x = x.clone()\n",
    "    n_agents = len(x_dims)\n",
    "    center = x[pos_mask(x_dims)].reshape(-1, 2).mean(0)\n",
    "\n",
    "    with torch.no_grad():\n",
    "        x[pos_mask(x_dims)] -= center.tile(n_agents).reshape(-1,1)\n",
    "        x[pos_mask(x_dims)] *= energy / compute_energy(x, x_dims)\n",
    "    assert x.numel() == sum(x_dims)\n",
    "    \n",
    "    return x\n",
    "\n",
    "def perturb_state(x, x_dims, var=0.5):\n",
    "    \"\"\"Add a little noise to the start to knock off perfect symmetries\"\"\"\n",
    "    \n",
    "    x = x.clone()\n",
    "    with torch.no_grad():\n",
    "        x[pos_mask(x_dims)] += var*torch.randn_like(x[pos_mask(x_dims)])\n",
    "    \n",
    "    return x"
   ]
  },
  {
   "cell_type": "code",
   "execution_count": 41,
   "id": "1d5df34d-5e4d-454b-82d4-33ae3b77f726",
   "metadata": {},
   "outputs": [],
   "source": [
    "n_agents = 5\n",
    "n_states = 4\n",
    "# x0, x_goal = paper_setup()\n",
    "# x0, x_goal = car_setup()\n",
    "# x0, x_goal = bike_setup()\n",
    "# x0, x_goal = double_int_setup()\n",
    "x0, x_goal = dec_test_setup()\n",
    "# x0, x_goal = random_setup(n_agents, min_sep=1.0, var=1.0)\n",
    "\n",
    "x_dims = [n_states] * n_agents\n",
    "u_dims = [2] * n_agents\n",
    "\n",
    "x0 = normalize_energy(x0, x_dims)\n",
    "x_goal = normalize_energy(x_goal, x_dims)\n",
    "# x0 = perturb_state(x0, x_dims)\n",
    "\n",
    "plt.clf()\n",
    "plt.gca().set_aspect('equal')\n",
    "X = torch.dstack([\n",
    "    x0.reshape(n_agents, n_states).detach(), \n",
    "    x_goal.reshape(n_agents, n_states).detach()\n",
    "]).swapaxes(1,2)\n",
    "for i, Xi in enumerate(X):\n",
    "    plt.annotate('', Xi[1,:2], Xi[0,:2], \n",
    "                 arrowprops=dict(facecolor=plt.cm.tab20.colors[2*i]))\n",
    "pocketknives.set_bounds(X.reshape(-1, n_states), zoom=0.2)"
   ]
  },
  {
   "cell_type": "code",
   "execution_count": 42,
   "id": "1f606b8b-543c-442a-8e82-7d1118b629ee",
   "metadata": {},
   "outputs": [],
   "source": [
    "dt = 0.05\n",
    "N = 50\n",
    "tol = 1e-3\n",
    "\n",
    "model = dec.UnicycleDynamics4D(dt)\n",
    "# model = dec.CarDynamics3D(dt)\n",
    "# model = dec.BikeDynamics5D(dt)\n",
    "# model = dec.DoubleIntDynamics4D(dt)\n",
    "dynamics = dec.MultiDynamicalModel([model] * n_agents)\n",
    "\n",
    "Q = 4 * torch.diag(torch.tensor([1., 1, 0, 0]).tile(n_agents))\n",
    "# Qf = 1000 * torch.eye(Q.shape[0])\n",
    "Qf = 1000 * torch.diag(torch.tensor([1., 1, 1, 1]).tile(n_agents))\n",
    "R = torch.eye(2*n_agents)\n",
    "\n",
    "radius = 0.5\n",
    "\n",
    "goal_cost = dec.ReferenceCost(x_goal, Q, R, Qf)\n",
    "prox_cost = dec.ProximityCost(x_dims, radius)\n",
    "game_cost = dec.GameCost(goal_cost, prox_cost)\n",
    "\n",
    "prob = dec.NavigationProblem(dynamics, game_cost)"
   ]
  },
  {
   "cell_type": "code",
   "execution_count": 43,
   "id": "563b0318-aef0-4483-afb9-9dae0352b3df",
   "metadata": {},
   "outputs": [
    {
     "name": "stdout",
     "output_type": "stream",
     "text": [
      "0/50\tJ: 12254.5\n",
      "1/50\tJ: 2401.6\tμ: 0.5\tΔ: 0.5\n",
      "2/50\tJ: 1762.85\tμ: 0.125\tΔ: 0.25\n",
      "3/50\tJ: 1088.79\tμ: 0.015625\tΔ: 0.125\n",
      "4/50\tJ: 1054.66\tμ: 0.000976562\tΔ: 0.0625\n",
      "5/50\tJ: 1051.38\tμ: 3.05176e-05\tΔ: 0.03125\n",
      "CPU times: user 13.8 s, sys: 24.4 ms, total: 13.8 s\n",
      "Wall time: 13.8 s\n"
     ]
    }
   ],
   "source": [
    "%%time\n",
    "# %%prun\n",
    "ilqr = dec.iLQR(prob, x0.numel(), 2*n_agents, dt, N)\n",
    "t0 = pc()\n",
    "X, U, J = ilqr.solve(x0, tol=tol)\n",
    "\n",
    "# t_solve = pc() - t0\n",
    "# with open('out.log', 'a') as file:\n",
    "#     file.write(f\"{type(ilqr)}\\t{t_solve=:.8g}\\t{J=:.8g}\\n\")"
   ]
  },
  {
   "cell_type": "code",
   "execution_count": 44,
   "id": "f583a3f3-8ec4-482d-b904-c957475a345a",
   "metadata": {},
   "outputs": [],
   "source": [
    "plot_solve(X, J, x_goal.numpy(), x_dims)"
   ]
  },
  {
   "cell_type": "code",
   "execution_count": 47,
   "id": "3cd022f1-dba1-48a1-84c7-90109a32d42b",
   "metadata": {},
   "outputs": [
    {
     "data": {
      "text/plain": [
       "tensor([ True,  True, False, False,  True, False, False, False, False,  True])"
      ]
     },
     "execution_count": 47,
     "metadata": {},
     "output_type": "execute_result"
    }
   ],
   "source": [
    "planning_radii = radius * 2\n",
    "pair_inds = np.array(list(itertools.combinations(range(n_agents), 2)))\n",
    "rel_dists = dec.compute_pairwise_distance(X, x_dims)\n",
    "plan_mask = torch.any(rel_dists < planning_radii, axis=1)\n",
    "plan_mask"
   ]
  },
  {
   "cell_type": "code",
   "execution_count": 48,
   "id": "d09586dc-6dc0-4d77-97aa-8ba3a447c2ec",
   "metadata": {},
   "outputs": [
    {
     "data": {
      "text/plain": [
       "array([[0, 1],\n",
       "       [0, 2],\n",
       "       [0, 3],\n",
       "       [0, 4],\n",
       "       [1, 2],\n",
       "       [1, 3],\n",
       "       [1, 4],\n",
       "       [2, 3],\n",
       "       [2, 4],\n",
       "       [3, 4]])"
      ]
     },
     "execution_count": 48,
     "metadata": {},
     "output_type": "execute_result"
    }
   ],
   "source": [
    "pair_inds"
   ]
  },
  {
   "cell_type": "code",
   "execution_count": 49,
   "id": "8704d37f-168d-4c85-9b25-923faf8d9902",
   "metadata": {},
   "outputs": [
    {
     "data": {
      "text/plain": [
       "array([[0, 1],\n",
       "       [0, 2],\n",
       "       [1, 2],\n",
       "       [3, 4]])"
      ]
     },
     "execution_count": 49,
     "metadata": {},
     "output_type": "execute_result"
    }
   ],
   "source": [
    "pair_inds[plan_mask]"
   ]
  },
  {
   "cell_type": "code",
   "execution_count": 39,
   "id": "b87a4e75-51b8-4810-b699-4242d87f6435",
   "metadata": {},
   "outputs": [
    {
     "data": {
      "text/plain": [
       "<matplotlib.collections.LineCollection at 0x7f0fa50e7670>"
      ]
     },
     "execution_count": 39,
     "metadata": {},
     "output_type": "execute_result"
    }
   ],
   "source": [
    "plt.clf()\n",
    "plt.plot(dec.compute_pairwise_distance(X, x_dims).T)\n",
    "plt.hlines(radius, *plt.xlim(), 'r', ls='--')"
   ]
  },
  {
   "cell_type": "code",
   "execution_count": 40,
   "id": "d9ae135c-adc9-40ee-87ad-a42fb0f1edfc",
   "metadata": {},
   "outputs": [
    {
     "data": {
      "text/plain": [
       "[<matplotlib.lines.Line2D at 0x7f0fa5e58ca0>]"
      ]
     },
     "execution_count": 40,
     "metadata": {},
     "output_type": "execute_result"
    }
   ],
   "source": [
    "costs = []\n",
    "for xi, ui in zip(X, U):\n",
    "    costs.append(game_cost(xi, ui).item())\n",
    "plt.clf()\n",
    "plt.plot(costs)"
   ]
  },
  {
   "cell_type": "markdown",
   "id": "f66d3a80-59f3-4690-8b97-8f5d874a14a8",
   "metadata": {},
   "source": [
    "## multi-agent receding horizon"
   ]
  },
  {
   "cell_type": "code",
   "execution_count": 67,
   "id": "671563fd-1e6e-46ac-bdf7-87e46a1a099a",
   "metadata": {},
   "outputs": [
    {
     "name": "stdout",
     "output_type": "stream",
     "text": [
      "----------------------------------------\n",
      "Horizon 0\n",
      "0/50\tJ: 22352.9\n",
      "1/50\tJ: 3375.36\tμ: 0.5\tΔ: 0.5\n",
      "2/50\tJ: 3129.7\tμ: 0.125\tΔ: 0.25\n",
      "3/50\tJ: 2797.21\tμ: 0.015625\tΔ: 0.125\n",
      "4/50\tJ: 2151.01\tμ: 0.000976562\tΔ: 0.0625\n",
      "5/50\tJ: 1972.18\tμ: 3.05176e-05\tΔ: 0.03125\n",
      "6/50\tJ: 1953.61\tμ: 0\tΔ: 0.015625\n",
      "----------------------------------------\n",
      "Horizon 1\n",
      "0/50\tJ: 985.956\n",
      "1/50\tJ: 943.14\tμ: 0.5\tΔ: 0.5\n",
      "2/50\tJ: 941.029\tμ: 0.125\tΔ: 0.25\n",
      "----------------------------------------\n",
      "Horizon 2\n",
      "0/50\tJ: 439.612\n",
      "1/50\tJ: 423.832\tμ: 0.5\tΔ: 0.5\n",
      "2/50\tJ: 423.229\tμ: 0.125\tΔ: 0.25\n",
      "----------------------------------------\n",
      "Horizon 3\n",
      "0/50\tJ: 146.695\n",
      "1/50\tJ: 137.104\tμ: 0.5\tΔ: 0.5\n",
      "2/50\tJ: 136.903\tμ: 0.125\tΔ: 0.25\n",
      "----------------------------------------\n",
      "Horizon 4\n",
      "0/50\tJ: 59.188\n",
      "1/50\tJ: 53.3537\tμ: 0.5\tΔ: 0.5\n",
      "----------------------------------------\n",
      "Horizon 5\n",
      "0/50\tJ: 26.2278\n",
      "1/50\tJ: 23.1142\tμ: 0.5\tΔ: 0.5\n",
      "----------------------------------------\n",
      "Horizon 6\n",
      "0/50\tJ: 12.629\n",
      "1/50\tJ: 11.1042\tμ: 0.5\tΔ: 0.5\n",
      "----------------------------------------\n",
      "Horizon 7\n",
      "0/50\tJ: 6.59436\n",
      "1/50\tJ: 5.84855\tμ: 0.5\tΔ: 0.5\n",
      "Converged!\n"
     ]
    }
   ],
   "source": [
    "rhc = dec.RecedingHorizonController(x0, ilqr, step_size=10)\n",
    "U0 = torch.zeros((ilqr.N, ilqr.n_u))\n",
    "for Xi, Ui, Ji in rhc.solve(U0, J_converge=10.0, tol=tol):\n",
    "    plot_solve(Xi, Ji, x_goal.numpy(), x_dims)\n",
    "    fig.canvas.draw()"
   ]
  },
  {
   "cell_type": "markdown",
   "id": "68c1de09-898c-411a-896b-c4000ec679cf",
   "metadata": {},
   "source": [
    "## decentralized multi-agent receding horizon"
   ]
  },
  {
   "cell_type": "code",
   "execution_count": null,
   "id": "4ceaa301-295a-490e-bb34-27eae619044a",
   "metadata": {},
   "outputs": [],
   "source": []
  },
  {
   "cell_type": "markdown",
   "id": "ce44002f-d19a-4f80-9e38-9a9bf4f3a2d0",
   "metadata": {},
   "source": [
    "## animation"
   ]
  },
  {
   "cell_type": "code",
   "execution_count": 17,
   "id": "86412aa3-9981-4600-a2a2-2211da3ec579",
   "metadata": {},
   "outputs": [],
   "source": [
    "def setup(X, x_goal, x_dims, radius):\n",
    "    plt.clf()\n",
    "    \n",
    "    n_agents = len(x_dims)\n",
    "    ax = plt.gca()\n",
    "    handles = []\n",
    "    for i in range(n_agents):\n",
    "        handles.append((\n",
    "            plt.plot(0, c=plt.cm.tab20.colors[2*i], marker='o', markersize=4)[0],\n",
    "            ax.add_artist(plt.Circle(np.nan, radius, color='k', fill=True, alpha=0.3, lw=2))\n",
    "        ))\n",
    "        \n",
    "    for xg in split_agents(x_goal, x_dims):\n",
    "        plt.scatter(xg[0,0], xg[0,1], c='r', marker='x', zorder=10)\n",
    "\n",
    "    X_cat = np.vstack(split_agents(X, x_dims))\n",
    "    pocketknives.set_bounds(X_cat, zoom=0.3)\n",
    "    \n",
    "    return handles\n",
    "    \n",
    "def animate(t, handles, X, x_dims, x_goal):\n",
    "    \"\"\"Animate the solution into a gif\"\"\"\n",
    "    for (i, xi), hi in zip(enumerate(split_agents(X, x_dims)), handles):\n",
    "        hi[0].set_xdata(xi[:t,0])\n",
    "        hi[0].set_ydata(xi[:t,1])\n",
    "        hi[1].set_center(xi[t-1,:2])\n",
    "    "
   ]
  },
  {
   "cell_type": "code",
   "execution_count": 18,
   "id": "d23639a7-3ef6-438f-a215-12798324ac8d",
   "metadata": {},
   "outputs": [],
   "source": [
    "plt.clf()\n",
    "handles = setup(X, x_goal.flatten(), x_dims, radius)\n",
    "animate(-1, handles, X, x_dims, x_goal)"
   ]
  },
  {
   "cell_type": "code",
   "execution_count": 146,
   "id": "cb12a6da-32df-47e7-bb14-d0f52afdcd71",
   "metadata": {},
   "outputs": [
    {
     "name": "stderr",
     "output_type": "stream",
     "text": [
      "MovieWriter ffmpeg unavailable; using Pillow instead.\n"
     ]
    }
   ],
   "source": [
    "handles = setup(X, x_goal.flatten(), x_dims, radius)\n",
    "anim = FuncAnimation(plt.gcf(), animate, frames=N+1, fargs=(handles, X, x_dims, x_goal))\n",
    "anim.save('traj.gif', fps=5)"
   ]
  },
  {
   "cell_type": "code",
   "execution_count": null,
   "id": "e4cf44ff-2700-43bc-9848-3375985e6227",
   "metadata": {},
   "outputs": [],
   "source": []
  },
  {
   "cell_type": "code",
   "execution_count": null,
   "id": "b07afc16-1532-42b3-8c41-479132ac9bc0",
   "metadata": {},
   "outputs": [],
   "source": []
  },
  {
   "cell_type": "code",
   "execution_count": null,
   "id": "18e04e80-d538-48a0-8e59-d9377ec87bc6",
   "metadata": {},
   "outputs": [],
   "source": []
  }
 ],
 "metadata": {
  "interpreter": {
   "hash": "a7155dc2877aad5861451e8991f2ffb7161aaf8d218c61a24e89522653b6db1c"
  },
  "kernelspec": {
   "display_name": "Python 3 (ipykernel)",
   "language": "python",
   "name": "python3"
  },
  "language_info": {
   "codemirror_mode": {
    "name": "ipython",
    "version": 3
   },
   "file_extension": ".py",
   "mimetype": "text/x-python",
   "name": "python",
   "nbconvert_exporter": "python",
   "pygments_lexer": "ipython3",
   "version": "3.9.12"
  }
 },
 "nbformat": 4,
 "nbformat_minor": 5
}
