{
 "cells": [
  {
   "cell_type": "markdown",
   "id": "dc93dafc-34e9-4a69-a56f-29c3bb713e71",
   "metadata": {
    "tags": []
   },
   "source": [
    "# take2\n",
    "\n",
    "**GOAL**: Keep It Stupid Simple = KISS.\n",
    "\n",
    "**Dependencies:**\n",
    " - [pocketknives](https://github.com/zjwilliams20/pocketknives)\n",
    "\n",
    "**References:**\n",
    " 1. [ilqgames/python](https://github.com/HJReachability/ilqgames/blob/master/python)"
   ]
  },
  {
   "cell_type": "code",
   "execution_count": 1,
   "id": "5af0f28d-2b3f-4be6-93b8-8952dfe73058",
   "metadata": {},
   "outputs": [],
   "source": [
    "from time import perf_counter as pc\n",
    "\n",
    "import numpy as np\n",
    "import matplotlib.pyplot as plt\n",
    "from matplotlib.animation import FuncAnimation\n",
    "import torch\n",
    "\n",
    "from decentralized import split_agents\n",
    "import decentralized as dec\n",
    "import pocketknives\n",
    "\n",
    "π = np.pi"
   ]
  },
  {
   "cell_type": "code",
   "execution_count": 2,
   "id": "14b8776e-8546-446f-8bc3-ee319d701b2b",
   "metadata": {},
   "outputs": [],
   "source": [
    "%load_ext autoreload\n",
    "%autoreload 1\n",
    "%aimport decentralized.control, decentralized.dynamics, decentralized.cost, decentralized.problem, decentralized.util"
   ]
  },
  {
   "cell_type": "code",
   "execution_count": 3,
   "id": "91cd6f19-d6ad-4d1b-b72f-829d26663d52",
   "metadata": {},
   "outputs": [],
   "source": [
    "%matplotlib widget\n",
    "plt.rcParams['axes.grid'] = True"
   ]
  },
  {
   "cell_type": "code",
   "execution_count": 4,
   "id": "5caba289-740d-46cf-aba0-faa5b1a915cd",
   "metadata": {},
   "outputs": [
    {
     "data": {
      "application/vnd.jupyter.widget-view+json": {
       "model_id": "f092e32b9a8740f4895174dff11400bd",
       "version_major": 2,
       "version_minor": 0
      },
      "image/png": "[encoded data removed]",
      "text/html": [
       "\n",
       "            <div style=\"display: inline-block;\">\n",
       "                <div class=\"jupyter-widgets widget-label\" style=\"text-align: center;\">\n",
       "                    Figure\n",
       "                </div>\n",
       "                <img src='data:image/png;base64,iVBORw0KGgoAAAANSUhEUgAAAXIAAAFyCAYAAADoJFEJAAAAOXRFWHRTb2Z0d2FyZQBNYXRwbG90bGliIHZlcnNpb24zLjUuMiwgaHR0cHM6Ly9tYXRwbG90bGliLm9yZy8qNh9FAAAACXBIWXMAAA9hAAAPYQGoP6dpAAAFLklEQVR4nO3UQQ0AIBDAMMC/50MED7KkVbDX9szMAiDr/A4A4I2RA8QZOUCckQPEGTlAnJEDxBk5QJyRA8QZOUCckQPEGTlAnJEDxBk5QJyRA8QZOUCckQPEGTlAnJEDxBk5QJyRA8QZOUCckQPEGTlAnJEDxBk5QJyRA8QZOUCckQPEGTlAnJEDxBk5QJyRA8QZOUCckQPEGTlAnJEDxBk5QJyRA8QZOUCckQPEGTlAnJEDxBk5QJyRA8QZOUCckQPEGTlAnJEDxBk5QJyRA8QZOUCckQPEGTlAnJEDxBk5QJyRA8QZOUCckQPEGTlAnJEDxBk5QJyRA8QZOUCckQPEGTlAnJEDxBk5QJyRA8QZOUCckQPEGTlAnJEDxBk5QJyRA8QZOUCckQPEGTlAnJEDxBk5QJyRA8QZOUCckQPEGTlAnJEDxBk5QJyRA8QZOUCckQPEGTlAnJEDxBk5QJyRA8QZOUCckQPEGTlAnJEDxBk5QJyRA8QZOUCckQPEGTlAnJEDxBk5QJyRA8QZOUCckQPEGTlAnJEDxBk5QJyRA8QZOUCckQPEGTlAnJEDxBk5QJyRA8QZOUCckQPEGTlAnJEDxBk5QJyRA8QZOUCckQPEGTlAnJEDxBk5QJyRA8QZOUCckQPEGTlAnJEDxBk5QJyRA8QZOUCckQPEGTlAnJEDxBk5QJyRA8QZOUCckQPEGTlAnJEDxBk5QJyRA8QZOUCckQPEGTlAnJEDxBk5QJyRA8QZOUCckQPEGTlAnJEDxBk5QJyRA8QZOUCckQPEGTlAnJEDxBk5QJyRA8QZOUCckQPEGTlAnJEDxBk5QJyRA8QZOUCckQPEGTlAnJEDxBk5QJyRA8QZOUCckQPEGTlAnJEDxBk5QJyRA8QZOUCckQPEGTlAnJEDxBk5QJyRA8QZOUCckQPEGTlAnJEDxBk5QJyRA8QZOUCckQPEGTlAnJEDxBk5QJyRA8QZOUCckQPEGTlAnJEDxBk5QJyRA8QZOUCckQPEGTlAnJEDxBk5QJyRA8QZOUCckQPEGTlAnJEDxBk5QJyRA8QZOUCckQPEGTlAnJEDxBk5QJyRA8QZOUCckQPEGTlAnJEDxBk5QJyRA8QZOUCckQPEGTlAnJEDxBk5QJyRA8QZOUCckQPEGTlAnJEDxBk5QJyRA8QZOUCckQPEGTlAnJEDxBk5QJyRA8QZOUCckQPEGTlAnJEDxBk5QJyRA8QZOUCckQPEGTlAnJEDxBk5QJyRA8QZOUCckQPEGTlAnJEDxBk5QJyRA8QZOUCckQPEGTlAnJEDxBk5QJyRA8QZOUCckQPEGTlAnJEDxBk5QJyRA8QZOUCckQPEGTlAnJEDxBk5QJyRA8QZOUCckQPEGTlAnJEDxBk5QJyRA8QZOUCckQPEGTlAnJEDxBk5QJyRA8QZOUCckQPEGTlAnJEDxBk5QJyRA8QZOUCckQPEGTlAnJEDxBk5QJyRA8QZOUCckQPEGTlAnJEDxBk5QJyRA8QZOUCckQPEGTlAnJEDxBk5QJyRA8QZOUCckQPEGTlAnJEDxBk5QJyRA8QZOUCckQPEGTlAnJEDxBk5QJyRA8QZOUCckQPEGTlAnJEDxBk5QJyRA8QZOUCckQPEGTlAnJEDxBk5QJyRA8QZOUCckQPEGTlAnJEDxBk5QJyRA8QZOUCckQPEGTlAnJEDxBk5QJyRA8QZOUCckQPEGTlAnJEDxBk5QJyRA8QZOUCckQPEGTlAnJEDxBk5QJyRA8QZOUDcBUYHBuDijI5tAAAAAElFTkSuQmCC' width=370.0/>\n",
       "            </div>\n",
       "        "
      ],
      "text/plain": [
       "Canvas(toolbar=Toolbar(toolitems=[('Home', 'Reset original view', 'home', 'home'), ('Back', 'Back to previous …"
      ]
     },
     "metadata": {},
     "output_type": "display_data"
    }
   ],
   "source": [
    "fig = plt.figure(figsize=(3.7, 3.7))\n",
    "# fig = plt.figure()"
   ]
  },
  {
   "cell_type": "code",
   "execution_count": 5,
   "id": "94329606-5110-4dd0-bcb4-8cbeeeaf6fe1",
   "metadata": {},
   "outputs": [],
   "source": [
    "def pos_mask(x_dims):\n",
    "    \"\"\"Return a mask that's true wherever there's an x or y position\"\"\" \n",
    "    return np.array([i % x_dims[0] < 2 for i in range(sum(x_dims))])"
   ]
  },
  {
   "cell_type": "code",
   "execution_count": 6,
   "id": "2552858f-2662-40ce-90a2-25b30315b7fe",
   "metadata": {},
   "outputs": [],
   "source": [
    "def plot_solve(X, J, x_goal, x_dims=None):\n",
    "    \"\"\"Plot the resultant trajectory on plt.gcf()\"\"\"\n",
    "\n",
    "    if not x_dims:\n",
    "        x_dims = [X.shape[1]]\n",
    "        \n",
    "    N = X.shape[0]\n",
    "    t = np.arange(N) * dt\n",
    "    \n",
    "    X_split = split_agents(X, x_dims)\n",
    "    x_goal_split = split_agents(x_goal.reshape(1,-1), x_dims)\n",
    "    \n",
    "    for Xi, xg in zip(X_split, x_goal_split):\n",
    "        plt.scatter(Xi[:,0], Xi[:,1], c=t)\n",
    "        plt.scatter(Xi[0,0], Xi[0,1], 80, 'g', 'x', label=\"$x_0$\")\n",
    "        plt.scatter(xg[0,0], xg[0,1], 80, 'r', 'x', label=\"$x_f$\")\n",
    "    \n",
    "    plt.margins(0.1)\n",
    "    plt.title(f\"Final Cost: {J:.3g}\")\n",
    "    plt.draw()"
   ]
  },
  {
   "cell_type": "markdown",
   "id": "b4e6bfed-7dbc-489d-ac20-66c1e4a1a25a",
   "metadata": {
    "tags": []
   },
   "source": [
    "## single-agent problem"
   ]
  },
  {
   "cell_type": "code",
   "execution_count": 7,
   "id": "31bdf618-4e0b-42e4-b9af-2f0b8cdab4f7",
   "metadata": {},
   "outputs": [
    {
     "name": "stdout",
     "output_type": "stream",
     "text": [
      "0/50\tJ: 210000\n",
      "1/50\tJ: 106051\tμ: 0.5\tΔ: 0.5\n",
      "2/50\tJ: 4572.96\tμ: 0.125\tΔ: 0.25\n",
      "3/50\tJ: 2783.66\tμ: 0.015625\tΔ: 0.125\n",
      "4/50\tJ: 2511.76\tμ: 0.000976562\tΔ: 0.0625\n",
      "5/50\tJ: 2329.04\tμ: 3.05176e-05\tΔ: 0.03125\n",
      "6/50\tJ: 2322.72\tμ: 0\tΔ: 0.015625\n",
      "7/50\tJ: 2271.32\tμ: 0\tΔ: 0.0078125\n",
      "8/50\tJ: 2261.2\tμ: 0\tΔ: 0.00390625\n",
      "9/50\tJ: 2258.84\tμ: 0\tΔ: 0.00195312\n"
     ]
    }
   ],
   "source": [
    "dt = 0.1\n",
    "N = 50\n",
    "\n",
    "x = torch.tensor([-10, 10, 0], dtype=torch.float, requires_grad=True)\n",
    "x_goal = torch.zeros((3, 1), dtype=torch.float).T\n",
    "\n",
    "dynamics = dec.CarDynamics3D(dt)\n",
    "\n",
    "Q = torch.diag(torch.tensor([1., 1, 0]))\n",
    "Qf = 1000 * torch.eye(Q.shape[0])\n",
    "R = torch.eye(2)\n",
    "cost = dec.ReferenceCost(x_goal, Q, R, Qf)\n",
    "\n",
    "prob = dec.ilqrProblem(dynamics, cost)\n",
    "ilqr = dec.ilqrSolver(prob, N)\n",
    "X, U, J = ilqr.solve(x)\n",
    "plot_solve(X, J, x_goal.numpy())"
   ]
  },
  {
   "cell_type": "markdown",
   "id": "fa52b336-88bc-4de5-985c-3f8a885f5e00",
   "metadata": {
    "tags": []
   },
   "source": [
    "## multi-agent problem"
   ]
  },
  {
   "cell_type": "markdown",
   "id": "642a633c-4682-40c7-95c3-9825a74791a4",
   "metadata": {
    "tags": []
   },
   "source": [
    "### initializing the scene\n",
    "Here, we define some initial positions within some distance of each other, and then rotate them about the origin by some random angle to hopefully create some interesting scenarios."
   ]
  },
  {
   "cell_type": "code",
   "execution_count": 8,
   "id": "73c7053f-f679-4cb4-935c-751338b7ca08",
   "metadata": {},
   "outputs": [],
   "source": [
    "def paper_setup():\n",
    "    \"\"\"Hardcoded example with reasonable consistency eyeballed from \n",
    "       Potential-iLQR paper\n",
    "    \"\"\"\n",
    "    x0 = torch.tensor([[0.5, 1.5, 0.1, 0,\n",
    "                        2.5, 1.5, π, 0,\n",
    "                        1.5, 1.3, π/2, 0]], \n",
    "                     dtype=torch.float, requires_grad=True).T\n",
    "    x_goal = torch.tensor([[2.5, 1.5, 0, 0, \n",
    "                            0.5, 1.5, π, 0, \n",
    "                            1.5, 2.2, π/2, 0]]).T\n",
    "    return x0, x_goal\n",
    "\n",
    "def car_setup():\n",
    "    \"\"\"Same as paper_setup but using car dynamics\"\"\"\n",
    "    x0, x_goal = paper_setup()\n",
    "    car_mask = [i % 4 < 3 for i in range(x0.shape[0])]\n",
    "    return x0[car_mask], x_goal[car_mask]\n",
    "\n",
    "def bike_setup():\n",
    "    \"\"\"Same as paper_setup but using bike dynamics\"\"\"\n",
    "    N_AGENTS = 3\n",
    "    N_STATES = 5\n",
    "    n_total_states = N_AGENTS * N_STATES\n",
    "    bike_mask = [i % 5 < 4 for i in range(n_total_states)]\n",
    "    \n",
    "    x0, x_goal = paper_setup()\n",
    "    x0_bike = torch.zeros(n_total_states, 1)\n",
    "    x_goal_bike = torch.zeros_like(x0_bike)\n",
    "    x0_bike[bike_mask] = x0\n",
    "    x_goal_bike[bike_mask] = x_goal\n",
    "    \n",
    "    return x0_bike, x_goal_bike\n",
    "\n",
    "def double_int_setup():\n",
    "    x0, x_goal = paper_setup()\n",
    "    theta_mask = [i % 4 == 2 for i in range(x0.shape[0])]\n",
    "    with torch.no_grad():\n",
    "        x0[theta_mask] = 0.0\n",
    "        x_goal[theta_mask] = 0.0\n",
    "\n",
    "    return x0, x_goal\n",
    "\n",
    "def dec_test_setup():\n",
    "    x0, x_goal = paper_setup()\n",
    "    x0_other = torch.tensor([[5, 5, 0, 0,\n",
    "                              6, 6, π/4, 0]]).T\n",
    "    x_goal_other = torch.tensor([[6, 4, -π/2, 0,\n",
    "                                  4, 6, π/4, 0]]).T\n",
    "    \n",
    "    x0 = torch.cat([x0, x0_other]) \n",
    "    x_goal = torch.cat([x_goal, x_goal_other])    \n",
    "    \n",
    "    return x0, x_goal"
   ]
  },
  {
   "cell_type": "markdown",
   "id": "f1ef5759-be12-4088-a4e6-fdc845d0d7eb",
   "metadata": {},
   "source": [
    "To be consistent between simulations, we normalize for the scale of the setup by computing the *energy*, or the sum of distances from the origin of the points. This should be the same for all runs."
   ]
  },
  {
   "cell_type": "code",
   "execution_count": 9,
   "id": "b87271ac-82e9-42d7-9276-824d05a26f4b",
   "metadata": {},
   "outputs": [],
   "source": [
    "def compute_energy(x, x_dims):\n",
    "    \"\"\"Determine the sum of distances from the origin\"\"\"\n",
    "    return torch.sum(x[pos_mask(x_dims)].reshape(-1,2).norm(dim=1)).item()\n",
    "\n",
    "def normalize_energy(x, x_dims, energy=10.0):\n",
    "    \"\"\"Zero-center the coordinates and then ensure the sum of \n",
    "       squared distances == energy\n",
    "    \"\"\"\n",
    "    \n",
    "    # Don't mutate x's data for this function, keep it pure.\n",
    "    x = x.clone()\n",
    "    n_agents = len(x_dims)\n",
    "    center = x[pos_mask(x_dims)].reshape(-1, 2).mean(0)\n",
    "\n",
    "    with torch.no_grad():\n",
    "        x[pos_mask(x_dims)] -= center.tile(n_agents).reshape(-1,1)\n",
    "        x[pos_mask(x_dims)] *= energy / compute_energy(x, x_dims)\n",
    "    assert x.numel() == sum(x_dims)\n",
    "    \n",
    "    return x\n",
    "\n",
    "def perturb_state(x, x_dims, var=0.5):\n",
    "    \"\"\"Add a little noise to the start to knock off perfect symmetries\"\"\"\n",
    "    \n",
    "    x = x.clone()\n",
    "    with torch.no_grad():\n",
    "        x[pos_mask(x_dims)] += var*torch.randn_like(x[pos_mask(x_dims)])\n",
    "    \n",
    "    return x"
   ]
  },
  {
   "cell_type": "code",
   "execution_count": 10,
   "id": "1d5df34d-5e4d-454b-82d4-33ae3b77f726",
   "metadata": {},
   "outputs": [],
   "source": [
    "n_agents = 7\n",
    "n_states = 4\n",
    "n_controls = 2\n",
    "ENERGY = 10.0\n",
    "\n",
    "# x0, x_goal = paper_setup()\n",
    "# x0, x_goal = car_setup()\n",
    "# x0, x_goal = bike_setup()\n",
    "# x0, x_goal = double_int_setup()\n",
    "# x0, x_goal = dec_test_setup()\n",
    "x0, x_goal = dec.random_setup(n_agents, n_states, min_sep=1.0, var=1.0)\n",
    "\n",
    "x_dims = [n_states] * n_agents\n",
    "u_dims = [2] * n_agents\n",
    "\n",
    "x0 = normalize_energy(x0, x_dims, ENERGY)\n",
    "x_goal = normalize_energy(x_goal, x_dims, ENERGY)\n",
    "# x0 = perturb_state(x0, x_dims)\n",
    "\n",
    "plt.clf()\n",
    "plt.gca().set_aspect('equal')\n",
    "X = torch.dstack([\n",
    "    x0.reshape(n_agents, n_states).detach(), \n",
    "    x_goal.reshape(n_agents, n_states).detach()\n",
    "]).swapaxes(1,2)\n",
    "for i, Xi in enumerate(X):\n",
    "    plt.annotate('', Xi[1,:2], Xi[0,:2], \n",
    "                 arrowprops=dict(facecolor=plt.cm.tab20.colors[2*i]))\n",
    "pocketknives.set_bounds(X.reshape(-1, n_states), zoom=0.2)\n",
    "plt.draw()"
   ]
  },
  {
   "cell_type": "code",
   "execution_count": 11,
   "id": "1f606b8b-543c-442a-8e82-7d1118b629ee",
   "metadata": {},
   "outputs": [],
   "source": [
    "dt = 0.05\n",
    "N = 50\n",
    "tol = 1e-3\n",
    "ids = [100 + i for i in range(n_agents)]\n",
    "\n",
    "# dec._reset_ids()\n",
    "model = dec.UnicycleDynamics4D\n",
    "# model = dec.CarDynamics3D\n",
    "# model = dec.BikeDynamics5D\n",
    "# model = dec.DoubleIntDynamics4D\n",
    "dynamics = dec.MultiDynamicalModel([model(dt, id_) for id_ in ids])\n",
    "\n",
    "Q = 4 * torch.diag(torch.tensor([1., 1, 0, 0]))\n",
    "# Qf = 1000 * torch.eye(Q.shape[0])\n",
    "Qf = 1000 * torch.diag(torch.tensor([1., 1, 1, 1]))\n",
    "R = torch.eye(2)\n",
    "\n",
    "# radius = ENERGY / 20\n",
    "radius = 0.25\n",
    "\n",
    "goal_costs = [dec.ReferenceCost(x_goal_i, Q.clone(), R.clone(), Qf.clone(), id_) \n",
    "              for x_goal_i, id_ in zip(split_agents(x_goal.T, x_dims), ids)]\n",
    "prox_cost = dec.ProximityCost(x_dims, radius)\n",
    "game_cost = dec.GameCost(goal_costs, prox_cost)\n",
    "\n",
    "prob = dec.ilqrProblem(dynamics, game_cost)"
   ]
  },
  {
   "cell_type": "code",
   "execution_count": 12,
   "id": "563b0318-aef0-4483-afb9-9dae0352b3df",
   "metadata": {},
   "outputs": [
    {
     "name": "stdout",
     "output_type": "stream",
     "text": [
      "0/50\tJ: 47527.3\n",
      "1/50\tJ: 5979.2\tμ: 0.5\tΔ: 0.5\n",
      "2/50\tJ: 4018.17\tμ: 0.125\tΔ: 0.25\n",
      "3/50\tJ: 3512.32\tμ: 0.015625\tΔ: 0.125\n",
      "4/50\tJ: 3467.07\tμ: 0.000976562\tΔ: 0.0625\n",
      "CPU times: user 21.2 s, sys: 0 ns, total: 21.2 s\n",
      "Wall time: 21.2 s\n"
     ]
    }
   ],
   "source": [
    "%%time\n",
    "# %%prun\n",
    "ilqr = dec.ilqrSolver(prob, N)\n",
    "t0 = pc()\n",
    "X, U, J = ilqr.solve(x0, tol=tol)"
   ]
  },
  {
   "cell_type": "code",
   "execution_count": 13,
   "id": "f583a3f3-8ec4-482d-b904-c957475a345a",
   "metadata": {},
   "outputs": [],
   "source": [
    "plt.clf()\n",
    "plot_solve(X, J, x_goal.numpy(), x_dims)"
   ]
  },
  {
   "cell_type": "code",
   "execution_count": 14,
   "id": "b87a4e75-51b8-4810-b699-4242d87f6435",
   "metadata": {},
   "outputs": [],
   "source": [
    "plt.clf()\n",
    "plt.plot(dec.compute_pairwise_distance(X, x_dims).T)\n",
    "plt.hlines(radius, *plt.xlim(), 'r', ls='--')\n",
    "plt.draw()"
   ]
  },
  {
   "cell_type": "code",
   "execution_count": 15,
   "id": "d9ae135c-adc9-40ee-87ad-a42fb0f1edfc",
   "metadata": {},
   "outputs": [],
   "source": [
    "costs = []\n",
    "for xi, ui in zip(X, U):\n",
    "    costs.append(game_cost(xi, ui).item())\n",
    "plt.clf()\n",
    "plt.plot(costs)\n",
    "plt.draw()"
   ]
  },
  {
   "cell_type": "markdown",
   "id": "f66d3a80-59f3-4690-8b97-8f5d874a14a8",
   "metadata": {},
   "source": [
    "## multi-agent receding horizon"
   ]
  },
  {
   "cell_type": "code",
   "execution_count": 17,
   "id": "671563fd-1e6e-46ac-bdf7-87e46a1a099a",
   "metadata": {},
   "outputs": [
    {
     "name": "stdout",
     "output_type": "stream",
     "text": [
      "--------------------------------------------------\n",
      "Horizon 0\n",
      "0/50\tJ: 61551\n",
      "1/50\tJ: 7840.49\tμ: 0.5\tΔ: 0.5\n",
      "2/50\tJ: 5957.58\tμ: 0.125\tΔ: 0.25\n",
      "3/50\tJ: 4661.8\tμ: 0.015625\tΔ: 0.125\n",
      "4/50\tJ: 4558.6\tμ: 0.000976562\tΔ: 0.0625\n",
      "5/50\tJ: 4533.52\tμ: 3.05176e-05\tΔ: 0.03125\n",
      "--------------------------------------------------\n",
      "Horizon 1\n",
      "0/50\tJ: 1775.76\n",
      "1/50\tJ: 1740.43\tμ: 0.5\tΔ: 0.5\n",
      "--------------------------------------------------\n",
      "Horizon 2\n",
      "0/50\tJ: 655.259\n",
      "1/50\tJ: 647.808\tμ: 0.5\tΔ: 0.5\n",
      "--------------------------------------------------\n",
      "Horizon 3\n",
      "0/50\tJ: 233.421\n",
      "1/50\tJ: 225.839\tμ: 0.5\tΔ: 0.5\n",
      "--------------------------------------------------\n",
      "Horizon 4\n",
      "0/50\tJ: 80.687\n",
      "1/50\tJ: 75.1855\tμ: 0.5\tΔ: 0.5\n",
      "--------------------------------------------------\n",
      "Horizon 5\n",
      "0/50\tJ: 28.0639\n",
      "1/50\tJ: 25.3295\tμ: 0.5\tΔ: 0.5\n",
      "--------------------------------------------------\n",
      "Horizon 6\n",
      "0/50\tJ: 10.7935\n",
      "1/50\tJ: 9.66059\tμ: 0.5\tΔ: 0.5\n",
      "Converged!\n"
     ]
    }
   ],
   "source": [
    "rhc = dec.RecedingHorizonController(x0, ilqr, step_size=10)\n",
    "U0 = torch.zeros((ilqr.N, ilqr.n_u))\n",
    "for Xi, Ui, Ji in rhc.solve(U0, J_converge=10.0, tol=tol):\n",
    "    plot_solve(Xi, Ji, x_goal.numpy(), x_dims)\n",
    "    fig.canvas.draw()"
   ]
  },
  {
   "cell_type": "markdown",
   "id": "68c1de09-898c-411a-896b-c4000ec679cf",
   "metadata": {},
   "source": [
    "## decentralized multi-agent"
   ]
  },
  {
   "cell_type": "code",
   "execution_count": 16,
   "id": "2d74de30-c356-4ee1-8c90-2abacc98d974",
   "metadata": {},
   "outputs": [
    {
     "data": {
      "text/plain": [
       "{100: [100, 102, 103, 104, 105],\n",
       " 101: [101, 102, 105, 106],\n",
       " 102: [100, 101, 102, 103, 105],\n",
       " 103: [100, 102, 103, 104, 105],\n",
       " 104: [100, 103, 104, 106],\n",
       " 105: [100, 101, 102, 103, 105, 106],\n",
       " 106: [101, 104, 105, 106]}"
      ]
     },
     "execution_count": 16,
     "metadata": {},
     "output_type": "execute_result"
    }
   ],
   "source": [
    "graph = dec.define_inter_graph_threshold(X, n_agents, radius, x_dims, ids)\n",
    "graph"
   ]
  },
  {
   "cell_type": "code",
   "execution_count": 32,
   "id": "3a50e984-954e-40c4-bff3-6371d6a153a3",
   "metadata": {},
   "outputs": [
    {
     "name": "stdout",
     "output_type": "stream",
     "text": [
      "============================================================\n",
      "Agent 100: [100, 102, 103, 104, 105, 106]\n",
      "0/50\tJ: 3131.07\n",
      "1/50\tJ: 3127.16\tμ: 0.5\tΔ: 0.5\n",
      "2/50\tJ: 3120.8\tμ: 0.125\tΔ: 0.25\n",
      "Took 9.82 seconds\n",
      "============================================================\n",
      "Agent 101: [101, 102, 103, 104, 106]\n",
      "0/50\tJ: 3456.74\n",
      "Failed line search, giving up.\n",
      "Took 3.91 seconds\n",
      "============================================================\n",
      "Agent 102: [100, 101, 102, 103, 104, 106]\n",
      "0/50\tJ: 4010.25\n",
      "Failed line search, giving up.\n",
      "Took 3.22 seconds\n",
      "============================================================\n",
      "Agent 103: [100, 101, 102, 103, 104, 106]\n",
      "0/50\tJ: 4010.25\n",
      "Failed line search, giving up.\n",
      "Took 3.84 seconds\n",
      "============================================================\n",
      "Agent 104: [100, 101, 102, 103, 104, 106]\n",
      "0/50\tJ: 4010.25\n",
      "Failed line search, giving up.\n",
      "Took 3.67 seconds\n",
      "============================================================\n",
      "Agent 105: [100, 105, 106]\n",
      "0/50\tJ: 936.722\n",
      "1/50\tJ: 930.937\tμ: 0.5\tΔ: 0.5\n",
      "Took 2 seconds\n",
      "============================================================\n",
      "Agent 106: [100, 101, 102, 103, 104, 105, 106]\n",
      "0/50\tJ: 4273.97\n",
      "Failed line search, giving up.\n",
      "Took 3.8 seconds\n"
     ]
    }
   ],
   "source": [
    "X_dec, U_dec, J_dec = dec.solve_decentralized(prob, X, U, radius)"
   ]
  },
  {
   "cell_type": "code",
   "execution_count": 17,
   "id": "9d3629f7-e4f5-42a4-ab58-86809b0f3712",
   "metadata": {},
   "outputs": [
    {
     "name": "stdout",
     "output_type": "stream",
     "text": [
      "============================================================\n",
      "Problem 0: [100, 102, 103, 104, 105]\n",
      "0/50\tJ: 3049.71\n",
      "Took 2.74 seconds\n",
      "============================================================\n",
      "Problem 1: [101, 102, 105, 106]\n",
      "0/50\tJ: 837.249\n",
      "Took 4.58 seconds\n",
      "============================================================\n",
      "Problem 2: [100, 101, 102, 103, 105]\n",
      "0/50\tJ: 3036.74\n",
      "Took 2.87 seconds\n",
      "============================================================\n",
      "Problem 3: [100, 102, 103, 104, 105]\n",
      "0/50\tJ: 3049.71\n",
      "Took 2.53 seconds\n",
      "============================================================\n",
      "Problem 4: [100, 103, 104, 106]\n",
      "0/50\tJ: 2888.8\n",
      "Took 1.62 seconds\n",
      "============================================================\n",
      "Problem 5: [100, 101, 102, 103, 105, 106]\n",
      "0/50\tJ: 3297.19\n",
      "Took 3.09 seconds\n",
      "============================================================\n",
      "Problem 6: [101, 104, 105, 106]\n",
      "0/50\tJ: 764.264\n",
      "Took 1.86 seconds\n"
     ]
    }
   ],
   "source": [
    "plt.clf()\n",
    "pocketknives.set_bounds(X[:,pos_mask(x_dims)].reshape(-1,2))\n",
    "\n",
    "x0_split = dec.split_graph(x0.T, x_dims, graph)\n",
    "U_split = dec.split_graph(U, u_dims, graph)\n",
    "\n",
    "x_goal_agents = split_agents(x_goal.T, x_dims)\n",
    "X_full = torch.zeros((N+1, n_agents*n_states))\n",
    "U_full = torch.zeros((N, n_agents*n_controls))\n",
    "\n",
    "for i, (subproblem, x0i, Ui, id_, x_goal_i) in enumerate(\n",
    "    zip(prob.split(graph), x0_split, U_split, ids, x_goal_agents)\n",
    "):    \n",
    "    print(\"=\" * 60 + f\"\\nProblem {i}: {subproblem.ids}\")\n",
    "    subsolver = dec.ilqrSolver(subproblem, N)\n",
    "    \n",
    "    t0 = pc()\n",
    "    Xi, Ui, Ji = subsolver.solve(x0i, Ui, tol=tol)\n",
    "    print(f\"Took {pc() - t0:.3g} seconds\")\n",
    "    \n",
    "    Xi_agent, Ui_agent = subproblem.extract(Xi, Ui, id_)\n",
    "    X_full[:,i*n_states:(i+1)*n_states] = Xi_agent\n",
    "    U_full[:,i*n_controls:(i+1)*n_controls] = Ui_agent\n",
    "    \n",
    "    plot_solve(Xi_agent, Ji, x_goal_i.numpy(), [n_states])\n",
    "    fig.canvas.draw()"
   ]
  },
  {
   "cell_type": "markdown",
   "id": "27478146-3f83-4e15-8202-833edd93f879",
   "metadata": {},
   "source": [
    "## decentralized multi-agent receding horizon\n",
    "Right now, it's centralized since one planner decides all control inputs. Decentralizing the problem means each agent decides independently what its control input should be. It does so in a way to take advantage of the interaction graph to speed up computation."
   ]
  },
  {
   "cell_type": "markdown",
   "id": "ce44002f-d19a-4f80-9e38-9a9bf4f3a2d0",
   "metadata": {},
   "source": [
    "## animation"
   ]
  },
  {
   "cell_type": "code",
   "execution_count": 166,
   "id": "86412aa3-9981-4600-a2a2-2211da3ec579",
   "metadata": {},
   "outputs": [],
   "source": [
    "def setup(X, x_goal, x_dims, radius):\n",
    "    plt.clf()\n",
    "    \n",
    "    n_agents = len(x_dims)\n",
    "    ax = plt.gca()\n",
    "    handles = []\n",
    "    for i in range(n_agents):\n",
    "        handles.append((\n",
    "            plt.plot(0, c=plt.cm.tab20.colors[2*i], marker='o', markersize=4)[0],\n",
    "            ax.add_artist(plt.Circle(np.nan, radius, color='k', fill=True, alpha=0.3, lw=2))\n",
    "        ))\n",
    "        \n",
    "    for xg in split_agents(x_goal, x_dims):\n",
    "        plt.scatter(xg[0,0], xg[0,1], c='r', marker='x', zorder=10)\n",
    "\n",
    "    X_cat = np.vstack(split_agents(X, x_dims))\n",
    "    pocketknives.set_bounds(X_cat, zoom=0.3)\n",
    "    plt.draw()\n",
    "    \n",
    "    return handles\n",
    "    \n",
    "def animate(t, handles, X, x_dims, x_goal):\n",
    "    \"\"\"Animate the solution into a gif\"\"\"\n",
    "    for (i, xi), hi in zip(enumerate(split_agents(X, x_dims)), handles):\n",
    "        hi[0].set_xdata(xi[:t,0])\n",
    "        hi[0].set_ydata(xi[:t,1])\n",
    "        hi[1].set_center(xi[t-1,:2])\n",
    "    plt.draw()\n",
    "    "
   ]
  },
  {
   "cell_type": "code",
   "execution_count": 175,
   "id": "d23639a7-3ef6-438f-a215-12798324ac8d",
   "metadata": {},
   "outputs": [],
   "source": [
    "plt.clf()\n",
    "handles = setup(X, x_goal.flatten(), x_dims, radius)\n",
    "animate(-1, handles, X, x_dims, x_goal)"
   ]
  },
  {
   "cell_type": "code",
   "execution_count": 55,
   "id": "cb12a6da-32df-47e7-bb14-d0f52afdcd71",
   "metadata": {},
   "outputs": [
    {
     "name": "stderr",
     "output_type": "stream",
     "text": [
      "MovieWriter ffmpeg unavailable; using Pillow instead.\n"
     ]
    }
   ],
   "source": [
    "handles = setup(X, x_goal.flatten(), x_dims, radius)\n",
    "anim = FuncAnimation(plt.gcf(), animate, frames=N+1, fargs=(handles, X, x_dims, x_goal))\n",
    "anim.save('traj.gif', fps=5)"
   ]
  },
  {
   "cell_type": "code",
   "execution_count": null,
   "id": "e4cf44ff-2700-43bc-9848-3375985e6227",
   "metadata": {},
   "outputs": [],
   "source": []
  },
  {
   "cell_type": "code",
   "execution_count": null,
   "id": "b07afc16-1532-42b3-8c41-479132ac9bc0",
   "metadata": {},
   "outputs": [],
   "source": []
  },
  {
   "cell_type": "code",
   "execution_count": null,
   "id": "18e04e80-d538-48a0-8e59-d9377ec87bc6",
   "metadata": {},
   "outputs": [],
   "source": []
  }
 ],
 "metadata": {
  "interpreter": {
   "hash": "a7155dc2877aad5861451e8991f2ffb7161aaf8d218c61a24e89522653b6db1c"
  },
  "kernelspec": {
   "display_name": "Python 3 (ipykernel)",
   "language": "python",
   "name": "python3"
  },
  "language_info": {
   "codemirror_mode": {
    "name": "ipython",
    "version": 3
   },
   "file_extension": ".py",
   "mimetype": "text/x-python",
   "name": "python",
   "nbconvert_exporter": "python",
   "pygments_lexer": "ipython3",
   "version": "3.10.4"
  }
 },
 "nbformat": 4,
 "nbformat_minor": 5
}
