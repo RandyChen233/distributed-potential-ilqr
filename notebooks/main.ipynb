{
 "cells": [
  {
   "cell_type": "markdown",
   "id": "a0ea870e-b244-43f9-aa26-a5813c686582",
   "metadata": {
    "tags": []
   },
   "source": [
    "# decentralized\n",
    "Primary development and execution script for evaluation of game theoretic control algorithms.\n",
    "\n",
    "References:\n",
    "1. [Fridovich-Keil - ilqgames](https://github.com/HJReachability/ilqgames/blob/master/python/dynamical_system.py)\n",
    "1. [Jackson, Howell - iLQR Tutorial](http://roboticexplorationlab.org/papers/iLQR_Tutorial.pdf)\n",
    "1. [Jackson - AL iLQR Tutorial](https://bjack205.github.io/papers/AL_iLQR_Tutorial.pdf)\n",
    "1. [Sears-Collins - Linear Quadratic Regulator Python Example](https://automaticaddison.com/linear-quadratic-regulator-lqr-with-python-code-example/)"
   ]
  },
  {
   "cell_type": "code",
   "execution_count": 1,
   "id": "dab1f12c-1aaa-458d-9fc5-eb6bb356d364",
   "metadata": {},
   "outputs": [],
   "source": [
    "import sys\n",
    "sys.path.append('/mnt/c/Users/ZachJW/Documents/Grad/Research/decentralized/decentralized/')\n",
    "\n",
    "import numpy as np\n",
    "import matplotlib.pyplot as plt\n",
    "\n",
    "from control import iLQR, LQR\n",
    "from models import DoubleInt1dDynamics, DoubleInt2dDynamics\n",
    "from models import CarDynamics, UnicycleDynamics, BicycleDynamics\n",
    "from dynamics import MultiDynamicalModel\n",
    "from cost import ObstacleCost, ReferenceCost, CouplingCost, AgentCost\n",
    "from util import Point"
   ]
  },
  {
   "cell_type": "code",
   "execution_count": 3,
   "id": "969d54e8-1b59-4e69-9562-cd60ed8c077e",
   "metadata": {},
   "outputs": [],
   "source": [
    "# %matplotlib ipympl\n",
    "np.set_printoptions(precision=3, suppress=True)"
   ]
  },
  {
   "cell_type": "code",
   "execution_count": 4,
   "id": "44a6e8d3-0e88-4b1d-b90e-465b02940528",
   "metadata": {},
   "outputs": [
    {
     "data": {
      "text/plain": [
       "<Figure size 432x288 with 0 Axes>"
      ]
     },
     "metadata": {},
     "output_type": "display_data"
    }
   ],
   "source": [
    "plt.figure()\n",
    "plt.show()"
   ]
  },
  {
   "cell_type": "markdown",
   "id": "b40cca1d-ac85-4b30-b670-81a10ecdcf96",
   "metadata": {
    "tags": []
   },
   "source": [
    "### Combining Dynamical Models"
   ]
  },
  {
   "cell_type": "code",
   "execution_count": 5,
   "id": "3dc8932e-569e-44c7-96f8-eb51f8f7ef1c",
   "metadata": {},
   "outputs": [
    {
     "data": {
      "text/plain": [
       "[4, 3, 5]"
      ]
     },
     "execution_count": 5,
     "metadata": {},
     "output_type": "execute_result"
    }
   ],
   "source": [
    "dt = 1.0\n",
    "uni = UnicycleDynamics(dt)\n",
    "car = CarDynamics(dt)\n",
    "bike = BicycleDynamics(dt)\n",
    "md = MultiDynamicalModel([uni, car, bike])\n",
    "md.x_dims"
   ]
  },
  {
   "cell_type": "code",
   "execution_count": 6,
   "id": "5cd369e5-07ed-4c1f-b731-20d5829c4097",
   "metadata": {},
   "outputs": [],
   "source": [
    "x = np.random.randint(10, size=md.n_x)\n",
    "u = np.random.randint(10, size=md.n_u)\n",
    "x_next = md(x, u)\n",
    "A, B = md.linearize(x, u)"
   ]
  },
  {
   "cell_type": "code",
   "execution_count": 7,
   "id": "4a722867-8350-4979-9d7b-e3c2db5c4669",
   "metadata": {},
   "outputs": [],
   "source": [
    "x = np.array([0, 0, 6, 5, \n",
    "              0, 1, 5, \n",
    "            -0.5, 2, 2, 0, 4])"
   ]
  },
  {
   "cell_type": "code",
   "execution_count": 8,
   "id": "61002caa-248e-446b-8c17-5bcefeaac808",
   "metadata": {},
   "outputs": [
    {
     "ename": "TypeError",
     "evalue": "quadraticize() takes 2 positional arguments but 3 were given",
     "output_type": "error",
     "traceback": [
      "\u001b[0;31m---------------------------------------------------------------------------\u001b[0m",
      "\u001b[0;31mTypeError\u001b[0m                                 Traceback (most recent call last)",
      "\u001b[0;32m/tmp/ipykernel_21958/3153523270.py\u001b[0m in \u001b[0;36m<module>\u001b[0;34m\u001b[0m\n\u001b[1;32m      3\u001b[0m \u001b[0mcoup_cost\u001b[0m \u001b[0;34m=\u001b[0m \u001b[0mCouplingCost\u001b[0m\u001b[0;34m(\u001b[0m\u001b[0mpos_inds\u001b[0m\u001b[0;34m,\u001b[0m \u001b[0mmax_distance\u001b[0m\u001b[0;34m)\u001b[0m\u001b[0;34m\u001b[0m\u001b[0;34m\u001b[0m\u001b[0m\n\u001b[1;32m      4\u001b[0m \u001b[0mL\u001b[0m \u001b[0;34m=\u001b[0m \u001b[0mcoup_cost\u001b[0m\u001b[0;34m(\u001b[0m\u001b[0mx\u001b[0m\u001b[0;34m)\u001b[0m\u001b[0;34m\u001b[0m\u001b[0;34m\u001b[0m\u001b[0m\n\u001b[0;32m----> 5\u001b[0;31m \u001b[0mL_x\u001b[0m\u001b[0;34m,\u001b[0m \u001b[0mL_u\u001b[0m\u001b[0;34m,\u001b[0m \u001b[0mL_xx\u001b[0m\u001b[0;34m,\u001b[0m \u001b[0mL_uu\u001b[0m\u001b[0;34m,\u001b[0m \u001b[0mL_ux\u001b[0m \u001b[0;34m=\u001b[0m \u001b[0mcoup_cost\u001b[0m\u001b[0;34m.\u001b[0m\u001b[0mquadraticize\u001b[0m\u001b[0;34m(\u001b[0m\u001b[0mx\u001b[0m\u001b[0;34m,\u001b[0m \u001b[0mu\u001b[0m\u001b[0;34m)\u001b[0m\u001b[0;34m\u001b[0m\u001b[0;34m\u001b[0m\u001b[0m\n\u001b[0m",
      "\u001b[0;31mTypeError\u001b[0m: quadraticize() takes 2 positional arguments but 3 were given"
     ]
    }
   ],
   "source": [
    "pos_inds = [(0, 1), (4, 5), (7, 8)]\n",
    "max_distance = 2.0\n",
    "coup_cost = CouplingCost(pos_inds, max_distance)\n",
    "L = coup_cost(x)\n",
    "L_x, L_u, L_xx, L_uu, L_ux = coup_cost.quadraticize(x, u)"
   ]
  },
  {
   "cell_type": "code",
   "execution_count": 9,
   "id": "2093a621-3d5c-41ba-a34d-06fe1b48319b",
   "metadata": {},
   "outputs": [],
   "source": [
    "from cost import quadraticize_distance"
   ]
  },
  {
   "cell_type": "code",
   "execution_count": 10,
   "id": "a4b26339-0d37-46c7-8d20-57bcbb8f9602",
   "metadata": {},
   "outputs": [
    {
     "data": {
      "text/plain": [
       "((0.0, 0.0), (0.0, 1.0))"
      ]
     },
     "execution_count": 10,
     "metadata": {},
     "output_type": "execute_result"
    }
   ],
   "source": [
    "pa = Point(x[pos_inds[0][0]], x[pos_inds[0][1]])\n",
    "pb = Point(x[pos_inds[1][0]], x[pos_inds[1][1]])\n",
    "pa, pb"
   ]
  },
  {
   "cell_type": "code",
   "execution_count": 11,
   "id": "76a47a1a-0005-40e8-8650-f9f9dc1a5f76",
   "metadata": {},
   "outputs": [
    {
     "data": {
      "text/plain": [
       "(array([-0.,  2.]),\n",
       " array([[-2., -0.],\n",
       "        [-0.,  2.]]))"
      ]
     },
     "execution_count": 11,
     "metadata": {},
     "output_type": "execute_result"
    }
   ],
   "source": [
    "L_xi, L_xxi = quadraticize_distance(pa, pb, max_distance)\n",
    "L_xi, L_xxi"
   ]
  },
  {
   "cell_type": "markdown",
   "id": "3b19367f-3b4f-4471-9690-f40fd063f326",
   "metadata": {
    "tags": []
   },
   "source": [
    "### iLQR"
   ]
  },
  {
   "cell_type": "code",
   "execution_count": 9,
   "id": "daeb4a3d-2ca1-4ef6-8d87-ed95ed1bb548",
   "metadata": {},
   "outputs": [],
   "source": [
    "dt = 0.1\n",
    "N = 60\n",
    "n_lqr_iter = 50\n",
    "tol = 1e-3\n",
    "\n",
    "# dynamics = DoubleInt1dDynamics(dt)\n",
    "# x0 = np.array([2, 0])\n",
    "# xf = np.array([0, 1])\n",
    "# Q = np.eye(2)\n",
    "# R = np.eye(1)\n",
    "\n",
    "# dynamics = DoubleInt2dDynamics(dt)\n",
    "# x0 = np.array([10, 10, 0, 0])\n",
    "# xf = np.array([0, 0, 0, 0])\n",
    "# Q = np.diag([1, 1, 0, 0])\n",
    "# R = np.eye(2)\n",
    "\n",
    "dynamics = CarDynamics(dt)\n",
    "x0 = np.array([11, 11, np.pi/2])\n",
    "xf = np.array([0, 0, 0])\n",
    "Q = np.diag([1, 1, 0])\n",
    "R = np.eye(2)\n",
    "\n",
    "# dynamics = UnicycleDynamics(dt)\n",
    "# x0 = np.array([0, 0, 0, 0])\n",
    "# xf = np.array([10, 10, 0, np.pi/4])\n",
    "# Q = np.diag([1, 1, 0, 0])\n",
    "# R = np.eye(2)\n",
    "\n",
    "# dynamics = BicycleDynamics(dt)\n",
    "# x0 = np.array([10, 10, np.pi/2, 0, 0])\n",
    "# xf = np.array([0, 0, 0, 0, 0])\n",
    "# Q = np.diag([1, 1, 0, 0, 0])\n",
    "# R = np.eye(2)\n",
    "\n",
    "Qf = np.eye(Q.shape[0]) * 1e3\n",
    "reference = ReferenceCost(xf, Q, R, Qf)\n",
    "obstacles = [ObstacleCost((0, 1), Point(3, 3), 2),\n",
    "             ObstacleCost((0, 1), Point(9, 7), 2),\n",
    "             ObstacleCost((0, 1), Point(3, 10), 3)]\n",
    "\n",
    "REF_WEIGHT = 1.0\n",
    "OBS_WEIGHT = 1e6\n",
    "weights = [OBS_WEIGHT] * len(obstacles) + [REF_WEIGHT]\n",
    "agent_cost = AgentCost(obstacles + [reference], weights)"
   ]
  },
  {
   "cell_type": "code",
   "execution_count": 10,
   "id": "83ca002e-ec47-4bff-90ff-a7e7092197cf",
   "metadata": {},
   "outputs": [
    {
     "name": "stdout",
     "output_type": "stream",
     "text": [
      "0/50\tJ: 258987\n",
      "1/50\tJ: 102337\tμ: 0.5\tΔ: 0.5\n",
      "2/50\tJ: 35982.7\tμ: 0.125\tΔ: 0.25\n",
      "3/50\tJ: 23275\tμ: 0.015625\tΔ: 0.125\n",
      "4/50\tJ: 19754.6\tμ: 0.000976562\tΔ: 0.0625\n",
      "5/50\tJ: 18705.3\tμ: 3.05176e-05\tΔ: 0.03125\n",
      "6/50\tJ: 18417.5\tμ: 0\tΔ: 0.015625\n",
      "7/50\tJ: 18220.2\tμ: 0\tΔ: 0.0078125\n",
      "8/50\tJ: 8334.76\tμ: 0\tΔ: 0.00390625\n",
      "9/50\tJ: 3492.19\tμ: 0\tΔ: 0.00195312\n",
      " "
     ]
    },
    {
     "data": {
      "text/plain": [
       "         1043041 function calls (986362 primitive calls) in 2.904 seconds\n",
       "\n",
       "   Ordered by: internal time\n",
       "\n",
       "   ncalls  tottime  percall  cumtime  percall filename:lineno(function)\n",
       "129558/72879    0.471    0.000    1.325    0.000 {built-in method numpy.core._multiarray_umath.implement_array_function}\n",
       "    15780    0.368    0.000    0.906    0.000 models.py:126(f)\n",
       "     3600    0.202    0.000    1.656    0.000 _numdiff.py:257(approx_derivative)\n",
       "     3600    0.146    0.000    0.893    0.000 _numdiff.py:547(_dense_difference)\n",
       "       10    0.121    0.012    2.277    0.228 control.py:184(backward_pass)\n",
       "    15780    0.114    0.000    0.400    0.000 shape_base.py:357(stack)\n",
       "       52    0.075    0.001    0.585    0.011 control.py:163(forward_pass)\n",
       "     9699    0.074    0.000    0.168    0.000 linalg.py:2363(norm)\n",
       "     3233    0.067    0.000    0.067    0.000 cost.py:65(__call__)\n",
       "      610    0.062    0.000    0.126    0.000 cost.py:222(quadraticize)\n",
       "     9699    0.061    0.000    0.264    0.000 cost.py:106(__call__)\n",
       "    16200    0.043    0.000    0.094    0.000 shape_base.py:23(atleast_1d)\n",
       "    24180    0.042    0.000    0.243    0.000 <__array_function__ internals>:2(concatenate)\n",
       "     7200    0.042    0.000    0.042    0.000 {method 'reduce' of 'numpy.ufunc' objects}\n",
       "    19800    0.042    0.000    0.042    0.000 {method 'reshape' of 'numpy.ndarray' objects}\n",
       "     7200    0.040    0.000    0.185    0.000 fromnumeric.py:1357(resize)\n",
       "    81540    0.040    0.000    0.040    0.000 {built-in method numpy.asanyarray}\n",
       "     1200    0.037    0.000    0.059    0.000 linalg.py:313(solve)\n",
       "     3600    0.036    0.000    0.151    0.000 _numdiff.py:11(_adjust_scheme_to_bounds)\n",
       "    22899    0.033    0.000    0.033    0.000 {built-in method numpy.asarray}\n",
       "     3600    0.032    0.000    0.039    0.000 twodim_base.py:234(diag)\n",
       "     3600    0.029    0.000    1.908    0.001 optimize.py:859(approx_fprime)\n",
       "     9000    0.027    0.000    0.665    0.000 _numdiff.py:436(fun_wrapped)\n",
       "    15780    0.026    0.000    0.050    0.000 shape_base.py:420(<listcomp>)\n",
       "    15780    0.025    0.000    0.537    0.000 <__array_function__ internals>:2(stack)\n",
       "     7200    0.025    0.000    0.075    0.000 fromnumeric.py:69(_wrapreduction)\n",
       "    15780    0.024    0.000    0.024    0.000 shape_base.py:432(<listcomp>)\n",
       "     3233    0.024    0.000    0.355    0.000 cost.py:216(__call__)\n",
       "     3600    0.023    0.000    0.238    0.000 _numdiff.py:175(_prepare_bounds)\n",
       "    15780    0.023    0.000    0.023    0.000 shape_base.py:424(<setcomp>)\n",
       "    15780    0.022    0.000    0.927    0.000 dynamics.py:118(f)\n",
       "    20289    0.019    0.000    0.019    0.000 {built-in method numpy.zeros}\n",
       "    16200    0.019    0.000    0.150    0.000 <__array_function__ internals>:2(atleast_1d)\n",
       "     1830    0.019    0.000    0.022    0.000 cost.py:325(quadraticize_distance)\n",
       "     4800    0.017    0.000    0.017    0.000 {method 'astype' of 'numpy.ndarray' objects}\n",
       "    10800    0.016    0.000    0.030    0.000 fromnumeric.py:1718(ravel)\n",
       "     1830    0.015    0.000    0.050    0.000 cost.py:114(quadraticize)\n",
       "    15780    0.014    0.000    0.033    0.000 shape_base.py:348(_stack_dispatcher)\n",
       "    20499    0.014    0.000    0.014    0.000 {method 'ravel' of 'numpy.ndarray' objects}\n",
       "     7200    0.013    0.000    0.430    0.000 dynamics.py:126(<lambda>)\n",
       "     3600    0.012    0.000    0.053    0.000 numeric.py:218(ones_like)\n",
       "    10800    0.012    0.000    0.059    0.000 <__array_function__ internals>:2(ravel)\n",
       "     9699    0.011    0.000    0.194    0.000 <__array_function__ internals>:2(norm)\n",
       "    16980    0.011    0.000    0.020    0.000 shape_base.py:207(_arrays_for_stack_dispatcher)\n",
       "    22821    0.010    0.000    0.010    0.000 {built-in method builtins.isinstance}\n",
       "     7200    0.010    0.000    0.024    0.000 fromnumeric.py:51(_wrapfunc)\n",
       "     9699    0.010    0.000    0.055    0.000 <__array_function__ internals>:2(dot)\n",
       "    36800    0.010    0.000    0.010    0.000 {built-in method builtins.len}\n",
       "      610    0.009    0.000    0.010    0.000 cost.py:70(quadraticize)\n",
       "     1200    0.009    0.000    0.011    0.000 shape_base.py:81(atleast_2d)\n",
       "    16980    0.009    0.000    0.009    0.000 {built-in method builtins.hasattr}\n",
       "    24180    0.009    0.000    0.009    0.000 multiarray.py:148(concatenate)\n",
       "     7200    0.009    0.000    0.033    0.000 fromnumeric.py:198(reshape)\n",
       "     5400    0.009    0.000    0.332    0.000 dynamics.py:130(<lambda>)\n",
       "     7200    0.009    0.000    0.203    0.000 <__array_function__ internals>:2(resize)\n",
       "     3600    0.009    0.000    0.051    0.000 fromnumeric.py:2268(any)\n",
       "     7200    0.009    0.000    0.054    0.000 <__array_function__ internals>:2(reshape)\n",
       "     9709    0.008    0.000    0.008    0.000 {built-in method builtins.min}\n",
       "     3600    0.008    0.000    0.023    0.000 <__array_function__ internals>:2(copyto)\n",
       "      600    0.008    0.000    1.965    0.003 dynamics.py:124(linearize)\n",
       "     3600    0.008    0.000    0.019    0.000 <__array_function__ internals>:2(empty_like)\n",
       "    15780    0.007    0.000    0.007    0.000 {built-in method numpy.core._multiarray_umath.normalize_axis_index}\n",
       "     3600    0.007    0.000    0.066    0.000 <__array_function__ internals>:2(ones_like)\n",
       "     3600    0.007    0.000    0.039    0.000 fromnumeric.py:2367(all)\n",
       "     1200    0.007    0.000    0.011    0.000 linalg.py:135(_commonType)\n",
       "      600    0.006    0.000    1.060    0.002 dynamics.py:125(<listcomp>)\n",
       "     3600    0.006    0.000    0.032    0.000 <__array_function__ internals>:2(where)\n",
       "    13299    0.006    0.000    0.009    0.000 linalg.py:112(isComplexType)\n",
       "     3600    0.006    0.000    0.052    0.000 <__array_function__ internals>:2(diag)\n",
       "    25400    0.006    0.000    0.006    0.000 {built-in method builtins.issubclass}\n",
       "     7200    0.006    0.000    0.006    0.000 fromnumeric.py:70(<dictcomp>)\n",
       "      600    0.005    0.000    0.859    0.001 dynamics.py:129(<listcomp>)\n",
       "    19810    0.005    0.000    0.005    0.000 {method 'append' of 'list' objects}\n",
       "     3600    0.005    0.000    0.012    0.000 _numdiff.py:186(<listcomp>)\n",
       "     3600    0.005    0.000    0.067    0.000 <__array_function__ internals>:2(any)\n",
       "     3600    0.005    0.000    0.050    0.000 <__array_function__ internals>:2(all)\n",
       "     1200    0.005    0.000    0.032    0.000 shape_base.py:222(vstack)\n",
       "     1830    0.004    0.000    0.006    0.000 cost.py:110(state_point)\n",
       "     3600    0.004    0.000    0.004    0.000 {built-in method numpy.empty}\n",
       "     3180    0.004    0.000    0.191    0.000 dynamics.py:115(__call__)\n",
       "    16200    0.004    0.000    0.004    0.000 shape_base.py:19(_atleast_1d_dispatcher)\n",
       "     9600    0.004    0.000    0.004    0.000 {built-in method builtins.getattr}\n",
       "     2400    0.003    0.000    0.004    0.000 linalg.py:107(_makearray)\n",
       "     9699    0.003    0.000    0.003    0.000 multiarray.py:736(dot)\n",
       "    10800    0.003    0.000    0.003    0.000 fromnumeric.py:1714(_ravel_dispatcher)\n",
       "     3600    0.003    0.000    0.004    0.000 numeric.py:1858(isscalar)\n",
       "     9699    0.003    0.000    0.003    0.000 linalg.py:2359(_norm_dispatcher)\n",
       "     7200    0.002    0.000    0.002    0.000 {method 'items' of 'dict' objects}\n",
       "     1200    0.002    0.000    0.064    0.000 <__array_function__ internals>:2(solve)\n",
       "     7200    0.002    0.000    0.002    0.000 fromnumeric.py:193(_reshape_dispatcher)\n",
       "     7200    0.002    0.000    0.002    0.000 fromnumeric.py:1353(_resize_dispatcher)\n",
       "     1200    0.002    0.000    0.038    0.000 <__array_function__ internals>:2(vstack)\n",
       "     2400    0.002    0.000    0.003    0.000 linalg.py:125(_realType)\n",
       "     1200    0.002    0.000    0.014    0.000 <__array_function__ internals>:2(atleast_2d)\n",
       "     1830    0.002    0.000    0.002    0.000 util.py:8(__init__)\n",
       "     1200    0.002    0.000    0.002    0.000 linalg.py:199(_assert_stacked_square)\n",
       "       28    0.002    0.000    0.002    0.000 socket.py:480(send)\n",
       "     1200    0.002    0.000    0.002    0.000 linalg.py:102(get_linalg_error_extobj)\n",
       "     3600    0.001    0.000    0.001    0.000 fromnumeric.py:2263(_any_dispatcher)\n",
       "     3600    0.001    0.000    0.001    0.000 multiarray.py:341(where)\n",
       "        1    0.001    0.001    0.039    0.039 control.py:51(rollout)\n",
       "     3600    0.001    0.000    0.001    0.000 twodim_base.py:230(_diag_dispatcher)\n",
       "     3600    0.001    0.000    0.001    0.000 fromnumeric.py:2362(_all_dispatcher)\n",
       "     3600    0.001    0.000    0.001    0.000 multiarray.py:1071(copyto)\n",
       "     3600    0.001    0.000    0.001    0.000 numeric.py:214(_ones_like_dispatcher)\n",
       "     1200    0.001    0.000    0.001    0.000 linalg.py:193(_assert_stacked_2d)\n",
       "     3600    0.001    0.000    0.001    0.000 {built-in method builtins.abs}\n",
       "     3600    0.001    0.000    0.001    0.000 multiarray.py:80(empty_like)\n",
       "     1200    0.001    0.000    0.002    0.000 shape_base.py:218(_vhstack_dispatcher)\n",
       "        1    0.001    0.001    2.904    2.904 control.py:217(run)\n",
       "     2400    0.001    0.000    0.001    0.000 {method 'get' of 'dict' objects}\n",
       "     1200    0.001    0.000    0.001    0.000 {method '__array_prepare__' of 'numpy.ndarray' objects}\n",
       "       52    0.000    0.000    0.000    0.000 {method 'copy' of 'numpy.ndarray' objects}\n",
       "     1200    0.000    0.000    0.000    0.000 linalg.py:309(_solve_dispatcher)\n",
       "     1200    0.000    0.000    0.000    0.000 shape_base.py:77(_atleast_2d_dispatcher)\n",
       "       28    0.000    0.000    0.002    0.000 iostream.py:206(schedule)\n",
       "       10    0.000    0.000    0.000    0.000 twodim_base.py:161(eye)\n",
       "       20    0.000    0.000    0.002    0.000 iostream.py:500(write)\n",
       "       38    0.000    0.000    0.000    0.000 {built-in method numpy.array}\n",
       "       10    0.000    0.000    0.003    0.000 {built-in method builtins.print}\n",
       "        1    0.000    0.000    2.904    2.904 {built-in method builtins.exec}\n",
       "       28    0.000    0.000    0.000    0.000 threading.py:1113(is_alive)\n",
       "       28    0.000    0.000    0.000    0.000 threading.py:1059(_wait_for_tstate_lock)\n",
       "      136    0.000    0.000    0.000    0.000 control.py:34(n_u)\n",
       "       20    0.000    0.000    0.000    0.000 {built-in method posix.getpid}\n",
       "        1    0.000    0.000    0.000    0.000 {built-in method numpy.arange}\n",
       "       28    0.000    0.000    0.000    0.000 iostream.py:96(_event_pipe)\n",
       "       20    0.000    0.000    0.000    0.000 iostream.py:418(_is_master_process)\n",
       "       28    0.000    0.000    0.000    0.000 {method 'acquire' of '_thread.lock' objects}\n",
       "       73    0.000    0.000    0.000    0.000 control.py:30(n_x)\n",
       "       20    0.000    0.000    0.001    0.000 iostream.py:437(_schedule_flush)\n",
       "       28    0.000    0.000    0.000    0.000 threading.py:529(is_set)\n",
       "        1    0.000    0.000    0.000    0.000 control.py:18(__init__)\n",
       "        1    0.000    0.000    2.904    2.904 <string>:1(<module>)\n",
       "       28    0.000    0.000    0.000    0.000 {method 'append' of 'collections.deque' objects}\n",
       "        1    0.000    0.000    0.000    0.000 control.py:156(__init__)\n",
       "        2    0.000    0.000    0.000    0.000 {built-in method _abc._abc_subclasscheck}\n",
       "        2    0.000    0.000    0.000    0.000 abc.py:121(__subclasscheck__)\n",
       "        1    0.000    0.000    0.000    0.000 {method 'disable' of '_lsprof.Profiler' objects}"
      ]
     },
     "metadata": {},
     "output_type": "display_data"
    }
   ],
   "source": [
    "ilqr = iLQR(dynamics, agent_cost, N=N)\n",
    "X, U, Jf = ilqr.run(x0, n_lqr_iter, tol)"
   ]
  },
  {
   "cell_type": "code",
   "execution_count": 11,
   "id": "22568a41-3240-462b-9a0a-7e5612705a7b",
   "metadata": {},
   "outputs": [
    {
     "data": {
      "image/png": "[encoded data removed]",
      "text/plain": [
       "<Figure size 432x288 with 2 Axes>"
      ]
     },
     "metadata": {
      "needs_background": "light"
     },
     "output_type": "display_data"
    }
   ],
   "source": [
    "ilqr.plot(X, Jf, False, \n",
    "          surface_plot=True, \n",
    "          log_colors=True,\n",
    "          axis=(-1,11,-1,11)\n",
    "         )"
   ]
  },
  {
   "cell_type": "markdown",
   "id": "24220829-99c5-4472-a8ef-893edfea68dc",
   "metadata": {
    "tags": []
   },
   "source": [
    "### LQR"
   ]
  },
  {
   "cell_type": "code",
   "execution_count": 4,
   "id": "df732b6a-1cc0-4b70-a426-e01463246804",
   "metadata": {},
   "outputs": [
    {
     "ename": "AttributeError",
     "evalue": "'AgentCost' object has no attribute 'Q'",
     "output_type": "error",
     "traceback": [
      "\u001b[0;31m---------------------------------------------------------------------------\u001b[0m",
      "\u001b[0;31mAttributeError\u001b[0m                            Traceback (most recent call last)",
      "\u001b[0;32m/tmp/ipykernel_2905/3832661598.py\u001b[0m in \u001b[0;36m<module>\u001b[0;34m\u001b[0m\n\u001b[1;32m     29\u001b[0m \u001b[0mquad_cost\u001b[0m \u001b[0;34m=\u001b[0m \u001b[0mReferenceCost\u001b[0m\u001b[0;34m(\u001b[0m\u001b[0mxf\u001b[0m\u001b[0;34m,\u001b[0m \u001b[0mQ\u001b[0m\u001b[0;34m,\u001b[0m \u001b[0mR\u001b[0m\u001b[0;34m,\u001b[0m \u001b[0mQf\u001b[0m\u001b[0;34m)\u001b[0m\u001b[0;34m\u001b[0m\u001b[0;34m\u001b[0m\u001b[0m\n\u001b[1;32m     30\u001b[0m \u001b[0mlqr\u001b[0m \u001b[0;34m=\u001b[0m \u001b[0mLQR\u001b[0m\u001b[0;34m(\u001b[0m\u001b[0mdynamics\u001b[0m\u001b[0;34m,\u001b[0m \u001b[0mquad_cost\u001b[0m\u001b[0;34m,\u001b[0m \u001b[0mN\u001b[0m\u001b[0;34m=\u001b[0m\u001b[0mN\u001b[0m\u001b[0;34m)\u001b[0m\u001b[0;34m\u001b[0m\u001b[0;34m\u001b[0m\u001b[0m\n\u001b[0;32m---> 31\u001b[0;31m \u001b[0mX\u001b[0m\u001b[0;34m,\u001b[0m \u001b[0mU\u001b[0m\u001b[0;34m,\u001b[0m \u001b[0mJ\u001b[0m \u001b[0;34m=\u001b[0m \u001b[0mlqr\u001b[0m\u001b[0;34m.\u001b[0m\u001b[0mrun\u001b[0m\u001b[0;34m(\u001b[0m\u001b[0mx0\u001b[0m\u001b[0;34m)\u001b[0m\u001b[0;34m\u001b[0m\u001b[0;34m\u001b[0m\u001b[0m\n\u001b[0m\u001b[1;32m     32\u001b[0m \u001b[0mlqr\u001b[0m\u001b[0;34m.\u001b[0m\u001b[0mplot\u001b[0m\u001b[0;34m(\u001b[0m\u001b[0mX\u001b[0m\u001b[0;34m,\u001b[0m \u001b[0mJ\u001b[0m\u001b[0;34m)\u001b[0m\u001b[0;34m\u001b[0m\u001b[0;34m\u001b[0m\u001b[0m\n",
      "\u001b[0;32m/mnt/c/Users/ZachJW/Documents/Grad/Research/dec-ilqr/dec-ilqr/control.py\u001b[0m in \u001b[0;36mrun\u001b[0;34m(self, x0, n_iter)\u001b[0m\n\u001b[1;32m    137\u001b[0m         \u001b[0mX\u001b[0m\u001b[0;34m,\u001b[0m \u001b[0mJ0\u001b[0m \u001b[0;34m=\u001b[0m \u001b[0mself\u001b[0m\u001b[0;34m.\u001b[0m\u001b[0mrollout\u001b[0m\u001b[0;34m(\u001b[0m\u001b[0mx0\u001b[0m\u001b[0;34m,\u001b[0m \u001b[0mU\u001b[0m\u001b[0;34m)\u001b[0m\u001b[0;34m\u001b[0m\u001b[0;34m\u001b[0m\u001b[0m\n\u001b[1;32m    138\u001b[0m \u001b[0;34m\u001b[0m\u001b[0m\n\u001b[0;32m--> 139\u001b[0;31m         \u001b[0mK\u001b[0m \u001b[0;34m=\u001b[0m \u001b[0mself\u001b[0m\u001b[0;34m.\u001b[0m\u001b[0mbackward_pass\u001b[0m\u001b[0;34m(\u001b[0m\u001b[0mX\u001b[0m\u001b[0;34m,\u001b[0m \u001b[0mU\u001b[0m\u001b[0;34m)\u001b[0m\u001b[0;34m\u001b[0m\u001b[0;34m\u001b[0m\u001b[0m\n\u001b[0m\u001b[1;32m    140\u001b[0m         \u001b[0mX\u001b[0m\u001b[0;34m,\u001b[0m \u001b[0mU\u001b[0m\u001b[0;34m,\u001b[0m \u001b[0mJf\u001b[0m \u001b[0;34m=\u001b[0m \u001b[0mself\u001b[0m\u001b[0;34m.\u001b[0m\u001b[0mforward_pass\u001b[0m\u001b[0;34m(\u001b[0m\u001b[0mX\u001b[0m\u001b[0;34m,\u001b[0m \u001b[0mU\u001b[0m\u001b[0;34m,\u001b[0m \u001b[0mK\u001b[0m\u001b[0;34m)\u001b[0m\u001b[0;34m\u001b[0m\u001b[0;34m\u001b[0m\u001b[0m\n\u001b[1;32m    141\u001b[0m         \u001b[0mprint\u001b[0m\u001b[0;34m(\u001b[0m\u001b[0;34mf'J0: {J0:.3g}\\tJf: {Jf:.3g}'\u001b[0m\u001b[0;34m)\u001b[0m\u001b[0;34m\u001b[0m\u001b[0;34m\u001b[0m\u001b[0m\n",
      "\u001b[0;32m/mnt/c/Users/ZachJW/Documents/Grad/Research/dec-ilqr/dec-ilqr/control.py\u001b[0m in \u001b[0;36mbackward_pass\u001b[0;34m(self, X, U)\u001b[0m\n\u001b[1;32m    104\u001b[0m         \u001b[0mK\u001b[0m \u001b[0;34m=\u001b[0m \u001b[0mnp\u001b[0m\u001b[0;34m.\u001b[0m\u001b[0mzeros\u001b[0m\u001b[0;34m(\u001b[0m\u001b[0;34m(\u001b[0m\u001b[0mself\u001b[0m\u001b[0;34m.\u001b[0m\u001b[0mN\u001b[0m\u001b[0;34m,\u001b[0m \u001b[0mself\u001b[0m\u001b[0;34m.\u001b[0m\u001b[0mn_u\u001b[0m\u001b[0;34m,\u001b[0m \u001b[0mself\u001b[0m\u001b[0;34m.\u001b[0m\u001b[0mn_x\u001b[0m\u001b[0;34m)\u001b[0m\u001b[0;34m)\u001b[0m\u001b[0;34m\u001b[0m\u001b[0;34m\u001b[0m\u001b[0m\n\u001b[1;32m    105\u001b[0m         \u001b[0mP\u001b[0m \u001b[0;34m=\u001b[0m \u001b[0mnp\u001b[0m\u001b[0;34m.\u001b[0m\u001b[0mzeros\u001b[0m\u001b[0;34m(\u001b[0m\u001b[0;34m(\u001b[0m\u001b[0mself\u001b[0m\u001b[0;34m.\u001b[0m\u001b[0mN\u001b[0m\u001b[0;34m,\u001b[0m \u001b[0mself\u001b[0m\u001b[0;34m.\u001b[0m\u001b[0mn_x\u001b[0m\u001b[0;34m,\u001b[0m \u001b[0mself\u001b[0m\u001b[0;34m.\u001b[0m\u001b[0mn_x\u001b[0m\u001b[0;34m)\u001b[0m\u001b[0;34m)\u001b[0m\u001b[0;34m\u001b[0m\u001b[0;34m\u001b[0m\u001b[0m\n\u001b[0;32m--> 106\u001b[0;31m         \u001b[0mP\u001b[0m \u001b[0;34m=\u001b[0m \u001b[0mself\u001b[0m\u001b[0;34m.\u001b[0m\u001b[0mQ\u001b[0m\u001b[0;34m.\u001b[0m\u001b[0mcopy\u001b[0m\u001b[0;34m(\u001b[0m\u001b[0;34m)\u001b[0m\u001b[0;34m\u001b[0m\u001b[0;34m\u001b[0m\u001b[0m\n\u001b[0m\u001b[1;32m    107\u001b[0m \u001b[0;34m\u001b[0m\u001b[0m\n\u001b[1;32m    108\u001b[0m         \u001b[0;32mfor\u001b[0m \u001b[0mt\u001b[0m \u001b[0;32min\u001b[0m \u001b[0mrange\u001b[0m\u001b[0;34m(\u001b[0m\u001b[0mself\u001b[0m\u001b[0;34m.\u001b[0m\u001b[0mN\u001b[0m\u001b[0;34m-\u001b[0m\u001b[0;36m1\u001b[0m\u001b[0;34m,\u001b[0m \u001b[0;34m-\u001b[0m\u001b[0;36m1\u001b[0m\u001b[0;34m,\u001b[0m \u001b[0;34m-\u001b[0m\u001b[0;36m1\u001b[0m\u001b[0;34m)\u001b[0m\u001b[0;34m:\u001b[0m\u001b[0;34m\u001b[0m\u001b[0;34m\u001b[0m\u001b[0m\n",
      "\u001b[0;32m/mnt/c/Users/ZachJW/Documents/Grad/Research/dec-ilqr/dec-ilqr/control.py\u001b[0m in \u001b[0;36mQ\u001b[0;34m(self)\u001b[0m\n\u001b[1;32m     93\u001b[0m     \u001b[0;34m@\u001b[0m\u001b[0mproperty\u001b[0m\u001b[0;34m\u001b[0m\u001b[0;34m\u001b[0m\u001b[0m\n\u001b[1;32m     94\u001b[0m     \u001b[0;32mdef\u001b[0m \u001b[0mQ\u001b[0m\u001b[0;34m(\u001b[0m\u001b[0mself\u001b[0m\u001b[0;34m)\u001b[0m\u001b[0;34m:\u001b[0m\u001b[0;34m\u001b[0m\u001b[0;34m\u001b[0m\u001b[0m\n\u001b[0;32m---> 95\u001b[0;31m         \u001b[0;32mreturn\u001b[0m \u001b[0mself\u001b[0m\u001b[0;34m.\u001b[0m\u001b[0mcost\u001b[0m\u001b[0;34m.\u001b[0m\u001b[0mQ\u001b[0m\u001b[0;34m\u001b[0m\u001b[0;34m\u001b[0m\u001b[0m\n\u001b[0m\u001b[1;32m     96\u001b[0m \u001b[0;34m\u001b[0m\u001b[0m\n\u001b[1;32m     97\u001b[0m     \u001b[0;34m@\u001b[0m\u001b[0mproperty\u001b[0m\u001b[0;34m\u001b[0m\u001b[0;34m\u001b[0m\u001b[0m\n",
      "\u001b[0;31mAttributeError\u001b[0m: 'AgentCost' object has no attribute 'Q'"
     ]
    }
   ],
   "source": [
    "N = 60\n",
    "dt = 0.1\n",
    "\n",
    "dynamics = DoubleInt1dDynamics(dt)\n",
    "x0 = np.array([10, 0])\n",
    "xf = np.array([0, 0])\n",
    "Q = np.diag([1, 1])\n",
    "R = np.eye(1)\n",
    "\n",
    "# dynamics = DoubleInt2dDynamics(dt)\n",
    "# x0 = np.array([1, 1, 0, 0])\n",
    "# xf = np.array([0, 0, 0, 0])\n",
    "# Q = np.eye(4)\n",
    "# R = np.eye(2)\n",
    "\n",
    "# dynamics = CarDynamics(dt)\n",
    "# x0 = np.array([5.0, 5.0, np.pi/2])\n",
    "# xf = np.array([0, 0, 0])\n",
    "# Q = np.diag([1, 1, 0])\n",
    "# R = np.eye(2) * 0.01\n",
    "\n",
    "# dynamics = UnicycleDynamics(dt)\n",
    "# x0 = np.array([-1, -1, 0, np.pi/3])\n",
    "# xf = np.array([0, 0, 0, 0])\n",
    "# Q = np.diag([1, 1, 0, 0])\n",
    "# R = np.eye(2)\n",
    "\n",
    "Qf = np.eye(Q.shape[0]) * 1e3\n",
    "quad_cost = ReferenceCost(xf, Q, R, Qf)\n",
    "lqr = LQR(dynamics, quad_cost, N=N)\n",
    "X, U, J = lqr.run(x0)\n",
    "lqr.plot(X, J)"
   ]
  }
 ],
 "metadata": {
  "kernelspec": {
   "display_name": "Python 3 (ipykernel)",
   "language": "python",
   "name": "python3"
  },
  "language_info": {
   "codemirror_mode": {
    "name": "ipython",
    "version": 3
   },
   "file_extension": ".py",
   "mimetype": "text/x-python",
   "name": "python",
   "nbconvert_exporter": "python",
   "pygments_lexer": "ipython3",
   "version": "3.9.7"
  }
 },
 "nbformat": 4,
 "nbformat_minor": 5
}
