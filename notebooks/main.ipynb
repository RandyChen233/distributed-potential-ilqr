{
 "cells": [
  {
   "cell_type": "markdown",
   "id": "a0ea870e-b244-43f9-aa26-a5813c686582",
   "metadata": {
    "tags": []
   },
   "source": [
    "# decentralized\n",
    "Primary development and execution script for evaluation of game theoretic control algorithms.\n",
    "\n",
    "References:\n",
    "1. [Fridovich-Keil - ilqgames](https://github.com/HJReachability/ilqgames/blob/master/python/dynamical_system.py)\n",
    "1. [anass - ilqr](https://github.com/anassinator/ilqr)\n",
    "1. [Jackson - AL iLQR Tutorial](https://bjack205.github.io/papers/AL_iLQR_Tutorial.pdf)"
   ]
  },
  {
   "cell_type": "code",
   "execution_count": 1,
   "id": "dab1f12c-1aaa-458d-9fc5-eb6bb356d364",
   "metadata": {},
   "outputs": [],
   "source": [
    "from os import remove\n",
    "from pathlib import Path\n",
    "import sys\n",
    "sys.path.append('/mnt/c/Users/ZachJW/Documents/Grad/Research/decentralized/decentralized/')\n",
    "\n",
    "import numpy as np\n",
    "import matplotlib.pyplot as plt\n",
    "from matplotlib.animation import FuncAnimation\n",
    "\n",
    "from control import iLQR, LQR\n",
    "from models import DoubleInt1dDynamics, DoubleInt2dDynamics\n",
    "# from models import UnicycleDynamics, BicycleDynamics\n",
    "from analytical_models import UnicycleDynamics, BicycleDynamics\n",
    "from dynamics import MultiDynamicalModel\n",
    "from cost import ObstacleCost, ReferenceCost, CouplingCost, AgentCost, GameCost\n",
    "from util import Point"
   ]
  },
  {
   "cell_type": "code",
   "execution_count": 2,
   "id": "969d54e8-1b59-4e69-9562-cd60ed8c077e",
   "metadata": {},
   "outputs": [],
   "source": [
    "%matplotlib ipympl\n",
    "import matplotlib\n",
    "matplotlib.rcParams['axes.grid'] = True\n",
    "np.set_printoptions(precision=3, suppress=True)"
   ]
  },
  {
   "cell_type": "code",
   "execution_count": 3,
   "id": "44a6e8d3-0e88-4b1d-b90e-465b02940528",
   "metadata": {},
   "outputs": [
    {
     "data": {
      "application/vnd.jupyter.widget-view+json": {
       "model_id": "7433a791567d407d970bb56eb150ea25",
       "version_major": 2,
       "version_minor": 0
      },
      "text/plain": [
       "Canvas(toolbar=Toolbar(toolitems=[('Home', 'Reset original view', 'home', 'home'), ('Back', 'Back to previous …"
      ]
     },
     "metadata": {},
     "output_type": "display_data"
    }
   ],
   "source": [
    "f1 = plt.figure(figsize=(6.76, 3.89))"
   ]
  },
  {
   "cell_type": "code",
   "execution_count": 4,
   "id": "f2673787-6f64-408d-914f-ef19833781ae",
   "metadata": {},
   "outputs": [
    {
     "data": {
      "application/vnd.jupyter.widget-view+json": {
       "model_id": "b6d18b7446bc40dda1e2eb01dca90331",
       "version_major": 2,
       "version_minor": 0
      },
      "text/plain": [
       "Canvas(toolbar=Toolbar(toolitems=[('Home', 'Reset original view', 'home', 'home'), ('Back', 'Back to previous …"
      ]
     },
     "metadata": {},
     "output_type": "display_data"
    }
   ],
   "source": [
    "f2 = plt.figure(figsize=(7.15, 2.21))"
   ]
  },
  {
   "cell_type": "code",
   "execution_count": 5,
   "id": "877b22b9-6267-4c16-a660-5d3351499796",
   "metadata": {},
   "outputs": [
    {
     "data": {
      "application/vnd.jupyter.widget-view+json": {
       "model_id": "c2e698cf6e024967b61dd9d6669c208d",
       "version_major": 2,
       "version_minor": 0
      },
      "text/plain": [
       "Canvas(toolbar=Toolbar(toolitems=[('Home', 'Reset original view', 'home', 'home'), ('Back', 'Back to previous …"
      ]
     },
     "metadata": {},
     "output_type": "display_data"
    }
   ],
   "source": [
    "f3 = plt.figure()"
   ]
  },
  {
   "cell_type": "markdown",
   "id": "b40cca1d-ac85-4b30-b670-81a10ecdcf96",
   "metadata": {
    "tags": []
   },
   "source": [
    "### Multi-Agent"
   ]
  },
  {
   "cell_type": "code",
   "execution_count": 6,
   "id": "3dc8932e-569e-44c7-96f8-eb51f8f7ef1c",
   "metadata": {},
   "outputs": [],
   "source": [
    "dt = 0.05\n",
    "N = 80\n",
    "n_lqr_iter = 50\n",
    "tol = 1e-3\n",
    "\n",
    "x0 = np.array([\n",
    "    -5, 0, 0, 0,\n",
    "    -1, -5, 0, 0])\n",
    "\n",
    "OBS_WEIGHT = 1.0\n",
    "REF_WEIGHT = 1\n",
    "COUPLING_WEIGHT = 1e6\n",
    "COUPLING_RADIUS = 1.0\n",
    "\n",
    "obstacles = []\n",
    "\n",
    "uni1 = UnicycleDynamics(dt)\n",
    "uni1_ref = ReferenceCost(xf=np.array([5, 0, 0, 0]),\n",
    "                        Q=np.diag([1, 1, 0, 0]),\n",
    "                        R=np.eye(2),\n",
    "                        Qf=1e3*np.eye(4),\n",
    "                        weight=REF_WEIGHT)\n",
    "uni1_cost = AgentCost([uni1_ref] + obstacles)\n",
    "\n",
    "uni2 = UnicycleDynamics(dt)\n",
    "uni2_ref = ReferenceCost(xf=np.array([1, 5, 0, 0]),\n",
    "                        Q=np.diag([1, 1, 0, 0]),\n",
    "                        R=np.eye(2),\n",
    "                        Qf=1e3*np.eye(4),\n",
    "                        weight=REF_WEIGHT)\n",
    "uni2_cost = AgentCost([uni2_ref] + obstacles)\n",
    "\n",
    "# bike = BicycleDynamics(dt)\n",
    "# bike_ref = ReferenceCost(xf=np.array([0, 5, 0, 0]),\n",
    "#                          Q=np.diag([1, 1, 0, 0, 0]),\n",
    "#                          R=np.eye(2),\n",
    "#                          Qf=1e3*np.eye(5),\n",
    "#                          weight=REF_WEIGHT)\n",
    "# bike_cost = AgentCost([bike_ref] + obstacles)\n",
    "\n",
    "dynamics = MultiDynamicalModel([uni1, uni2])\n",
    "\n",
    "pos_inds = [(0, 1), (4, 5)]\n",
    "coupling_costs = CouplingCost(pos_inds, radius=COUPLING_RADIUS, weight=COUPLING_WEIGHT)\n",
    "\n",
    "game_cost = GameCost([uni1_cost, uni2_cost], [coupling_costs], dynamics.x_dims, dynamics.u_dims)"
   ]
  },
  {
   "cell_type": "code",
   "execution_count": 7,
   "id": "6316d523-bab9-4291-a116-8fd1839fe7e1",
   "metadata": {},
   "outputs": [
    {
     "name": "stdout",
     "output_type": "stream",
     "text": [
      "0/50\tJ: 220320\n",
      "1/50\tJ: 111058\tμ: 0.5\tΔ: 0.5\n",
      "2/50\tJ: 65488.4\tμ: 0.125\tΔ: 0.25\n",
      "3/50\tJ: 15245.6\tμ: 0.015625\tΔ: 0.125\n",
      "4/50\tJ: 14826.3\tμ: 0.000976562\tΔ: 0.0625\n",
      "5/50\tJ: 13295\tμ: 3.05176e-05\tΔ: 0.03125\n",
      "6/50\tJ: 7662.42\tμ: 0\tΔ: 0.015625\n",
      "7/50\tJ: 7202.68\tμ: 0\tΔ: 0.0078125\n",
      "8/50\tJ: 6539.16\tμ: 0\tΔ: 0.00390625\n"
     ]
    }
   ],
   "source": [
    "ilqr = iLQR(dynamics, game_cost, N=N)\n",
    "X, U, Jf = ilqr.run(x0, n_lqr_iter, tol)"
   ]
  },
  {
   "cell_type": "code",
   "execution_count": 15,
   "id": "0c953c4e-2422-4023-8a96-ef64ed37cd87",
   "metadata": {},
   "outputs": [],
   "source": [
    "plt.figure(f1, clear=True)\n",
    "ilqr.plot(X,\n",
    "          Jf=Jf,\n",
    "          do_headings=False, \n",
    "          surface_plot=False, \n",
    "          log_colors=True,\n",
    "          coupling_radius=COUPLING_RADIUS,\n",
    "          axis=(-10, 10, -10, 10),\n",
    "          agent_ind=0\n",
    "         )"
   ]
  },
  {
   "cell_type": "code",
   "execution_count": 16,
   "id": "8e51d8e7-9b67-4088-ae05-d74fd84e610c",
   "metadata": {},
   "outputs": [
    {
     "data": {
      "text/plain": [
       "(-5.0, 5.0)"
      ]
     },
     "execution_count": 16,
     "metadata": {},
     "output_type": "execute_result"
    }
   ],
   "source": [
    "plt.ylim([-5, 5])"
   ]
  },
  {
   "cell_type": "code",
   "execution_count": 17,
   "id": "e2fb208f-e467-48e5-9a4e-1d4a3260c81c",
   "metadata": {},
   "outputs": [],
   "source": [
    "def animate(f, axis=None):\n",
    "    \"\"\"Callback to render the current frame as an image.\"\"\"\n",
    "    \n",
    "    if axis is None:\n",
    "        axis = (-7, 7, -7, 7)\n",
    "    \n",
    "    ilqr.plot(X[:f],\n",
    "              Jf=Jf,\n",
    "              do_headings=False, \n",
    "              surface_plot=False, \n",
    "              log_colors=True,\n",
    "              coupling_radius=COUPLING_RADIUS,\n",
    "              axis=axis\n",
    "             )\n",
    "    plt.ylim(axis[-2:])"
   ]
  },
  {
   "cell_type": "code",
   "execution_count": 18,
   "id": "660d485f-da57-4896-9806-9c80a561eccd",
   "metadata": {},
   "outputs": [
    {
     "name": "stderr",
     "output_type": "stream",
     "text": [
      "MovieWriter ffmpeg unavailable; using Pillow instead.\n"
     ]
    }
   ],
   "source": [
    "gifname = 'traj.gif'\n",
    "plt.figure(f3, clear=True)\n",
    "anim = FuncAnimation(f3, animate, frames=range(1,N+1))\n",
    "anim.save(gifname, fps=5)"
   ]
  },
  {
   "cell_type": "code",
   "execution_count": 59,
   "id": "9b4cd6d8-8652-410f-b8a9-d87df82309e0",
   "metadata": {},
   "outputs": [],
   "source": [
    "dist = np.linalg.norm(X[:, pos_inds[0]] - X[:, pos_inds[1]], axis=1)\n",
    "crash_mask = dist < COUPLING_RADIUS\n",
    "\n",
    "costs = np.zeros_like(dist)\n",
    "for i, (x, u) in enumerate(zip(X, U)):\n",
    "    costs[i] = game_cost(x, u)"
   ]
  },
  {
   "cell_type": "code",
   "execution_count": 60,
   "id": "2e6fa9e6-dc0b-4f7c-bc47-cfa8b75a06c2",
   "metadata": {},
   "outputs": [],
   "source": [
    "plt.figure(f2, clear=True)\n",
    "plt.clf()\n",
    "\n",
    "f2.add_subplot(2,1,1)\n",
    "plt.plot(dist)\n",
    "plt.axhline(COUPLING_RADIUS, c='r')\n",
    "plt.ylabel('Distance')\n",
    "\n",
    "f2.add_subplot(2,1,2)\n",
    "plt.plot(costs)\n",
    "plt.ylabel('Cost')\n",
    "plt.show()"
   ]
  },
  {
   "cell_type": "markdown",
   "id": "813a1624-9a6f-44c1-93b7-e526f51f7e47",
   "metadata": {},
   "source": [
    "### Single Agent"
   ]
  },
  {
   "cell_type": "code",
   "execution_count": 24,
   "id": "daeb4a3d-2ca1-4ef6-8d87-ed95ed1bb548",
   "metadata": {},
   "outputs": [],
   "source": [
    "dt = 0.1\n",
    "N = 60\n",
    "n_lqr_iter = 50\n",
    "tol = 1e-3\n",
    "\n",
    "REF_WEIGHT = 1.0\n",
    "OBS_WEIGHT = 1e6\n",
    "\n",
    "# dynamics = DoubleInt1dDynamics(dt)\n",
    "# x0 = np.array([2, 0])\n",
    "# xf = np.array([0, 1])\n",
    "# Q = np.eye(2)\n",
    "# R = np.eye(1)\n",
    "\n",
    "# dynamics = DoubleInt2dDynamics(dt)\n",
    "# x0 = np.array([10, 10, 0, 0])\n",
    "# xf = np.array([0, 0, 0, 0])\n",
    "# Q = np.diag([1, 1, 0, 0])\n",
    "# R = np.eye(2)\n",
    "\n",
    "# dynamics = CarDynamics(dt)\n",
    "# x0 = np.array([11, 11, np.pi/2])\n",
    "# xf = np.array([0, 0, 0])\n",
    "# Q = np.diag([1, 1, 0])\n",
    "# R = np.eye(2)\n",
    "\n",
    "dynamics = UnicycleDynamics(dt)\n",
    "x0 = np.array([-5, -5, 0, 0])\n",
    "xf = np.array([5, 5, 0, np.pi/4])\n",
    "Q = np.diag([1, 1, 0, 0])\n",
    "R = np.eye(2)\n",
    "\n",
    "# dynamics = BicycleDynamics(dt)\n",
    "# x0 = np.array([10, 10, np.pi/2, 0, 0])\n",
    "# xf = np.array([0, 0, 0, 0, 0])\n",
    "# Q = np.diag([1, 1, 0, 0, 0])\n",
    "# R = np.eye(2)\n",
    "\n",
    "Qf = np.eye(Q.shape[0]) * 1e3\n",
    "reference = ReferenceCost(xf, Q, R, Qf, REF_WEIGHT)\n",
    "# obstacles = [ObstacleCost((0, 1), Point(3, 3), 2, OBS_WEIGHT),\n",
    "#              ObstacleCost((0, 1), Point(9, 7), 2, OBS_WEIGHT),\n",
    "#              ObstacleCost((0, 1), Point(3, 10), 3, OBS_WEIGHT)]\n",
    "obstacles = [ObstacleCost((0, 1), Point(0, 0), 2, OBS_WEIGHT)]\n",
    "\n",
    "agent_cost = AgentCost(obstacles + [reference])\n",
    "game_cost = GameCost([agent_cost], [], [dynamics.n_x], [dynamics.n_u])"
   ]
  },
  {
   "cell_type": "code",
   "execution_count": 25,
   "id": "bb1ad689-a69a-4b19-a3ee-9e0253a0f2a6",
   "metadata": {},
   "outputs": [
    {
     "name": "stdout",
     "output_type": "stream",
     "text": [
      "0/50\tJ: 212617\n",
      "1/50\tJ: 69388.1\tμ: 0.5\tΔ: 0.5\n",
      "2/50\tJ: 5142.88\tμ: 0.125\tΔ: 0.25\n",
      "3/50\tJ: 3948.24\tμ: 0.015625\tΔ: 0.125\n",
      "4/50\tJ: 3478.34\tμ: 0.000976562\tΔ: 0.0625\n",
      "5/50\tJ: 3360.17\tμ: 3.05176e-05\tΔ: 0.03125\n",
      "6/50\tJ: 3268.89\tμ: 0\tΔ: 0.015625\n",
      "7/50\tJ: 3246.31\tμ: 0\tΔ: 0.0078125\n",
      "8/50\tJ: 3226.6\tμ: 0\tΔ: 0.00390625\n",
      "9/50\tJ: 3221.47\tμ: 0\tΔ: 0.00195312\n"
     ]
    }
   ],
   "source": [
    "ilqr = iLQR(dynamics, game_cost, N=N)\n",
    "X, U, Jf = ilqr.run(x0, n_lqr_iter, tol)"
   ]
  },
  {
   "cell_type": "code",
   "execution_count": 26,
   "id": "22568a41-3240-462b-9a0a-7e5612705a7b",
   "metadata": {},
   "outputs": [],
   "source": [
    "plt.figure(f1, clear=True)\n",
    "ilqr.plot(X, Jf, False, \n",
    "          surface_plot=False, \n",
    "          log_colors=True,\n",
    "          axis=(-6,6,-6,6)\n",
    "         )"
   ]
  },
  {
   "cell_type": "markdown",
   "id": "9da1e926-36e3-4d9d-8edc-7f3c36a890b8",
   "metadata": {},
   "source": [
    "### Crazy Fly Simulation\n",
    "- Position\n",
    "- Orientation"
   ]
  },
  {
   "cell_type": "markdown",
   "id": "d7f5cfd2-cb4a-4a6d-bf99-99f60fe7c9fc",
   "metadata": {},
   "source": [
    "### Decentralized RHC Notes\n",
    "- collision radius --> incurs a higher cost\n",
    "- planning radius --> defines each of the sub-problems\n",
    "- for identical planning radii, we have symmetric sub-problems"
   ]
  },
  {
   "cell_type": "markdown",
   "id": "a9637bbb-cd82-4b4c-b3f9-78c9b92972a7",
   "metadata": {},
   "source": [
    "#### Questions\n",
    "- **When does the decentralized solution agree with the centralized one and when does it break down?**\n",
    "- What is a neighbor? **Make this configurable**\n",
    "    + If it's a hardcoded distance, do we need to account for relative velocity?\n",
    "    + k-nearest neighbors also an option\n",
    "- What is a distance between equilibria?\n",
    "    + Difference between values of the potential functions\n",
    "- Extensions\n",
    "    + How would partially observable neighboring states influence the equilibria?\n",
    "         --> stochasticity & _belief space planning_ \n",
    "    + Can we assume everyone is acting optimally?\n",
    "    + Could keep track of neighboring states to minimize communication overhead\n",
    "\n",
    "#### Ideas\n",
    "- Key metric: convergence time per-node\n",
    "- Optimality gap between centralized/decentralized\n",
    "\n",
    "#### Advantages\n",
    "- Realism in being able to figure things out on their own\n",
    "- Scalability since matrix sizes go down in smaller state spaces\n",
    "- O(N^3, A^3) for conventional dynamical games whereas O(N^3, 1) for potential game for M < N"
   ]
  },
  {
   "cell_type": "markdown",
   "id": "2da66a09-5e44-41f6-80db-4bf4e3e5925f",
   "metadata": {
    "tags": []
   },
   "source": [
    "#### Architectures\n",
    "\n",
    "- potential impl?\n",
    "      potential game\n",
    "        agents\n",
    "          dynamical model\n",
    "          reference cost\n",
    "          obstacle costs\n",
    "          coupling costs\n",
    "\n",
    "- current impl\n",
    "      potential game\n",
    "        multi-dynamical model\n",
    "          submodels\n",
    "        multi-costs\n",
    "          agent-costs\n",
    "            reference costs\n",
    "            obstacle costs\n",
    "            coupling cost\n",
    "\n",
    "- other idea\n",
    "      potential game\n",
    "        dynamical models\n",
    "          reference costs\n",
    "        coupling costs\n",
    "        obstacle costs\n",
    "\n",
    "#### Cartesian Product State Space\n",
    "\n",
    "**Dynamics**\n",
    "```\n",
    "f(x, u) =\n",
    "  |  A0 A0 A0             x0     B0            |\n",
    "  |  A0 A0 A0             x0     B0            |\n",
    "  |  A0 A0 A0             x0     B0        u0  |\n",
    "  |          A1 A1 A1 A1  x1  +     B1 B1  u1  |\n",
    "  |          A1 A1 A1 A1  x1        B1 B1  u1  |\n",
    "  |          A1 A1 A1 A1  x1        B1 B1      |\n",
    "  |          A1 A1 A1 A1  x1        B1 B1      |\n",
    "```\n",
    "\n",
    "**Cost**\n",
    "```\n",
    "J(x, u) = \n",
    "    |  Lx0 Lx0 Lx0 Lx1 Lx1 Lx1 Lx1 | Lu0 Lu1 Lu1  |\n",
    "\n",
    "H(x, u) = \n",
    "  |  Lxx0 Lxx0 Lxx0                      | Lxu0            |\n",
    "  |  Lxx0 Lxx0 Lxx0                      | Lxu0            |\n",
    "  |  Lxx0 Lxx0 Lxx0                      | Lxu0            |\n",
    "  |                  Lxx1 Lxx1 Lxx1 Lxx1 |      Lxu1 Lxu1  |\n",
    "  |                  Lxx1 Lxx1 Lxx1 Lxx1 |      Lxu1 Lxu1  |\n",
    "  |                  Lxx1 Lxx1 Lxx1 Lxx1 |      Lxu1 Lxu1  |\n",
    "  |                  Lxx1 Lxx1 Lxx1 Lxx1 |      Lxu1 Lxu1  |\n",
    "  |  ----------------------------------------------------  |\n",
    "  |  Lux0 Lux0 Lux0                      | Luu0            |\n",
    "  |                  Lux1 Lux1 Lux1 Lux1 |      Luu1 Luu1  |\n",
    "  |                  Lux1 Lux1 Lux1 Lux1 |      Luu1 Luu1  |\n",
    "```                    "
   ]
  },
  {
   "cell_type": "code",
   "execution_count": null,
   "id": "87a1bd14-a2d1-4275-9de5-28dfdc637bce",
   "metadata": {},
   "outputs": [],
   "source": []
  }
 ],
 "metadata": {
  "kernelspec": {
   "display_name": "Python 3 (ipykernel)",
   "language": "python",
   "name": "python3"
  },
  "language_info": {
   "codemirror_mode": {
    "name": "ipython",
    "version": 3
   },
   "file_extension": ".py",
   "mimetype": "text/x-python",
   "name": "python",
   "nbconvert_exporter": "python",
   "pygments_lexer": "ipython3",
   "version": "3.9.6"
  }
 },
 "nbformat": 4,
 "nbformat_minor": 5
}
