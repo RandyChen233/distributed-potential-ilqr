{
 "cells": [
  {
   "cell_type": "markdown",
   "id": "605234ea-e77e-4b6e-ad3a-ba995ef0bce2",
   "metadata": {},
   "source": [
    "# sub-problems\n",
    "Splitting up the centralized problem into sub-problems."
   ]
  },
  {
   "cell_type": "code",
   "execution_count": 1,
   "id": "6118dca1-500e-4318-992a-2223b75dfc37",
   "metadata": {},
   "outputs": [],
   "source": [
    "from itertools import combinations\n",
    "\n",
    "import matplotlib.pyplot as plt\n",
    "from matplotlib.animation import FuncAnimation\n",
    "import numpy as np\n",
    "from scipy.signal import savgol_filter"
   ]
  },
  {
   "cell_type": "code",
   "execution_count": 2,
   "id": "415d7b16-1a66-4cf0-bace-521680cc6f2c",
   "metadata": {},
   "outputs": [],
   "source": [
    "%matplotlib ipympl\n",
    "plt.rcParams['axes.grid'] = True"
   ]
  },
  {
   "cell_type": "code",
   "execution_count": 3,
   "id": "62f96a67-2ec9-471a-a1a7-4bd0bd65b008",
   "metadata": {},
   "outputs": [
    {
     "data": {
      "application/vnd.jupyter.widget-view+json": {
       "model_id": "68d1b5f065fa48a5989eb7ef85181565",
       "version_major": 2,
       "version_minor": 0
      },
      "text/plain": [
       "Canvas(toolbar=Toolbar(toolitems=[('Home', 'Reset original view', 'home', 'home'), ('Back', 'Back to previous …"
      ]
     },
     "metadata": {},
     "output_type": "display_data"
    }
   ],
   "source": [
    "f1 = plt.figure()"
   ]
  },
  {
   "cell_type": "code",
   "execution_count": 4,
   "id": "1e1a3c49-442f-411d-9fba-374367f0fa16",
   "metadata": {},
   "outputs": [
    {
     "data": {
      "application/vnd.jupyter.widget-view+json": {
       "model_id": "e873bbdea1be41cfae9a8d2c54e86693",
       "version_major": 2,
       "version_minor": 0
      },
      "text/plain": [
       "Canvas(toolbar=Toolbar(toolitems=[('Home', 'Reset original view', 'home', 'home'), ('Back', 'Back to previous …"
      ]
     },
     "metadata": {},
     "output_type": "display_data"
    }
   ],
   "source": [
    "f2 = plt.figure()"
   ]
  },
  {
   "cell_type": "markdown",
   "id": "da63b5eb-9965-42cc-8d0b-ab11b6c78c91",
   "metadata": {},
   "source": [
    "## simulate brownian motion over a horizon"
   ]
  },
  {
   "cell_type": "code",
   "execution_count": 5,
   "id": "38d98f5b-71ec-465b-9fe4-1f5d3681f588",
   "metadata": {
    "tags": []
   },
   "outputs": [],
   "source": [
    "N = 100\n",
    "var = 1.0\n",
    "init_var = 25.0\n",
    "n_agents = 5\n",
    "t = np.arange(N)\n",
    "\n",
    "traj_init = init_var * (np.random.rand(1, 2, n_agents) - 0.5)\n",
    "traj_offsets = var * np.random.randn(N, 2, n_agents)\n",
    "trajs = traj_init + np.cumsum(traj_offsets, axis=0)\n",
    "trajs = savgol_filter(trajs, 91, 5, axis=0)\n",
    "\n",
    "plt.clf()\n",
    "plt.figure(f1, clear=True)\n",
    "plt.plot(trajs[:,0], trajs[:,1])\n",
    "plt.show()"
   ]
  },
  {
   "cell_type": "code",
   "execution_count": 7,
   "id": "dbe2a332-285f-4571-bbf7-6754f41ea781",
   "metadata": {},
   "outputs": [],
   "source": [
    "# Compute the relative distances between each pair of agents.\n",
    "pair_inds = np.array(list(combinations(range(n_agents), 2)))\n",
    "rel_dists = np.linalg.norm(trajs[...,pair_inds[:,0]] - trajs[...,pair_inds[:,1]], axis=1)\n",
    "n_pairs = len(pair_inds)\n",
    "\n",
    "# Navigate the full trajectory with smaller RHC windows.\n",
    "horizon = 10\n",
    "# Assume symmetric planning and collision radii to define the sub problems.\n",
    "planning_radii = 10\n",
    "collision_radii = 4\n",
    "\n",
    "pair_masks = np.zeros((N, n_pairs), dtype=bool)\n",
    "for t in range(N):\n",
    "    pair_masks[t] = np.any(rel_dists[t:t+horizon] < planning_radii, axis=0)"
   ]
  },
  {
   "cell_type": "code",
   "execution_count": 9,
   "id": "f968b7ce-bfe3-45b7-8ee1-36bace694fc3",
   "metadata": {},
   "outputs": [],
   "source": [
    "# Animate the full trajectory with shifting horizons.\n",
    "def animate(t):\n",
    "    \"\"\"Render the current time step.\"\"\"\n",
    "    \n",
    "    ax = plt.gca()\n",
    "    plt.cla()\n",
    "    plt.axis([trajs[:,0].min(), trajs[:,0].max(), trajs[:,1].min(), trajs[:,1].max()])\n",
    "    plt.xlabel(\"x\")\n",
    "    plt.ylabel(\"y\")\n",
    "    ax.set_aspect(\"equal\")\n",
    "\n",
    "    ax.plot(trajs[:t+1,0], trajs[:t+1,1], lw=2)\n",
    "    for i, pair in enumerate(pair_inds):\n",
    "        if pair_masks[t, i]:\n",
    "            ax.plot(trajs[t,0,pair], trajs[t,1,pair], 'k--')\n",
    "    \n",
    "    if planning_radii:\n",
    "        for i in range(n_agents):\n",
    "            ax.add_artist(plt.Circle(\n",
    "                        (trajs[t,0,i], trajs[t,1,i]), planning_radii, \n",
    "                        color='k', fill=True, alpha=0.1, lw=2\n",
    "            ))\n",
    "            ax.add_artist(plt.Circle(\n",
    "                        (trajs[t,0,i], trajs[t,1,i]), collision_radii, \n",
    "                        color='r', fill=True, alpha=0.1, lw=2\n",
    "            ))"
   ]
  },
  {
   "cell_type": "code",
   "execution_count": 21,
   "id": "73fedf94-7549-4072-886a-b6dbbac049c8",
   "metadata": {},
   "outputs": [],
   "source": [
    "# Spotcheck the first frame.\n",
    "plt.figure(f1, clear=True)\n",
    "animate(10)"
   ]
  },
  {
   "cell_type": "code",
   "execution_count": 22,
   "id": "2122bf50-9a70-426c-a5b1-c874dd898463",
   "metadata": {},
   "outputs": [
    {
     "name": "stderr",
     "output_type": "stream",
     "text": [
      "MovieWriter ffmpeg unavailable; using Pillow instead.\n"
     ]
    }
   ],
   "source": [
    "plt.figure(f2, clear=True)\n",
    "anim = FuncAnimation(f2, animate, frames=range(1,N))\n",
    "anim.save(f\"{n_agents}-agents.gif\", fps=5)"
   ]
  },
  {
   "cell_type": "markdown",
   "id": "882ccfa4-24cb-4092-88a5-579f592be951",
   "metadata": {},
   "source": [
    "### How to Initialize Tracks?\n",
    "1. Start with the decoupled solution?\n",
    "1. Always roll out control inputs regardless"
   ]
  }
 ],
 "metadata": {
  "kernelspec": {
   "display_name": "Python 3 (ipykernel)",
   "language": "python",
   "name": "python3"
  },
  "language_info": {
   "codemirror_mode": {
    "name": "ipython",
    "version": 3
   },
   "file_extension": ".py",
   "mimetype": "text/x-python",
   "name": "python",
   "nbconvert_exporter": "python",
   "pygments_lexer": "ipython3",
   "version": "3.9.6"
  }
 },
 "nbformat": 4,
 "nbformat_minor": 5
}
